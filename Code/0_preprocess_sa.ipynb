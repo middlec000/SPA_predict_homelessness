{
 "cells": [
  {
   "cell_type": "markdown",
   "metadata": {
    "heading_collapsed": true
   },
   "source": [
    "# Imports"
   ]
  },
  {
   "cell_type": "code",
   "execution_count": 5,
   "metadata": {
    "ExecuteTime": {
     "end_time": "2021-05-23T19:42:34.529039Z",
     "start_time": "2021-05-23T19:42:34.511062Z"
    },
    "hidden": true
   },
   "outputs": [],
   "source": [
    "import pandas as pd\n",
    "import numpy as np\n",
    "import pickle\n",
    "import time\n",
    "from custom_methods.preprocessing import date_map"
   ]
  },
  {
   "cell_type": "markdown",
   "metadata": {
    "hidden": true
   },
   "source": [
    "## Start Timer"
   ]
  },
  {
   "cell_type": "code",
   "execution_count": 6,
   "metadata": {
    "ExecuteTime": {
     "end_time": "2021-05-23T19:42:34.699941Z",
     "start_time": "2021-05-23T19:42:34.532005Z"
    },
    "hidden": true
   },
   "outputs": [],
   "source": [
    "startTime = time.time()"
   ]
  },
  {
   "cell_type": "markdown",
   "metadata": {},
   "source": [
    "# Gather Service Agreements Data\n",
    "Track 'MAIN' account holder accross accounts and premises"
   ]
  },
  {
   "cell_type": "code",
   "execution_count": 7,
   "metadata": {
    "ExecuteTime": {
     "end_time": "2021-05-23T19:42:35.991886Z",
     "start_time": "2021-05-23T19:42:34.703440Z"
    }
   },
   "outputs": [
    {
     "name": "stdout",
     "output_type": "stream",
     "text": [
      "Rows: 709068\n",
      "People: 305480\n",
      "Accounts: 270990\n",
      "pos cases: 2386\n"
     ]
    },
    {
     "data": {
      "text/html": [
       "<div>\n",
       "<style scoped>\n",
       "    .dataframe tbody tr th:only-of-type {\n",
       "        vertical-align: middle;\n",
       "    }\n",
       "\n",
       "    .dataframe tbody tr th {\n",
       "        vertical-align: top;\n",
       "    }\n",
       "\n",
       "    .dataframe thead th {\n",
       "        text-align: right;\n",
       "    }\n",
       "</style>\n",
       "<table border=\"1\" class=\"dataframe\">\n",
       "  <thead>\n",
       "    <tr style=\"text-align: right;\">\n",
       "      <th></th>\n",
       "      <th>SPA_PREM_ID</th>\n",
       "      <th>SPA_ACCT_ID</th>\n",
       "      <th>spa_sa_id</th>\n",
       "      <th>SPA_PER_ID</th>\n",
       "      <th>ACCT_REL_TYPE_CD</th>\n",
       "      <th>CMIS_MATCH</th>\n",
       "      <th>START_DT</th>\n",
       "      <th>END_DT</th>\n",
       "      <th>SA_TYPE_DESCR</th>\n",
       "      <th>Class</th>\n",
       "      <th>APARTMENT</th>\n",
       "      <th>ENROLL_DATE</th>\n",
       "    </tr>\n",
       "  </thead>\n",
       "  <tbody>\n",
       "    <tr>\n",
       "      <th>0</th>\n",
       "      <td>115011.0</td>\n",
       "      <td>197077.0</td>\n",
       "      <td>394613.0</td>\n",
       "      <td>81568.0</td>\n",
       "      <td>MAIN</td>\n",
       "      <td>NaN</td>\n",
       "      <td>2018-07-28</td>\n",
       "      <td>NaN</td>\n",
       "      <td>Residential Electric WA</td>\n",
       "      <td>RESIDENTIAL</td>\n",
       "      <td>False</td>\n",
       "      <td>NaN</td>\n",
       "    </tr>\n",
       "    <tr>\n",
       "      <th>1</th>\n",
       "      <td>115011.0</td>\n",
       "      <td>197077.0</td>\n",
       "      <td>394613.0</td>\n",
       "      <td>226934.0</td>\n",
       "      <td>COTENANT</td>\n",
       "      <td>NaN</td>\n",
       "      <td>2018-07-28</td>\n",
       "      <td>NaN</td>\n",
       "      <td>Residential Electric WA</td>\n",
       "      <td>RESIDENTIAL</td>\n",
       "      <td>False</td>\n",
       "      <td>NaN</td>\n",
       "    </tr>\n",
       "    <tr>\n",
       "      <th>2</th>\n",
       "      <td>144240.0</td>\n",
       "      <td>103592.0</td>\n",
       "      <td>207601.0</td>\n",
       "      <td>39347.0</td>\n",
       "      <td>COTENANT</td>\n",
       "      <td>NaN</td>\n",
       "      <td>2018-07-25</td>\n",
       "      <td>2019-05-31</td>\n",
       "      <td>Residential Electric WA</td>\n",
       "      <td>RESIDENTIAL</td>\n",
       "      <td>False</td>\n",
       "      <td>NaN</td>\n",
       "    </tr>\n",
       "    <tr>\n",
       "      <th>3</th>\n",
       "      <td>144240.0</td>\n",
       "      <td>103592.0</td>\n",
       "      <td>207601.0</td>\n",
       "      <td>57810.0</td>\n",
       "      <td>MAIN</td>\n",
       "      <td>NaN</td>\n",
       "      <td>2018-07-25</td>\n",
       "      <td>2019-05-31</td>\n",
       "      <td>Residential Electric WA</td>\n",
       "      <td>RESIDENTIAL</td>\n",
       "      <td>False</td>\n",
       "      <td>NaN</td>\n",
       "    </tr>\n",
       "    <tr>\n",
       "      <th>4</th>\n",
       "      <td>83426.0</td>\n",
       "      <td>74182.0</td>\n",
       "      <td>148569.0</td>\n",
       "      <td>272447.0</td>\n",
       "      <td>MAIN</td>\n",
       "      <td>NaN</td>\n",
       "      <td>2018-07-22</td>\n",
       "      <td>2019-12-02</td>\n",
       "      <td>Residential Electric WA</td>\n",
       "      <td>RESIDENTIAL</td>\n",
       "      <td>True</td>\n",
       "      <td>NaN</td>\n",
       "    </tr>\n",
       "  </tbody>\n",
       "</table>\n",
       "</div>"
      ],
      "text/plain": [
       "   SPA_PREM_ID  SPA_ACCT_ID  spa_sa_id  SPA_PER_ID ACCT_REL_TYPE_CD  \\\n",
       "0     115011.0     197077.0   394613.0     81568.0             MAIN   \n",
       "1     115011.0     197077.0   394613.0    226934.0         COTENANT   \n",
       "2     144240.0     103592.0   207601.0     39347.0         COTENANT   \n",
       "3     144240.0     103592.0   207601.0     57810.0             MAIN   \n",
       "4      83426.0      74182.0   148569.0    272447.0             MAIN   \n",
       "\n",
       "  CMIS_MATCH    START_DT      END_DT            SA_TYPE_DESCR        Class  \\\n",
       "0        NaN  2018-07-28         NaN  Residential Electric WA  RESIDENTIAL   \n",
       "1        NaN  2018-07-28         NaN  Residential Electric WA  RESIDENTIAL   \n",
       "2        NaN  2018-07-25  2019-05-31  Residential Electric WA  RESIDENTIAL   \n",
       "3        NaN  2018-07-25  2019-05-31  Residential Electric WA  RESIDENTIAL   \n",
       "4        NaN  2018-07-22  2019-12-02  Residential Electric WA  RESIDENTIAL   \n",
       "\n",
       "   APARTMENT ENROLL_DATE  \n",
       "0      False         NaN  \n",
       "1      False         NaN  \n",
       "2      False         NaN  \n",
       "3      False         NaN  \n",
       "4       True         NaN  "
      ]
     },
     "execution_count": 7,
     "metadata": {},
     "output_type": "execute_result"
    }
   ],
   "source": [
    "service_agreements = pd.read_csv('../../002_Data/Release_4/ServiceAgreements_Anon.csv').rename({'spa_prem_id':'SPA_PREM_ID', 'spa_acct_id':'SPA_ACCT_ID', 'spa_per_id':'SPA_PER_ID', 'homelessMatch':'CMIS_MATCH', 'EnrollDate':'ENROLL_DATE', 'apartment':'APARTMENT'}, axis=1)\n",
    "\n",
    "rows = len(service_agreements)\n",
    "ppl = service_agreements.SPA_PER_ID.nunique()\n",
    "accts = service_agreements.SPA_ACCT_ID.nunique()\n",
    "pos_ppl = service_agreements[service_agreements.CMIS_MATCH == True].SPA_PER_ID.nunique()\n",
    "\n",
    "print(f'Rows: {rows}')\n",
    "print(f'People: {ppl}')\n",
    "print(f'Accounts: {accts}')\n",
    "print(f'pos cases: {pos_ppl}')\n",
    "service_agreements.head()"
   ]
  },
  {
   "cell_type": "markdown",
   "metadata": {
    "heading_collapsed": true
   },
   "source": [
    "# Transform"
   ]
  },
  {
   "cell_type": "code",
   "execution_count": 8,
   "metadata": {
    "ExecuteTime": {
     "end_time": "2021-05-23T19:42:41.271558Z",
     "start_time": "2021-05-23T19:42:35.993881Z"
    },
    "hidden": true
   },
   "outputs": [
    {
     "name": "stdout",
     "output_type": "stream",
     "text": [
      "Null Enroll Dates for P Cases: 0\n",
      "Positive Rows: 2072\n",
      "Positive Cases: 1935\n",
      "Null Enroll Dates for P Cases: 0\n",
      "\n",
      "Grouping:\n",
      "1    270858\n",
      "dtype: int64\n"
     ]
    }
   ],
   "source": [
    "# Convert Dates to months since December, 2015\n",
    "#service_agreements.START_DT = service_agreements.START_DT.map(string_date_map)\n",
    "#service_agreements.END_DT = service_agreements.END_DT.map(string_date_map)\n",
    "service_agreements.ENROLL_DATE = service_agreements.ENROLL_DATE.apply(lambda x: date_map(date=x, relative_to='2015-01-01', format='yyyy-mm-dd'))\n",
    "\n",
    "# Replace NaN with False in CMIS_MATCH\n",
    "service_agreements.CMIS_MATCH = service_agreements.CMIS_MATCH.replace(to_replace=np.nan, value=False).astype('bool')\n",
    "\n",
    "# Any null enroll dates for cmis_match? No - good\n",
    "print(f'Null Enroll Dates for P Cases: {service_agreements[service_agreements.CMIS_MATCH][\"ENROLL_DATE\"].isnull().sum()}')\n",
    "\n",
    "# Retain only columns we want to add to billing - note: all CMIS_MATCHes have ENROLL_DATEs\n",
    "service_agreements.drop(['spa_sa_id', 'START_DT', 'END_DT', 'SA_TYPE_DESCR', 'Class'], axis=1, inplace=True)\n",
    "\n",
    "# Create list of accounts that have a cotenant\n",
    "cotenant_accounts = service_agreements[service_agreements['ACCT_REL_TYPE_CD'] == 'COTENANT']['SPA_ACCT_ID'].values\n",
    "# Only keep info regarding the 'MAIN' account holder\n",
    "service_agreements = service_agreements[service_agreements['ACCT_REL_TYPE_CD'] == 'MAIN'].drop('ACCT_REL_TYPE_CD', axis=1)\n",
    "# Add boolean column for cotenant\n",
    "service_agreements['HAS_COTENANT'] = service_agreements['SPA_ACCT_ID'].isin(cotenant_accounts).astype('bool')\n",
    "del cotenant_accounts\n",
    "service_agreements.drop_duplicates(inplace=True)\n",
    "\n",
    "# Group Enroll Dates into list\n",
    "enroll_dates = service_agreements[~service_agreements[\"ENROLL_DATE\"].isnull()].groupby([\"SPA_ACCT_ID\", \"SPA_PREM_ID\"])[\"ENROLL_DATE\"].unique()\n",
    "service_agreements = service_agreements.set_index(['SPA_ACCT_ID','SPA_PREM_ID']).sort_index()\n",
    "service_agreements.update(enroll_dates)\n",
    "del enroll_dates\n",
    "service_agreements[\"ENROLL_DATE\"] = service_agreements[\"ENROLL_DATE\"].apply(lambda x: tuple([]) if np.isnan(x).all() else tuple(x))\n",
    "\n",
    "# If any CMIS_MATCH for person, then CMIS_MATCH for all instances of person\n",
    "service_agreements.update(service_agreements.groupby(['SPA_ACCT_ID', 'SPA_PREM_ID'])[\"CMIS_MATCH\"].any())\n",
    "service_agreements.drop_duplicates(inplace=True)\n",
    "service_agreements.reset_index(inplace=True)\n",
    "pos_rows = len(service_agreements[service_agreements.CMIS_MATCH])\n",
    "pos = service_agreements[service_agreements.CMIS_MATCH].SPA_PER_ID.nunique()\n",
    "print(f'Positive Rows: {pos_rows}')\n",
    "print(f'Positive Cases: {pos}')\n",
    "\n",
    "# Check all CMIS_MATCHes have ENROLL_DATEs\n",
    "print(f'Null Enroll Dates for P Cases: {service_agreements[service_agreements.CMIS_MATCH][\"ENROLL_DATE\"].isnull().sum()}\\n')\n",
    "\n",
    "# Check Matching\n",
    "print('Grouping:')\n",
    "print(service_agreements.groupby(['SPA_ACCT_ID', 'SPA_PREM_ID']).size().value_counts())"
   ]
  },
  {
   "cell_type": "markdown",
   "metadata": {
    "hidden": true
   },
   "source": [
    "Unique matching on each ('SPA_ACCT_ID', 'SPA_PREM_ID')"
   ]
  },
  {
   "cell_type": "markdown",
   "metadata": {},
   "source": [
    "# Enforce Attribute Types"
   ]
  },
  {
   "cell_type": "markdown",
   "metadata": {
    "heading_collapsed": true
   },
   "source": [
    "## Check and Replace Missing Values"
   ]
  },
  {
   "cell_type": "code",
   "execution_count": 9,
   "metadata": {
    "ExecuteTime": {
     "end_time": "2021-05-23T19:42:41.319566Z",
     "start_time": "2021-05-23T19:42:41.274576Z"
    },
    "hidden": true
   },
   "outputs": [
    {
     "data": {
      "text/plain": [
       "SPA_ACCT_ID     0\n",
       "SPA_PREM_ID     0\n",
       "SPA_PER_ID      0\n",
       "CMIS_MATCH      0\n",
       "APARTMENT       0\n",
       "ENROLL_DATE     0\n",
       "HAS_COTENANT    0\n",
       "dtype: int64"
      ]
     },
     "execution_count": 9,
     "metadata": {},
     "output_type": "execute_result"
    }
   ],
   "source": [
    "# Find how many NaN's in each column\n",
    "service_agreements.isnull().sum()"
   ]
  },
  {
   "cell_type": "markdown",
   "metadata": {
    "heading_collapsed": true
   },
   "source": [
    "## Update Attribute Types"
   ]
  },
  {
   "cell_type": "code",
   "execution_count": 10,
   "metadata": {
    "ExecuteTime": {
     "end_time": "2021-05-23T19:42:41.460140Z",
     "start_time": "2021-05-23T19:42:41.321485Z"
    },
    "hidden": true
   },
   "outputs": [
    {
     "data": {
      "text/plain": [
       "SPA_ACCT_ID     float64\n",
       "SPA_PREM_ID     float64\n",
       "SPA_PER_ID      float64\n",
       "CMIS_MATCH       object\n",
       "APARTMENT          bool\n",
       "ENROLL_DATE      object\n",
       "HAS_COTENANT       bool\n",
       "dtype: object"
      ]
     },
     "execution_count": 10,
     "metadata": {},
     "output_type": "execute_result"
    }
   ],
   "source": [
    "service_agreements.dtypes"
   ]
  },
  {
   "cell_type": "code",
   "execution_count": 11,
   "metadata": {
    "ExecuteTime": {
     "end_time": "2021-05-23T19:42:41.600106Z",
     "start_time": "2021-05-23T19:42:41.462134Z"
    },
    "hidden": true
   },
   "outputs": [],
   "source": [
    "# Enforce Boolean Types\n",
    "boolean_cols = [\n",
    "    'CMIS_MATCH',\n",
    "    'APARTMENT',\n",
    "    'HAS_COTENANT'\n",
    "]\n",
    "for col in boolean_cols:\n",
    "    service_agreements[col] = service_agreements[col].astype('bool')\n",
    "\n",
    "# Enforce int types for categorical attributes\n",
    "categorical_cols = [\n",
    "    'SPA_PER_ID',\n",
    "    'SPA_PREM_ID',\n",
    "    'SPA_ACCT_ID'\n",
    "]\n",
    "for col in categorical_cols:\n",
    "    service_agreements[col] = service_agreements[col].astype('int64')"
   ]
  },
  {
   "cell_type": "code",
   "execution_count": 12,
   "metadata": {
    "ExecuteTime": {
     "end_time": "2021-05-23T19:42:41.694823Z",
     "start_time": "2021-05-23T19:42:41.602118Z"
    },
    "hidden": true
   },
   "outputs": [
    {
     "data": {
      "text/plain": [
       "SPA_ACCT_ID      int64\n",
       "SPA_PREM_ID      int64\n",
       "SPA_PER_ID       int64\n",
       "CMIS_MATCH        bool\n",
       "APARTMENT         bool\n",
       "ENROLL_DATE     object\n",
       "HAS_COTENANT      bool\n",
       "dtype: object"
      ]
     },
     "execution_count": 12,
     "metadata": {},
     "output_type": "execute_result"
    }
   ],
   "source": [
    "service_agreements.dtypes"
   ]
  },
  {
   "cell_type": "markdown",
   "metadata": {},
   "source": [
    "# Get Processing Stats and Save"
   ]
  },
  {
   "cell_type": "markdown",
   "metadata": {},
   "source": [
    "## Save Pickle"
   ]
  },
  {
   "cell_type": "code",
   "execution_count": 13,
   "metadata": {
    "ExecuteTime": {
     "end_time": "2021-05-23T19:42:41.802651Z",
     "start_time": "2021-05-23T19:42:41.697808Z"
    }
   },
   "outputs": [],
   "source": [
    "#filename = '../../002_Data/Release_4/processed_sa.pickle'\n",
    "#outfile = open(filename, 'wb')\n",
    "#pickle.dump(service_agreements, outfile)\n",
    "#outfile.close()"
   ]
  },
  {
   "cell_type": "markdown",
   "metadata": {},
   "source": [
    "## Check Numbers Retained"
   ]
  },
  {
   "cell_type": "code",
   "execution_count": 17,
   "metadata": {
    "ExecuteTime": {
     "end_time": "2021-05-23T19:45:51.215136Z",
     "start_time": "2021-05-23T19:45:51.194871Z"
    }
   },
   "outputs": [
    {
     "data": {
      "text/plain": [
       "0.8109807208717519"
      ]
     },
     "execution_count": 17,
     "metadata": {},
     "output_type": "execute_result"
    }
   ],
   "source": [
    "1935/2386"
   ]
  },
  {
   "cell_type": "code",
   "execution_count": 14,
   "metadata": {
    "ExecuteTime": {
     "end_time": "2021-05-23T19:42:41.942602Z",
     "start_time": "2021-05-23T19:42:41.805645Z"
    }
   },
   "outputs": [
    {
     "name": "stdout",
     "output_type": "stream",
     "text": [
      "Retained 243360 = 79.664789838942% of people.\n",
      "Retained 1935 = 81.09807208717518% of positive cases.\n",
      "Retained 2072 = 100.0% of positive rows.\n",
      "Retained 253638 = 93.59681169046829% of accounts.\n"
     ]
    }
   ],
   "source": [
    "retained_p = service_agreements[service_agreements.CMIS_MATCH]['SPA_PER_ID'].nunique()\n",
    "retained_people = service_agreements.SPA_PER_ID.nunique()\n",
    "retained_p_rows = len(service_agreements[service_agreements.CMIS_MATCH])\n",
    "retained_accts = service_agreements.SPA_ACCT_ID.nunique()\n",
    "\n",
    "print(f'Retained {retained_people} = {100*retained_people/ppl}% of people.')\n",
    "print(f'Retained {retained_p} = {100*retained_p/pos_ppl}% of positive cases.')\n",
    "print(f'Retained {retained_p_rows} = {100*retained_p_rows/pos_rows}% of positive rows.')\n",
    "print(f'Retained {retained_accts} = {100*retained_accts/accts}% of accounts.')"
   ]
  },
  {
   "cell_type": "markdown",
   "metadata": {},
   "source": [
    "## Total Time"
   ]
  },
  {
   "cell_type": "code",
   "execution_count": 15,
   "metadata": {
    "ExecuteTime": {
     "end_time": "2021-05-23T19:42:42.035028Z",
     "start_time": "2021-05-23T19:42:41.945605Z"
    }
   },
   "outputs": [
    {
     "name": "stdout",
     "output_type": "stream",
     "text": [
      "Total Time in Seconds: 7.346033573150635\n"
     ]
    }
   ],
   "source": [
    "print(f'Total Time in Seconds: {time.time()-startTime}')"
   ]
  }
 ],
 "metadata": {
  "interpreter": {
   "hash": "55dc2ef33d481be31a5c00b42f248808e4edd8b163c72100e3df152a03ba29f1"
  },
  "kernelspec": {
   "display_name": "Python 3",
   "language": "python",
   "name": "python3"
  },
  "language_info": {
   "codemirror_mode": {
    "name": "ipython",
    "version": 3
   },
   "file_extension": ".py",
   "mimetype": "text/x-python",
   "name": "python",
   "nbconvert_exporter": "python",
   "pygments_lexer": "ipython3",
   "version": "3.8.8"
  },
  "metadata": {
   "interpreter": {
    "hash": "55dc2ef33d481be31a5c00b42f248808e4edd8b163c72100e3df152a03ba29f1"
   }
  },
  "varInspector": {
   "cols": {
    "lenName": 16,
    "lenType": 16,
    "lenVar": 40
   },
   "kernels_config": {
    "python": {
     "delete_cmd_postfix": "",
     "delete_cmd_prefix": "del ",
     "library": "var_list.py",
     "varRefreshCmd": "print(var_dic_list())"
    },
    "r": {
     "delete_cmd_postfix": ") ",
     "delete_cmd_prefix": "rm(",
     "library": "var_list.r",
     "varRefreshCmd": "cat(var_dic_list()) "
    }
   },
   "types_to_exclude": [
    "module",
    "function",
    "builtin_function_or_method",
    "instance",
    "_Feature"
   ],
   "window_display": false
  }
 },
 "nbformat": 4,
 "nbformat_minor": 2
}
