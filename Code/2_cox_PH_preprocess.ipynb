{
 "cells": [
  {
   "cell_type": "markdown",
   "metadata": {},
   "source": [
    "# Load Data"
   ]
  },
  {
   "cell_type": "code",
   "execution_count": 34,
   "metadata": {
    "ExecuteTime": {
     "end_time": "2021-05-22T23:41:32.577947Z",
     "start_time": "2021-05-22T23:41:32.571962Z"
    }
   },
   "outputs": [],
   "source": [
    "import pandas as pd\n",
    "import numpy as np\n",
    "import pickle\n",
    "import time"
   ]
  },
  {
   "cell_type": "code",
   "execution_count": 35,
   "metadata": {
    "ExecuteTime": {
     "end_time": "2021-05-22T23:41:32.752010Z",
     "start_time": "2021-05-22T23:41:32.580939Z"
    }
   },
   "outputs": [],
   "source": [
    "start_time = time.time()"
   ]
  },
  {
   "cell_type": "code",
   "execution_count": 36,
   "metadata": {
    "ExecuteTime": {
     "end_time": "2021-05-22T23:41:33.789328Z",
     "start_time": "2021-05-22T23:41:32.755001Z"
    }
   },
   "outputs": [
    {
     "data": {
      "text/plain": [
       "['PAST_DUE',\n",
       " 'TOTAL_60_DAYS_AMT',\n",
       " 'NUM_PREM_FOR_PER',\n",
       " 'BREAK_ARRANGEMENT',\n",
       " 'COVID_REMINDER',\n",
       " 'MULTI_DWELL_SIZE',\n",
       " 'SNAP_GEO',\n",
       " 'NUM_PER_FOR_PREM',\n",
       " 'APARTMENT',\n",
       " 'HAS_COTENANT']"
      ]
     },
     "execution_count": 36,
     "metadata": {},
     "output_type": "execute_result"
    }
   ],
   "source": [
    "filename = '../../002_Data/Release_4/data_combined.pickle'\n",
    "infile = open(filename,'rb')\n",
    "df = pickle.load(infile)\n",
    "infile.close()\n",
    "\n",
    "filename = '../../002_Data/Release_4/attribute_list.pickle'\n",
    "infile = open(filename,'rb')\n",
    "keep = pickle.load(infile)\n",
    "infile.close()\n",
    "\n",
    "keep"
   ]
  },
  {
   "cell_type": "code",
   "execution_count": 37,
   "metadata": {
    "ExecuteTime": {
     "end_time": "2021-05-22T23:41:33.885088Z",
     "start_time": "2021-05-22T23:41:33.792321Z"
    }
   },
   "outputs": [
    {
     "name": "stdout",
     "output_type": "stream",
     "text": [
      "279\n",
      "17\n"
     ]
    }
   ],
   "source": [
    "print(df.BLOCKGROUP_GEOID.nunique())\n",
    "print(df.POSTAL.nunique())"
   ]
  },
  {
   "cell_type": "code",
   "execution_count": 25,
   "metadata": {
    "ExecuteTime": {
     "end_time": "2021-05-22T23:39:29.606252Z",
     "start_time": "2021-05-22T23:39:29.530775Z"
    }
   },
   "outputs": [],
   "source": [
    "# causing convergence issues\n",
    "keep.remove('APARTMENT')\n",
    "#keep = keep + ['SPA_PER_ID', 'ARREARSMONTH', 'CMIS_MATCH']\n",
    "keep.remove('SNAP_GEO')\n",
    "keep = keep + ['SPA_PER_ID', 'ARREARSMONTH', 'CMIS_MATCH', 'POSTAL']"
   ]
  },
  {
   "cell_type": "code",
   "execution_count": 26,
   "metadata": {
    "ExecuteTime": {
     "end_time": "2021-05-22T23:39:30.047853Z",
     "start_time": "2021-05-22T23:39:29.609229Z"
    }
   },
   "outputs": [],
   "source": [
    "df = df[keep]"
   ]
  },
  {
   "cell_type": "markdown",
   "metadata": {
    "heading_collapsed": true
   },
   "source": [
    "# Convert Format"
   ]
  },
  {
   "cell_type": "markdown",
   "metadata": {
    "hidden": true
   },
   "source": [
    "## Goal\n",
    "duration, variable values, event (0 or 1)"
   ]
  },
  {
   "cell_type": "code",
   "execution_count": 27,
   "metadata": {
    "ExecuteTime": {
     "end_time": "2021-05-22T23:39:30.921197Z",
     "start_time": "2021-05-22T23:39:30.050845Z"
    },
    "hidden": true
   },
   "outputs": [],
   "source": [
    "df = df.join(\n",
    "    (df.groupby('SPA_PER_ID').ARREARSMONTH.max() - df.groupby('SPA_PER_ID').ARREARSMONTH.min()).rename('DURATION'),\n",
    "    how='left',\n",
    "    on='SPA_PER_ID',\n",
    ")"
   ]
  },
  {
   "cell_type": "code",
   "execution_count": 28,
   "metadata": {
    "ExecuteTime": {
     "end_time": "2021-05-22T23:39:30.936160Z",
     "start_time": "2021-05-22T23:39:30.923210Z"
    },
    "hidden": true
   },
   "outputs": [
    {
     "data": {
      "text/plain": [
       "\"\\ndf = df.join(\\n    df.groupby('SPA_PER_ID').ARREARSMONTH.min().rename('start'),\\n    how='left',\\n    on='SPA_PER_ID',\\n)\\n\""
      ]
     },
     "execution_count": 28,
     "metadata": {},
     "output_type": "execute_result"
    }
   ],
   "source": [
    "# For left censoring\n",
    "'''\n",
    "df = df.join(\n",
    "    df.groupby('SPA_PER_ID').ARREARSMONTH.min().rename('start'),\n",
    "    how='left',\n",
    "    on='SPA_PER_ID',\n",
    ")\n",
    "'''"
   ]
  },
  {
   "cell_type": "markdown",
   "metadata": {
    "hidden": true
   },
   "source": [
    "## Take last values: most info about homelessness (best case)"
   ]
  },
  {
   "cell_type": "code",
   "execution_count": 29,
   "metadata": {
    "ExecuteTime": {
     "end_time": "2021-05-22T23:39:31.821668Z",
     "start_time": "2021-05-22T23:39:30.941146Z"
    },
    "hidden": true
   },
   "outputs": [
    {
     "name": "stdout",
     "output_type": "stream",
     "text": [
      "3346276\n",
      "85494\n"
     ]
    }
   ],
   "source": [
    "print(len(df))\n",
    "df = df.groupby('SPA_PER_ID').last().reset_index().drop('ARREARSMONTH', axis=1)\n",
    "print(len(df))"
   ]
  },
  {
   "cell_type": "code",
   "execution_count": 30,
   "metadata": {
    "ExecuteTime": {
     "end_time": "2021-05-22T23:39:31.853584Z",
     "start_time": "2021-05-22T23:39:31.825663Z"
    },
    "hidden": true,
    "scrolled": true
   },
   "outputs": [
    {
     "data": {
      "text/html": [
       "<div>\n",
       "<style scoped>\n",
       "    .dataframe tbody tr th:only-of-type {\n",
       "        vertical-align: middle;\n",
       "    }\n",
       "\n",
       "    .dataframe tbody tr th {\n",
       "        vertical-align: top;\n",
       "    }\n",
       "\n",
       "    .dataframe thead th {\n",
       "        text-align: right;\n",
       "    }\n",
       "</style>\n",
       "<table border=\"1\" class=\"dataframe\">\n",
       "  <thead>\n",
       "    <tr style=\"text-align: right;\">\n",
       "      <th></th>\n",
       "      <th>SPA_PER_ID</th>\n",
       "      <th>PAST_DUE</th>\n",
       "      <th>TOTAL_60_DAYS_AMT</th>\n",
       "      <th>NUM_PREM_FOR_PER</th>\n",
       "      <th>BREAK_ARRANGEMENT</th>\n",
       "      <th>COVID_REMINDER</th>\n",
       "      <th>MULTI_DWELL_SIZE</th>\n",
       "      <th>NUM_PER_FOR_PREM</th>\n",
       "      <th>HAS_COTENANT</th>\n",
       "      <th>CMIS_MATCH</th>\n",
       "      <th>POSTAL</th>\n",
       "      <th>DURATION</th>\n",
       "    </tr>\n",
       "  </thead>\n",
       "  <tbody>\n",
       "    <tr>\n",
       "      <th>0</th>\n",
       "      <td>1</td>\n",
       "      <td>0</td>\n",
       "      <td>0.0</td>\n",
       "      <td>1</td>\n",
       "      <td>0</td>\n",
       "      <td>0</td>\n",
       "      <td>0</td>\n",
       "      <td>2</td>\n",
       "      <td>True</td>\n",
       "      <td>False</td>\n",
       "      <td>99217</td>\n",
       "      <td>1</td>\n",
       "    </tr>\n",
       "    <tr>\n",
       "      <th>1</th>\n",
       "      <td>3</td>\n",
       "      <td>0</td>\n",
       "      <td>0.0</td>\n",
       "      <td>1</td>\n",
       "      <td>0</td>\n",
       "      <td>0</td>\n",
       "      <td>0</td>\n",
       "      <td>1</td>\n",
       "      <td>False</td>\n",
       "      <td>False</td>\n",
       "      <td>99212</td>\n",
       "      <td>60</td>\n",
       "    </tr>\n",
       "    <tr>\n",
       "      <th>2</th>\n",
       "      <td>4</td>\n",
       "      <td>0</td>\n",
       "      <td>0.0</td>\n",
       "      <td>1</td>\n",
       "      <td>0</td>\n",
       "      <td>0</td>\n",
       "      <td>0</td>\n",
       "      <td>2</td>\n",
       "      <td>True</td>\n",
       "      <td>False</td>\n",
       "      <td>99216</td>\n",
       "      <td>35</td>\n",
       "    </tr>\n",
       "    <tr>\n",
       "      <th>3</th>\n",
       "      <td>6</td>\n",
       "      <td>0</td>\n",
       "      <td>0.0</td>\n",
       "      <td>1</td>\n",
       "      <td>0</td>\n",
       "      <td>0</td>\n",
       "      <td>0</td>\n",
       "      <td>1</td>\n",
       "      <td>False</td>\n",
       "      <td>False</td>\n",
       "      <td>99205</td>\n",
       "      <td>60</td>\n",
       "    </tr>\n",
       "    <tr>\n",
       "      <th>4</th>\n",
       "      <td>12</td>\n",
       "      <td>0</td>\n",
       "      <td>0.0</td>\n",
       "      <td>1</td>\n",
       "      <td>0</td>\n",
       "      <td>0</td>\n",
       "      <td>0</td>\n",
       "      <td>1</td>\n",
       "      <td>True</td>\n",
       "      <td>False</td>\n",
       "      <td>99208</td>\n",
       "      <td>15</td>\n",
       "    </tr>\n",
       "  </tbody>\n",
       "</table>\n",
       "</div>"
      ],
      "text/plain": [
       "   SPA_PER_ID  PAST_DUE  TOTAL_60_DAYS_AMT  NUM_PREM_FOR_PER  \\\n",
       "0           1         0                0.0                 1   \n",
       "1           3         0                0.0                 1   \n",
       "2           4         0                0.0                 1   \n",
       "3           6         0                0.0                 1   \n",
       "4          12         0                0.0                 1   \n",
       "\n",
       "   BREAK_ARRANGEMENT  COVID_REMINDER  MULTI_DWELL_SIZE  NUM_PER_FOR_PREM  \\\n",
       "0                  0               0                 0                 2   \n",
       "1                  0               0                 0                 1   \n",
       "2                  0               0                 0                 2   \n",
       "3                  0               0                 0                 1   \n",
       "4                  0               0                 0                 1   \n",
       "\n",
       "   HAS_COTENANT  CMIS_MATCH  POSTAL  DURATION  \n",
       "0          True       False   99217         1  \n",
       "1         False       False   99212        60  \n",
       "2          True       False   99216        35  \n",
       "3         False       False   99205        60  \n",
       "4          True       False   99208        15  "
      ]
     },
     "execution_count": 30,
     "metadata": {},
     "output_type": "execute_result"
    }
   ],
   "source": [
    "df.head()"
   ]
  },
  {
   "cell_type": "markdown",
   "metadata": {},
   "source": [
    "# Dummy Variables"
   ]
  },
  {
   "cell_type": "code",
   "execution_count": 31,
   "metadata": {
    "ExecuteTime": {
     "end_time": "2021-05-22T23:39:31.977894Z",
     "start_time": "2021-05-22T23:39:31.856579Z"
    }
   },
   "outputs": [],
   "source": [
    "df = pd.get_dummies(data=df, prefix='ZIP', columns=['POSTAL'])"
   ]
  },
  {
   "cell_type": "markdown",
   "metadata": {},
   "source": [
    "# Save"
   ]
  },
  {
   "cell_type": "code",
   "execution_count": 32,
   "metadata": {
    "ExecuteTime": {
     "end_time": "2021-05-22T23:39:32.105089Z",
     "start_time": "2021-05-22T23:39:31.980855Z"
    }
   },
   "outputs": [],
   "source": [
    "filename = '../../002_Data/Release_4/cox_PH_ready_geo.pickle'\n",
    "outfile = open(filename, 'wb')\n",
    "pickle.dump(df, outfile)\n",
    "outfile.close()"
   ]
  },
  {
   "cell_type": "markdown",
   "metadata": {},
   "source": [
    "# Time"
   ]
  },
  {
   "cell_type": "code",
   "execution_count": 33,
   "metadata": {
    "ExecuteTime": {
     "end_time": "2021-05-22T23:39:32.200803Z",
     "start_time": "2021-05-22T23:39:32.108049Z"
    }
   },
   "outputs": [
    {
     "name": "stdout",
     "output_type": "stream",
     "text": [
      "hours:minutes:seconds = 0:0:3.968327522277832\n"
     ]
    }
   ],
   "source": [
    "from custom_methods.calc_time import calc_time_from_sec\n",
    "\n",
    "calc_time_from_sec(time.time()-start_time)"
   ]
  }
 ],
 "metadata": {
  "interpreter": {
   "hash": "55dc2ef33d481be31a5c00b42f248808e4edd8b163c72100e3df152a03ba29f1"
  },
  "kernelspec": {
   "display_name": "Python 3",
   "language": "python",
   "name": "python3"
  },
  "language_info": {
   "codemirror_mode": {
    "name": "ipython",
    "version": 3
   },
   "file_extension": ".py",
   "mimetype": "text/x-python",
   "name": "python",
   "nbconvert_exporter": "python",
   "pygments_lexer": "ipython3",
   "version": "3.8.6"
  },
  "varInspector": {
   "cols": {
    "lenName": 16,
    "lenType": 16,
    "lenVar": 40
   },
   "kernels_config": {
    "python": {
     "delete_cmd_postfix": "",
     "delete_cmd_prefix": "del ",
     "library": "var_list.py",
     "varRefreshCmd": "print(var_dic_list())"
    },
    "r": {
     "delete_cmd_postfix": ") ",
     "delete_cmd_prefix": "rm(",
     "library": "var_list.r",
     "varRefreshCmd": "cat(var_dic_list()) "
    }
   },
   "types_to_exclude": [
    "module",
    "function",
    "builtin_function_or_method",
    "instance",
    "_Feature"
   ],
   "window_display": false
  }
 },
 "nbformat": 4,
 "nbformat_minor": 2
}
