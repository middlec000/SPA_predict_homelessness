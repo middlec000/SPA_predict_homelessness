{
 "cells": [
  {
   "cell_type": "markdown",
   "metadata": {},
   "source": [
    "# Setup"
   ]
  },
  {
   "cell_type": "code",
   "execution_count": 7,
   "metadata": {
    "ExecuteTime": {
     "end_time": "2021-06-29T00:42:16.472690Z",
     "start_time": "2021-06-29T00:42:16.413222Z"
    }
   },
   "outputs": [],
   "source": [
    "import pandas as pd\n",
    "import numpy as np\n",
    "import pickle\n",
    "import time\n",
    "from custom_methods import preprocessing\n",
    "\n",
    "datapath = '../Data/'"
   ]
  },
  {
   "cell_type": "markdown",
   "metadata": {},
   "source": [
    "## Start Timer"
   ]
  },
  {
   "cell_type": "code",
   "execution_count": 22,
   "metadata": {},
   "outputs": [],
   "source": [
    "startTime = time.time()"
   ]
  },
  {
   "cell_type": "markdown",
   "metadata": {},
   "source": [
    "# Billing Data"
   ]
  },
  {
   "cell_type": "code",
   "execution_count": 3,
   "metadata": {
    "ExecuteTime": {
     "end_time": "2021-06-29T00:38:46.303097Z",
     "start_time": "2021-06-29T00:38:34.847829Z"
    }
   },
   "outputs": [
    {
     "name": "stdout",
     "output_type": "stream",
     "text": [
      "Length: 3821082\n",
      "Accounts: 98054\n"
     ]
    },
    {
     "data": {
      "text/html": [
       "<div>\n",
       "<style scoped>\n",
       "    .dataframe tbody tr th:only-of-type {\n",
       "        vertical-align: middle;\n",
       "    }\n",
       "\n",
       "    .dataframe tbody tr th {\n",
       "        vertical-align: top;\n",
       "    }\n",
       "\n",
       "    .dataframe thead th {\n",
       "        text-align: right;\n",
       "    }\n",
       "</style>\n",
       "<table border=\"1\" class=\"dataframe\">\n",
       "  <thead>\n",
       "    <tr style=\"text-align: right;\">\n",
       "      <th></th>\n",
       "      <th>ARREARSMONTH</th>\n",
       "      <th>RES_EL_CUR120_DAYS</th>\n",
       "      <th>RES_EL_CUR22_DAYS</th>\n",
       "      <th>RES_EL_CUR30_DAYS</th>\n",
       "      <th>RES_EL_CUR60_DAYS</th>\n",
       "      <th>RES_EL_CUR90_DAYS</th>\n",
       "      <th>RES_EL_CUR_BAL_AMT</th>\n",
       "      <th>RES_EL_OVER_120_DAYS</th>\n",
       "      <th>RES_GAS_CUR120_DAYS</th>\n",
       "      <th>RES_GAS_CUR22_DAYS</th>\n",
       "      <th>...</th>\n",
       "      <th>SEVERANCE_ELECTRIC</th>\n",
       "      <th>SEVERANCE_GAS</th>\n",
       "      <th>MONTHID</th>\n",
       "      <th>CITY_TOT_DUE</th>\n",
       "      <th>CITY_30_DAYS_PAST_DUE_AMT</th>\n",
       "      <th>CITY_60_DAYS_PAST_DUE_AMT</th>\n",
       "      <th>CITY_90_DAYS_PAST_DUE_AMT</th>\n",
       "      <th>SPA_PREM_ID</th>\n",
       "      <th>SPA_ACCT_ID</th>\n",
       "      <th>COVID_REMINDER</th>\n",
       "    </tr>\n",
       "  </thead>\n",
       "  <tbody>\n",
       "    <tr>\n",
       "      <th>0</th>\n",
       "      <td>201512</td>\n",
       "      <td>0.0</td>\n",
       "      <td>0.0</td>\n",
       "      <td>90.02</td>\n",
       "      <td>0.00</td>\n",
       "      <td>0.0</td>\n",
       "      <td>90.02</td>\n",
       "      <td>0.0</td>\n",
       "      <td>0.0</td>\n",
       "      <td>0.0</td>\n",
       "      <td>...</td>\n",
       "      <td>1.0</td>\n",
       "      <td>0.0</td>\n",
       "      <td>4.885320e+10</td>\n",
       "      <td>131.59</td>\n",
       "      <td>0.00</td>\n",
       "      <td>0.0</td>\n",
       "      <td>0.0</td>\n",
       "      <td>3.0</td>\n",
       "      <td>139.0</td>\n",
       "      <td>NaN</td>\n",
       "    </tr>\n",
       "    <tr>\n",
       "      <th>1</th>\n",
       "      <td>201512</td>\n",
       "      <td>0.0</td>\n",
       "      <td>0.0</td>\n",
       "      <td>72.37</td>\n",
       "      <td>0.00</td>\n",
       "      <td>0.0</td>\n",
       "      <td>72.37</td>\n",
       "      <td>0.0</td>\n",
       "      <td>0.0</td>\n",
       "      <td>0.0</td>\n",
       "      <td>...</td>\n",
       "      <td>NaN</td>\n",
       "      <td>NaN</td>\n",
       "      <td>8.903202e+09</td>\n",
       "      <td>186.60</td>\n",
       "      <td>0.00</td>\n",
       "      <td>0.0</td>\n",
       "      <td>0.0</td>\n",
       "      <td>33.0</td>\n",
       "      <td>181.0</td>\n",
       "      <td>NaN</td>\n",
       "    </tr>\n",
       "    <tr>\n",
       "      <th>2</th>\n",
       "      <td>201512</td>\n",
       "      <td>0.0</td>\n",
       "      <td>0.0</td>\n",
       "      <td>528.84</td>\n",
       "      <td>81.34</td>\n",
       "      <td>0.0</td>\n",
       "      <td>610.18</td>\n",
       "      <td>0.0</td>\n",
       "      <td>0.0</td>\n",
       "      <td>0.0</td>\n",
       "      <td>...</td>\n",
       "      <td>1.0</td>\n",
       "      <td>0.0</td>\n",
       "      <td>9.672015e+08</td>\n",
       "      <td>331.86</td>\n",
       "      <td>130.83</td>\n",
       "      <td>72.7</td>\n",
       "      <td>0.0</td>\n",
       "      <td>37.0</td>\n",
       "      <td>17.0</td>\n",
       "      <td>NaN</td>\n",
       "    </tr>\n",
       "    <tr>\n",
       "      <th>3</th>\n",
       "      <td>201512</td>\n",
       "      <td>0.0</td>\n",
       "      <td>54.0</td>\n",
       "      <td>0.00</td>\n",
       "      <td>0.00</td>\n",
       "      <td>0.0</td>\n",
       "      <td>54.00</td>\n",
       "      <td>0.0</td>\n",
       "      <td>0.0</td>\n",
       "      <td>80.0</td>\n",
       "      <td>...</td>\n",
       "      <td>NaN</td>\n",
       "      <td>NaN</td>\n",
       "      <td>4.180520e+10</td>\n",
       "      <td>105.81</td>\n",
       "      <td>0.00</td>\n",
       "      <td>0.0</td>\n",
       "      <td>0.0</td>\n",
       "      <td>73.0</td>\n",
       "      <td>173.0</td>\n",
       "      <td>NaN</td>\n",
       "    </tr>\n",
       "    <tr>\n",
       "      <th>4</th>\n",
       "      <td>201512</td>\n",
       "      <td>0.0</td>\n",
       "      <td>0.0</td>\n",
       "      <td>0.00</td>\n",
       "      <td>0.00</td>\n",
       "      <td>0.0</td>\n",
       "      <td>0.00</td>\n",
       "      <td>0.0</td>\n",
       "      <td>0.0</td>\n",
       "      <td>0.0</td>\n",
       "      <td>...</td>\n",
       "      <td>NaN</td>\n",
       "      <td>NaN</td>\n",
       "      <td>5.075220e+10</td>\n",
       "      <td>98.11</td>\n",
       "      <td>0.00</td>\n",
       "      <td>0.0</td>\n",
       "      <td>0.0</td>\n",
       "      <td>110.0</td>\n",
       "      <td>140.0</td>\n",
       "      <td>NaN</td>\n",
       "    </tr>\n",
       "  </tbody>\n",
       "</table>\n",
       "<p>5 rows × 32 columns</p>\n",
       "</div>"
      ],
      "text/plain": [
       "   ARREARSMONTH  RES_EL_CUR120_DAYS  RES_EL_CUR22_DAYS  RES_EL_CUR30_DAYS  \\\n",
       "0        201512                 0.0                0.0              90.02   \n",
       "1        201512                 0.0                0.0              72.37   \n",
       "2        201512                 0.0                0.0             528.84   \n",
       "3        201512                 0.0               54.0               0.00   \n",
       "4        201512                 0.0                0.0               0.00   \n",
       "\n",
       "   RES_EL_CUR60_DAYS  RES_EL_CUR90_DAYS  RES_EL_CUR_BAL_AMT  \\\n",
       "0               0.00                0.0               90.02   \n",
       "1               0.00                0.0               72.37   \n",
       "2              81.34                0.0              610.18   \n",
       "3               0.00                0.0               54.00   \n",
       "4               0.00                0.0                0.00   \n",
       "\n",
       "   RES_EL_OVER_120_DAYS  RES_GAS_CUR120_DAYS  RES_GAS_CUR22_DAYS  ...  \\\n",
       "0                   0.0                  0.0                 0.0  ...   \n",
       "1                   0.0                  0.0                 0.0  ...   \n",
       "2                   0.0                  0.0                 0.0  ...   \n",
       "3                   0.0                  0.0                80.0  ...   \n",
       "4                   0.0                  0.0                 0.0  ...   \n",
       "\n",
       "   SEVERANCE_ELECTRIC  SEVERANCE_GAS       MONTHID  CITY_TOT_DUE  \\\n",
       "0                 1.0            0.0  4.885320e+10        131.59   \n",
       "1                 NaN            NaN  8.903202e+09        186.60   \n",
       "2                 1.0            0.0  9.672015e+08        331.86   \n",
       "3                 NaN            NaN  4.180520e+10        105.81   \n",
       "4                 NaN            NaN  5.075220e+10         98.11   \n",
       "\n",
       "   CITY_30_DAYS_PAST_DUE_AMT  CITY_60_DAYS_PAST_DUE_AMT  \\\n",
       "0                       0.00                        0.0   \n",
       "1                       0.00                        0.0   \n",
       "2                     130.83                       72.7   \n",
       "3                       0.00                        0.0   \n",
       "4                       0.00                        0.0   \n",
       "\n",
       "   CITY_90_DAYS_PAST_DUE_AMT  SPA_PREM_ID  SPA_ACCT_ID  COVID_REMINDER  \n",
       "0                        0.0          3.0        139.0             NaN  \n",
       "1                        0.0         33.0        181.0             NaN  \n",
       "2                        0.0         37.0         17.0             NaN  \n",
       "3                        0.0         73.0        173.0             NaN  \n",
       "4                        0.0        110.0        140.0             NaN  \n",
       "\n",
       "[5 rows x 32 columns]"
      ]
     },
     "execution_count": 3,
     "metadata": {},
     "output_type": "execute_result"
    }
   ],
   "source": [
    "# Load Billing Data\n",
    "fileyears = ['2015', '2016', '2017', '2018', '2019', '2020']\n",
    "path = 'SpaData_'\n",
    "df = pd.read_csv(datapath+path+fileyears[0]+'_Anon.csv')\n",
    "for fileyear in fileyears[1:]:\n",
    "    df = df.append(pd.read_csv(datapath+path+fileyear+'_Anon.csv'))\n",
    "\n",
    "rows = len(df)\n",
    "accts = df.SPA_ACCT_ID.nunique()\n",
    "print(f'Length: {rows}')\n",
    "print(f'Accounts: {accts}')\n",
    "df.head()"
   ]
  },
  {
   "cell_type": "code",
   "execution_count": 4,
   "metadata": {
    "ExecuteTime": {
     "end_time": "2021-06-29T00:38:56.963866Z",
     "start_time": "2021-06-29T00:38:56.948887Z"
    }
   },
   "outputs": [
    {
     "data": {
      "text/plain": [
       "['ARREARSMONTH',\n",
       " 'RES_EL_CUR120_DAYS',\n",
       " 'RES_EL_CUR22_DAYS',\n",
       " 'RES_EL_CUR30_DAYS',\n",
       " 'RES_EL_CUR60_DAYS',\n",
       " 'RES_EL_CUR90_DAYS',\n",
       " 'RES_EL_CUR_BAL_AMT',\n",
       " 'RES_EL_OVER_120_DAYS',\n",
       " 'RES_GAS_CUR120_DAYS',\n",
       " 'RES_GAS_CUR22_DAYS',\n",
       " 'RES_GAS_CUR30_DAYS',\n",
       " 'RES_GAS_CUR60_DAYS',\n",
       " 'RES_GAS_CUR90_DAYS',\n",
       " 'RES_GAS_CUR_BAL_AMT',\n",
       " 'RES_GAS_OVER_120_DAYS',\n",
       " 'BREAK_ARRANGEMENT',\n",
       " 'BREAK_PAY_PLAN',\n",
       " 'CALL_OUT',\n",
       " 'CALL_OUT_MANUAL',\n",
       " 'DUE_DATE',\n",
       " 'FINAL_NOTICE',\n",
       " 'PAST_DUE',\n",
       " 'SEVERANCE_ELECTRIC',\n",
       " 'SEVERANCE_GAS',\n",
       " 'MONTHID',\n",
       " 'CITY_TOT_DUE',\n",
       " 'CITY_30_DAYS_PAST_DUE_AMT',\n",
       " 'CITY_60_DAYS_PAST_DUE_AMT',\n",
       " 'CITY_90_DAYS_PAST_DUE_AMT',\n",
       " 'SPA_PREM_ID',\n",
       " 'SPA_ACCT_ID',\n",
       " 'COVID_REMINDER']"
      ]
     },
     "execution_count": 4,
     "metadata": {},
     "output_type": "execute_result"
    }
   ],
   "source": [
    "df.columns.to_list()"
   ]
  },
  {
   "cell_type": "markdown",
   "metadata": {},
   "source": [
    "## Rename Attributes"
   ]
  },
  {
   "cell_type": "code",
   "execution_count": 5,
   "metadata": {
    "ExecuteTime": {
     "end_time": "2021-06-29T00:40:10.492717Z",
     "start_time": "2021-06-29T00:40:09.182894Z"
    }
   },
   "outputs": [],
   "source": [
    "df = df.rename({'ARREARSMONTH':'MONTH'}, axis=1)\n",
    "df = df.drop('MONTHID', axis=1)"
   ]
  },
  {
   "cell_type": "markdown",
   "metadata": {},
   "source": [
    "## Reformat Dates"
   ]
  },
  {
   "cell_type": "code",
   "execution_count": 6,
   "metadata": {
    "ExecuteTime": {
     "end_time": "2021-06-29T00:41:41.663845Z",
     "start_time": "2021-06-29T00:41:41.636402Z"
    }
   },
   "outputs": [
    {
     "name": "stdout",
     "output_type": "stream",
     "text": [
      "Earliest Month: 201512\n",
      "Latest Month: 202012\n"
     ]
    }
   ],
   "source": [
    "print(f'Earliest Month: {df.MONTH.min()}')\n",
    "print(f'Latest Month: {df.MONTH.max()}')"
   ]
  },
  {
   "cell_type": "markdown",
   "metadata": {},
   "source": [
    "Use December, 2015 as month 0 - this is the earliest month in the billing data"
   ]
  },
  {
   "cell_type": "code",
   "execution_count": 10,
   "metadata": {
    "ExecuteTime": {
     "end_time": "2021-06-29T00:43:57.086949Z",
     "start_time": "2021-06-29T00:43:45.542794Z"
    }
   },
   "outputs": [
    {
     "name": "stdout",
     "output_type": "stream",
     "text": [
      "Earliest Month: 0\n",
      "Latest Month: 60\n"
     ]
    }
   ],
   "source": [
    "df.MONTH = df.MONTH.apply(lambda x: preprocessing.date_map(date=x, relative_to=201512, format='yyyymm'))\n",
    "print(f'Earliest Month: {df.MONTH.min()}')\n",
    "print(f'Latest Month: {df.MONTH.max()}')"
   ]
  },
  {
   "cell_type": "markdown",
   "metadata": {},
   "source": [
    "# Service Agreements Data"
   ]
  },
  {
   "cell_type": "code",
   "execution_count": 64,
   "metadata": {
    "ExecuteTime": {
     "end_time": "2021-06-29T01:39:02.396390Z",
     "start_time": "2021-06-29T01:39:01.257035Z"
    },
    "scrolled": false
   },
   "outputs": [
    {
     "name": "stdout",
     "output_type": "stream",
     "text": [
      "Rows: 709068\n",
      "People: 305480\n",
      "Accounts: 270990\n",
      "Positive Cases: 2386\n"
     ]
    },
    {
     "data": {
      "text/html": [
       "<div>\n",
       "<style scoped>\n",
       "    .dataframe tbody tr th:only-of-type {\n",
       "        vertical-align: middle;\n",
       "    }\n",
       "\n",
       "    .dataframe tbody tr th {\n",
       "        vertical-align: top;\n",
       "    }\n",
       "\n",
       "    .dataframe thead th {\n",
       "        text-align: right;\n",
       "    }\n",
       "</style>\n",
       "<table border=\"1\" class=\"dataframe\">\n",
       "  <thead>\n",
       "    <tr style=\"text-align: right;\">\n",
       "      <th></th>\n",
       "      <th>SPA_PREM_ID</th>\n",
       "      <th>SPA_ACCT_ID</th>\n",
       "      <th>spa_sa_id</th>\n",
       "      <th>SPA_PER_ID</th>\n",
       "      <th>ACCT_REL_TYPE_CD</th>\n",
       "      <th>CMIS_MATCH</th>\n",
       "      <th>START_DT</th>\n",
       "      <th>END_DT</th>\n",
       "      <th>SA_TYPE_DESCR</th>\n",
       "      <th>Class</th>\n",
       "      <th>APARTMENT</th>\n",
       "      <th>ENROLL_DATE</th>\n",
       "    </tr>\n",
       "  </thead>\n",
       "  <tbody>\n",
       "    <tr>\n",
       "      <th>0</th>\n",
       "      <td>115011.0</td>\n",
       "      <td>197077.0</td>\n",
       "      <td>394613.0</td>\n",
       "      <td>81568.0</td>\n",
       "      <td>MAIN</td>\n",
       "      <td>NaN</td>\n",
       "      <td>2018-07-28</td>\n",
       "      <td>NaN</td>\n",
       "      <td>Residential Electric WA</td>\n",
       "      <td>RESIDENTIAL</td>\n",
       "      <td>False</td>\n",
       "      <td>NaN</td>\n",
       "    </tr>\n",
       "    <tr>\n",
       "      <th>1</th>\n",
       "      <td>115011.0</td>\n",
       "      <td>197077.0</td>\n",
       "      <td>394613.0</td>\n",
       "      <td>226934.0</td>\n",
       "      <td>COTENANT</td>\n",
       "      <td>NaN</td>\n",
       "      <td>2018-07-28</td>\n",
       "      <td>NaN</td>\n",
       "      <td>Residential Electric WA</td>\n",
       "      <td>RESIDENTIAL</td>\n",
       "      <td>False</td>\n",
       "      <td>NaN</td>\n",
       "    </tr>\n",
       "    <tr>\n",
       "      <th>2</th>\n",
       "      <td>144240.0</td>\n",
       "      <td>103592.0</td>\n",
       "      <td>207601.0</td>\n",
       "      <td>39347.0</td>\n",
       "      <td>COTENANT</td>\n",
       "      <td>NaN</td>\n",
       "      <td>2018-07-25</td>\n",
       "      <td>2019-05-31</td>\n",
       "      <td>Residential Electric WA</td>\n",
       "      <td>RESIDENTIAL</td>\n",
       "      <td>False</td>\n",
       "      <td>NaN</td>\n",
       "    </tr>\n",
       "    <tr>\n",
       "      <th>3</th>\n",
       "      <td>144240.0</td>\n",
       "      <td>103592.0</td>\n",
       "      <td>207601.0</td>\n",
       "      <td>57810.0</td>\n",
       "      <td>MAIN</td>\n",
       "      <td>NaN</td>\n",
       "      <td>2018-07-25</td>\n",
       "      <td>2019-05-31</td>\n",
       "      <td>Residential Electric WA</td>\n",
       "      <td>RESIDENTIAL</td>\n",
       "      <td>False</td>\n",
       "      <td>NaN</td>\n",
       "    </tr>\n",
       "    <tr>\n",
       "      <th>4</th>\n",
       "      <td>83426.0</td>\n",
       "      <td>74182.0</td>\n",
       "      <td>148569.0</td>\n",
       "      <td>272447.0</td>\n",
       "      <td>MAIN</td>\n",
       "      <td>NaN</td>\n",
       "      <td>2018-07-22</td>\n",
       "      <td>2019-12-02</td>\n",
       "      <td>Residential Electric WA</td>\n",
       "      <td>RESIDENTIAL</td>\n",
       "      <td>True</td>\n",
       "      <td>NaN</td>\n",
       "    </tr>\n",
       "  </tbody>\n",
       "</table>\n",
       "</div>"
      ],
      "text/plain": [
       "   SPA_PREM_ID  SPA_ACCT_ID  spa_sa_id  SPA_PER_ID ACCT_REL_TYPE_CD  \\\n",
       "0     115011.0     197077.0   394613.0     81568.0             MAIN   \n",
       "1     115011.0     197077.0   394613.0    226934.0         COTENANT   \n",
       "2     144240.0     103592.0   207601.0     39347.0         COTENANT   \n",
       "3     144240.0     103592.0   207601.0     57810.0             MAIN   \n",
       "4      83426.0      74182.0   148569.0    272447.0             MAIN   \n",
       "\n",
       "  CMIS_MATCH    START_DT      END_DT            SA_TYPE_DESCR        Class  \\\n",
       "0        NaN  2018-07-28         NaN  Residential Electric WA  RESIDENTIAL   \n",
       "1        NaN  2018-07-28         NaN  Residential Electric WA  RESIDENTIAL   \n",
       "2        NaN  2018-07-25  2019-05-31  Residential Electric WA  RESIDENTIAL   \n",
       "3        NaN  2018-07-25  2019-05-31  Residential Electric WA  RESIDENTIAL   \n",
       "4        NaN  2018-07-22  2019-12-02  Residential Electric WA  RESIDENTIAL   \n",
       "\n",
       "   APARTMENT ENROLL_DATE  \n",
       "0      False         NaN  \n",
       "1      False         NaN  \n",
       "2      False         NaN  \n",
       "3      False         NaN  \n",
       "4       True         NaN  "
      ]
     },
     "execution_count": 64,
     "metadata": {},
     "output_type": "execute_result"
    }
   ],
   "source": [
    "sa = pd.read_csv(datapath+'ServiceAgreements_Anon.csv').\\\n",
    "    rename({'spa_prem_id':'SPA_PREM_ID', 'spa_acct_id':'SPA_ACCT_ID', 'spa_per_id':'SPA_PER_ID', 'homelessMatch':'CMIS_MATCH', 'EnrollDate':'ENROLL_DATE', 'apartment':'APARTMENT'}, axis=1)\n",
    "rows = len(sa)\n",
    "ppl = sa.SPA_PER_ID.nunique()\n",
    "accts = sa.SPA_ACCT_ID.nunique()\n",
    "pos_ppl = sa[sa.CMIS_MATCH == True].SPA_PER_ID.nunique()\n",
    "\n",
    "print(f'Rows: {rows}')\n",
    "print(f'People: {ppl}')\n",
    "print(f'Accounts: {accts}')\n",
    "print(f'Positive Cases: {pos_ppl}')\n",
    "sa.head()"
   ]
  },
  {
   "cell_type": "markdown",
   "metadata": {
    "heading_collapsed": true
   },
   "source": [
    "## Drop Unwanted Attributes, Reformat"
   ]
  },
  {
   "cell_type": "code",
   "execution_count": 65,
   "metadata": {
    "ExecuteTime": {
     "end_time": "2021-06-29T01:39:05.209980Z",
     "start_time": "2021-06-29T01:39:03.572923Z"
    },
    "hidden": true
   },
   "outputs": [],
   "source": [
    "sa = sa.drop(['spa_sa_id', 'START_DT', 'END_DT', 'SA_TYPE_DESCR', 'Class', 'APARTMENT'], axis=1)\n",
    "# Apartment attribute unreliable\n",
    "sa.CMIS_MATCH = sa.CMIS_MATCH.replace(to_replace=np.nan, value=False).astype('bool')\n",
    "sa.ENROLL_DATE = sa.ENROLL_DATE.apply(lambda x: preprocessing.date_map(date=x, relative_to='2015-12-01', format='yyyy-mm-dd'))\n",
    "sa = sa.drop_duplicates()"
   ]
  },
  {
   "cell_type": "markdown",
   "metadata": {},
   "source": [
    "## Multiple Enroll Dates\n",
    "Choose first - most interested in predicting first experience of homelessness"
   ]
  },
  {
   "cell_type": "code",
   "execution_count": 52,
   "metadata": {
    "ExecuteTime": {
     "end_time": "2021-06-29T01:32:35.521995Z",
     "start_time": "2021-06-29T01:32:35.063754Z"
    }
   },
   "outputs": [
    {
     "data": {
      "text/plain": [
       "1    441772\n",
       "2        91\n",
       "dtype: int64"
      ]
     },
     "execution_count": 52,
     "metadata": {},
     "output_type": "execute_result"
    }
   ],
   "source": [
    "sa.groupby(['SPA_PER_ID', 'SPA_PREM_ID', 'SPA_ACCT_ID']).size().value_counts()"
   ]
  },
  {
   "cell_type": "code",
   "execution_count": 53,
   "metadata": {
    "ExecuteTime": {
     "end_time": "2021-06-29T01:32:36.796451Z",
     "start_time": "2021-06-29T01:32:36.486554Z"
    }
   },
   "outputs": [
    {
     "data": {
      "text/plain": [
       "1    3031\n",
       "dtype: int64"
      ]
     },
     "execution_count": 53,
     "metadata": {},
     "output_type": "execute_result"
    }
   ],
   "source": [
    "sa.groupby(['SPA_PER_ID', 'SPA_PREM_ID', 'SPA_ACCT_ID', 'ENROLL_DATE']).size().value_counts()"
   ]
  },
  {
   "cell_type": "code",
   "execution_count": 66,
   "metadata": {
    "ExecuteTime": {
     "end_time": "2021-06-29T01:39:12.195812Z",
     "start_time": "2021-06-29T01:39:09.719519Z"
    }
   },
   "outputs": [
    {
     "data": {
      "text/plain": [
       "1    255\n",
       "2      2\n",
       "dtype: int64"
      ]
     },
     "execution_count": 66,
     "metadata": {},
     "output_type": "execute_result"
    }
   ],
   "source": [
    "min_enroll = sa.groupby(['SPA_PER_ID', 'SPA_PREM_ID', 'SPA_ACCT_ID']).ENROLL_DATE.min()\n",
    "sa = sa.set_index(['SPA_PER_ID', 'SPA_PREM_ID', 'SPA_ACCT_ID'])\n",
    "sa.ENROLL_DATE.update(min_enroll)\n",
    "sa = sa.drop_duplicates()\n",
    "sa.groupby(['SPA_PER_ID', 'SPA_PREM_ID', 'SPA_ACCT_ID']).size().value_counts()"
   ]
  },
  {
   "cell_type": "code",
   "execution_count": 67,
   "metadata": {
    "ExecuteTime": {
     "end_time": "2021-06-29T01:39:35.928951Z",
     "start_time": "2021-06-29T01:39:35.905031Z"
    }
   },
   "outputs": [
    {
     "data": {
      "text/plain": [
       "SPA_PER_ID  SPA_PREM_ID  SPA_ACCT_ID\n",
       "81568.0     115011.0     197077.0      NaN\n",
       "226934.0    115011.0     197077.0      NaN\n",
       "268593.0    142036.0     34033.0       NaN\n",
       "32373.0     25168.0      248139.0      NaN\n",
       "17409.0     76264.0      187659.0      NaN\n",
       "Name: ENROLL_DATE, dtype: float64"
      ]
     },
     "execution_count": 67,
     "metadata": {},
     "output_type": "execute_result"
    }
   ],
   "source": [
    "sa.ENROLL_DATE.head()"
   ]
  },
  {
   "cell_type": "code",
   "execution_count": 58,
   "metadata": {
    "ExecuteTime": {
     "end_time": "2021-06-29T01:36:40.555329Z",
     "start_time": "2021-06-29T01:36:40.486401Z"
    }
   },
   "outputs": [
    {
     "name": "stderr",
     "output_type": "stream",
     "text": [
      "C:\\Users\\Colin\\anaconda3\\lib\\site-packages\\pandas\\core\\generic.py:5494: SettingWithCopyWarning: \n",
      "A value is trying to be set on a copy of a slice from a DataFrame.\n",
      "Try using .loc[row_indexer,col_indexer] = value instead\n",
      "\n",
      "See the caveats in the documentation: https://pandas.pydata.org/pandas-docs/stable/user_guide/indexing.html#returning-a-view-versus-a-copy\n",
      "  self[name] = value\n"
     ]
    },
    {
     "data": {
      "text/html": [
       "<div>\n",
       "<style scoped>\n",
       "    .dataframe tbody tr th:only-of-type {\n",
       "        vertical-align: middle;\n",
       "    }\n",
       "\n",
       "    .dataframe tbody tr th {\n",
       "        vertical-align: top;\n",
       "    }\n",
       "\n",
       "    .dataframe thead th {\n",
       "        text-align: right;\n",
       "    }\n",
       "</style>\n",
       "<table border=\"1\" class=\"dataframe\">\n",
       "  <thead>\n",
       "    <tr style=\"text-align: right;\">\n",
       "      <th></th>\n",
       "      <th></th>\n",
       "      <th></th>\n",
       "      <th>ACCT_REL_TYPE_CD</th>\n",
       "      <th>CMIS_MATCH</th>\n",
       "      <th>ENROLL_DATE</th>\n",
       "    </tr>\n",
       "    <tr>\n",
       "      <th>SPA_PER_ID</th>\n",
       "      <th>SPA_PREM_ID</th>\n",
       "      <th>SPA_ACCT_ID</th>\n",
       "      <th></th>\n",
       "      <th></th>\n",
       "      <th></th>\n",
       "    </tr>\n",
       "  </thead>\n",
       "  <tbody>\n",
       "    <tr>\n",
       "      <th>81568.0</th>\n",
       "      <th>115011.0</th>\n",
       "      <th>197077.0</th>\n",
       "      <td>MAIN</td>\n",
       "      <td>False</td>\n",
       "      <td>1.0</td>\n",
       "    </tr>\n",
       "    <tr>\n",
       "      <th>226934.0</th>\n",
       "      <th>115011.0</th>\n",
       "      <th>197077.0</th>\n",
       "      <td>COTENANT</td>\n",
       "      <td>False</td>\n",
       "      <td>2.0</td>\n",
       "    </tr>\n",
       "  </tbody>\n",
       "</table>\n",
       "</div>"
      ],
      "text/plain": [
       "                                   ACCT_REL_TYPE_CD  CMIS_MATCH  ENROLL_DATE\n",
       "SPA_PER_ID SPA_PREM_ID SPA_ACCT_ID                                          \n",
       "81568.0    115011.0    197077.0                MAIN       False          1.0\n",
       "226934.0   115011.0    197077.0            COTENANT       False          2.0"
      ]
     },
     "execution_count": 58,
     "metadata": {},
     "output_type": "execute_result"
    }
   ],
   "source": [
    "first_2 = sa.iloc[:2]\n",
    "first_2.ENROLL_DATE = [1.0, 2.0]\n",
    "first_2"
   ]
  },
  {
   "cell_type": "code",
   "execution_count": 59,
   "metadata": {
    "ExecuteTime": {
     "end_time": "2021-06-29T01:37:28.466296Z",
     "start_time": "2021-06-29T01:37:26.869687Z"
    }
   },
   "outputs": [
    {
     "data": {
      "text/html": [
       "<div>\n",
       "<style scoped>\n",
       "    .dataframe tbody tr th:only-of-type {\n",
       "        vertical-align: middle;\n",
       "    }\n",
       "\n",
       "    .dataframe tbody tr th {\n",
       "        vertical-align: top;\n",
       "    }\n",
       "\n",
       "    .dataframe thead th {\n",
       "        text-align: right;\n",
       "    }\n",
       "</style>\n",
       "<table border=\"1\" class=\"dataframe\">\n",
       "  <thead>\n",
       "    <tr style=\"text-align: right;\">\n",
       "      <th></th>\n",
       "      <th></th>\n",
       "      <th></th>\n",
       "      <th>ACCT_REL_TYPE_CD</th>\n",
       "      <th>CMIS_MATCH</th>\n",
       "      <th>ENROLL_DATE</th>\n",
       "    </tr>\n",
       "    <tr>\n",
       "      <th>SPA_PER_ID</th>\n",
       "      <th>SPA_PREM_ID</th>\n",
       "      <th>SPA_ACCT_ID</th>\n",
       "      <th></th>\n",
       "      <th></th>\n",
       "      <th></th>\n",
       "    </tr>\n",
       "  </thead>\n",
       "  <tbody>\n",
       "    <tr>\n",
       "      <th>81568.0</th>\n",
       "      <th>115011.0</th>\n",
       "      <th>197077.0</th>\n",
       "      <td>MAIN</td>\n",
       "      <td>False</td>\n",
       "      <td>1.0</td>\n",
       "    </tr>\n",
       "    <tr>\n",
       "      <th>226934.0</th>\n",
       "      <th>115011.0</th>\n",
       "      <th>197077.0</th>\n",
       "      <td>COTENANT</td>\n",
       "      <td>False</td>\n",
       "      <td>2.0</td>\n",
       "    </tr>\n",
       "    <tr>\n",
       "      <th>39347.0</th>\n",
       "      <th>144240.0</th>\n",
       "      <th>103592.0</th>\n",
       "      <td>COTENANT</td>\n",
       "      <td>False</td>\n",
       "      <td>NaN</td>\n",
       "    </tr>\n",
       "    <tr>\n",
       "      <th>57810.0</th>\n",
       "      <th>144240.0</th>\n",
       "      <th>103592.0</th>\n",
       "      <td>MAIN</td>\n",
       "      <td>False</td>\n",
       "      <td>NaN</td>\n",
       "    </tr>\n",
       "    <tr>\n",
       "      <th>272447.0</th>\n",
       "      <th>83426.0</th>\n",
       "      <th>74182.0</th>\n",
       "      <td>MAIN</td>\n",
       "      <td>False</td>\n",
       "      <td>NaN</td>\n",
       "    </tr>\n",
       "  </tbody>\n",
       "</table>\n",
       "</div>"
      ],
      "text/plain": [
       "                                   ACCT_REL_TYPE_CD CMIS_MATCH  ENROLL_DATE\n",
       "SPA_PER_ID SPA_PREM_ID SPA_ACCT_ID                                         \n",
       "81568.0    115011.0    197077.0                MAIN      False          1.0\n",
       "226934.0   115011.0    197077.0            COTENANT      False          2.0\n",
       "39347.0    144240.0    103592.0            COTENANT      False          NaN\n",
       "57810.0    144240.0    103592.0                MAIN      False          NaN\n",
       "272447.0   83426.0     74182.0                 MAIN      False          NaN"
      ]
     },
     "execution_count": 59,
     "metadata": {},
     "output_type": "execute_result"
    }
   ],
   "source": [
    "sa.update(first_2)\n",
    "sa.head()"
   ]
  },
  {
   "cell_type": "markdown",
   "metadata": {},
   "source": [
    "# Geo Data - Avista"
   ]
  },
  {
   "cell_type": "code",
   "execution_count": 68,
   "metadata": {
    "ExecuteTime": {
     "end_time": "2021-06-29T01:53:06.377970Z",
     "start_time": "2021-06-29T01:53:06.103978Z"
    }
   },
   "outputs": [
    {
     "name": "stdout",
     "output_type": "stream",
     "text": [
      "Total Records: 155538\n",
      "Total Premises: 155538\n",
      "Contains NaN's: False\n"
     ]
    },
    {
     "data": {
      "text/html": [
       "<div>\n",
       "<style scoped>\n",
       "    .dataframe tbody tr th:only-of-type {\n",
       "        vertical-align: middle;\n",
       "    }\n",
       "\n",
       "    .dataframe tbody tr th {\n",
       "        vertical-align: top;\n",
       "    }\n",
       "\n",
       "    .dataframe thead th {\n",
       "        text-align: right;\n",
       "    }\n",
       "</style>\n",
       "<table border=\"1\" class=\"dataframe\">\n",
       "  <thead>\n",
       "    <tr style=\"text-align: right;\">\n",
       "      <th></th>\n",
       "      <th>SPA_PREM_ID</th>\n",
       "      <th>BLOCKGROUP_GEOID</th>\n",
       "      <th>POSTAL</th>\n",
       "    </tr>\n",
       "  </thead>\n",
       "  <tbody>\n",
       "    <tr>\n",
       "      <th>0</th>\n",
       "      <td>24381.0</td>\n",
       "      <td>530630112013</td>\n",
       "      <td>99208</td>\n",
       "    </tr>\n",
       "    <tr>\n",
       "      <th>1</th>\n",
       "      <td>71746.0</td>\n",
       "      <td>530630024001</td>\n",
       "      <td>99201</td>\n",
       "    </tr>\n",
       "    <tr>\n",
       "      <th>2</th>\n",
       "      <td>148291.0</td>\n",
       "      <td>530630024001</td>\n",
       "      <td>99201</td>\n",
       "    </tr>\n",
       "    <tr>\n",
       "      <th>3</th>\n",
       "      <td>142249.0</td>\n",
       "      <td>530630105032</td>\n",
       "      <td>99208</td>\n",
       "    </tr>\n",
       "    <tr>\n",
       "      <th>4</th>\n",
       "      <td>33506.0</td>\n",
       "      <td>530630106024</td>\n",
       "      <td>99208</td>\n",
       "    </tr>\n",
       "  </tbody>\n",
       "</table>\n",
       "</div>"
      ],
      "text/plain": [
       "   SPA_PREM_ID  BLOCKGROUP_GEOID  POSTAL\n",
       "0      24381.0      530630112013   99208\n",
       "1      71746.0      530630024001   99201\n",
       "2     148291.0      530630024001   99201\n",
       "3     142249.0      530630105032   99208\n",
       "4      33506.0      530630106024   99208"
      ]
     },
     "execution_count": 68,
     "metadata": {},
     "output_type": "execute_result"
    }
   ],
   "source": [
    "geo = pd.read_csv(datapath+'GeoData_Anon.csv').rename({'spa_prem_id':'SPA_PREM_ID'}, axis=1)\n",
    "\n",
    "geo = geo.drop([\"TRACT_GEOID\", \"BLOCKGROUP_GEOID_Data\"], axis=1).drop_duplicates()\n",
    "\n",
    "# NOTE: BLOCKGROUP_GEOID and BLOCKGROUP_GEOID_Data contain the same blockgroup number\n",
    "print(f'Total Records: {len(geo)}')\n",
    "print(f'Total Premises: {geo.SPA_PREM_ID.nunique()}')\n",
    "print(f\"Contains NaN's: {geo.isnull().any().any()}\")\n",
    "geo.head()"
   ]
  },
  {
   "cell_type": "code",
   "execution_count": 72,
   "metadata": {
    "ExecuteTime": {
     "end_time": "2021-06-29T01:55:45.842108Z",
     "start_time": "2021-06-29T01:55:44.311419Z"
    }
   },
   "outputs": [],
   "source": [
    "df = df.join(geo.set_index('SPA_PREM_ID'), on=['SPA_PREM_ID'], how='left')\n",
    "del geo"
   ]
  },
  {
   "cell_type": "markdown",
   "metadata": {},
   "source": [
    "# Multi-Family Dwellings"
   ]
  },
  {
   "cell_type": "code",
   "execution_count": 74,
   "metadata": {
    "ExecuteTime": {
     "end_time": "2021-06-29T01:57:11.776716Z",
     "start_time": "2021-06-29T01:57:11.672656Z"
    }
   },
   "outputs": [
    {
     "data": {
      "text/html": [
       "<div>\n",
       "<style scoped>\n",
       "    .dataframe tbody tr th:only-of-type {\n",
       "        vertical-align: middle;\n",
       "    }\n",
       "\n",
       "    .dataframe tbody tr th {\n",
       "        vertical-align: top;\n",
       "    }\n",
       "\n",
       "    .dataframe thead th {\n",
       "        text-align: right;\n",
       "    }\n",
       "</style>\n",
       "<table border=\"1\" class=\"dataframe\">\n",
       "  <thead>\n",
       "    <tr style=\"text-align: right;\">\n",
       "      <th></th>\n",
       "      <th>SPA_PREM_ID</th>\n",
       "      <th>MULTI_DWELL_ID</th>\n",
       "    </tr>\n",
       "  </thead>\n",
       "  <tbody>\n",
       "    <tr>\n",
       "      <th>0</th>\n",
       "      <td>92052</td>\n",
       "      <td>1</td>\n",
       "    </tr>\n",
       "    <tr>\n",
       "      <th>1</th>\n",
       "      <td>52062</td>\n",
       "      <td>1</td>\n",
       "    </tr>\n",
       "    <tr>\n",
       "      <th>2</th>\n",
       "      <td>74324</td>\n",
       "      <td>1</td>\n",
       "    </tr>\n",
       "    <tr>\n",
       "      <th>3</th>\n",
       "      <td>27282</td>\n",
       "      <td>1</td>\n",
       "    </tr>\n",
       "    <tr>\n",
       "      <th>4</th>\n",
       "      <td>21103</td>\n",
       "      <td>1</td>\n",
       "    </tr>\n",
       "  </tbody>\n",
       "</table>\n",
       "</div>"
      ],
      "text/plain": [
       "   SPA_PREM_ID  MULTI_DWELL_ID\n",
       "0        92052               1\n",
       "1        52062               1\n",
       "2        74324               1\n",
       "3        27282               1\n",
       "4        21103               1"
      ]
     },
     "execution_count": 74,
     "metadata": {},
     "output_type": "execute_result"
    }
   ],
   "source": [
    "dwellings = pd.read_csv(datapath+'MultiFamilyDwellingIDs_Anon.csv').rename({'spa_prem_id':'SPA_PREM_ID', 'multi_dwell_id':'MULTI_DWELL_ID'}, axis=1)\n",
    "dwellings.head()"
   ]
  },
  {
   "cell_type": "code",
   "execution_count": null,
   "metadata": {},
   "outputs": [],
   "source": [
    "df = df.join(dwellings.set_index('SPA_PREM_ID'), on=['SPA_PREM_ID'], how='left')\n",
    "del dwellings"
   ]
  },
  {
   "cell_type": "markdown",
   "metadata": {},
   "source": [
    "# Geo Data - Census\n",
    "Using data from 2015"
   ]
  },
  {
   "cell_type": "code",
   "execution_count": 76,
   "metadata": {
    "ExecuteTime": {
     "end_time": "2021-06-29T02:02:04.574991Z",
     "start_time": "2021-06-29T02:02:04.558004Z"
    }
   },
   "outputs": [],
   "source": [
    "sub_datapath = datapath+'CensusData/'\n",
    "match_col = 'BLOCKGROUP_GEOID'"
   ]
  },
  {
   "cell_type": "markdown",
   "metadata": {},
   "source": [
    "## Aggregate Income\n",
    "US Census Table: B19025"
   ]
  },
  {
   "cell_type": "code",
   "execution_count": 78,
   "metadata": {
    "ExecuteTime": {
     "end_time": "2021-06-29T02:02:20.864016Z",
     "start_time": "2021-06-29T02:02:20.838085Z"
    }
   },
   "outputs": [
    {
     "name": "stdout",
     "output_type": "stream",
     "text": [
      "GEO_ID         0\n",
      "NAME           0\n",
      "B19025_001E    1\n",
      "B19025_001M    1\n",
      "dtype: int64\n"
     ]
    },
    {
     "data": {
      "text/html": [
       "<div>\n",
       "<style scoped>\n",
       "    .dataframe tbody tr th:only-of-type {\n",
       "        vertical-align: middle;\n",
       "    }\n",
       "\n",
       "    .dataframe tbody tr th {\n",
       "        vertical-align: top;\n",
       "    }\n",
       "\n",
       "    .dataframe thead th {\n",
       "        text-align: right;\n",
       "    }\n",
       "</style>\n",
       "<table border=\"1\" class=\"dataframe\">\n",
       "  <thead>\n",
       "    <tr style=\"text-align: right;\">\n",
       "      <th></th>\n",
       "      <th>GEO_ID</th>\n",
       "      <th>NAME</th>\n",
       "      <th>B19025_001E</th>\n",
       "      <th>B19025_001M</th>\n",
       "    </tr>\n",
       "  </thead>\n",
       "  <tbody>\n",
       "    <tr>\n",
       "      <th>0</th>\n",
       "      <td>id</td>\n",
       "      <td>Geographic Area Name</td>\n",
       "      <td>Estimate!!Aggregate household income in the pa...</td>\n",
       "      <td>Margin of Error!!Aggregate household income in...</td>\n",
       "    </tr>\n",
       "    <tr>\n",
       "      <th>1</th>\n",
       "      <td>1500000US530630002001</td>\n",
       "      <td>Block Group 1, Census Tract 2, Spokane County,...</td>\n",
       "      <td>11310900</td>\n",
       "      <td>3953586</td>\n",
       "    </tr>\n",
       "    <tr>\n",
       "      <th>2</th>\n",
       "      <td>1500000US530630002002</td>\n",
       "      <td>Block Group 2, Census Tract 2, Spokane County,...</td>\n",
       "      <td>7976900</td>\n",
       "      <td>3043131</td>\n",
       "    </tr>\n",
       "    <tr>\n",
       "      <th>3</th>\n",
       "      <td>1500000US530630002003</td>\n",
       "      <td>Block Group 3, Census Tract 2, Spokane County,...</td>\n",
       "      <td>8076300</td>\n",
       "      <td>4173907</td>\n",
       "    </tr>\n",
       "    <tr>\n",
       "      <th>4</th>\n",
       "      <td>1500000US530630002004</td>\n",
       "      <td>Block Group 4, Census Tract 2, Spokane County,...</td>\n",
       "      <td>23570500</td>\n",
       "      <td>7029237</td>\n",
       "    </tr>\n",
       "  </tbody>\n",
       "</table>\n",
       "</div>"
      ],
      "text/plain": [
       "                  GEO_ID                                               NAME  \\\n",
       "0                     id                               Geographic Area Name   \n",
       "1  1500000US530630002001  Block Group 1, Census Tract 2, Spokane County,...   \n",
       "2  1500000US530630002002  Block Group 2, Census Tract 2, Spokane County,...   \n",
       "3  1500000US530630002003  Block Group 3, Census Tract 2, Spokane County,...   \n",
       "4  1500000US530630002004  Block Group 4, Census Tract 2, Spokane County,...   \n",
       "\n",
       "                                         B19025_001E  \\\n",
       "0  Estimate!!Aggregate household income in the pa...   \n",
       "1                                           11310900   \n",
       "2                                            7976900   \n",
       "3                                            8076300   \n",
       "4                                           23570500   \n",
       "\n",
       "                                         B19025_001M  \n",
       "0  Margin of Error!!Aggregate household income in...  \n",
       "1                                            3953586  \n",
       "2                                            3043131  \n",
       "3                                            4173907  \n",
       "4                                            7029237  "
      ]
     },
     "execution_count": 78,
     "metadata": {},
     "output_type": "execute_result"
    }
   ],
   "source": [
    "agg_income = pd.read_csv(sub_datapath+'AggIncome/ACSDT5Y2015.B19025_data_with_overlays_2021-04-18T191340.csv')\n",
    "print(agg_income.isnull().sum())\n",
    "agg_income.head()"
   ]
  },
  {
   "cell_type": "code",
   "execution_count": 79,
   "metadata": {
    "ExecuteTime": {
     "end_time": "2021-06-29T02:03:58.229200Z",
     "start_time": "2021-06-29T02:03:56.939139Z"
    }
   },
   "outputs": [],
   "source": [
    "agg_income.drop(0, axis=0, inplace=True)\n",
    "newcol = \"AGG_INCOME_GEO\"\n",
    "agg_income.rename({\"B19025_001E\":newcol}, axis=1, inplace=True)\n",
    "\n",
    "agg_income[match_col] = agg_income[\"GEO_ID\"].map(preprocessing.geoid_map).astype('int64')\n",
    "agg_income.set_index(match_col, inplace=True)\n",
    "\n",
    "df = df.join(agg_income[newcol], how='left', on=match_col)\n",
    "\n",
    "del agg_income"
   ]
  },
  {
   "cell_type": "markdown",
   "metadata": {},
   "source": [
    "## Earnings\n",
    "US Census Table: B19051"
   ]
  },
  {
   "cell_type": "code",
   "execution_count": 80,
   "metadata": {
    "ExecuteTime": {
     "end_time": "2021-06-29T02:05:24.109348Z",
     "start_time": "2021-06-29T02:05:24.069427Z"
    }
   },
   "outputs": [
    {
     "name": "stdout",
     "output_type": "stream",
     "text": [
      "GEO_ID         0\n",
      "NAME           0\n",
      "B19051_001E    0\n",
      "B19051_001M    0\n",
      "B19051_002E    0\n",
      "B19051_002M    0\n",
      "B19051_003E    0\n",
      "B19051_003M    0\n",
      "dtype: int64\n"
     ]
    },
    {
     "data": {
      "text/html": [
       "<div>\n",
       "<style scoped>\n",
       "    .dataframe tbody tr th:only-of-type {\n",
       "        vertical-align: middle;\n",
       "    }\n",
       "\n",
       "    .dataframe tbody tr th {\n",
       "        vertical-align: top;\n",
       "    }\n",
       "\n",
       "    .dataframe thead th {\n",
       "        text-align: right;\n",
       "    }\n",
       "</style>\n",
       "<table border=\"1\" class=\"dataframe\">\n",
       "  <thead>\n",
       "    <tr style=\"text-align: right;\">\n",
       "      <th></th>\n",
       "      <th>GEO_ID</th>\n",
       "      <th>NAME</th>\n",
       "      <th>B19051_001E</th>\n",
       "      <th>B19051_001M</th>\n",
       "      <th>B19051_002E</th>\n",
       "      <th>B19051_002M</th>\n",
       "      <th>B19051_003E</th>\n",
       "      <th>B19051_003M</th>\n",
       "    </tr>\n",
       "  </thead>\n",
       "  <tbody>\n",
       "    <tr>\n",
       "      <th>0</th>\n",
       "      <td>id</td>\n",
       "      <td>Geographic Area Name</td>\n",
       "      <td>Estimate!!Total</td>\n",
       "      <td>Margin of Error!!Total</td>\n",
       "      <td>Estimate!!Total!!With earnings</td>\n",
       "      <td>Margin of Error!!Total!!With earnings</td>\n",
       "      <td>Estimate!!Total!!No earnings</td>\n",
       "      <td>Margin of Error!!Total!!No earnings</td>\n",
       "    </tr>\n",
       "    <tr>\n",
       "      <th>1</th>\n",
       "      <td>1500000US530630002001</td>\n",
       "      <td>Block Group 1, Census Tract 2, Spokane County,...</td>\n",
       "      <td>330</td>\n",
       "      <td>73</td>\n",
       "      <td>255</td>\n",
       "      <td>76</td>\n",
       "      <td>75</td>\n",
       "      <td>34</td>\n",
       "    </tr>\n",
       "    <tr>\n",
       "      <th>2</th>\n",
       "      <td>1500000US530630002002</td>\n",
       "      <td>Block Group 2, Census Tract 2, Spokane County,...</td>\n",
       "      <td>325</td>\n",
       "      <td>94</td>\n",
       "      <td>110</td>\n",
       "      <td>60</td>\n",
       "      <td>215</td>\n",
       "      <td>74</td>\n",
       "    </tr>\n",
       "    <tr>\n",
       "      <th>3</th>\n",
       "      <td>1500000US530630002003</td>\n",
       "      <td>Block Group 3, Census Tract 2, Spokane County,...</td>\n",
       "      <td>270</td>\n",
       "      <td>87</td>\n",
       "      <td>177</td>\n",
       "      <td>83</td>\n",
       "      <td>93</td>\n",
       "      <td>43</td>\n",
       "    </tr>\n",
       "    <tr>\n",
       "      <th>4</th>\n",
       "      <td>1500000US530630002004</td>\n",
       "      <td>Block Group 4, Census Tract 2, Spokane County,...</td>\n",
       "      <td>417</td>\n",
       "      <td>90</td>\n",
       "      <td>351</td>\n",
       "      <td>90</td>\n",
       "      <td>66</td>\n",
       "      <td>34</td>\n",
       "    </tr>\n",
       "  </tbody>\n",
       "</table>\n",
       "</div>"
      ],
      "text/plain": [
       "                  GEO_ID                                               NAME  \\\n",
       "0                     id                               Geographic Area Name   \n",
       "1  1500000US530630002001  Block Group 1, Census Tract 2, Spokane County,...   \n",
       "2  1500000US530630002002  Block Group 2, Census Tract 2, Spokane County,...   \n",
       "3  1500000US530630002003  Block Group 3, Census Tract 2, Spokane County,...   \n",
       "4  1500000US530630002004  Block Group 4, Census Tract 2, Spokane County,...   \n",
       "\n",
       "       B19051_001E             B19051_001M                     B19051_002E  \\\n",
       "0  Estimate!!Total  Margin of Error!!Total  Estimate!!Total!!With earnings   \n",
       "1              330                      73                             255   \n",
       "2              325                      94                             110   \n",
       "3              270                      87                             177   \n",
       "4              417                      90                             351   \n",
       "\n",
       "                             B19051_002M                   B19051_003E  \\\n",
       "0  Margin of Error!!Total!!With earnings  Estimate!!Total!!No earnings   \n",
       "1                                     76                            75   \n",
       "2                                     60                           215   \n",
       "3                                     83                            93   \n",
       "4                                     90                            66   \n",
       "\n",
       "                           B19051_003M  \n",
       "0  Margin of Error!!Total!!No earnings  \n",
       "1                                   34  \n",
       "2                                   74  \n",
       "3                                   43  \n",
       "4                                   34  "
      ]
     },
     "execution_count": 80,
     "metadata": {},
     "output_type": "execute_result"
    }
   ],
   "source": [
    "earnings = pd.read_csv(sub_datapath+'Earnings/ACSDT5Y2015.B19051_data_with_overlays_2021-04-12T234426.csv')\n",
    "print(earnings.isnull().sum())\n",
    "earnings.head()"
   ]
  },
  {
   "cell_type": "code",
   "execution_count": 83,
   "metadata": {
    "ExecuteTime": {
     "end_time": "2021-06-29T02:06:11.549068Z",
     "start_time": "2021-06-29T02:06:10.386946Z"
    }
   },
   "outputs": [],
   "source": [
    "earnings = earnings.drop(0, axis=0)\n",
    "newcol = \"NO_EARNINGS_GEO\"\n",
    "earnings[newcol] = earnings[\"B19051_003E\"].astype('float') / earnings[\"B19051_001E\"].astype('float')\n",
    "earnings[match_col] = earnings[\"GEO_ID\"].map(preprocessing.geoid_map).astype(\"int64\")\n",
    "earnings = earnings.set_index(match_col)\n",
    "\n",
    "df = df.join(earnings[newcol], how='left', on=match_col)\n",
    "del earnings"
   ]
  },
  {
   "cell_type": "markdown",
   "metadata": {},
   "source": [
    "## Poverty\n",
    "US Census Table B17021"
   ]
  },
  {
   "cell_type": "code",
   "execution_count": 84,
   "metadata": {
    "ExecuteTime": {
     "end_time": "2021-06-29T02:06:54.302365Z",
     "start_time": "2021-06-29T02:06:54.245401Z"
    }
   },
   "outputs": [
    {
     "name": "stdout",
     "output_type": "stream",
     "text": [
      "False\n"
     ]
    },
    {
     "data": {
      "text/html": [
       "<div>\n",
       "<style scoped>\n",
       "    .dataframe tbody tr th:only-of-type {\n",
       "        vertical-align: middle;\n",
       "    }\n",
       "\n",
       "    .dataframe tbody tr th {\n",
       "        vertical-align: top;\n",
       "    }\n",
       "\n",
       "    .dataframe thead th {\n",
       "        text-align: right;\n",
       "    }\n",
       "</style>\n",
       "<table border=\"1\" class=\"dataframe\">\n",
       "  <thead>\n",
       "    <tr style=\"text-align: right;\">\n",
       "      <th></th>\n",
       "      <th>GEO_ID</th>\n",
       "      <th>NAME</th>\n",
       "      <th>B17021_001E</th>\n",
       "      <th>B17021_001M</th>\n",
       "      <th>B17021_002E</th>\n",
       "      <th>B17021_002M</th>\n",
       "      <th>B17021_003E</th>\n",
       "      <th>B17021_003M</th>\n",
       "      <th>B17021_004E</th>\n",
       "      <th>B17021_004M</th>\n",
       "      <th>...</th>\n",
       "      <th>B17021_031E</th>\n",
       "      <th>B17021_031M</th>\n",
       "      <th>B17021_032E</th>\n",
       "      <th>B17021_032M</th>\n",
       "      <th>B17021_033E</th>\n",
       "      <th>B17021_033M</th>\n",
       "      <th>B17021_034E</th>\n",
       "      <th>B17021_034M</th>\n",
       "      <th>B17021_035E</th>\n",
       "      <th>B17021_035M</th>\n",
       "    </tr>\n",
       "  </thead>\n",
       "  <tbody>\n",
       "    <tr>\n",
       "      <th>0</th>\n",
       "      <td>id</td>\n",
       "      <td>Geographic Area Name</td>\n",
       "      <td>Estimate!!Total</td>\n",
       "      <td>Margin of Error!!Total</td>\n",
       "      <td>Estimate!!Total!!Income in the past 12 months ...</td>\n",
       "      <td>Margin of Error!!Total!!Income in the past 12 ...</td>\n",
       "      <td>Estimate!!Total!!Income in the past 12 months ...</td>\n",
       "      <td>Margin of Error!!Total!!Income in the past 12 ...</td>\n",
       "      <td>Estimate!!Total!!Income in the past 12 months ...</td>\n",
       "      <td>Margin of Error!!Total!!Income in the past 12 ...</td>\n",
       "      <td>...</td>\n",
       "      <td>Estimate!!Total!!Income in the past 12 months ...</td>\n",
       "      <td>Margin of Error!!Total!!Income in the past 12 ...</td>\n",
       "      <td>Estimate!!Total!!Income in the past 12 months ...</td>\n",
       "      <td>Margin of Error!!Total!!Income in the past 12 ...</td>\n",
       "      <td>Estimate!!Total!!Income in the past 12 months ...</td>\n",
       "      <td>Margin of Error!!Total!!Income in the past 12 ...</td>\n",
       "      <td>Estimate!!Total!!Income in the past 12 months ...</td>\n",
       "      <td>Margin of Error!!Total!!Income in the past 12 ...</td>\n",
       "      <td>Estimate!!Total!!Income in the past 12 months ...</td>\n",
       "      <td>Margin of Error!!Total!!Income in the past 12 ...</td>\n",
       "    </tr>\n",
       "    <tr>\n",
       "      <th>1</th>\n",
       "      <td>1500000US530630002001</td>\n",
       "      <td>Block Group 1, Census Tract 2, Spokane County,...</td>\n",
       "      <td>928</td>\n",
       "      <td>257</td>\n",
       "      <td>475</td>\n",
       "      <td>229</td>\n",
       "      <td>429</td>\n",
       "      <td>230</td>\n",
       "      <td>140</td>\n",
       "      <td>205</td>\n",
       "      <td>...</td>\n",
       "      <td>72</td>\n",
       "      <td>50</td>\n",
       "      <td>72</td>\n",
       "      <td>50</td>\n",
       "      <td>72</td>\n",
       "      <td>50</td>\n",
       "      <td>0</td>\n",
       "      <td>12</td>\n",
       "      <td>0</td>\n",
       "      <td>12</td>\n",
       "    </tr>\n",
       "    <tr>\n",
       "      <th>2</th>\n",
       "      <td>1500000US530630002002</td>\n",
       "      <td>Block Group 2, Census Tract 2, Spokane County,...</td>\n",
       "      <td>566</td>\n",
       "      <td>211</td>\n",
       "      <td>290</td>\n",
       "      <td>160</td>\n",
       "      <td>194</td>\n",
       "      <td>143</td>\n",
       "      <td>65</td>\n",
       "      <td>76</td>\n",
       "      <td>...</td>\n",
       "      <td>137</td>\n",
       "      <td>68</td>\n",
       "      <td>116</td>\n",
       "      <td>57</td>\n",
       "      <td>116</td>\n",
       "      <td>57</td>\n",
       "      <td>0</td>\n",
       "      <td>12</td>\n",
       "      <td>21</td>\n",
       "      <td>33</td>\n",
       "    </tr>\n",
       "    <tr>\n",
       "      <th>3</th>\n",
       "      <td>1500000US530630002003</td>\n",
       "      <td>Block Group 3, Census Tract 2, Spokane County,...</td>\n",
       "      <td>582</td>\n",
       "      <td>186</td>\n",
       "      <td>197</td>\n",
       "      <td>96</td>\n",
       "      <td>74</td>\n",
       "      <td>49</td>\n",
       "      <td>19</td>\n",
       "      <td>31</td>\n",
       "      <td>...</td>\n",
       "      <td>164</td>\n",
       "      <td>151</td>\n",
       "      <td>89</td>\n",
       "      <td>80</td>\n",
       "      <td>23</td>\n",
       "      <td>38</td>\n",
       "      <td>66</td>\n",
       "      <td>70</td>\n",
       "      <td>75</td>\n",
       "      <td>77</td>\n",
       "    </tr>\n",
       "    <tr>\n",
       "      <th>4</th>\n",
       "      <td>1500000US530630002004</td>\n",
       "      <td>Block Group 4, Census Tract 2, Spokane County,...</td>\n",
       "      <td>1035</td>\n",
       "      <td>325</td>\n",
       "      <td>198</td>\n",
       "      <td>142</td>\n",
       "      <td>161</td>\n",
       "      <td>142</td>\n",
       "      <td>0</td>\n",
       "      <td>12</td>\n",
       "      <td>...</td>\n",
       "      <td>205</td>\n",
       "      <td>137</td>\n",
       "      <td>143</td>\n",
       "      <td>73</td>\n",
       "      <td>111</td>\n",
       "      <td>69</td>\n",
       "      <td>32</td>\n",
       "      <td>41</td>\n",
       "      <td>62</td>\n",
       "      <td>90</td>\n",
       "    </tr>\n",
       "  </tbody>\n",
       "</table>\n",
       "<p>5 rows × 72 columns</p>\n",
       "</div>"
      ],
      "text/plain": [
       "                  GEO_ID                                               NAME  \\\n",
       "0                     id                               Geographic Area Name   \n",
       "1  1500000US530630002001  Block Group 1, Census Tract 2, Spokane County,...   \n",
       "2  1500000US530630002002  Block Group 2, Census Tract 2, Spokane County,...   \n",
       "3  1500000US530630002003  Block Group 3, Census Tract 2, Spokane County,...   \n",
       "4  1500000US530630002004  Block Group 4, Census Tract 2, Spokane County,...   \n",
       "\n",
       "       B17021_001E             B17021_001M  \\\n",
       "0  Estimate!!Total  Margin of Error!!Total   \n",
       "1              928                     257   \n",
       "2              566                     211   \n",
       "3              582                     186   \n",
       "4             1035                     325   \n",
       "\n",
       "                                         B17021_002E  \\\n",
       "0  Estimate!!Total!!Income in the past 12 months ...   \n",
       "1                                                475   \n",
       "2                                                290   \n",
       "3                                                197   \n",
       "4                                                198   \n",
       "\n",
       "                                         B17021_002M  \\\n",
       "0  Margin of Error!!Total!!Income in the past 12 ...   \n",
       "1                                                229   \n",
       "2                                                160   \n",
       "3                                                 96   \n",
       "4                                                142   \n",
       "\n",
       "                                         B17021_003E  \\\n",
       "0  Estimate!!Total!!Income in the past 12 months ...   \n",
       "1                                                429   \n",
       "2                                                194   \n",
       "3                                                 74   \n",
       "4                                                161   \n",
       "\n",
       "                                         B17021_003M  \\\n",
       "0  Margin of Error!!Total!!Income in the past 12 ...   \n",
       "1                                                230   \n",
       "2                                                143   \n",
       "3                                                 49   \n",
       "4                                                142   \n",
       "\n",
       "                                         B17021_004E  \\\n",
       "0  Estimate!!Total!!Income in the past 12 months ...   \n",
       "1                                                140   \n",
       "2                                                 65   \n",
       "3                                                 19   \n",
       "4                                                  0   \n",
       "\n",
       "                                         B17021_004M  ...  \\\n",
       "0  Margin of Error!!Total!!Income in the past 12 ...  ...   \n",
       "1                                                205  ...   \n",
       "2                                                 76  ...   \n",
       "3                                                 31  ...   \n",
       "4                                                 12  ...   \n",
       "\n",
       "                                         B17021_031E  \\\n",
       "0  Estimate!!Total!!Income in the past 12 months ...   \n",
       "1                                                 72   \n",
       "2                                                137   \n",
       "3                                                164   \n",
       "4                                                205   \n",
       "\n",
       "                                         B17021_031M  \\\n",
       "0  Margin of Error!!Total!!Income in the past 12 ...   \n",
       "1                                                 50   \n",
       "2                                                 68   \n",
       "3                                                151   \n",
       "4                                                137   \n",
       "\n",
       "                                         B17021_032E  \\\n",
       "0  Estimate!!Total!!Income in the past 12 months ...   \n",
       "1                                                 72   \n",
       "2                                                116   \n",
       "3                                                 89   \n",
       "4                                                143   \n",
       "\n",
       "                                         B17021_032M  \\\n",
       "0  Margin of Error!!Total!!Income in the past 12 ...   \n",
       "1                                                 50   \n",
       "2                                                 57   \n",
       "3                                                 80   \n",
       "4                                                 73   \n",
       "\n",
       "                                         B17021_033E  \\\n",
       "0  Estimate!!Total!!Income in the past 12 months ...   \n",
       "1                                                 72   \n",
       "2                                                116   \n",
       "3                                                 23   \n",
       "4                                                111   \n",
       "\n",
       "                                         B17021_033M  \\\n",
       "0  Margin of Error!!Total!!Income in the past 12 ...   \n",
       "1                                                 50   \n",
       "2                                                 57   \n",
       "3                                                 38   \n",
       "4                                                 69   \n",
       "\n",
       "                                         B17021_034E  \\\n",
       "0  Estimate!!Total!!Income in the past 12 months ...   \n",
       "1                                                  0   \n",
       "2                                                  0   \n",
       "3                                                 66   \n",
       "4                                                 32   \n",
       "\n",
       "                                         B17021_034M  \\\n",
       "0  Margin of Error!!Total!!Income in the past 12 ...   \n",
       "1                                                 12   \n",
       "2                                                 12   \n",
       "3                                                 70   \n",
       "4                                                 41   \n",
       "\n",
       "                                         B17021_035E  \\\n",
       "0  Estimate!!Total!!Income in the past 12 months ...   \n",
       "1                                                  0   \n",
       "2                                                 21   \n",
       "3                                                 75   \n",
       "4                                                 62   \n",
       "\n",
       "                                         B17021_035M  \n",
       "0  Margin of Error!!Total!!Income in the past 12 ...  \n",
       "1                                                 12  \n",
       "2                                                 33  \n",
       "3                                                 77  \n",
       "4                                                 90  \n",
       "\n",
       "[5 rows x 72 columns]"
      ]
     },
     "execution_count": 84,
     "metadata": {},
     "output_type": "execute_result"
    }
   ],
   "source": [
    "poverty = pd.read_csv(sub_datapath+'Poverty/ACSDT5Y2015.B17021_data_with_overlays_2021-04-12T234708.csv')\n",
    "print(poverty.isnull().any().any())\n",
    "poverty.head()"
   ]
  },
  {
   "cell_type": "code",
   "execution_count": null,
   "metadata": {},
   "outputs": [],
   "source": []
  },
  {
   "cell_type": "markdown",
   "metadata": {},
   "source": [
    "# Get Processing Stats and Save"
   ]
  },
  {
   "cell_type": "markdown",
   "metadata": {},
   "source": [
    "## Save Pickle"
   ]
  },
  {
   "cell_type": "code",
   "execution_count": 35,
   "metadata": {},
   "outputs": [],
   "source": [
    "'''\n",
    "filename = 'processed.pickle'\n",
    "outfile = open(datapath+filename, 'wb')\n",
    "pickle.dump(df, outfile)\n",
    "outfile.close()\n",
    "'''"
   ]
  },
  {
   "cell_type": "markdown",
   "metadata": {},
   "source": [
    "## Check Numbers Retained"
   ]
  },
  {
   "cell_type": "code",
   "execution_count": 36,
   "metadata": {},
   "outputs": [
    {
     "name": "stdout",
     "output_type": "stream",
     "text": [
      "Retained 3810352 = 99.71918948611938% of rows.\n",
      "Retained 98054 = 100.0% of P Cases.\n"
     ]
    }
   ],
   "source": [
    "retained_rows = len(df)\n",
    "retained_accts = df.SPA_ACCT_ID.nunique()\n",
    "\n",
    "print(f'Retained {retained_rows} = {100*retained_rows/rows}% of rows.')\n",
    "print(f'Retained {retained_accts} = {100*retained_accts/accts}% of P Cases.')"
   ]
  },
  {
   "cell_type": "markdown",
   "metadata": {},
   "source": [
    "## Total Time"
   ]
  },
  {
   "cell_type": "code",
   "execution_count": 37,
   "metadata": {},
   "outputs": [
    {
     "name": "stdout",
     "output_type": "stream",
     "text": [
      "Total Time in Seconds: 49.36093735694885\n"
     ]
    }
   ],
   "source": [
    "print(f'Total Time in Seconds: {time.time()-startTime}')"
   ]
  }
 ],
 "metadata": {
  "interpreter": {
   "hash": "55dc2ef33d481be31a5c00b42f248808e4edd8b163c72100e3df152a03ba29f1"
  },
  "kernelspec": {
   "display_name": "Python 3",
   "language": "python",
   "name": "python3"
  },
  "language_info": {
   "codemirror_mode": {
    "name": "ipython",
    "version": 3
   },
   "file_extension": ".py",
   "mimetype": "text/x-python",
   "name": "python",
   "nbconvert_exporter": "python",
   "pygments_lexer": "ipython3",
   "version": "3.8.8"
  },
  "metadata": {
   "interpreter": {
    "hash": "55dc2ef33d481be31a5c00b42f248808e4edd8b163c72100e3df152a03ba29f1"
   }
  },
  "varInspector": {
   "cols": {
    "lenName": 16,
    "lenType": 16,
    "lenVar": 40
   },
   "kernels_config": {
    "python": {
     "delete_cmd_postfix": "",
     "delete_cmd_prefix": "del ",
     "library": "var_list.py",
     "varRefreshCmd": "print(var_dic_list())"
    },
    "r": {
     "delete_cmd_postfix": ") ",
     "delete_cmd_prefix": "rm(",
     "library": "var_list.r",
     "varRefreshCmd": "cat(var_dic_list()) "
    }
   },
   "types_to_exclude": [
    "module",
    "function",
    "builtin_function_or_method",
    "instance",
    "_Feature"
   ],
   "window_display": false
  }
 },
 "nbformat": 4,
 "nbformat_minor": 2
}
