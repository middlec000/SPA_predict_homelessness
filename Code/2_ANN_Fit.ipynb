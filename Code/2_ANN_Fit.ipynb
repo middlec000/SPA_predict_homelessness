{
 "cells": [
  {
   "cell_type": "markdown",
   "id": "3348e562",
   "metadata": {},
   "source": [
    "# Setup"
   ]
  },
  {
   "cell_type": "code",
   "execution_count": 1,
   "id": "d4007339",
   "metadata": {
    "ExecuteTime": {
     "end_time": "2021-07-17T00:48:52.950267Z",
     "start_time": "2021-07-17T00:48:52.943285Z"
    }
   },
   "outputs": [],
   "source": [
    "import pandas as pd\n",
    "import numpy as np\n",
    "import tensorflow as tf\n",
    "import pickle\n",
    "import time\n",
    "from sklearn.preprocessing import StandardScaler\n",
    "\n",
    "from custom_methods import model_eval\n",
    "\n",
    "datapath = '../Data/'\n",
    "\n",
    "startTime = time.time()"
   ]
  },
  {
   "cell_type": "code",
   "execution_count": 2,
   "id": "705a4ca9",
   "metadata": {
    "ExecuteTime": {
     "end_time": "2021-07-16T22:09:38.129402Z",
     "start_time": "2021-07-16T22:09:37.829600Z"
    }
   },
   "outputs": [
    {
     "name": "stdout",
     "output_type": "stream",
     "text": [
      "<class 'numpy.ndarray'>\n",
      "Format: [num_data_objects, max_sequence_length, num_vars]\n",
      "\n",
      "X\n",
      "[[0.0000e+00 0.0000e+00 0.0000e+00 ... 0.0000e+00 0.0000e+00 0.0000e+00]\n",
      " [0.0000e+00 0.0000e+00 0.0000e+00 ... 0.0000e+00 0.0000e+00 0.0000e+00]\n",
      " [0.0000e+00 0.0000e+00 0.0000e+00 ... 0.0000e+00 0.0000e+00 0.0000e+00]\n",
      " ...\n",
      " [0.0000e+00 0.0000e+00 0.0000e+00 ... 1.0000e+00 2.0000e+00 5.2212e+04]\n",
      " [0.0000e+00 0.0000e+00 0.0000e+00 ... 1.0000e+00 2.0000e+00 5.2212e+04]\n",
      " [0.0000e+00 0.0000e+00 0.0000e+00 ... 1.0000e+00 2.0000e+00 5.2212e+04]]\n",
      "\n",
      "Y\n",
      "['10001-114314' False]\n"
     ]
    }
   ],
   "source": [
    "filename = 'ann_ready.pickle'\n",
    "infile = open(datapath+filename,'rb')\n",
    "data = pickle.load(infile)\n",
    "X = data['X']\n",
    "Y = data['Y']\n",
    "infile.close()\n",
    "\n",
    "print(type(X))\n",
    "print('Format: [num_data_objects, max_sequence_length, num_vars]')\n",
    "print('\\nX')\n",
    "print(X[1])\n",
    "print('\\nY')\n",
    "print(Y[1])"
   ]
  },
  {
   "cell_type": "markdown",
   "id": "82dccbff-739d-4681-a42b-c32190251965",
   "metadata": {},
   "source": [
    "## Split Training, Testing (To Remove)"
   ]
  },
  {
   "cell_type": "code",
   "execution_count": 3,
   "id": "53a5b1cc-4d33-44be-ab95-40f5345d6d6e",
   "metadata": {},
   "outputs": [
    {
     "data": {
      "text/plain": [
       "\"\\nscalers = {}\\nfor i in range(X.shape[1]):\\n    scalers[i] = StandardScaler()\\n    X[:, i, :] = scalers[i].fit_transform(X[:, i, :])\\n\\nTEST_FRAC = 1/3\\n\\n# Split Train/Test sets\\ndf_train, df_test = model_eval.split_on_people(df, id_col=id_col, test_frac=TEST_FRAC)\\n\\n# Split X and Y\\nX_train = df_train.drop('CMIS_MATCH', axis=1)\\nY_train = df_train[['CMIS_MATCH', id_col]].groupby(id_col).first()\\n\\nX_test = df_test.drop('CMIS_MATCH', axis=1)\\nY_test = df_test[['CMIS_MATCH', id_col]].groupby(id_col).first()\\n\""
      ]
     },
     "execution_count": 3,
     "metadata": {},
     "output_type": "execute_result"
    }
   ],
   "source": [
    "'''\n",
    "scalers = {}\n",
    "for i in range(X.shape[1]):\n",
    "    scalers[i] = StandardScaler()\n",
    "    X[:, i, :] = scalers[i].fit_transform(X[:, i, :])\n",
    "\n",
    "TEST_FRAC = 1/3\n",
    "\n",
    "# Split Train/Test sets\n",
    "df_train, df_test = model_eval.split_on_people(df, id_col=id_col, test_frac=TEST_FRAC)\n",
    "\n",
    "# Split X and Y\n",
    "X_train = df_train.drop('CMIS_MATCH', axis=1)\n",
    "Y_train = df_train[['CMIS_MATCH', id_col]].groupby(id_col).first()\n",
    "\n",
    "X_test = df_test.drop('CMIS_MATCH', axis=1)\n",
    "Y_test = df_test[['CMIS_MATCH', id_col]].groupby(id_col).first()\n",
    "'''"
   ]
  },
  {
   "cell_type": "markdown",
   "id": "f2323b38",
   "metadata": {},
   "source": [
    "# Model"
   ]
  },
  {
   "cell_type": "markdown",
   "id": "d507e400-44c8-44e3-aa97-1a2434d5bfed",
   "metadata": {},
   "source": [
    "## TODO: Set Initial Bias"
   ]
  },
  {
   "cell_type": "markdown",
   "id": "7a8c4807-55b4-463a-bec4-9ef00c7eba9d",
   "metadata": {},
   "source": [
    "## Build Model"
   ]
  },
  {
   "cell_type": "code",
   "execution_count": 4,
   "id": "997ca1d8",
   "metadata": {
    "ExecuteTime": {
     "end_time": "2021-07-16T22:09:39.563239Z",
     "start_time": "2021-07-16T22:09:39.315023Z"
    }
   },
   "outputs": [
    {
     "name": "stdout",
     "output_type": "stream",
     "text": [
      "Model: \"sequential\"\n",
      "_________________________________________________________________\n",
      "Layer (type)                 Output Shape              Param #   \n",
      "=================================================================\n",
      "dense (Dense)                (None, 59, 64)            1152      \n",
      "_________________________________________________________________\n",
      "dense_1 (Dense)              (None, 59, 32)            2080      \n",
      "_________________________________________________________________\n",
      "dense_2 (Dense)              (None, 59, 1)             33        \n",
      "=================================================================\n",
      "Total params: 3,265\n",
      "Trainable params: 3,265\n",
      "Non-trainable params: 0\n",
      "_________________________________________________________________\n",
      "None\n"
     ]
    }
   ],
   "source": [
    "from keras.callbacks import EarlyStopping\n",
    "from keras.models import Sequential\n",
    "from keras.layers import Dense, SpatialDropout1D\n",
    "from keras.callbacks import EarlyStopping\n",
    "\n",
    "early_stopping= EarlyStopping(\n",
    "    monitor='loss',\n",
    "    min_delta=0.001,\n",
    "    patience=2,\n",
    "    restore_best_weights=True\n",
    ")\n",
    "\n",
    "model = Sequential()\n",
    "\n",
    "# Create input layer + 1st hidden layer\n",
    "# TODO: add scaling to input layer instead of data preprocessing\n",
    "model.add(\n",
    "    Dense(\n",
    "        units = 64,\n",
    "        input_shape = (X.shape[1], X.shape[2]),\n",
    "        activation='relu'\n",
    "    )\n",
    ")\n",
    "\n",
    "# Create 2nd hidden layer\n",
    "model.add(\n",
    "    Dense(\n",
    "        units = 32, \n",
    "        activation='relu', \n",
    "    )\n",
    ")\n",
    "\n",
    "# Create output layer\n",
    "model.add(\n",
    "    Dense(\n",
    "        units = 1, \n",
    "        activation='sigmoid', \n",
    "    )\n",
    ")\n",
    "\n",
    "# Compile ANN\n",
    "model.compile(\n",
    "    optimizer='adam', \n",
    "    loss='binary_crossentropy', \n",
    "    metrics=['accuracy']\n",
    ")\n",
    "\n",
    "# Print model summary\n",
    "print(model.summary())"
   ]
  },
  {
   "cell_type": "markdown",
   "id": "e7f24288-3ff4-45a8-bf25-d16b8131894d",
   "metadata": {},
   "source": [
    "## K-Folds"
   ]
  },
  {
   "cell_type": "code",
   "execution_count": 5,
   "id": "9aa86961-855b-4365-ba9b-84fc55b6caa8",
   "metadata": {},
   "outputs": [
    {
     "data": {
      "text/plain": [
       "'\\n\\nn = 50\\n\\nX_sample = X[:n].copy()\\n# Y_sample = Y[:10].copy().reset_index().values\\nY_sample = Y[:n].copy()\\n\\nY_sample[:3]\\n'"
      ]
     },
     "execution_count": 5,
     "metadata": {},
     "output_type": "execute_result"
    }
   ],
   "source": [
    "'''\n",
    "\n",
    "n = 50\n",
    "\n",
    "X_sample = X[:n].copy()\n",
    "# Y_sample = Y[:10].copy().reset_index().values\n",
    "Y_sample = Y[:n].copy()\n",
    "\n",
    "Y_sample[:3]\n",
    "'''"
   ]
  },
  {
   "cell_type": "code",
   "execution_count": 8,
   "id": "d7e777d7-4e8d-4876-8eb4-953e7bd5585c",
   "metadata": {},
   "outputs": [],
   "source": [
    "def k_folds_ann(model, model_params:dict, x:np.ndarray, y:np.ndarray, num_folds:int, scale_axis:int, scaler):\n",
    "    '''\n",
    "    09/10/21\n",
    "    Data Format: [num_data_objects, max_sequence_length, num_vars]\n",
    "    Note: axis count begins at 0\n",
    "    '''\n",
    "    import copy\n",
    "    \n",
    "    models = [None]*num_folds\n",
    "    scalers = np.reshape([None]*num_folds*x.shape[2], (num_folds,x.shape[2]))\n",
    "    class_weights = [None]*num_folds\n",
    "    predictions = pd.DataFrame(columns=['ID', 'CMIS_MATCH', 'prediction'])\n",
    "    \n",
    "    shuffled_index = np.arange(x.shape[0])\n",
    "    np.random.shuffle(shuffled_index)\n",
    "    num_per_fold = int(np.round(len(shuffled_index)/num_folds))\n",
    "    \n",
    "    for fold in range(num_folds):\n",
    "        \n",
    "        # Find Data Splits\n",
    "        if fold != num_folds - 1:\n",
    "            fold_test_index = shuffled_index[fold*num_per_fold: (fold+1)*num_per_fold]\n",
    "        else:\n",
    "            fold_test_index = shuffled_index[fold*num_per_fold:]\n",
    "        fold_train_index = [z for z in shuffled_index if z not in fold_test_index]\n",
    "       \n",
    "        x_train = x[fold_train_index].copy()\n",
    "        y_train = y[fold_train_index].copy()\n",
    "        x_test = x[fold_train_index].copy()\n",
    "        y_test = y[fold_train_index].copy()\n",
    "        \n",
    "        # CLass Weight\n",
    "        pos = int(y_train[:,1].sum())\n",
    "        if pos == 0:\n",
    "            pos = 1\n",
    "        total = len(y_train)\n",
    "        neg = total - pos\n",
    "\n",
    "        weight_for_0 = (1 / neg) * (total / 2.0)\n",
    "        weight_for_1 = (1 / pos) * (total / 2.0)\n",
    "        class_weights[fold] = {0.0:weight_for_0, 1.0:weight_for_1}\n",
    "        \n",
    "        # Scaling\n",
    "        for var in range(X.shape[2]):\n",
    "            scalers[fold, var] = copy.copy(scaler)\n",
    "            x_train[:, :, var] = scalers[fold, var].fit_transform(x_train[:, :, var])\n",
    "            x_test[:, :, var] = scalers[fold, var].transform(x_test[:, :, var])\n",
    "        \n",
    "        # Create (Copy of) Model\n",
    "        models[fold] = tf.keras.models.clone_model(model)\n",
    "            \n",
    "        # Compile Model\n",
    "        models[fold].compile(\n",
    "            optimizer = model_params['OPTIMIZER'], \n",
    "            loss = model_params['LOSS'], \n",
    "            metrics = model_params['METRICS']\n",
    "        )\n",
    "        \n",
    "        # Fit model\n",
    "        models[fold].fit(\n",
    "            x = tf.convert_to_tensor(x_train, np.float32),\n",
    "            y = tf.convert_to_tensor(y_train[:,1], np.float32), \n",
    "            batch_size = model_params['BATCH_SIZE'], \n",
    "            epochs = model_params['EPOCHS'],\n",
    "            class_weight = class_weights[fold],\n",
    "            callbacks = model_params['CALLBACKS'],\n",
    "            verbose = model_params['VERBOSITY'],\n",
    "        )\n",
    "        \n",
    "        # Make Predictions for Fold\n",
    "        fold_predictions = models[fold].predict(x=tf.convert_to_tensor(x_test, np.float32))\n",
    "        try:\n",
    "            fold_predictions = pd.concat(\n",
    "                [\n",
    "                    pd.Series(y_test[:,0], name='ID'), \n",
    "                    pd.Series(y_test[:,1], name='CMIS_MATCH'), \n",
    "                    pd.Series(np.transpose(fold_predictions)[0], name='prediction')\n",
    "                ], \n",
    "                axis=1, \n",
    "                join='inner',\n",
    "                ignore_index=False\n",
    "            )\n",
    "        except:\n",
    "            print(fold_predictions[:2])\n",
    "            return\n",
    "        \n",
    "        predictions = predictions.append(fold_predictions)\n",
    "        \n",
    "    # Aggregate things to return\n",
    "    results = {'models':models, 'scalers':scalers, 'class_weights':class_weights, 'predictions':predictions}\n",
    "    \n",
    "    return results"
   ]
  },
  {
   "cell_type": "markdown",
   "id": "c4b7a0c8-c9d5-4a36-80d2-0c6a66abce37",
   "metadata": {},
   "source": [
    "## Run"
   ]
  },
  {
   "cell_type": "code",
   "execution_count": 9,
   "id": "1ed82221-0b0c-4b2e-9696-b9b35d725cc0",
   "metadata": {},
   "outputs": [
    {
     "name": "stdout",
     "output_type": "stream",
     "text": [
      "[[[0.48216754]\n",
      "  [0.46457064]\n",
      "  [0.46434337]\n",
      "  [0.47049972]\n",
      "  [0.4548512 ]\n",
      "  [0.4515954 ]\n",
      "  [0.44615895]\n",
      "  [0.44503668]\n",
      "  [0.43597454]\n",
      "  [0.43122956]\n",
      "  [0.42315102]\n",
      "  [0.41749558]\n",
      "  [0.4091851 ]\n",
      "  [0.4064115 ]\n",
      "  [0.40172604]\n",
      "  [0.40275282]\n",
      "  [0.39038762]\n",
      "  [0.38466597]\n",
      "  [0.38085762]\n",
      "  [0.37503627]\n",
      "  [0.36560294]\n",
      "  [0.35896286]\n",
      "  [0.35047138]\n",
      "  [0.34663132]\n",
      "  [0.3384894 ]\n",
      "  [0.3366785 ]\n",
      "  [0.33131748]\n",
      "  [0.32901925]\n",
      "  [0.3221467 ]\n",
      "  [0.3163021 ]\n",
      "  [0.3103571 ]\n",
      "  [0.30435425]\n",
      "  [0.2990538 ]\n",
      "  [0.29273546]\n",
      "  [0.29017347]\n",
      "  [0.28450269]\n",
      "  [0.27453363]\n",
      "  [0.26829067]\n",
      "  [0.2631693 ]\n",
      "  [0.2561535 ]\n",
      "  [0.2512868 ]\n",
      "  [0.24284253]\n",
      "  [0.23550475]\n",
      "  [0.22848684]\n",
      "  [0.21950468]\n",
      "  [0.21108648]\n",
      "  [0.20028341]\n",
      "  [0.19162926]\n",
      "  [0.18390629]\n",
      "  [0.18015644]\n",
      "  [0.17231244]\n",
      "  [0.15748665]\n",
      "  [0.14471573]\n",
      "  [0.12876353]\n",
      "  [0.11275852]\n",
      "  [0.09345707]\n",
      "  [0.43915868]\n",
      "  [0.44869986]\n",
      "  [0.8001285 ]]\n",
      "\n",
      " [[0.5941407 ]\n",
      "  [0.5692766 ]\n",
      "  [0.5703401 ]\n",
      "  [0.58034104]\n",
      "  [0.5666581 ]\n",
      "  [0.72834706]\n",
      "  [0.32295722]\n",
      "  [0.5737685 ]\n",
      "  [0.56257224]\n",
      "  [0.56260675]\n",
      "  [0.5655383 ]\n",
      "  [0.5480413 ]\n",
      "  [0.5617237 ]\n",
      "  [0.5695106 ]\n",
      "  [0.5475728 ]\n",
      "  [0.5489977 ]\n",
      "  [0.8155303 ]\n",
      "  [0.50446874]\n",
      "  [0.52015173]\n",
      "  [0.5702757 ]\n",
      "  [0.56944185]\n",
      "  [0.5684446 ]\n",
      "  [0.54998547]\n",
      "  [0.49705872]\n",
      "  [0.49920186]\n",
      "  [0.6143934 ]\n",
      "  [0.46884075]\n",
      "  [0.48298296]\n",
      "  [0.4626426 ]\n",
      "  [0.44999403]\n",
      "  [0.44219127]\n",
      "  [0.49983948]\n",
      "  [0.5069652 ]\n",
      "  [0.51302254]\n",
      "  [0.44146624]\n",
      "  [0.42254686]\n",
      "  [0.39543778]\n",
      "  [0.3866497 ]\n",
      "  [0.38069224]\n",
      "  [0.37888134]\n",
      "  [0.36553794]\n",
      "  [0.34650934]\n",
      "  [0.34188563]\n",
      "  [0.36027837]\n",
      "  [0.35828304]\n",
      "  [0.354388  ]\n",
      "  [0.33776176]\n",
      "  [0.32292098]\n",
      "  [0.32695854]\n",
      "  [0.38611737]\n",
      "  [0.9473369 ]\n",
      "  [0.38448274]\n",
      "  [0.36873046]\n",
      "  [0.36763337]\n",
      "  [0.36358985]\n",
      "  [0.37287503]\n",
      "  [0.52520186]\n",
      "  [0.41453415]\n",
      "  [0.43983635]]]\n"
     ]
    }
   ],
   "source": [
    "NUM_FOLDS = 4\n",
    "\n",
    "model_params = {\n",
    "    'OPTIMIZER':'adam', \n",
    "    'LOSS':'binary_crossentropy', \n",
    "    'METRICS':['accuracy'],\n",
    "    #'CLASS_WEIGHT':class_weight,\n",
    "    'BATCH_SIZE':1,\n",
    "    'EPOCHS':5,\n",
    "    'CALLBACKS':[early_stopping],\n",
    "    'VERBOSITY':0\n",
    "    }\n",
    "\n",
    "results = k_folds_ann(model=model, model_params=model_params, x=X, y=Y, num_folds=NUM_FOLDS, scale_axis=2, scaler=StandardScaler())"
   ]
  },
  {
   "cell_type": "code",
   "execution_count": null,
   "id": "102f2c6a-18b2-40b2-8471-60898c500751",
   "metadata": {},
   "outputs": [],
   "source": [
    "print(len(results['predictions']))\n",
    "results['predictions'].head()"
   ]
  },
  {
   "cell_type": "markdown",
   "id": "7de18302-d34f-4bb3-8e35-28557b886ee7",
   "metadata": {},
   "source": [
    "# Convert Predictions\n",
    "* Take maximum risk prediction for each person.  \n",
    "* If person is labelled as both positive and negative, label them as positive."
   ]
  },
  {
   "cell_type": "code",
   "execution_count": null,
   "id": "f3318efe-7006-459b-bc64-ac5b97416f0f",
   "metadata": {},
   "outputs": [],
   "source": [
    "predictions = results['predictions'].copy()\n",
    "predictions['SPA_PER_ID'] = predictions['ID'].apply(lambda x: x.split('-')[0])\n",
    "\n",
    "matches = predictions.groupby('SPA_PER_ID')['CMIS_MATCH'].any()\n",
    "predictions = pd.concat([predictions.groupby('SPA_PER_ID')['prediction'].max(), matches], axis=1, join='inner', ignore_index=False)\n",
    "predictions = predictions.reset_index()\n",
    "del matches\n",
    "\n",
    "predictions.head()"
   ]
  },
  {
   "cell_type": "markdown",
   "id": "3dbe3950",
   "metadata": {},
   "source": [
    "# Time and Save"
   ]
  },
  {
   "cell_type": "code",
   "execution_count": null,
   "id": "bd785dfb-5eb0-4cea-8fb7-42eeeb755c14",
   "metadata": {},
   "outputs": [],
   "source": [
    "filename = 'ann_predictions.pickle'\n",
    "outfile = open(datapath + filename, 'wb')\n",
    "pickle.dump(predictions, outfile)\n",
    "outfile.close()"
   ]
  },
  {
   "cell_type": "code",
   "execution_count": null,
   "id": "af3d80c0",
   "metadata": {},
   "outputs": [],
   "source": [
    "from custom_methods.calc_time import calc_time_from_sec\n",
    "\n",
    "calc_time_from_sec(time.time()-startTime)"
   ]
  }
 ],
 "metadata": {
  "kernelspec": {
   "display_name": "Python 3",
   "language": "python",
   "name": "python3"
  },
  "language_info": {
   "codemirror_mode": {
    "name": "ipython",
    "version": 3
   },
   "file_extension": ".py",
   "mimetype": "text/x-python",
   "name": "python",
   "nbconvert_exporter": "python",
   "pygments_lexer": "ipython3",
   "version": "3.8.8"
  },
  "varInspector": {
   "cols": {
    "lenName": 16,
    "lenType": 16,
    "lenVar": 40
   },
   "kernels_config": {
    "python": {
     "delete_cmd_postfix": "",
     "delete_cmd_prefix": "del ",
     "library": "var_list.py",
     "varRefreshCmd": "print(var_dic_list())"
    },
    "r": {
     "delete_cmd_postfix": ") ",
     "delete_cmd_prefix": "rm(",
     "library": "var_list.r",
     "varRefreshCmd": "cat(var_dic_list()) "
    }
   },
   "types_to_exclude": [
    "module",
    "function",
    "builtin_function_or_method",
    "instance",
    "_Feature"
   ],
   "window_display": false
  }
 },
 "nbformat": 4,
 "nbformat_minor": 5
}
