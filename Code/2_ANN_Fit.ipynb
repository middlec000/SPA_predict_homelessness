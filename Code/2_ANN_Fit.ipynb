{
 "cells": [
  {
   "cell_type": "markdown",
   "id": "3348e562",
   "metadata": {},
   "source": [
    "# Setup"
   ]
  },
  {
   "cell_type": "code",
   "execution_count": 1,
   "id": "d4007339",
   "metadata": {
    "ExecuteTime": {
     "end_time": "2021-07-17T00:48:52.950267Z",
     "start_time": "2021-07-17T00:48:52.943285Z"
    }
   },
   "outputs": [
    {
     "data": {
      "text/plain": [
       "'2.4.0'"
      ]
     },
     "execution_count": 1,
     "metadata": {},
     "output_type": "execute_result"
    }
   ],
   "source": [
    "import pandas as pd\n",
    "import numpy as np\n",
    "import pickle\n",
    "import time\n",
    "from sklearn.preprocessing import StandardScaler\n",
    "from copy import deepcopy\n",
    "\n",
    "# ANN \n",
    "import tensorflow as tf\n",
    "from tensorflow.keras.callbacks import EarlyStopping\n",
    "from tensorflow.keras.models import Sequential\n",
    "from tensorflow.keras.layers import Dense, Reshape\n",
    "from tensorflow.keras import Input\n",
    "from tensorflow.keras.initializers import Constant\n",
    "\n",
    "from custom_methods import model_eval\n",
    "\n",
    "datapath = '../Data/'\n",
    "\n",
    "startTime = time.time()\n",
    "\n",
    "tf.keras.__version__"
   ]
  },
  {
   "cell_type": "markdown",
   "id": "fca62a14-e547-4313-9df2-91c237e82571",
   "metadata": {},
   "source": [
    "## Import Data"
   ]
  },
  {
   "cell_type": "code",
   "execution_count": 2,
   "id": "705a4ca9",
   "metadata": {
    "ExecuteTime": {
     "end_time": "2021-07-16T22:09:38.129402Z",
     "start_time": "2021-07-16T22:09:37.829600Z"
    }
   },
   "outputs": [
    {
     "data": {
      "text/plain": [
       "(85217, 59, 17)"
      ]
     },
     "execution_count": 2,
     "metadata": {},
     "output_type": "execute_result"
    }
   ],
   "source": [
    "filename = 'ann_ready.pickle'\n",
    "infile = open(datapath+filename,'rb')\n",
    "data = pickle.load(infile)\n",
    "X = data['X']\n",
    "Y = data['Y']\n",
    "infile.close()\n",
    "\n",
    "X.shape"
   ]
  },
  {
   "cell_type": "markdown",
   "id": "9a6e4bb3-ef50-46ea-98bc-81f89fb18d7c",
   "metadata": {},
   "source": [
    "## Take subset of data"
   ]
  },
  {
   "cell_type": "code",
   "execution_count": 3,
   "id": "8bd03b69-e027-4287-a0ca-5526e72f6931",
   "metadata": {},
   "outputs": [
    {
     "name": "stdout",
     "output_type": "stream",
     "text": [
      "Format: (num_data_objects, max_sequence_length, num_vars) = (85217, 59, 17)\n",
      "\n",
      "X: shape = (85217, 59, 17)\n",
      "[[0. 0. 0. 0. 0.]\n",
      " [0. 0. 0. 0. 0.]\n",
      " [0. 0. 0. 0. 0.]]\n",
      "\n",
      "Y: shape = (85217, 2)\n",
      "['10001-114314' False]\n"
     ]
    }
   ],
   "source": [
    "NUM_PEOPLE = 85217\n",
    "NUM_TIMESTEPS = 59\n",
    "NUM_VARS = X.shape[2]\n",
    "\n",
    "X = X[:NUM_PEOPLE, -NUM_TIMESTEPS:, :]\n",
    "Y = Y[:NUM_PEOPLE, :]\n",
    "\n",
    "# Print info\n",
    "print(f'Format: (num_data_objects, max_sequence_length, num_vars) = {X.shape}')\n",
    "print(f'\\nX: shape = {X.shape}')\n",
    "print(X[1, :3, :5])\n",
    "print(f'\\nY: shape = {Y.shape}')\n",
    "print(Y[1])"
   ]
  },
  {
   "cell_type": "markdown",
   "id": "f2323b38",
   "metadata": {},
   "source": [
    "# Model"
   ]
  },
  {
   "cell_type": "markdown",
   "id": "1410005a-90af-47a7-8300-8dd33984ad23",
   "metadata": {},
   "source": [
    "## Parameters"
   ]
  },
  {
   "cell_type": "code",
   "execution_count": 4,
   "id": "9cba632f-e2d1-4f50-9d59-612f2197d34e",
   "metadata": {},
   "outputs": [],
   "source": [
    "early_stopping = EarlyStopping(\n",
    "    monitor='loss',\n",
    "    min_delta=0.001,\n",
    "    patience=2,\n",
    "    restore_best_weights=True\n",
    ")\n",
    "\n",
    "model_params = {\n",
    "    'OPTIMIZER':'adam', \n",
    "    'LOSS':'binary_crossentropy', \n",
    "    'METRICS':['binary_crossentropy'],\n",
    "    #'CLASS_WEIGHT':class_weight,\n",
    "    'BATCH_SIZE':500,\n",
    "    'EPOCHS':1000,\n",
    "    'CALLBACKS':[early_stopping],\n",
    "    'VERBOSITY':0\n",
    "}"
   ]
  },
  {
   "cell_type": "markdown",
   "id": "a80e0b9e-c61c-432e-8209-b8b4ea781787",
   "metadata": {},
   "source": [
    "## Model Structure"
   ]
  },
  {
   "cell_type": "code",
   "execution_count": 5,
   "id": "997ca1d8",
   "metadata": {
    "ExecuteTime": {
     "end_time": "2021-07-16T22:09:39.563239Z",
     "start_time": "2021-07-16T22:09:39.315023Z"
    }
   },
   "outputs": [],
   "source": [
    "def make_model(x_shape, model_params, output_bias=None):\n",
    "    if output_bias is not None:\n",
    "        output_bias = Constant(output_bias)\n",
    "        \n",
    "    model = Sequential()\n",
    "\n",
    "    model.add(Input(shape = (x_shape[1], x_shape[2])))\n",
    "\n",
    "    # Reshape data\n",
    "    model.add(Reshape(target_shape=(x_shape[2], x_shape[1],)))\n",
    "\n",
    "    # Create 1st hidden layer\n",
    "    model.add(Dense(units=1, activation='relu'))\n",
    "\n",
    "    # Create reshape layer\n",
    "    model.add(Reshape(target_shape=(X.shape[2],)))\n",
    "\n",
    "    # Create 2nd Hidden Layer\n",
    "    model.add(Dense(units=64, activation='relu'))\n",
    "\n",
    "    # Create output layer\n",
    "    model.add(Dense(units=1, activation='sigmoid', bias_initializer=output_bias))\n",
    "\n",
    "    # Compile ANN\n",
    "    model.compile(\n",
    "        optimizer=model_params['OPTIMIZER'], \n",
    "        loss=model_params['LOSS'], \n",
    "        metrics=model_params['METRICS']\n",
    "    )\n",
    "\n",
    "    return model"
   ]
  },
  {
   "cell_type": "code",
   "execution_count": 6,
   "id": "b26cf01e-b38f-4369-84b8-f15cc9028c73",
   "metadata": {},
   "outputs": [
    {
     "name": "stdout",
     "output_type": "stream",
     "text": [
      "Model: \"sequential\"\n",
      "_________________________________________________________________\n",
      "Layer (type)                 Output Shape              Param #   \n",
      "=================================================================\n",
      "reshape (Reshape)            (None, 17, 59)            0         \n",
      "_________________________________________________________________\n",
      "dense (Dense)                (None, 17, 1)             60        \n",
      "_________________________________________________________________\n",
      "reshape_1 (Reshape)          (None, 17)                0         \n",
      "_________________________________________________________________\n",
      "dense_1 (Dense)              (None, 64)                1152      \n",
      "_________________________________________________________________\n",
      "dense_2 (Dense)              (None, 1)                 65        \n",
      "=================================================================\n",
      "Total params: 1,277\n",
      "Trainable params: 1,277\n",
      "Non-trainable params: 0\n",
      "_________________________________________________________________\n"
     ]
    }
   ],
   "source": [
    "make_model(x_shape=X.shape, model_params=model_params).summary()"
   ]
  },
  {
   "cell_type": "markdown",
   "id": "e7f24288-3ff4-45a8-bf25-d16b8131894d",
   "metadata": {},
   "source": [
    "## K-Folds Method"
   ]
  },
  {
   "cell_type": "code",
   "execution_count": 7,
   "id": "d7e777d7-4e8d-4876-8eb4-953e7bd5585c",
   "metadata": {},
   "outputs": [],
   "source": [
    "def k_folds_ann(model_params:dict, x:np.ndarray, y:np.ndarray, num_folds:int, scale_axis:int, scaler):\n",
    "    '''\n",
    "    11/16/21\n",
    "    Data Format: [num_data_objects, max_sequence_length, num_vars]\n",
    "    Note: axis count begins at 0\n",
    "    '''\n",
    "    \n",
    "    models = [None]*num_folds\n",
    "    scalers = np.reshape([None]*num_folds*x.shape[2], (num_folds,x.shape[2]))\n",
    "    class_weights = [None]*num_folds\n",
    "    predictions = pd.DataFrame(columns=['ID', 'CMIS_MATCH', 'prediction'])\n",
    "    \n",
    "    shuffled_index = np.arange(x.shape[0])\n",
    "    np.random.shuffle(shuffled_index)\n",
    "    num_per_fold = int(np.round(len(shuffled_index)/num_folds))\n",
    "    \n",
    "    for fold in range(num_folds):\n",
    "        \n",
    "        # Find Data Splits\n",
    "        if fold != num_folds - 1:\n",
    "            fold_test_index = shuffled_index[fold*num_per_fold: (fold+1)*num_per_fold]\n",
    "        else:\n",
    "            fold_test_index = shuffled_index[fold*num_per_fold:]\n",
    "        fold_train_index = [z for z in shuffled_index if z not in fold_test_index]\n",
    "       \n",
    "        x_train = x[fold_train_index].copy()\n",
    "        y_train = y[fold_train_index].copy()\n",
    "        x_test = x[fold_test_index].copy()\n",
    "        y_test = y[fold_test_index].copy()\n",
    "        \n",
    "        # CLass Weight\n",
    "        pos = int(y_train[:,1].sum())\n",
    "        if pos == 0:\n",
    "            pos = 1\n",
    "        total = len(y_train)\n",
    "        neg = total - pos\n",
    "\n",
    "        weight_for_0 = (1 / neg) * (total / 2.0)\n",
    "        weight_for_1 = (1 / pos) * (total / 2.0)\n",
    "        class_weights[fold] = {0.0:weight_for_0, 1.0:weight_for_1}\n",
    "        \n",
    "        # Initial Output Bias\n",
    "        output_bias = np.log([pos/neg])\n",
    "        \n",
    "        # Scaling\n",
    "        for var in range(X.shape[2]):\n",
    "            scalers[fold, var] = deepcopy(scaler)\n",
    "            x_train[:, :, var] = scalers[fold, var].fit_transform(x_train[:, :, var])\n",
    "            x_test[:, :, var] = scalers[fold, var].transform(x_test[:, :, var])\n",
    "        \n",
    "        # Create and Compile new Fold Model\n",
    "        models[fold] = make_model(\n",
    "            x_shape = x_train.shape,\n",
    "            model_params = model_params,\n",
    "            output_bias = output_bias\n",
    "        )\n",
    "        \n",
    "        # Fit model\n",
    "        models[fold].fit(\n",
    "            x = tf.convert_to_tensor(x_train, np.float32),\n",
    "            y = tf.convert_to_tensor(y_train[:,1], np.float32), \n",
    "            batch_size = model_params['BATCH_SIZE'], \n",
    "            epochs = model_params['EPOCHS'],\n",
    "            class_weight = class_weights[fold],\n",
    "            callbacks = model_params['CALLBACKS'],\n",
    "            verbose = model_params['VERBOSITY'],\n",
    "        )\n",
    "        \n",
    "        # Make Predictions for Fold\n",
    "        fold_predictions = models[fold].predict(x=tf.convert_to_tensor(x_test, np.float32))\n",
    "        try:\n",
    "            fold_predictions = pd.concat(\n",
    "                [\n",
    "                    pd.Series(y_test[:,0], name='ID'), \n",
    "                    pd.Series(y_test[:,1], name='CMIS_MATCH'), \n",
    "                    pd.Series(np.transpose(fold_predictions)[0], name='prediction')\n",
    "                ], \n",
    "                axis=1, \n",
    "                join='inner',\n",
    "                ignore_index=False\n",
    "            )\n",
    "        except:\n",
    "            print(fold_predictions[:2])\n",
    "            return\n",
    "        \n",
    "        predictions = predictions.append(fold_predictions)\n",
    "        \n",
    "    # Aggregate things to return\n",
    "    results = {'models':models, 'scalers':scalers, 'class_weights':class_weights, 'predictions':predictions}\n",
    "    \n",
    "    return results"
   ]
  },
  {
   "cell_type": "markdown",
   "id": "c4b7a0c8-c9d5-4a36-80d2-0c6a66abce37",
   "metadata": {},
   "source": [
    "# Run K-Folds"
   ]
  },
  {
   "cell_type": "code",
   "execution_count": 8,
   "id": "1ed82221-0b0c-4b2e-9696-b9b35d725cc0",
   "metadata": {},
   "outputs": [],
   "source": [
    "NUM_FOLDS = 4\n",
    "\n",
    "results = k_folds_ann(\n",
    "    model_params=model_params, \n",
    "    x=X, \n",
    "    y=Y, \n",
    "    num_folds=NUM_FOLDS, \n",
    "    scale_axis=2, \n",
    "    scaler=StandardScaler()\n",
    ")"
   ]
  },
  {
   "cell_type": "code",
   "execution_count": 9,
   "id": "102f2c6a-18b2-40b2-8471-60898c500751",
   "metadata": {},
   "outputs": [
    {
     "name": "stdout",
     "output_type": "stream",
     "text": [
      "85217\n"
     ]
    },
    {
     "data": {
      "text/html": [
       "<div>\n",
       "<style scoped>\n",
       "    .dataframe tbody tr th:only-of-type {\n",
       "        vertical-align: middle;\n",
       "    }\n",
       "\n",
       "    .dataframe tbody tr th {\n",
       "        vertical-align: top;\n",
       "    }\n",
       "\n",
       "    .dataframe thead th {\n",
       "        text-align: right;\n",
       "    }\n",
       "</style>\n",
       "<table border=\"1\" class=\"dataframe\">\n",
       "  <thead>\n",
       "    <tr style=\"text-align: right;\">\n",
       "      <th></th>\n",
       "      <th>ID</th>\n",
       "      <th>CMIS_MATCH</th>\n",
       "      <th>prediction</th>\n",
       "    </tr>\n",
       "  </thead>\n",
       "  <tbody>\n",
       "    <tr>\n",
       "      <th>0</th>\n",
       "      <td>203611-27568</td>\n",
       "      <td>False</td>\n",
       "      <td>0.486543</td>\n",
       "    </tr>\n",
       "    <tr>\n",
       "      <th>1</th>\n",
       "      <td>294114-66211</td>\n",
       "      <td>False</td>\n",
       "      <td>0.527877</td>\n",
       "    </tr>\n",
       "    <tr>\n",
       "      <th>2</th>\n",
       "      <td>30850-77594</td>\n",
       "      <td>False</td>\n",
       "      <td>0.408230</td>\n",
       "    </tr>\n",
       "    <tr>\n",
       "      <th>3</th>\n",
       "      <td>59958-5134</td>\n",
       "      <td>False</td>\n",
       "      <td>0.557167</td>\n",
       "    </tr>\n",
       "    <tr>\n",
       "      <th>4</th>\n",
       "      <td>198580-6434</td>\n",
       "      <td>False</td>\n",
       "      <td>0.395066</td>\n",
       "    </tr>\n",
       "  </tbody>\n",
       "</table>\n",
       "</div>"
      ],
      "text/plain": [
       "             ID CMIS_MATCH  prediction\n",
       "0  203611-27568      False    0.486543\n",
       "1  294114-66211      False    0.527877\n",
       "2   30850-77594      False    0.408230\n",
       "3    59958-5134      False    0.557167\n",
       "4   198580-6434      False    0.395066"
      ]
     },
     "execution_count": 9,
     "metadata": {},
     "output_type": "execute_result"
    }
   ],
   "source": [
    "print(len(results['predictions']))\n",
    "results['predictions'].head()"
   ]
  },
  {
   "cell_type": "code",
   "execution_count": 10,
   "id": "1c0e12b8-5a3d-4011-8e14-0714e7c22b03",
   "metadata": {},
   "outputs": [
    {
     "data": {
      "text/plain": [
       "1.0"
      ]
     },
     "execution_count": 10,
     "metadata": {},
     "output_type": "execute_result"
    }
   ],
   "source": [
    "len(results['predictions']) / results['predictions']['ID'].nunique()"
   ]
  },
  {
   "cell_type": "markdown",
   "id": "7de18302-d34f-4bb3-8e35-28557b886ee7",
   "metadata": {},
   "source": [
    "## Convert Predictions\n",
    "* Output currently has prediction for each person-place combo\n",
    "* Take maximum risk prediction for each person.  \n",
    "* If person is labelled as both positive and negative, label them as positive."
   ]
  },
  {
   "cell_type": "code",
   "execution_count": 11,
   "id": "f3318efe-7006-459b-bc64-ac5b97416f0f",
   "metadata": {},
   "outputs": [
    {
     "name": "stdout",
     "output_type": "stream",
     "text": [
      "84345\n"
     ]
    },
    {
     "data": {
      "text/html": [
       "<div>\n",
       "<style scoped>\n",
       "    .dataframe tbody tr th:only-of-type {\n",
       "        vertical-align: middle;\n",
       "    }\n",
       "\n",
       "    .dataframe tbody tr th {\n",
       "        vertical-align: top;\n",
       "    }\n",
       "\n",
       "    .dataframe thead th {\n",
       "        text-align: right;\n",
       "    }\n",
       "</style>\n",
       "<table border=\"1\" class=\"dataframe\">\n",
       "  <thead>\n",
       "    <tr style=\"text-align: right;\">\n",
       "      <th></th>\n",
       "      <th>SPA_PER_ID</th>\n",
       "      <th>prediction</th>\n",
       "      <th>CMIS_MATCH</th>\n",
       "    </tr>\n",
       "  </thead>\n",
       "  <tbody>\n",
       "    <tr>\n",
       "      <th>0</th>\n",
       "      <td>3</td>\n",
       "      <td>0.396382</td>\n",
       "      <td>False</td>\n",
       "    </tr>\n",
       "    <tr>\n",
       "      <th>1</th>\n",
       "      <td>4</td>\n",
       "      <td>0.475424</td>\n",
       "      <td>False</td>\n",
       "    </tr>\n",
       "    <tr>\n",
       "      <th>2</th>\n",
       "      <td>6</td>\n",
       "      <td>0.562406</td>\n",
       "      <td>False</td>\n",
       "    </tr>\n",
       "    <tr>\n",
       "      <th>3</th>\n",
       "      <td>12</td>\n",
       "      <td>0.347752</td>\n",
       "      <td>False</td>\n",
       "    </tr>\n",
       "    <tr>\n",
       "      <th>4</th>\n",
       "      <td>14</td>\n",
       "      <td>0.434371</td>\n",
       "      <td>False</td>\n",
       "    </tr>\n",
       "  </tbody>\n",
       "</table>\n",
       "</div>"
      ],
      "text/plain": [
       "   SPA_PER_ID  prediction  CMIS_MATCH\n",
       "0           3    0.396382       False\n",
       "1           4    0.475424       False\n",
       "2           6    0.562406       False\n",
       "3          12    0.347752       False\n",
       "4          14    0.434371       False"
      ]
     },
     "execution_count": 11,
     "metadata": {},
     "output_type": "execute_result"
    }
   ],
   "source": [
    "predictions = results['predictions'].copy()\n",
    "predictions['SPA_PER_ID'] = predictions['ID'].apply(lambda x: x.split('-')[0]).astype('int')\n",
    "\n",
    "matches = predictions.groupby('SPA_PER_ID')['CMIS_MATCH'].any()\n",
    "predictions = pd.concat([predictions.groupby('SPA_PER_ID')['prediction'].max(), matches], axis=1, join='inner', ignore_index=False)\n",
    "predictions = predictions.reset_index()\n",
    "del matches\n",
    "\n",
    "print(len(predictions))\n",
    "predictions.head()"
   ]
  },
  {
   "cell_type": "markdown",
   "id": "3dbe3950",
   "metadata": {},
   "source": [
    "# Time and Save"
   ]
  },
  {
   "cell_type": "code",
   "execution_count": 12,
   "id": "bd785dfb-5eb0-4cea-8fb7-42eeeb755c14",
   "metadata": {},
   "outputs": [],
   "source": [
    "filename = 'ann_predictions.pickle'\n",
    "outfile = open(datapath + filename, 'wb')\n",
    "pickle.dump(predictions, outfile)\n",
    "outfile.close()"
   ]
  },
  {
   "cell_type": "code",
   "execution_count": 13,
   "id": "af3d80c0",
   "metadata": {},
   "outputs": [
    {
     "name": "stdout",
     "output_type": "stream",
     "text": [
      "hours:minutes:seconds = 0:1:1.7893447875976562\n"
     ]
    }
   ],
   "source": [
    "from custom_methods.calc_time import calc_time_from_sec\n",
    "\n",
    "calc_time_from_sec(time.time()-startTime)"
   ]
  }
 ],
 "metadata": {
  "kernelspec": {
   "display_name": "Python 3 (ipykernel)",
   "language": "python",
   "name": "python3"
  },
  "language_info": {
   "codemirror_mode": {
    "name": "ipython",
    "version": 3
   },
   "file_extension": ".py",
   "mimetype": "text/x-python",
   "name": "python",
   "nbconvert_exporter": "python",
   "pygments_lexer": "ipython3",
   "version": "3.8.8"
  },
  "varInspector": {
   "cols": {
    "lenName": 16,
    "lenType": 16,
    "lenVar": 40
   },
   "kernels_config": {
    "python": {
     "delete_cmd_postfix": "",
     "delete_cmd_prefix": "del ",
     "library": "var_list.py",
     "varRefreshCmd": "print(var_dic_list())"
    },
    "r": {
     "delete_cmd_postfix": ") ",
     "delete_cmd_prefix": "rm(",
     "library": "var_list.r",
     "varRefreshCmd": "cat(var_dic_list()) "
    }
   },
   "types_to_exclude": [
    "module",
    "function",
    "builtin_function_or_method",
    "instance",
    "_Feature"
   ],
   "window_display": false
  }
 },
 "nbformat": 4,
 "nbformat_minor": 5
}
