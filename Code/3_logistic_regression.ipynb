{
 "cells": [
  {
   "cell_type": "markdown",
   "metadata": {},
   "source": [
    "# Imports"
   ]
  },
  {
   "cell_type": "code",
   "execution_count": 10,
   "metadata": {
    "ExecuteTime": {
     "end_time": "2021-05-28T15:22:37.960000Z",
     "start_time": "2021-05-28T15:22:37.948029Z"
    }
   },
   "outputs": [],
   "source": [
    "import pandas as pd\n",
    "import numpy as np\n",
    "import pickle\n",
    "import time\n",
    "import matplotlib.pyplot as plt\n",
    "import seaborn as sns\n",
    "plt.rcParams.update({'figure.figsize':(11,7), 'figure.dpi':120})\n",
    "image_dest = 'results_images/'"
   ]
  },
  {
   "cell_type": "code",
   "execution_count": 11,
   "metadata": {
    "ExecuteTime": {
     "end_time": "2021-05-28T15:22:38.085109Z",
     "start_time": "2021-05-28T15:22:37.962991Z"
    }
   },
   "outputs": [],
   "source": [
    "startTime = time.time()"
   ]
  },
  {
   "cell_type": "markdown",
   "metadata": {},
   "source": [
    "## Load Data"
   ]
  },
  {
   "cell_type": "code",
   "execution_count": 12,
   "metadata": {
    "ExecuteTime": {
     "end_time": "2021-05-28T15:22:38.208348Z",
     "start_time": "2021-05-28T15:22:38.087077Z"
    }
   },
   "outputs": [
    {
     "data": {
      "text/plain": [
       "['PAST_DUE',\n",
       " 'TOTAL_60_DAYS_AMT',\n",
       " 'NUM_PREM_FOR_PER',\n",
       " 'BREAK_ARRANGEMENT',\n",
       " 'COVID_REMINDER',\n",
       " 'MULTI_DWELL_SIZE',\n",
       " 'SNAP_GEO',\n",
       " 'NUM_PER_FOR_PREM',\n",
       " 'HAS_COTENANT',\n",
       " 'SPA_PER_ID',\n",
       " 'CMIS_MATCH',\n",
       " 'start',\n",
       " 'stop']"
      ]
     },
     "execution_count": 12,
     "metadata": {},
     "output_type": "execute_result"
    }
   ],
   "source": [
    "#filename = '../../002_Data/Release_4/log_ready.pickle'\n",
    "#filename = '../../002_Data/Release_4/log_ready_geo.pickle'\n",
    "#filename = '../../002_Data/Release_4/log_ready_all.pickle'\n",
    "filename = '../../002_Data/Release_4/cox_time_ready.pickle'\n",
    "infile = open(filename,'rb')\n",
    "df = pickle.load(infile)\n",
    "infile.close()\n",
    "df.columns.to_list()"
   ]
  },
  {
   "cell_type": "code",
   "execution_count": 13,
   "metadata": {
    "ExecuteTime": {
     "end_time": "2021-05-28T15:22:38.301715Z",
     "start_time": "2021-05-28T15:22:38.211312Z"
    }
   },
   "outputs": [
    {
     "data": {
      "text/plain": [
       "['PAST_DUE',\n",
       " 'TOTAL_60_DAYS_AMT',\n",
       " 'NUM_PREM_FOR_PER',\n",
       " 'BREAK_ARRANGEMENT',\n",
       " 'COVID_REMINDER',\n",
       " 'MULTI_DWELL_SIZE',\n",
       " 'SNAP_GEO',\n",
       " 'NUM_PER_FOR_PREM',\n",
       " 'HAS_COTENANT',\n",
       " 'SPA_PER_ID',\n",
       " 'CMIS_MATCH']"
      ]
     },
     "execution_count": 13,
     "metadata": {},
     "output_type": "execute_result"
    }
   ],
   "source": [
    "df = df.drop(['start', 'stop'], axis=1)\n",
    "df.columns.to_list()"
   ]
  },
  {
   "cell_type": "markdown",
   "metadata": {
    "heading_collapsed": true
   },
   "source": [
    "# Setup"
   ]
  },
  {
   "cell_type": "code",
   "execution_count": 14,
   "metadata": {
    "ExecuteTime": {
     "end_time": "2021-05-28T15:22:38.378649Z",
     "start_time": "2021-05-28T15:22:38.304663Z"
    },
    "hidden": true
   },
   "outputs": [],
   "source": [
    "import statsmodels.api as sm\n",
    "from custom_methods import model_eval\n",
    "from sklearn.preprocessing import StandardScaler\n",
    "from imblearn.over_sampling import RandomOverSampler\n",
    "\n",
    "event_col = 'CMIS_MATCH'\n",
    "id_col = 'SPA_PER_ID'\n",
    "model = 'logit'\n",
    "cutoffs = [0.001, 0.005, 0.01, 0.05]\n",
    "scaler = None\n",
    "sampler = None\n",
    "#scaler = StandardScaler()\n",
    "#sampler = RandomOverSampler(sampling_strategy='minority', random_state=42)"
   ]
  },
  {
   "cell_type": "markdown",
   "metadata": {
    "heading_collapsed": true
   },
   "source": [
    "# Run Model on All Data"
   ]
  },
  {
   "cell_type": "code",
   "execution_count": 15,
   "metadata": {
    "ExecuteTime": {
     "end_time": "2021-05-28T15:22:42.497645Z",
     "start_time": "2021-05-28T15:22:38.380593Z"
    },
    "hidden": true,
    "scrolled": false
   },
   "outputs": [
    {
     "name": "stdout",
     "output_type": "stream",
     "text": [
      "Optimization terminated successfully.\n",
      "         Current function value: 0.046888\n",
      "         Iterations 9\n",
      "                           Logit Regression Results                           \n",
      "==============================================================================\n",
      "Dep. Variable:             CMIS_MATCH   No. Observations:               632511\n",
      "Model:                          Logit   Df Residuals:                   632502\n",
      "Method:                           MLE   Df Model:                            8\n",
      "Date:                Fri, 28 May 2021   Pseudo R-squ.:                -0.01161\n",
      "Time:                        08:22:42   Log-Likelihood:                -29657.\n",
      "converged:                       True   LL-Null:                       -29317.\n",
      "Covariance Type:            nonrobust   LLR p-value:                     1.000\n",
      "=====================================================================================\n",
      "                        coef    std err          z      P>|z|      [0.025      0.975]\n",
      "-------------------------------------------------------------------------------------\n",
      "PAST_DUE              0.1402      0.005     29.202      0.000       0.131       0.150\n",
      "TOTAL_60_DAYS_AMT     0.0012   6.51e-05     18.552      0.000       0.001       0.001\n",
      "NUM_PREM_FOR_PER     -4.8975      0.043   -112.870      0.000      -4.983      -4.812\n",
      "BREAK_ARRANGEMENT     0.3984      0.045      8.869      0.000       0.310       0.486\n",
      "COVID_REMINDER        0.0001      0.009      0.013      0.989      -0.018       0.018\n",
      "MULTI_DWELL_SIZE      0.0067      0.001      6.671      0.000       0.005       0.009\n",
      "SNAP_GEO             -0.4925      0.088     -5.596      0.000      -0.665      -0.320\n",
      "NUM_PER_FOR_PREM     -0.1996      0.026     -7.536      0.000      -0.252      -0.148\n",
      "HAS_COTENANT         -0.4352      0.033    -13.011      0.000      -0.501      -0.370\n",
      "=====================================================================================\n"
     ]
    }
   ],
   "source": [
    "#exog = np.asarray(sm.add_constant(df.drop([id_col, event_col], axis=1)), dtype='float')\n",
    "exog = np.asarray(df.drop([id_col, event_col], axis=1), dtype='float')\n",
    "endog = np.asarray(df[event_col], dtype='bool')\n",
    "\n",
    "model_all = sm.Logit(endog=endog, exog=exog).fit(disp=True)\n",
    "\n",
    "print(model_all.summary(\n",
    "    yname=event_col, \n",
    "    #xname=['Intercept']+df.columns.drop([id_col, event_col]).to_list())\n",
    "    xname=df.columns.drop([id_col, event_col]).to_list())\n",
    "     )"
   ]
  },
  {
   "cell_type": "code",
   "execution_count": 16,
   "metadata": {
    "ExecuteTime": {
     "end_time": "2021-05-28T15:22:48.987890Z",
     "start_time": "2021-05-28T15:22:42.499586Z"
    },
    "hidden": true
   },
   "outputs": [
    {
     "data": {
      "image/png": "[encoded data removed]",
      "text/plain": [
       "<Figure size 1320x840 with 1 Axes>"
      ]
     },
     "metadata": {
      "needs_background": "light"
     },
     "output_type": "display_data"
    }
   ],
   "source": [
    "# np.arange(0, model_all.resid_response.size, 1)\n",
    "sns.kdeplot(x=model_all.resid_response, color='black')\n",
    "plt.xlim((-0.25,0.25));\n",
    "#plt.savefig(fname=image_dest+'Log_resids.png')"
   ]
  },
  {
   "cell_type": "code",
   "execution_count": 17,
   "metadata": {
    "ExecuteTime": {
     "end_time": "2021-05-28T15:22:49.003850Z",
     "start_time": "2021-05-28T15:22:48.989885Z"
    },
    "hidden": true
   },
   "outputs": [],
   "source": [
    "#Log-Likelihood:                -1840.6"
   ]
  },
  {
   "cell_type": "code",
   "execution_count": 18,
   "metadata": {
    "ExecuteTime": {
     "end_time": "2021-05-28T15:22:49.834247Z",
     "start_time": "2021-05-28T15:22:49.008835Z"
    },
    "hidden": true
   },
   "outputs": [
    {
     "name": "stdout",
     "output_type": "stream",
     "text": [
      "\\begin{tabular}{lrrrrr}\n",
      "\\toprule\n",
      "{} &   coef &  exp(coef) &     p &  [0.025 &  0.975] \\\\\n",
      "\\midrule\n",
      "PAST\\_DUE          &  0.140 &      1.151 & 0.000 &   1.140 &   1.161 \\\\\n",
      "TOTAL\\_60\\_DAYS\\_AMT &  0.001 &      1.001 & 0.000 &   1.001 &   1.001 \\\\\n",
      "NUM\\_PREM\\_FOR\\_PER  & -4.897 &      0.007 & 0.000 &   0.007 &   0.008 \\\\\n",
      "BREAK\\_ARRANGEMENT &  0.398 &      1.489 & 0.000 &   1.364 &   1.626 \\\\\n",
      "COVID\\_REMINDER    &  0.000 &      1.000 & 0.989 &   0.982 &   1.019 \\\\\n",
      "MULTI\\_DWELL\\_SIZE  &  0.007 &      1.007 & 0.000 &   1.005 &   1.009 \\\\\n",
      "SNAP\\_GEO          & -0.492 &      0.611 & 0.000 &   0.514 &   0.726 \\\\\n",
      "NUM\\_PER\\_FOR\\_PREM  & -0.200 &      0.819 & 0.000 &   0.778 &   0.863 \\\\\n",
      "HAS\\_COTENANT      & -0.435 &      0.647 & 0.000 &   0.606 &   0.691 \\\\\n",
      "\\bottomrule\n",
      "\\end{tabular}\n",
      "\n"
     ]
    }
   ],
   "source": [
    "summary_as_html = model_all.summary(\n",
    "    alpha=0.05,\n",
    "    yname=event_col, \n",
    "    #xname=['Intercept']+df.columns.drop([id_col, event_col]).to_list()\n",
    "    xname=df.columns.drop([id_col, event_col]).to_list()\n",
    ").tables[1].as_html()\n",
    "\n",
    "summary_as_df = pd.read_html(summary_as_html, header=0, index_col=0)[0]\n",
    "summary_as_df['exp(coef)'] = np.exp(model_all.params)\n",
    "summary_as_df[['[0.025', '0.975]']] = np.exp(model_all.conf_int())\n",
    "summary_as_df = summary_as_df[['coef', 'exp(coef)', 'P>|z|','[0.025', '0.975]']].rename({'P>|z|':'p'}, axis=1)\n",
    "\n",
    "print(summary_as_df.to_latex(float_format='%.3f'))"
   ]
  },
  {
   "cell_type": "code",
   "execution_count": 19,
   "metadata": {
    "ExecuteTime": {
     "end_time": "2021-05-28T15:22:49.850140Z",
     "start_time": "2021-05-28T15:22:49.839171Z"
    },
    "hidden": true
   },
   "outputs": [
    {
     "data": {
      "text/plain": [
       "59332.04998035972"
      ]
     },
     "execution_count": 19,
     "metadata": {},
     "output_type": "execute_result"
    }
   ],
   "source": [
    "model_all.aic"
   ]
  },
  {
   "cell_type": "code",
   "execution_count": 20,
   "metadata": {
    "ExecuteTime": {
     "end_time": "2021-05-28T15:22:49.945520Z",
     "start_time": "2021-05-28T15:22:49.854137Z"
    },
    "hidden": true
   },
   "outputs": [
    {
     "data": {
      "text/plain": [
       "-0.011608229730456943"
      ]
     },
     "execution_count": 20,
     "metadata": {},
     "output_type": "execute_result"
    }
   ],
   "source": [
    "model_all.prsquared"
   ]
  },
  {
   "cell_type": "markdown",
   "metadata": {},
   "source": [
    "# K-Folds"
   ]
  },
  {
   "cell_type": "markdown",
   "metadata": {},
   "source": [
    "## Run"
   ]
  },
  {
   "cell_type": "code",
   "execution_count": 21,
   "metadata": {
    "ExecuteTime": {
     "end_time": "2021-05-28T15:22:56.484191Z",
     "start_time": "2021-05-28T15:22:49.947551Z"
    }
   },
   "outputs": [],
   "source": [
    "predictions = model_eval.k_folds(\n",
    "    df = df, \n",
    "    event_col = event_col,\n",
    "    id_col = id_col, \n",
    "    k = 4, \n",
    "    model = model, \n",
    "    scaler = scaler,\n",
    "    sampler = sampler,\n",
    ")\n",
    "\n",
    "#predictions.head()"
   ]
  },
  {
   "cell_type": "code",
   "execution_count": 22,
   "metadata": {
    "ExecuteTime": {
     "end_time": "2021-05-28T15:22:56.530664Z",
     "start_time": "2021-05-28T15:22:56.486233Z"
    }
   },
   "outputs": [],
   "source": [
    "\n",
    "filename = '../../002_Data/Release_4/log_predictions0.pickle'\n",
    "outfile = open(filename, 'wb')\n",
    "pickle.dump(predictions, outfile)\n",
    "outfile.close()\n"
   ]
  },
  {
   "cell_type": "markdown",
   "metadata": {},
   "source": [
    "## Summary"
   ]
  },
  {
   "cell_type": "code",
   "execution_count": 23,
   "metadata": {
    "ExecuteTime": {
     "end_time": "2021-05-28T15:37:17.100529Z",
     "start_time": "2021-05-28T15:22:56.532659Z"
    }
   },
   "outputs": [
    {
     "data": {
      "text/html": [
       "<div>\n",
       "<style scoped>\n",
       "    .dataframe tbody tr th:only-of-type {\n",
       "        vertical-align: middle;\n",
       "    }\n",
       "\n",
       "    .dataframe tbody tr th {\n",
       "        vertical-align: top;\n",
       "    }\n",
       "\n",
       "    .dataframe thead th {\n",
       "        text-align: right;\n",
       "    }\n",
       "</style>\n",
       "<table border=\"1\" class=\"dataframe\">\n",
       "  <thead>\n",
       "    <tr style=\"text-align: right;\">\n",
       "      <th></th>\n",
       "      <th>Number Predicted</th>\n",
       "      <th>Actual Number</th>\n",
       "      <th>False P/N Rate</th>\n",
       "      <th>Precision</th>\n",
       "      <th>Recall</th>\n",
       "      <th>f-1</th>\n",
       "      <th>Custom</th>\n",
       "    </tr>\n",
       "    <tr>\n",
       "      <th>Case</th>\n",
       "      <th></th>\n",
       "      <th></th>\n",
       "      <th></th>\n",
       "      <th></th>\n",
       "      <th></th>\n",
       "      <th></th>\n",
       "      <th></th>\n",
       "    </tr>\n",
       "  </thead>\n",
       "  <tbody>\n",
       "    <tr>\n",
       "      <th>Positive</th>\n",
       "      <td>572000</td>\n",
       "      <td>5028</td>\n",
       "      <td>0.904208</td>\n",
       "      <td>0.008086</td>\n",
       "      <td>0.919849</td>\n",
       "      <td>0.016030</td>\n",
       "      <td>0.463967</td>\n",
       "    </tr>\n",
       "    <tr>\n",
       "      <th>Negative</th>\n",
       "      <td>60511</td>\n",
       "      <td>627483</td>\n",
       "      <td>0.080151</td>\n",
       "      <td>0.993340</td>\n",
       "      <td>0.095792</td>\n",
       "      <td>0.174734</td>\n",
       "      <td>0.544566</td>\n",
       "    </tr>\n",
       "  </tbody>\n",
       "</table>\n",
       "</div>"
      ],
      "text/plain": [
       "          Number Predicted  Actual Number False P/N Rate Precision   Recall  \\\n",
       "Case                                                                          \n",
       "Positive            572000           5028       0.904208  0.008086 0.919849   \n",
       "Negative             60511         627483       0.080151  0.993340 0.095792   \n",
       "\n",
       "              f-1   Custom  \n",
       "Case                        \n",
       "Positive 0.016030 0.463967  \n",
       "Negative 0.174734 0.544566  "
      ]
     },
     "execution_count": 23,
     "metadata": {},
     "output_type": "execute_result"
    }
   ],
   "source": [
    "summary_recall0 = model_eval.find_recall_val(predictions, recall_threshold=0.92)\n",
    "summary_recall0"
   ]
  },
  {
   "cell_type": "code",
   "execution_count": 25,
   "metadata": {
    "ExecuteTime": {
     "end_time": "2021-05-28T15:37:17.284546Z",
     "start_time": "2021-05-28T15:37:17.118703Z"
    }
   },
   "outputs": [],
   "source": [
    "summary_recall = summary_recall0.copy()"
   ]
  },
  {
   "cell_type": "code",
   "execution_count": 26,
   "metadata": {
    "ExecuteTime": {
     "end_time": "2021-05-28T15:37:17.376794Z",
     "start_time": "2021-05-28T15:37:17.287725Z"
    }
   },
   "outputs": [
    {
     "name": "stdout",
     "output_type": "stream",
     "text": [
      "\\begin{tabular}{lrrrrrr}\n",
      "\\toprule\n",
      "{} &  Predicted &   Hits &  False P/N &  Precision &  Recall &  f-1 \\\\\n",
      "Class    &            &        &            &            &         &      \\\\\n",
      "\\midrule\n",
      "Positive &     572000 &   4625 &       0.90 &       0.01 &    0.92 & 0.02 \\\\\n",
      "Negative &      60511 &  60108 &       0.08 &       0.99 &    0.10 & 0.17 \\\\\n",
      "\\bottomrule\n",
      "\\end{tabular}\n",
      "\n"
     ]
    }
   ],
   "source": [
    "summary_recall['Actual Number'] = (summary_recall['Number Predicted'] * summary_recall['Precision']).astype('int')\n",
    "summary_recall = summary_recall.drop('Custom', axis=1).rename(\n",
    "    {'Number Predicted':'Predicted', 'Actual Number':'Hits', 'False P/N Rate':'False P/N'}, axis=1)\n",
    "summary_recall.index.names = ['Class']\n",
    "\n",
    "to_change = ['False P/N', 'Precision', 'Recall', 'f-1']\n",
    "for i in to_change:\n",
    "    summary_recall[i] = summary_recall[i].astype('float')\n",
    "\n",
    "print(summary_recall.to_latex(float_format='%.2f'))"
   ]
  },
  {
   "cell_type": "code",
   "execution_count": 27,
   "metadata": {
    "ExecuteTime": {
     "end_time": "2021-05-28T18:13:55.927971Z",
     "start_time": "2021-05-28T15:37:17.378790Z"
    },
    "scrolled": false
   },
   "outputs": [
    {
     "data": {
      "text/html": [
       "<div>\n",
       "<style scoped>\n",
       "    .dataframe tbody tr th:only-of-type {\n",
       "        vertical-align: middle;\n",
       "    }\n",
       "\n",
       "    .dataframe tbody tr th {\n",
       "        vertical-align: top;\n",
       "    }\n",
       "\n",
       "    .dataframe thead th {\n",
       "        text-align: right;\n",
       "    }\n",
       "</style>\n",
       "<table border=\"1\" class=\"dataframe\">\n",
       "  <thead>\n",
       "    <tr style=\"text-align: right;\">\n",
       "      <th></th>\n",
       "      <th></th>\n",
       "      <th>Threshold_Value</th>\n",
       "      <th>Number Predicted</th>\n",
       "      <th>Actual Number</th>\n",
       "      <th>False P/N Rate</th>\n",
       "      <th>Precision</th>\n",
       "      <th>Recall</th>\n",
       "      <th>f-1</th>\n",
       "      <th>Custom</th>\n",
       "    </tr>\n",
       "    <tr>\n",
       "      <th>Max_Of</th>\n",
       "      <th>Case</th>\n",
       "      <th></th>\n",
       "      <th></th>\n",
       "      <th></th>\n",
       "      <th></th>\n",
       "      <th></th>\n",
       "      <th></th>\n",
       "      <th></th>\n",
       "      <th></th>\n",
       "    </tr>\n",
       "  </thead>\n",
       "  <tbody>\n",
       "    <tr>\n",
       "      <th rowspan=\"2\" valign=\"top\">Precision</th>\n",
       "      <th>Positive</th>\n",
       "      <td>0.409785</td>\n",
       "      <td>10</td>\n",
       "      <td>5028</td>\n",
       "      <td>0.000014</td>\n",
       "      <td>0.100000</td>\n",
       "      <td>0.000199</td>\n",
       "      <td>0.000397</td>\n",
       "      <td>0.050099</td>\n",
       "    </tr>\n",
       "    <tr>\n",
       "      <th>Negative</th>\n",
       "      <td>0.409785</td>\n",
       "      <td>632501</td>\n",
       "      <td>627483</td>\n",
       "      <td>0.999801</td>\n",
       "      <td>0.992052</td>\n",
       "      <td>0.999986</td>\n",
       "      <td>0.996003</td>\n",
       "      <td>0.996019</td>\n",
       "    </tr>\n",
       "    <tr>\n",
       "      <th rowspan=\"2\" valign=\"top\">Recall</th>\n",
       "      <th>Positive</th>\n",
       "      <td>0.000007</td>\n",
       "      <td>632510</td>\n",
       "      <td>5028</td>\n",
       "      <td>0.999998</td>\n",
       "      <td>0.007949</td>\n",
       "      <td>1.000000</td>\n",
       "      <td>0.015773</td>\n",
       "      <td>0.503975</td>\n",
       "    </tr>\n",
       "    <tr>\n",
       "      <th>Negative</th>\n",
       "      <td>0.000007</td>\n",
       "      <td>1</td>\n",
       "      <td>627483</td>\n",
       "      <td>0.000000</td>\n",
       "      <td>1.000000</td>\n",
       "      <td>0.000002</td>\n",
       "      <td>0.000003</td>\n",
       "      <td>0.500001</td>\n",
       "    </tr>\n",
       "    <tr>\n",
       "      <th rowspan=\"2\" valign=\"top\">f-1</th>\n",
       "      <th>Positive</th>\n",
       "      <td>0.016446</td>\n",
       "      <td>47348</td>\n",
       "      <td>5028</td>\n",
       "      <td>0.074002</td>\n",
       "      <td>0.019283</td>\n",
       "      <td>0.181583</td>\n",
       "      <td>0.034863</td>\n",
       "      <td>0.100433</td>\n",
       "    </tr>\n",
       "    <tr>\n",
       "      <th>Negative</th>\n",
       "      <td>0.016446</td>\n",
       "      <td>585163</td>\n",
       "      <td>627483</td>\n",
       "      <td>0.818417</td>\n",
       "      <td>0.992968</td>\n",
       "      <td>0.925998</td>\n",
       "      <td>0.958314</td>\n",
       "      <td>0.959483</td>\n",
       "    </tr>\n",
       "    <tr>\n",
       "      <th rowspan=\"2\" valign=\"top\">Custom</th>\n",
       "      <th>Positive</th>\n",
       "      <td>0.000018</td>\n",
       "      <td>632427</td>\n",
       "      <td>5028</td>\n",
       "      <td>0.999866</td>\n",
       "      <td>0.007950</td>\n",
       "      <td>1.000000</td>\n",
       "      <td>0.015775</td>\n",
       "      <td>0.503975</td>\n",
       "    </tr>\n",
       "    <tr>\n",
       "      <th>Negative</th>\n",
       "      <td>0.000018</td>\n",
       "      <td>84</td>\n",
       "      <td>627483</td>\n",
       "      <td>0.000000</td>\n",
       "      <td>1.000000</td>\n",
       "      <td>0.000134</td>\n",
       "      <td>0.000268</td>\n",
       "      <td>0.500067</td>\n",
       "    </tr>\n",
       "  </tbody>\n",
       "</table>\n",
       "</div>"
      ],
      "text/plain": [
       "                    Threshold_Value  Number Predicted  Actual Number  \\\n",
       "Max_Of    Case                                                         \n",
       "Precision Positive         0.409785                10           5028   \n",
       "          Negative         0.409785            632501         627483   \n",
       "Recall    Positive         0.000007            632510           5028   \n",
       "          Negative         0.000007                 1         627483   \n",
       "f-1       Positive         0.016446             47348           5028   \n",
       "          Negative         0.016446            585163         627483   \n",
       "Custom    Positive         0.000018            632427           5028   \n",
       "          Negative         0.000018                84         627483   \n",
       "\n",
       "                    False P/N Rate  Precision   Recall      f-1   Custom  \n",
       "Max_Of    Case                                                            \n",
       "Precision Positive        0.000014   0.100000 0.000199 0.000397 0.050099  \n",
       "          Negative        0.999801   0.992052 0.999986 0.996003 0.996019  \n",
       "Recall    Positive        0.999998   0.007949 1.000000 0.015773 0.503975  \n",
       "          Negative        0.000000   1.000000 0.000002 0.000003 0.500001  \n",
       "f-1       Positive        0.074002   0.019283 0.181583 0.034863 0.100433  \n",
       "          Negative        0.818417   0.992968 0.925998 0.958314 0.959483  \n",
       "Custom    Positive        0.999866   0.007950 1.000000 0.015775 0.503975  \n",
       "          Negative        0.000000   1.000000 0.000134 0.000268 0.500067  "
      ]
     },
     "execution_count": 27,
     "metadata": {},
     "output_type": "execute_result"
    }
   ],
   "source": [
    "summary = model_eval.get_summary(predictions)\n",
    "summary"
   ]
  },
  {
   "cell_type": "code",
   "execution_count": 28,
   "metadata": {
    "ExecuteTime": {
     "end_time": "2021-05-28T18:13:55.942934Z",
     "start_time": "2021-05-28T18:13:55.930964Z"
    }
   },
   "outputs": [
    {
     "data": {
      "text/plain": [
       "'\\nTYPICAL: test set smaller\\nk, precision, f-1\\n2, 0.142857, 0.072115 (same number of people in training and test)\\n2, 0.066667, 0.067715\\n3, 0.111111, 0.064246\\n3, 0.083333, 0.063988\\n4, 0.083333, 0.069744\\n5, 0.083333, 0.070064\\n7, 0.071429, 0.066090\\n\\nINVERTED: test set larger\\nk, precision, f-1\\n3, 0.071429, 0.063761\\n4, 0.074627, 0.063627\\n5, 0.050000, 0.059262\\n6, 0.056133, 0.059815\\nOverall, predicting on more than entire dataset - many predictions!\\n'"
      ]
     },
     "execution_count": 28,
     "metadata": {},
     "output_type": "execute_result"
    }
   ],
   "source": [
    "'''\n",
    "TYPICAL: test set smaller\n",
    "k, precision, f-1\n",
    "2, 0.142857, 0.072115 (same number of people in training and test)\n",
    "2, 0.066667, 0.067715\n",
    "3, 0.111111, 0.064246\n",
    "3, 0.083333, 0.063988\n",
    "4, 0.083333, 0.069744\n",
    "5, 0.083333, 0.070064\n",
    "7, 0.071429, 0.066090\n",
    "\n",
    "INVERTED: test set larger\n",
    "k, precision, f-1\n",
    "3, 0.071429, 0.063761\n",
    "4, 0.074627, 0.063627\n",
    "5, 0.050000, 0.059262\n",
    "6, 0.056133, 0.059815\n",
    "Overall, predicting on more than entire dataset - many predictions!\n",
    "'''"
   ]
  },
  {
   "cell_type": "code",
   "execution_count": 29,
   "metadata": {
    "ExecuteTime": {
     "end_time": "2021-05-28T18:13:56.085582Z",
     "start_time": "2021-05-28T18:13:55.945929Z"
    }
   },
   "outputs": [
    {
     "name": "stdout",
     "output_type": "stream",
     "text": [
      "\\begin{tabular}{llrrrrrr}\n",
      "\\toprule\n",
      "       &   &  Predicted &    Hits &  False P/N &  Precision &  Recall &  f-1 \\\\\n",
      "Max\\_Of & Class &            &         &            &            &         &      \\\\\n",
      "\\midrule\n",
      "Precision & P &         10 &       1 &       0.00 &       0.10 &    0.00 & 0.00 \\\\\n",
      "       & N &     632501 &  627474 &       1.00 &       0.99 &    1.00 & 1.00 \\\\\n",
      "Recall & P &     632510 &    5028 &       1.00 &       0.01 &    1.00 & 0.02 \\\\\n",
      "       & N &          1 &       1 &       0.00 &       1.00 &    0.00 & 0.00 \\\\\n",
      "f-1 & P &      47348 &     913 &       0.07 &       0.02 &    0.18 & 0.03 \\\\\n",
      "       & N &     585163 &  581048 &       0.82 &       0.99 &    0.93 & 0.96 \\\\\n",
      "Custom & P &     632427 &    5028 &       1.00 &       0.01 &    1.00 & 0.02 \\\\\n",
      "       & N &         84 &      84 &       0.00 &       1.00 &    0.00 & 0.00 \\\\\n",
      "\\bottomrule\n",
      "\\end{tabular}\n",
      "\n"
     ]
    }
   ],
   "source": [
    "model_eval.print_summary(summary)"
   ]
  },
  {
   "cell_type": "markdown",
   "metadata": {},
   "source": [
    "# Print Time"
   ]
  },
  {
   "cell_type": "code",
   "execution_count": 30,
   "metadata": {
    "ExecuteTime": {
     "end_time": "2021-05-28T18:13:56.149380Z",
     "start_time": "2021-05-28T18:13:56.087545Z"
    }
   },
   "outputs": [
    {
     "name": "stdout",
     "output_type": "stream",
     "text": [
      "hours:minutes:seconds = 2:51:18.06928777694702\n"
     ]
    }
   ],
   "source": [
    "from custom_methods.calc_time import calc_time_from_sec\n",
    "\n",
    "calc_time_from_sec(time.time() - startTime)"
   ]
  }
 ],
 "metadata": {
  "interpreter": {
   "hash": "55dc2ef33d481be31a5c00b42f248808e4edd8b163c72100e3df152a03ba29f1"
  },
  "kernelspec": {
   "display_name": "Python 3",
   "language": "python",
   "name": "python3"
  },
  "language_info": {
   "codemirror_mode": {
    "name": "ipython",
    "version": 3
   },
   "file_extension": ".py",
   "mimetype": "text/x-python",
   "name": "python",
   "nbconvert_exporter": "python",
   "pygments_lexer": "ipython3",
   "version": "3.8.6"
  },
  "metadata": {
   "interpreter": {
    "hash": "55dc2ef33d481be31a5c00b42f248808e4edd8b163c72100e3df152a03ba29f1"
   }
  },
  "varInspector": {
   "cols": {
    "lenName": 16,
    "lenType": 16,
    "lenVar": 40
   },
   "kernels_config": {
    "python": {
     "delete_cmd_postfix": "",
     "delete_cmd_prefix": "del ",
     "library": "var_list.py",
     "varRefreshCmd": "print(var_dic_list())"
    },
    "r": {
     "delete_cmd_postfix": ") ",
     "delete_cmd_prefix": "rm(",
     "library": "var_list.r",
     "varRefreshCmd": "cat(var_dic_list()) "
    }
   },
   "types_to_exclude": [
    "module",
    "function",
    "builtin_function_or_method",
    "instance",
    "_Feature"
   ],
   "window_display": false
  }
 },
 "nbformat": 4,
 "nbformat_minor": 2
}
