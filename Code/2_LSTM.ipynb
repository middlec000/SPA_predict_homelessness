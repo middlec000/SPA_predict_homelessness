{
 "cells": [
  {
   "cell_type": "markdown",
   "id": "3348e562",
   "metadata": {},
   "source": [
    "# Setup"
   ]
  },
  {
   "cell_type": "code",
   "execution_count": 1,
   "id": "d4007339",
   "metadata": {
    "ExecuteTime": {
     "end_time": "2021-07-17T00:48:52.950267Z",
     "start_time": "2021-07-17T00:48:52.943285Z"
    }
   },
   "outputs": [],
   "source": [
    "import pandas as pd\n",
    "import numpy as np\n",
    "import tensorflow as tf\n",
    "import pickle\n",
    "import time\n",
    "from sklearn.preprocessing import StandardScaler\n",
    "\n",
    "from custom_methods import model_eval\n",
    "\n",
    "datapath = '../Data/'\n",
    "\n",
    "startTime = time.time()"
   ]
  },
  {
   "cell_type": "code",
   "execution_count": 2,
   "id": "705a4ca9",
   "metadata": {
    "ExecuteTime": {
     "end_time": "2021-07-16T22:09:38.129402Z",
     "start_time": "2021-07-16T22:09:37.829600Z"
    }
   },
   "outputs": [
    {
     "name": "stdout",
     "output_type": "stream",
     "text": [
      "<class 'numpy.ndarray'>\n",
      "Format: [num_data_objects, max_sequence_length, num_vars]\n",
      "\n",
      "X\n",
      "[[0.0000e+00 0.0000e+00 0.0000e+00 ... 0.0000e+00 0.0000e+00 0.0000e+00]\n",
      " [0.0000e+00 0.0000e+00 0.0000e+00 ... 0.0000e+00 0.0000e+00 0.0000e+00]\n",
      " [0.0000e+00 0.0000e+00 0.0000e+00 ... 0.0000e+00 0.0000e+00 0.0000e+00]\n",
      " ...\n",
      " [0.0000e+00 0.0000e+00 0.0000e+00 ... 1.0000e+00 2.0000e+00 5.2212e+04]\n",
      " [0.0000e+00 0.0000e+00 0.0000e+00 ... 1.0000e+00 2.0000e+00 5.2212e+04]\n",
      " [0.0000e+00 0.0000e+00 0.0000e+00 ... 1.0000e+00 2.0000e+00 5.2212e+04]]\n",
      "\n",
      "Y\n",
      "['10001-114314' False]\n"
     ]
    }
   ],
   "source": [
    "filename = 'ann_ready.pickle'\n",
    "infile = open(datapath+filename,'rb')\n",
    "data = pickle.load(infile)\n",
    "X = data['X']\n",
    "Y = data['Y']\n",
    "infile.close()\n",
    "\n",
    "print(type(X))\n",
    "print('Format: [num_data_objects, max_sequence_length, num_vars]')\n",
    "print('\\nX')\n",
    "print(X[1])\n",
    "print('\\nY')\n",
    "print(Y[1])"
   ]
  },
  {
   "cell_type": "markdown",
   "id": "82dccbff-739d-4681-a42b-c32190251965",
   "metadata": {},
   "source": [
    "## Split Training, Testing (To Remove)"
   ]
  },
  {
   "cell_type": "code",
   "execution_count": 3,
   "id": "53a5b1cc-4d33-44be-ab95-40f5345d6d6e",
   "metadata": {},
   "outputs": [
    {
     "data": {
      "text/plain": [
       "\"\\nscalers = {}\\nfor i in range(X.shape[1]):\\n    scalers[i] = StandardScaler()\\n    X[:, i, :] = scalers[i].fit_transform(X[:, i, :])\\n\\nTEST_FRAC = 1/3\\n\\n# Split Train/Test sets\\ndf_train, df_test = model_eval.split_on_people(df, id_col=id_col, test_frac=TEST_FRAC)\\n\\n# Split X and Y\\nX_train = df_train.drop('CMIS_MATCH', axis=1)\\nY_train = df_train[['CMIS_MATCH', id_col]].groupby(id_col).first()\\n\\nX_test = df_test.drop('CMIS_MATCH', axis=1)\\nY_test = df_test[['CMIS_MATCH', id_col]].groupby(id_col).first()\\n\""
      ]
     },
     "execution_count": 3,
     "metadata": {},
     "output_type": "execute_result"
    }
   ],
   "source": [
    "'''\n",
    "scalers = {}\n",
    "for i in range(X.shape[1]):\n",
    "    scalers[i] = StandardScaler()\n",
    "    X[:, i, :] = scalers[i].fit_transform(X[:, i, :])\n",
    "\n",
    "TEST_FRAC = 1/3\n",
    "\n",
    "# Split Train/Test sets\n",
    "df_train, df_test = model_eval.split_on_people(df, id_col=id_col, test_frac=TEST_FRAC)\n",
    "\n",
    "# Split X and Y\n",
    "X_train = df_train.drop('CMIS_MATCH', axis=1)\n",
    "Y_train = df_train[['CMIS_MATCH', id_col]].groupby(id_col).first()\n",
    "\n",
    "X_test = df_test.drop('CMIS_MATCH', axis=1)\n",
    "Y_test = df_test[['CMIS_MATCH', id_col]].groupby(id_col).first()\n",
    "'''"
   ]
  },
  {
   "cell_type": "markdown",
   "id": "f2323b38",
   "metadata": {},
   "source": [
    "# Model"
   ]
  },
  {
   "cell_type": "markdown",
   "id": "d507e400-44c8-44e3-aa97-1a2434d5bfed",
   "metadata": {},
   "source": [
    "## TODO: Set Initial Bias"
   ]
  },
  {
   "cell_type": "markdown",
   "id": "7a8c4807-55b4-463a-bec4-9ef00c7eba9d",
   "metadata": {},
   "source": [
    "## Build Model"
   ]
  },
  {
   "cell_type": "code",
   "execution_count": 4,
   "id": "997ca1d8",
   "metadata": {
    "ExecuteTime": {
     "end_time": "2021-07-16T22:09:39.563239Z",
     "start_time": "2021-07-16T22:09:39.315023Z"
    }
   },
   "outputs": [
    {
     "name": "stdout",
     "output_type": "stream",
     "text": [
      "Model: \"sequential\"\n",
      "_________________________________________________________________\n",
      "Layer (type)                 Output Shape              Param #   \n",
      "=================================================================\n",
      "lstm (LSTM)                  (None, 64)                20992     \n",
      "_________________________________________________________________\n",
      "dense (Dense)                (None, 1)                 65        \n",
      "=================================================================\n",
      "Total params: 21,057\n",
      "Trainable params: 21,057\n",
      "Non-trainable params: 0\n",
      "_________________________________________________________________\n",
      "None\n"
     ]
    }
   ],
   "source": [
    "from keras.callbacks import EarlyStopping\n",
    "from keras.models import Sequential\n",
    "from keras.layers import Dense, LSTM, SpatialDropout1D\n",
    "from keras.callbacks import EarlyStopping\n",
    "\n",
    "early_stopping= EarlyStopping(\n",
    "    monitor='loss',\n",
    "    min_delta=0.001,\n",
    "    patience=2,\n",
    "    restore_best_weights=True\n",
    ")\n",
    "\n",
    "model = Sequential()\n",
    "\n",
    "# Create input layer + LSTM\n",
    "# TODO: add scaling to input layer instead of data preprocessing\n",
    "model.add(\n",
    "    LSTM(\n",
    "        units = 64,\n",
    "        input_shape = (X.shape[1], X.shape[2]),\n",
    "    )\n",
    ")\n",
    "\n",
    "# Create output layer\n",
    "model.add(\n",
    "    Dense(\n",
    "        units = 1, \n",
    "        activation='sigmoid', \n",
    "    )\n",
    ")\n",
    "\n",
    "# Compile ANN\n",
    "model.compile(\n",
    "    optimizer='adam', \n",
    "    loss='binary_crossentropy', \n",
    "    metrics=['accuracy']\n",
    ")\n",
    "\n",
    "# Print model summary\n",
    "print(model.summary())"
   ]
  },
  {
   "cell_type": "markdown",
   "id": "e7f24288-3ff4-45a8-bf25-d16b8131894d",
   "metadata": {},
   "source": [
    "## K-Folds"
   ]
  },
  {
   "cell_type": "code",
   "execution_count": 5,
   "id": "9aa86961-855b-4365-ba9b-84fc55b6caa8",
   "metadata": {},
   "outputs": [
    {
     "data": {
      "text/plain": [
       "'\\n\\nn = 50\\n\\nX_sample = X[:n].copy()\\n# Y_sample = Y[:10].copy().reset_index().values\\nY_sample = Y[:n].copy()\\n\\nY_sample[:3]\\n'"
      ]
     },
     "execution_count": 5,
     "metadata": {},
     "output_type": "execute_result"
    }
   ],
   "source": [
    "'''\n",
    "\n",
    "n = 50\n",
    "\n",
    "X_sample = X[:n].copy()\n",
    "# Y_sample = Y[:10].copy().reset_index().values\n",
    "Y_sample = Y[:n].copy()\n",
    "\n",
    "Y_sample[:3]\n",
    "'''"
   ]
  },
  {
   "cell_type": "code",
   "execution_count": 6,
   "id": "d7e777d7-4e8d-4876-8eb4-953e7bd5585c",
   "metadata": {},
   "outputs": [],
   "source": [
    "def k_folds_ann(model, model_params:dict, x:np.ndarray, y:np.ndarray, num_folds:int, scale_axis:int, scaler):\n",
    "    '''\n",
    "    09/10/21\n",
    "    Data Format: [num_data_objects, max_sequence_length, num_vars]\n",
    "    Note: axis count begins at 0\n",
    "    '''\n",
    "    import copy\n",
    "    \n",
    "    models = [None]*num_folds\n",
    "    scalers = np.reshape([None]*num_folds*x.shape[2], (num_folds,x.shape[2]))\n",
    "    class_weights = [None]*num_folds\n",
    "    predictions = pd.DataFrame(columns=['ID', 'CMIS_MATCH', 'prediction'])\n",
    "    \n",
    "    shuffled_index = np.arange(x.shape[0])\n",
    "    np.random.shuffle(shuffled_index)\n",
    "    num_per_fold = int(np.round(len(shuffled_index)/num_folds))\n",
    "    \n",
    "    for fold in range(num_folds):\n",
    "        \n",
    "        # Find Data Splits\n",
    "        if fold != num_folds - 1:\n",
    "            fold_test_index = shuffled_index[fold*num_per_fold: (fold+1)*num_per_fold]\n",
    "        else:\n",
    "            fold_test_index = shuffled_index[fold*num_per_fold:]\n",
    "        fold_train_index = [z for z in shuffled_index if z not in fold_test_index]\n",
    "       \n",
    "        x_train = x[fold_train_index].copy()\n",
    "        y_train = y[fold_train_index].copy()\n",
    "        x_test = x[fold_train_index].copy()\n",
    "        y_test = y[fold_train_index].copy()\n",
    "        \n",
    "        # CLass Weight\n",
    "        pos = int(y_train[:,1].sum())\n",
    "        if pos == 0:\n",
    "            pos = 1\n",
    "        total = len(y_train)\n",
    "        neg = total - pos\n",
    "\n",
    "        weight_for_0 = (1 / neg) * (total / 2.0)\n",
    "        weight_for_1 = (1 / pos) * (total / 2.0)\n",
    "        class_weights[fold] = {0.0:weight_for_0, 1.0:weight_for_1}\n",
    "        \n",
    "        # Scaling\n",
    "        for var in range(X.shape[2]):\n",
    "            scalers[fold, var] = copy.copy(scaler)\n",
    "            x_train[:, :, var] = scalers[fold, var].fit_transform(x_train[:, :, var])\n",
    "            x_test[:, :, var] = scalers[fold, var].transform(x_test[:, :, var])\n",
    "        \n",
    "        # Create (Copy of) Model\n",
    "        models[fold] = tf.keras.models.clone_model(model)\n",
    "            \n",
    "        # Compile Model\n",
    "        models[fold].compile(\n",
    "            optimizer = model_params['OPTIMIZER'], \n",
    "            loss = model_params['LOSS'], \n",
    "            metrics = model_params['METRICS']\n",
    "        )\n",
    "        \n",
    "        # Fit model\n",
    "        models[fold].fit(\n",
    "            x = tf.convert_to_tensor(x_train, np.float32),\n",
    "            y = tf.convert_to_tensor(y_train[:,1], np.float32), \n",
    "            batch_size = model_params['BATCH_SIZE'], \n",
    "            epochs = model_params['EPOCHS'],\n",
    "            class_weight = class_weights[fold],\n",
    "            callbacks = model_params['CALLBACKS'],\n",
    "            verbose = model_params['VERBOSITY'],\n",
    "        )\n",
    "        \n",
    "        # Make Predictions for Fold\n",
    "        fold_predictions = models[fold].predict(x=tf.convert_to_tensor(x_test, np.float32))\n",
    "        fold_predictions = pd.concat(\n",
    "            [\n",
    "                pd.Series(y_test[:,0], name='ID'), \n",
    "                pd.Series(y_test[:,1], name='CMIS_MATCH'), \n",
    "                pd.Series(np.transpose(fold_predictions)[0], name='prediction')\n",
    "            ], \n",
    "            axis=1, \n",
    "            join='inner',\n",
    "            ignore_index=False\n",
    "        )\n",
    "        predictions = predictions.append(fold_predictions)\n",
    "        \n",
    "    # Aggregate things to return\n",
    "    results = {'models':models, 'scalers':scalers, 'class_weights':class_weights, 'predictions':predictions}\n",
    "    \n",
    "    return results"
   ]
  },
  {
   "cell_type": "markdown",
   "id": "c4b7a0c8-c9d5-4a36-80d2-0c6a66abce37",
   "metadata": {},
   "source": [
    "## Run"
   ]
  },
  {
   "cell_type": "code",
   "execution_count": 7,
   "id": "1ed82221-0b0c-4b2e-9696-b9b35d725cc0",
   "metadata": {},
   "outputs": [],
   "source": [
    "NUM_FOLDS = 4\n",
    "\n",
    "model_params = {\n",
    "    'OPTIMIZER':'adam', \n",
    "    'LOSS':'binary_crossentropy', \n",
    "    'METRICS':['accuracy'],\n",
    "    #'CLASS_WEIGHT':class_weight,\n",
    "    'BATCH_SIZE':1,\n",
    "    'EPOCHS':5,\n",
    "    'CALLBACKS':[early_stopping],\n",
    "    'VERBOSITY':0\n",
    "    }\n",
    "\n",
    "results = k_folds_ann(model=model, model_params=model_params, x=X, y=Y, num_folds=NUM_FOLDS, scale_axis=2, scaler=StandardScaler())"
   ]
  },
  {
   "cell_type": "code",
   "execution_count": 8,
   "id": "102f2c6a-18b2-40b2-8471-60898c500751",
   "metadata": {},
   "outputs": [
    {
     "name": "stdout",
     "output_type": "stream",
     "text": [
      "255651\n"
     ]
    },
    {
     "data": {
      "text/html": [
       "<div>\n",
       "<style scoped>\n",
       "    .dataframe tbody tr th:only-of-type {\n",
       "        vertical-align: middle;\n",
       "    }\n",
       "\n",
       "    .dataframe tbody tr th {\n",
       "        vertical-align: top;\n",
       "    }\n",
       "\n",
       "    .dataframe thead th {\n",
       "        text-align: right;\n",
       "    }\n",
       "</style>\n",
       "<table border=\"1\" class=\"dataframe\">\n",
       "  <thead>\n",
       "    <tr style=\"text-align: right;\">\n",
       "      <th></th>\n",
       "      <th>ID</th>\n",
       "      <th>CMIS_MATCH</th>\n",
       "      <th>prediction</th>\n",
       "    </tr>\n",
       "  </thead>\n",
       "  <tbody>\n",
       "    <tr>\n",
       "      <th>0</th>\n",
       "      <td>258252-16023</td>\n",
       "      <td>False</td>\n",
       "      <td>0.402066</td>\n",
       "    </tr>\n",
       "    <tr>\n",
       "      <th>1</th>\n",
       "      <td>161480-101098</td>\n",
       "      <td>False</td>\n",
       "      <td>0.406842</td>\n",
       "    </tr>\n",
       "    <tr>\n",
       "      <th>2</th>\n",
       "      <td>45136-90459</td>\n",
       "      <td>False</td>\n",
       "      <td>0.393607</td>\n",
       "    </tr>\n",
       "    <tr>\n",
       "      <th>3</th>\n",
       "      <td>87469-122895</td>\n",
       "      <td>False</td>\n",
       "      <td>0.348661</td>\n",
       "    </tr>\n",
       "    <tr>\n",
       "      <th>4</th>\n",
       "      <td>177126-98814</td>\n",
       "      <td>False</td>\n",
       "      <td>0.372426</td>\n",
       "    </tr>\n",
       "  </tbody>\n",
       "</table>\n",
       "</div>"
      ],
      "text/plain": [
       "              ID CMIS_MATCH  prediction\n",
       "0   258252-16023      False    0.402066\n",
       "1  161480-101098      False    0.406842\n",
       "2    45136-90459      False    0.393607\n",
       "3   87469-122895      False    0.348661\n",
       "4   177126-98814      False    0.372426"
      ]
     },
     "execution_count": 8,
     "metadata": {},
     "output_type": "execute_result"
    }
   ],
   "source": [
    "print(len(results['predictions']))\n",
    "results['predictions'].head()"
   ]
  },
  {
   "cell_type": "markdown",
   "id": "7de18302-d34f-4bb3-8e35-28557b886ee7",
   "metadata": {},
   "source": [
    "# Convert Predictions\n",
    "* Take maximum risk prediction for each person.  \n",
    "* If person is labelled as both positive and negative, label them as positive."
   ]
  },
  {
   "cell_type": "code",
   "execution_count": 9,
   "id": "f3318efe-7006-459b-bc64-ac5b97416f0f",
   "metadata": {},
   "outputs": [
    {
     "data": {
      "text/html": [
       "<div>\n",
       "<style scoped>\n",
       "    .dataframe tbody tr th:only-of-type {\n",
       "        vertical-align: middle;\n",
       "    }\n",
       "\n",
       "    .dataframe tbody tr th {\n",
       "        vertical-align: top;\n",
       "    }\n",
       "\n",
       "    .dataframe thead th {\n",
       "        text-align: right;\n",
       "    }\n",
       "</style>\n",
       "<table border=\"1\" class=\"dataframe\">\n",
       "  <thead>\n",
       "    <tr style=\"text-align: right;\">\n",
       "      <th></th>\n",
       "      <th>SPA_PER_ID</th>\n",
       "      <th>prediction</th>\n",
       "      <th>CMIS_MATCH</th>\n",
       "    </tr>\n",
       "  </thead>\n",
       "  <tbody>\n",
       "    <tr>\n",
       "      <th>0</th>\n",
       "      <td>100002</td>\n",
       "      <td>0.564541</td>\n",
       "      <td>False</td>\n",
       "    </tr>\n",
       "    <tr>\n",
       "      <th>1</th>\n",
       "      <td>10001</td>\n",
       "      <td>0.586517</td>\n",
       "      <td>False</td>\n",
       "    </tr>\n",
       "    <tr>\n",
       "      <th>2</th>\n",
       "      <td>100011</td>\n",
       "      <td>0.565278</td>\n",
       "      <td>False</td>\n",
       "    </tr>\n",
       "    <tr>\n",
       "      <th>3</th>\n",
       "      <td>100012</td>\n",
       "      <td>0.551122</td>\n",
       "      <td>False</td>\n",
       "    </tr>\n",
       "    <tr>\n",
       "      <th>4</th>\n",
       "      <td>10002</td>\n",
       "      <td>0.614243</td>\n",
       "      <td>False</td>\n",
       "    </tr>\n",
       "  </tbody>\n",
       "</table>\n",
       "</div>"
      ],
      "text/plain": [
       "  SPA_PER_ID  prediction  CMIS_MATCH\n",
       "0     100002    0.564541       False\n",
       "1      10001    0.586517       False\n",
       "2     100011    0.565278       False\n",
       "3     100012    0.551122       False\n",
       "4      10002    0.614243       False"
      ]
     },
     "execution_count": 9,
     "metadata": {},
     "output_type": "execute_result"
    }
   ],
   "source": [
    "predictions = results['predictions'].copy()\n",
    "predictions['SPA_PER_ID'] = predictions['ID'].apply(lambda x: x.split('-')[0])\n",
    "\n",
    "matches = predictions.groupby('SPA_PER_ID')['CMIS_MATCH'].any()\n",
    "predictions = pd.concat([predictions.groupby('SPA_PER_ID')['prediction'].max(), matches], axis=1, join='inner', ignore_index=False)\n",
    "predictions = predictions.reset_index()\n",
    "del matches\n",
    "\n",
    "predictions.head()"
   ]
  },
  {
   "cell_type": "markdown",
   "id": "3dbe3950",
   "metadata": {},
   "source": [
    "# Time and Save"
   ]
  },
  {
   "cell_type": "code",
   "execution_count": 10,
   "id": "bd785dfb-5eb0-4cea-8fb7-42eeeb755c14",
   "metadata": {},
   "outputs": [],
   "source": [
    "filename = 'lstm_predictions.pickle'\n",
    "outfile = open(datapath + filename, 'wb')\n",
    "pickle.dump(predictions, outfile)\n",
    "outfile.close()"
   ]
  },
  {
   "cell_type": "code",
   "execution_count": 11,
   "id": "af3d80c0",
   "metadata": {},
   "outputs": [
    {
     "name": "stdout",
     "output_type": "stream",
     "text": [
      "hours:minutes:seconds = 3:49:9.42461109161377\n"
     ]
    }
   ],
   "source": [
    "from custom_methods.calc_time import calc_time_from_sec\n",
    "\n",
    "calc_time_from_sec(time.time()-startTime)"
   ]
  }
 ],
 "metadata": {
  "kernelspec": {
   "display_name": "Python 3",
   "language": "python",
   "name": "python3"
  },
  "language_info": {
   "codemirror_mode": {
    "name": "ipython",
    "version": 3
   },
   "file_extension": ".py",
   "mimetype": "text/x-python",
   "name": "python",
   "nbconvert_exporter": "python",
   "pygments_lexer": "ipython3",
   "version": "3.8.8"
  },
  "varInspector": {
   "cols": {
    "lenName": 16,
    "lenType": 16,
    "lenVar": 40
   },
   "kernels_config": {
    "python": {
     "delete_cmd_postfix": "",
     "delete_cmd_prefix": "del ",
     "library": "var_list.py",
     "varRefreshCmd": "print(var_dic_list())"
    },
    "r": {
     "delete_cmd_postfix": ") ",
     "delete_cmd_prefix": "rm(",
     "library": "var_list.r",
     "varRefreshCmd": "cat(var_dic_list()) "
    }
   },
   "types_to_exclude": [
    "module",
    "function",
    "builtin_function_or_method",
    "instance",
    "_Feature"
   ],
   "window_display": false
  }
 },
 "nbformat": 4,
 "nbformat_minor": 5
}
