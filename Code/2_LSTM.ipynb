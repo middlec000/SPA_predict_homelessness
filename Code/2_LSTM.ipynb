{
 "cells": [
  {
   "cell_type": "markdown",
   "id": "3348e562",
   "metadata": {},
   "source": [
    "# Setup"
   ]
  },
  {
   "cell_type": "code",
   "execution_count": 1,
   "id": "d4007339",
   "metadata": {
    "ExecuteTime": {
     "end_time": "2021-07-17T00:48:52.950267Z",
     "start_time": "2021-07-17T00:48:52.943285Z"
    }
   },
   "outputs": [],
   "source": [
    "import pandas as pd\n",
    "import numpy as np\n",
    "import pickle\n",
    "import time\n",
    "\n",
    "from custom_methods import model_eval\n",
    "\n",
    "datapath = '../Data/'\n",
    "\n",
    "startTime = time.time()"
   ]
  },
  {
   "cell_type": "code",
   "execution_count": 2,
   "id": "705a4ca9",
   "metadata": {
    "ExecuteTime": {
     "end_time": "2021-07-16T22:09:38.129402Z",
     "start_time": "2021-07-16T22:09:37.829600Z"
    }
   },
   "outputs": [
    {
     "name": "stdout",
     "output_type": "stream",
     "text": [
      "<class 'numpy.ndarray'>\n"
     ]
    },
    {
     "data": {
      "text/plain": [
       "array([[[-0.28867513, -0.28867513,  0.        , ..., -1.08012345,\n",
       "         -1.08012345, -1.08012345],\n",
       "        [ 0.        ,  0.        , -0.28867513, ..., -1.08012345,\n",
       "         -1.08012345, -1.08012345],\n",
       "        [ 0.        ,  0.        , -0.28867513, ..., -1.08012345,\n",
       "         -1.08012345, -1.08012345],\n",
       "        ...,\n",
       "        [ 0.        ,  0.        , -0.28867513, ...,  0.        ,\n",
       "         -0.49746834,  0.28867513],\n",
       "        [ 0.        ,  0.        , -0.28867513, ...,  0.        ,\n",
       "         -0.49746834,  0.28867513],\n",
       "        [ 0.        ,  0.        , -0.28867513, ...,  0.        ,\n",
       "         -0.64951905,  0.28867513]],\n",
       "\n",
       "       [[-0.28867513, -0.28867513,  0.        , ..., -1.08012345,\n",
       "         -1.08012345, -1.08012345],\n",
       "        [ 0.        ,  0.        , -0.28867513, ..., -1.08012345,\n",
       "         -1.08012345, -1.08012345],\n",
       "        [ 0.        ,  0.        , -0.28867513, ..., -1.08012345,\n",
       "         -1.08012345, -1.08012345],\n",
       "        ...,\n",
       "        [ 0.        ,  0.        , -0.28867513, ...,  0.        ,\n",
       "         -0.49746834, -3.46410162],\n",
       "        [ 0.        ,  0.        , -0.28867513, ...,  0.        ,\n",
       "         -0.49746834, -3.46410162],\n",
       "        [ 0.        ,  0.        , -0.28867513, ...,  0.        ,\n",
       "          0.28867513, -3.46410162]],\n",
       "\n",
       "       [[-0.28867513, -0.28867513,  0.        , ..., -1.08012345,\n",
       "         -1.08012345, -1.08012345],\n",
       "        [ 0.        ,  0.        , -0.28867513, ..., -1.08012345,\n",
       "         -1.08012345, -1.08012345],\n",
       "        [ 0.        ,  0.        , -0.28867513, ..., -1.08012345,\n",
       "         -1.08012345, -1.08012345],\n",
       "        ...,\n",
       "        [ 0.        ,  0.        , -0.28867513, ...,  0.        ,\n",
       "          2.27414097,  0.28867513],\n",
       "        [ 0.        ,  0.        , -0.28867513, ...,  0.        ,\n",
       "          2.27414097,  0.28867513],\n",
       "        [ 0.        ,  0.        , -0.28867513, ...,  0.        ,\n",
       "          2.16506351,  0.28867513]],\n",
       "\n",
       "       ...,\n",
       "\n",
       "       [[-0.28867513, -0.28867513,  0.        , ..., -1.08012345,\n",
       "         -1.08012345, -1.08012345],\n",
       "        [ 0.        ,  0.        , -0.28867513, ..., -1.08012345,\n",
       "         -1.08012345, -1.08012345],\n",
       "        [ 0.        ,  0.        , -0.28867513, ..., -1.08012345,\n",
       "         -1.08012345, -1.08012345],\n",
       "        ...,\n",
       "        [ 0.        ,  0.        , -0.28867513, ...,  0.        ,\n",
       "          2.27414097,  0.28867513],\n",
       "        [ 0.        ,  0.        , -0.28867513, ...,  0.        ,\n",
       "          2.27414097,  0.28867513],\n",
       "        [ 0.        ,  0.        , -0.28867513, ...,  0.        ,\n",
       "          2.16506351,  0.28867513]],\n",
       "\n",
       "       [[-0.28867513, -0.28867513,  0.        , ...,  0.9258201 ,\n",
       "          0.9258201 ,  0.9258201 ],\n",
       "        [ 0.        ,  0.        , -0.28867513, ...,  0.9258201 ,\n",
       "          0.9258201 ,  0.9258201 ],\n",
       "        [ 0.        ,  0.        , -0.28867513, ...,  0.9258201 ,\n",
       "          0.9258201 ,  0.9258201 ],\n",
       "        ...,\n",
       "        [ 0.        ,  0.        , -0.28867513, ...,  0.        ,\n",
       "         -0.49746834,  0.28867513],\n",
       "        [ 0.        ,  0.        , -0.28867513, ...,  0.        ,\n",
       "         -0.49746834,  0.28867513],\n",
       "        [ 0.        ,  0.        , -0.28867513, ...,  0.        ,\n",
       "         -0.64951905,  0.28867513]],\n",
       "\n",
       "       [[-0.28867513, -0.28867513,  0.        , ...,  0.9258201 ,\n",
       "          0.9258201 ,  0.9258201 ],\n",
       "        [ 0.        ,  0.        , -0.28867513, ...,  0.9258201 ,\n",
       "          0.9258201 ,  0.9258201 ],\n",
       "        [ 0.        ,  0.        , -0.28867513, ...,  0.9258201 ,\n",
       "          0.9258201 ,  0.9258201 ],\n",
       "        ...,\n",
       "        [ 0.        ,  0.        , -0.28867513, ...,  0.        ,\n",
       "         -0.49746834,  0.28867513],\n",
       "        [ 0.        ,  0.        , -0.28867513, ...,  0.        ,\n",
       "         -0.49746834,  0.28867513],\n",
       "        [ 0.        ,  0.        , -0.28867513, ...,  0.        ,\n",
       "         -0.64951905,  0.28867513]]])"
      ]
     },
     "execution_count": 2,
     "metadata": {},
     "output_type": "execute_result"
    }
   ],
   "source": [
    "filename = 'ann_ready.pickle'\n",
    "infile = open(datapath+filename,'rb')\n",
    "data = pickle.load(infile)\n",
    "X_train = data['X_train']\n",
    "Y_train = data['Y_train']\n",
    "X_test = data['X_test']\n",
    "Y_test = data['Y_test']\n",
    "infile.close()\n",
    "\n",
    "print(type(X_train))\n",
    "X_train"
   ]
  },
  {
   "cell_type": "markdown",
   "id": "f2323b38",
   "metadata": {},
   "source": [
    "# Model"
   ]
  },
  {
   "cell_type": "markdown",
   "id": "d507e400-44c8-44e3-aa97-1a2434d5bfed",
   "metadata": {},
   "source": [
    "## Set Initial Bias"
   ]
  },
  {
   "cell_type": "markdown",
   "id": "7a8c4807-55b4-463a-bec4-9ef00c7eba9d",
   "metadata": {},
   "source": [
    "## Build Model"
   ]
  },
  {
   "cell_type": "code",
   "execution_count": 13,
   "id": "997ca1d8",
   "metadata": {
    "ExecuteTime": {
     "end_time": "2021-07-16T22:09:39.563239Z",
     "start_time": "2021-07-16T22:09:39.315023Z"
    }
   },
   "outputs": [
    {
     "name": "stdout",
     "output_type": "stream",
     "text": [
      "Model: \"sequential_1\"\n",
      "_________________________________________________________________\n",
      "Layer (type)                 Output Shape              Param #   \n",
      "=================================================================\n",
      "lstm_1 (LSTM)                (None, 64)                20992     \n",
      "_________________________________________________________________\n",
      "dense_1 (Dense)              (None, 1)                 65        \n",
      "=================================================================\n",
      "Total params: 21,057\n",
      "Trainable params: 21,057\n",
      "Non-trainable params: 0\n",
      "_________________________________________________________________\n",
      "None\n"
     ]
    }
   ],
   "source": [
    "from keras.callbacks import EarlyStopping\n",
    "from keras.models import Sequential\n",
    "from keras.layers import Dense, LSTM, SpatialDropout1D\n",
    "from keras.callbacks import EarlyStopping\n",
    "\n",
    "early_stopping= EarlyStopping(\n",
    "    monitor='loss',\n",
    "    min_delta=0.001,\n",
    "    patience=2,\n",
    "    restore_best_weights=True\n",
    ")\n",
    "\n",
    "model = Sequential()\n",
    "\n",
    "# Create input layer + LSTM\n",
    "model.add(\n",
    "    LSTM(\n",
    "        units = 64,\n",
    "        input_shape = (X_train.shape[1], X_train.shape[2]),\n",
    "    )\n",
    ")\n",
    "\n",
    "# Create output layer\n",
    "model.add(\n",
    "    Dense(\n",
    "        units = 1, \n",
    "        activation='sigmoid', \n",
    "    )\n",
    ")\n",
    "\n",
    "# Compile ANN\n",
    "model.compile(\n",
    "    optimizer='adam', \n",
    "    loss='binary_crossentropy', \n",
    "    metrics=['accuracy']\n",
    ")\n",
    "\n",
    "# Print model summary\n",
    "print(model.summary())"
   ]
  },
  {
   "cell_type": "markdown",
   "id": "80db8119-9079-48ef-81da-7f734d1026b1",
   "metadata": {},
   "source": [
    "## Class Weight"
   ]
  },
  {
   "cell_type": "code",
   "execution_count": 14,
   "id": "20b2393c-0598-43c8-ab34-a96cbca88bfc",
   "metadata": {},
   "outputs": [
    {
     "name": "stdout",
     "output_type": "stream",
     "text": [
      "Weight for class F: 0.54\n",
      "Weight for class T: 6.50\n"
     ]
    }
   ],
   "source": [
    "# Scaling by total/2 helps keep the loss to a similar magnitude.\n",
    "# The sum of the weights of all examples stays the same.\n",
    "# pos = Y_train.sum().values[0]\n",
    "pos = 1\n",
    "total = len(Y_train)\n",
    "neg = total - pos\n",
    "\n",
    "weight_for_F = (1 / neg) * (total / 2.0)\n",
    "weight_for_T = (1 / pos) * (total / 2.0)\n",
    "\n",
    "class_weight = {False: weight_for_F, True: weight_for_T}\n",
    "\n",
    "print('Weight for class F: {:.2f}'.format(weight_for_F))\n",
    "print('Weight for class T: {:.2f}'.format(weight_for_T))"
   ]
  },
  {
   "cell_type": "markdown",
   "id": "3ba15362-f5b3-433d-b0bf-2adcb03c3c57",
   "metadata": {},
   "source": [
    "## Fit"
   ]
  },
  {
   "cell_type": "code",
   "execution_count": 15,
   "id": "9a3b0ecc",
   "metadata": {
    "ExecuteTime": {
     "end_time": "2021-07-16T22:16:18.265829Z",
     "start_time": "2021-07-16T22:09:39.565204Z"
    },
    "scrolled": true
   },
   "outputs": [
    {
     "name": "stdout",
     "output_type": "stream",
     "text": [
      "Epoch 1/5\n",
      "13/13 [==============================] - 0s 9ms/step - loss: 0.3425 - accuracy: 0.6154\n",
      "Epoch 2/5\n",
      "13/13 [==============================] - 0s 9ms/step - loss: 0.1971 - accuracy: 0.9231\n",
      "Epoch 3/5\n",
      "13/13 [==============================] - 0s 8ms/step - loss: 0.0956 - accuracy: 1.0000\n",
      "Epoch 4/5\n",
      "13/13 [==============================] - 0s 8ms/step - loss: 0.0429 - accuracy: 1.0000\n",
      "Epoch 5/5\n",
      "13/13 [==============================] - 0s 8ms/step - loss: 0.0239 - accuracy: 1.0000\n"
     ]
    },
    {
     "data": {
      "text/plain": [
       "<tensorflow.python.keras.callbacks.History at 0x285dd2c15b0>"
      ]
     },
     "execution_count": 15,
     "metadata": {},
     "output_type": "execute_result"
    }
   ],
   "source": [
    "BATCH_SIZE = 1\n",
    "EPOCHS = 5\n",
    "\n",
    "\n",
    "model.fit(\n",
    "    x = X_train, \n",
    "    y = Y_train, \n",
    "    batch_size = BATCH_SIZE, \n",
    "    epochs = EPOCHS,\n",
    "    class_weight = class_weight,\n",
    "    callbacks=[callback]\n",
    ")"
   ]
  },
  {
   "cell_type": "code",
   "execution_count": 18,
   "id": "3d68a1fa",
   "metadata": {},
   "outputs": [
    {
     "data": {
      "text/html": [
       "<div>\n",
       "<style scoped>\n",
       "    .dataframe tbody tr th:only-of-type {\n",
       "        vertical-align: middle;\n",
       "    }\n",
       "\n",
       "    .dataframe tbody tr th {\n",
       "        vertical-align: top;\n",
       "    }\n",
       "\n",
       "    .dataframe thead th {\n",
       "        text-align: right;\n",
       "    }\n",
       "</style>\n",
       "<table border=\"1\" class=\"dataframe\">\n",
       "  <thead>\n",
       "    <tr style=\"text-align: right;\">\n",
       "      <th></th>\n",
       "      <th>SPA_PER_ID</th>\n",
       "      <th>CMIS_MATCH</th>\n",
       "      <th>prediction</th>\n",
       "    </tr>\n",
       "  </thead>\n",
       "  <tbody>\n",
       "    <tr>\n",
       "      <th>0</th>\n",
       "      <td>64412</td>\n",
       "      <td>False</td>\n",
       "      <td>0.007906</td>\n",
       "    </tr>\n",
       "    <tr>\n",
       "      <th>1</th>\n",
       "      <td>124687</td>\n",
       "      <td>False</td>\n",
       "      <td>0.008017</td>\n",
       "    </tr>\n",
       "    <tr>\n",
       "      <th>2</th>\n",
       "      <td>142930</td>\n",
       "      <td>False</td>\n",
       "      <td>0.547152</td>\n",
       "    </tr>\n",
       "    <tr>\n",
       "      <th>3</th>\n",
       "      <td>228452</td>\n",
       "      <td>False</td>\n",
       "      <td>0.006629</td>\n",
       "    </tr>\n",
       "    <tr>\n",
       "      <th>4</th>\n",
       "      <td>258799</td>\n",
       "      <td>False</td>\n",
       "      <td>0.125511</td>\n",
       "    </tr>\n",
       "  </tbody>\n",
       "</table>\n",
       "</div>"
      ],
      "text/plain": [
       "   SPA_PER_ID  CMIS_MATCH  prediction\n",
       "0       64412       False    0.007906\n",
       "1      124687       False    0.008017\n",
       "2      142930       False    0.547152\n",
       "3      228452       False    0.006629\n",
       "4      258799       False    0.125511"
      ]
     },
     "execution_count": 18,
     "metadata": {},
     "output_type": "execute_result"
    }
   ],
   "source": [
    "predictions = model.predict(x = X_test)\n",
    "predictions = pd.Series(np.transpose(predictions)[0], name='prediction')\n",
    "predictions = pd.concat([Y_test.reset_index(), predictions], axis=1, join='inner', ignore_index=False)\n",
    "predictions.head()"
   ]
  },
  {
   "cell_type": "markdown",
   "id": "3dbe3950",
   "metadata": {},
   "source": [
    "# Time and Save"
   ]
  },
  {
   "cell_type": "code",
   "execution_count": null,
   "id": "bd785dfb-5eb0-4cea-8fb7-42eeeb755c14",
   "metadata": {},
   "outputs": [],
   "source": [
    "filename = 'lstm_predictions.pickle'\n",
    "outfile = open(datapath + filename, 'wb')\n",
    "pickle.dump(predictions, outfile)\n",
    "outfile.close()"
   ]
  },
  {
   "cell_type": "code",
   "execution_count": null,
   "id": "af3d80c0",
   "metadata": {},
   "outputs": [],
   "source": [
    "from custom_methods.calc_time import calc_time_from_sec\n",
    "\n",
    "calc_time_from_sec(time.time()-startTime)"
   ]
  }
 ],
 "metadata": {
  "kernelspec": {
   "display_name": "Python 3",
   "language": "python",
   "name": "python3"
  },
  "language_info": {
   "codemirror_mode": {
    "name": "ipython",
    "version": 3
   },
   "file_extension": ".py",
   "mimetype": "text/x-python",
   "name": "python",
   "nbconvert_exporter": "python",
   "pygments_lexer": "ipython3",
   "version": "3.8.8"
  },
  "varInspector": {
   "cols": {
    "lenName": 16,
    "lenType": 16,
    "lenVar": 40
   },
   "kernels_config": {
    "python": {
     "delete_cmd_postfix": "",
     "delete_cmd_prefix": "del ",
     "library": "var_list.py",
     "varRefreshCmd": "print(var_dic_list())"
    },
    "r": {
     "delete_cmd_postfix": ") ",
     "delete_cmd_prefix": "rm(",
     "library": "var_list.r",
     "varRefreshCmd": "cat(var_dic_list()) "
    }
   },
   "types_to_exclude": [
    "module",
    "function",
    "builtin_function_or_method",
    "instance",
    "_Feature"
   ],
   "window_display": false
  }
 },
 "nbformat": 4,
 "nbformat_minor": 5
}
