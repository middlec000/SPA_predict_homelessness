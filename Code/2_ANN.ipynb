{
 "cells": [
  {
   "cell_type": "markdown",
   "metadata": {},
   "source": [
    "# Imports "
   ]
  },
  {
   "cell_type": "code",
   "execution_count": 22,
   "metadata": {},
   "outputs": [],
   "source": [
    "import pandas as pd\n",
    "import numpy as np\n",
    "import pickle\n",
    "import time"
   ]
  },
  {
   "cell_type": "code",
   "execution_count": 23,
   "metadata": {},
   "outputs": [],
   "source": [
    "startTime = time.time()"
   ]
  },
  {
   "cell_type": "markdown",
   "metadata": {},
   "source": [
    "# Get Data"
   ]
  },
  {
   "cell_type": "code",
   "execution_count": 24,
   "metadata": {},
   "outputs": [
    {
     "data": {
      "text/html": "<div>\n<style scoped>\n    .dataframe tbody tr th:only-of-type {\n        vertical-align: middle;\n    }\n\n    .dataframe tbody tr th {\n        vertical-align: top;\n    }\n\n    .dataframe thead th {\n        text-align: right;\n    }\n</style>\n<table border=\"1\" class=\"dataframe\">\n  <thead>\n    <tr style=\"text-align: right;\">\n      <th></th>\n      <th>SPA_PER_ID</th>\n      <th>SPA_PREM_ID</th>\n      <th>ARREARSMONTH</th>\n      <th>SPA_ACCT_ID</th>\n      <th>RES_EL_CUR120_DAYS</th>\n      <th>RES_EL_CUR22_DAYS</th>\n      <th>RES_EL_CUR30_DAYS</th>\n      <th>RES_EL_CUR60_DAYS</th>\n      <th>RES_EL_CUR90_DAYS</th>\n      <th>RES_EL_CUR_BAL_AMT</th>\n      <th>...</th>\n      <th>TOTAL_30_DAYS_AMT</th>\n      <th>TOTAL_60_DAYS_AMT</th>\n      <th>TOTAL_90_DAYS_AMT</th>\n      <th>TOTAL_CUR_BALANCE</th>\n      <th>CMIS_DB_ENTRY</th>\n      <th>MO_AWAY</th>\n      <th>WITHIN_6_MO_PRIOR_LAST_DATA</th>\n      <th>LAST_MO_W_DATA</th>\n      <th>NUM_PREM_FOR_PER</th>\n      <th>NUM_PER_FOR_PREM</th>\n    </tr>\n  </thead>\n  <tbody>\n    <tr>\n      <th>0</th>\n      <td>1</td>\n      <td>59971</td>\n      <td>59</td>\n      <td>249321</td>\n      <td>0.0</td>\n      <td>0.00</td>\n      <td>0.0</td>\n      <td>0.0</td>\n      <td>0.0</td>\n      <td>0.00</td>\n      <td>...</td>\n      <td>0.0</td>\n      <td>0.0</td>\n      <td>0.0</td>\n      <td>0.00</td>\n      <td>False</td>\n      <td>NaN</td>\n      <td>False</td>\n      <td>False</td>\n      <td>1</td>\n      <td>2</td>\n    </tr>\n    <tr>\n      <th>1</th>\n      <td>1</td>\n      <td>59971</td>\n      <td>60</td>\n      <td>249321</td>\n      <td>0.0</td>\n      <td>0.00</td>\n      <td>0.0</td>\n      <td>0.0</td>\n      <td>0.0</td>\n      <td>0.00</td>\n      <td>...</td>\n      <td>0.0</td>\n      <td>0.0</td>\n      <td>0.0</td>\n      <td>0.00</td>\n      <td>False</td>\n      <td>NaN</td>\n      <td>False</td>\n      <td>False</td>\n      <td>1</td>\n      <td>2</td>\n    </tr>\n    <tr>\n      <th>2</th>\n      <td>3</td>\n      <td>98612</td>\n      <td>0</td>\n      <td>171648</td>\n      <td>0.0</td>\n      <td>0.00</td>\n      <td>0.0</td>\n      <td>0.0</td>\n      <td>0.0</td>\n      <td>0.00</td>\n      <td>...</td>\n      <td>0.0</td>\n      <td>0.0</td>\n      <td>0.0</td>\n      <td>103.40</td>\n      <td>False</td>\n      <td>NaN</td>\n      <td>False</td>\n      <td>False</td>\n      <td>1</td>\n      <td>1</td>\n    </tr>\n    <tr>\n      <th>3</th>\n      <td>3</td>\n      <td>98612</td>\n      <td>1</td>\n      <td>171648</td>\n      <td>0.0</td>\n      <td>65.26</td>\n      <td>0.0</td>\n      <td>0.0</td>\n      <td>0.0</td>\n      <td>65.26</td>\n      <td>...</td>\n      <td>0.0</td>\n      <td>0.0</td>\n      <td>0.0</td>\n      <td>307.71</td>\n      <td>False</td>\n      <td>NaN</td>\n      <td>False</td>\n      <td>False</td>\n      <td>1</td>\n      <td>1</td>\n    </tr>\n    <tr>\n      <th>4</th>\n      <td>3</td>\n      <td>98612</td>\n      <td>2</td>\n      <td>171648</td>\n      <td>0.0</td>\n      <td>0.00</td>\n      <td>0.0</td>\n      <td>0.0</td>\n      <td>0.0</td>\n      <td>0.00</td>\n      <td>...</td>\n      <td>0.0</td>\n      <td>0.0</td>\n      <td>0.0</td>\n      <td>105.80</td>\n      <td>False</td>\n      <td>NaN</td>\n      <td>False</td>\n      <td>False</td>\n      <td>1</td>\n      <td>1</td>\n    </tr>\n  </tbody>\n</table>\n<p>5 rows × 61 columns</p>\n</div>",
      "text/plain": "   SPA_PER_ID  SPA_PREM_ID  ARREARSMONTH  SPA_ACCT_ID  RES_EL_CUR120_DAYS  \\\n0           1        59971            59       249321                 0.0   \n1           1        59971            60       249321                 0.0   \n2           3        98612             0       171648                 0.0   \n3           3        98612             1       171648                 0.0   \n4           3        98612             2       171648                 0.0   \n\n   RES_EL_CUR22_DAYS  RES_EL_CUR30_DAYS  RES_EL_CUR60_DAYS  RES_EL_CUR90_DAYS  \\\n0               0.00                0.0                0.0                0.0   \n1               0.00                0.0                0.0                0.0   \n2               0.00                0.0                0.0                0.0   \n3              65.26                0.0                0.0                0.0   \n4               0.00                0.0                0.0                0.0   \n\n   RES_EL_CUR_BAL_AMT  ...  TOTAL_30_DAYS_AMT  TOTAL_60_DAYS_AMT  \\\n0                0.00  ...                0.0                0.0   \n1                0.00  ...                0.0                0.0   \n2                0.00  ...                0.0                0.0   \n3               65.26  ...                0.0                0.0   \n4                0.00  ...                0.0                0.0   \n\n   TOTAL_90_DAYS_AMT  TOTAL_CUR_BALANCE  CMIS_DB_ENTRY  MO_AWAY  \\\n0                0.0               0.00          False      NaN   \n1                0.0               0.00          False      NaN   \n2                0.0             103.40          False      NaN   \n3                0.0             307.71          False      NaN   \n4                0.0             105.80          False      NaN   \n\n   WITHIN_6_MO_PRIOR_LAST_DATA  LAST_MO_W_DATA  NUM_PREM_FOR_PER  \\\n0                        False           False                 1   \n1                        False           False                 1   \n2                        False           False                 1   \n3                        False           False                 1   \n4                        False           False                 1   \n\n   NUM_PER_FOR_PREM  \n0                 2  \n1                 2  \n2                 1  \n3                 1  \n4                 1  \n\n[5 rows x 61 columns]"
     },
     "execution_count": 24,
     "metadata": {},
     "output_type": "execute_result"
    }
   ],
   "source": [
    "filename = '../../002_Data/Release_3/data_combined.pickle'\n",
    "infile = open(filename,'rb')\n",
    "df = pickle.load(infile)\n",
    "infile.close()\n",
    "df.head()"
   ]
  },
  {
   "cell_type": "code",
   "execution_count": 25,
   "metadata": {},
   "outputs": [
    {
     "data": {
      "text/plain": "['SPA_PER_ID',\n 'SPA_PREM_ID',\n 'ARREARSMONTH',\n 'SPA_ACCT_ID',\n 'RES_EL_CUR120_DAYS',\n 'RES_EL_CUR22_DAYS',\n 'RES_EL_CUR30_DAYS',\n 'RES_EL_CUR60_DAYS',\n 'RES_EL_CUR90_DAYS',\n 'RES_EL_CUR_BAL_AMT',\n 'RES_EL_OVER_120_DAYS',\n 'RES_GAS_CUR120_DAYS',\n 'RES_GAS_CUR22_DAYS',\n 'RES_GAS_CUR30_DAYS',\n 'RES_GAS_CUR60_DAYS',\n 'RES_GAS_CUR90_DAYS',\n 'RES_GAS_CUR_BAL_AMT',\n 'RES_GAS_OVER_120_DAYS',\n 'BREAK_ARRANGEMENT',\n 'BREAK_PAY_PLAN',\n 'CALL_OUT',\n 'CALL_OUT_MANUAL',\n 'DUE_DATE',\n 'FINAL_NOTICE',\n 'PAST_DUE',\n 'SEVERANCE_ELECTRIC',\n 'SEVERANCE_GAS',\n 'CITY_TOT_DUE',\n 'CITY_30_DAYS_PAST_DUE_AMT',\n 'CITY_60_DAYS_PAST_DUE_AMT',\n 'CITY_90_DAYS_PAST_DUE_AMT',\n 'COVID_REMINDER',\n 'CMIS_MATCH',\n 'APARTMENT',\n 'ENROLL_DATE',\n 'HAS_COTENANT',\n 'BLOCKGROUP_GEOID',\n 'POSTAL',\n 'AGG_INCOME_GEO',\n 'NO_EARNINGS_GEO',\n 'BELOW_POVERTY_LVL_GEO',\n 'SNAP_GEO',\n 'ABOVE_GRD7_GEO',\n 'PUBLIC_ASSIST_GEO',\n 'AVISTA_CUR120_DAYS',\n 'AVISTA_OVER_120_DAYS',\n 'AVISTA_CUR22_DAYS',\n 'AVISTA_CUR30_DAYS',\n 'AVISTA_CUR60_DAYS',\n 'AVISTA_CUR90_DAYS',\n 'AVISTA_CUR_BAL_AMT',\n 'TOTAL_30_DAYS_AMT',\n 'TOTAL_60_DAYS_AMT',\n 'TOTAL_90_DAYS_AMT',\n 'TOTAL_CUR_BALANCE',\n 'CMIS_DB_ENTRY',\n 'MO_AWAY',\n 'WITHIN_6_MO_PRIOR_LAST_DATA',\n 'LAST_MO_W_DATA',\n 'NUM_PREM_FOR_PER',\n 'NUM_PER_FOR_PREM']"
     },
     "execution_count": 25,
     "metadata": {},
     "output_type": "execute_result"
    }
   ],
   "source": [
    "df.columns.to_list()"
   ]
  },
  {
   "cell_type": "code",
   "execution_count": 26,
   "metadata": {},
   "outputs": [],
   "source": [
    "to_drop = [\n",
    "    # Billing\n",
    "    'RES_EL_CUR120_DAYS',\n",
    "    'RES_EL_CUR22_DAYS',\n",
    "    'RES_EL_CUR30_DAYS',\n",
    "    'RES_EL_CUR60_DAYS',\n",
    "    'RES_EL_CUR90_DAYS',\n",
    "    'RES_EL_CUR_BAL_AMT',\n",
    "    'RES_EL_OVER_120_DAYS',\n",
    "    'RES_GAS_CUR120_DAYS',\n",
    "    'RES_GAS_CUR22_DAYS',\n",
    "    'RES_GAS_CUR30_DAYS',\n",
    "    'RES_GAS_CUR60_DAYS',\n",
    "    'RES_GAS_CUR90_DAYS',\n",
    "    'RES_GAS_CUR_BAL_AMT',\n",
    "    'RES_GAS_OVER_120_DAYS',\n",
    "    'CITY_TOT_DUE',\n",
    "    'CITY_30_DAYS_PAST_DUE_AMT',\n",
    "    'CITY_60_DAYS_PAST_DUE_AMT',\n",
    "    'CITY_90_DAYS_PAST_DUE_AMT',\n",
    "    'AVISTA_CUR120_DAYS',\n",
    "    'AVISTA_OVER_120_DAYS',\n",
    "    'AVISTA_CUR22_DAYS',\n",
    "    'AVISTA_CUR30_DAYS',\n",
    "    'AVISTA_CUR60_DAYS',\n",
    "    'AVISTA_CUR90_DAYS',\n",
    "    'AVISTA_CUR_BAL_AMT',\n",
    "    'TOTAL_30_DAYS_AMT',\n",
    "    'TOTAL_60_DAYS_AMT',\n",
    "    'TOTAL_90_DAYS_AMT',\n",
    "    # Only 2020\n",
    "    'COVID_REMINDER',\n",
    "    # Don't want to predict on these\n",
    "    'SPA_PREM_ID',\n",
    "    'ARREARSMONTH',\n",
    "    'SPA_ACCT_ID',\n",
    "    'POSTAL',\n",
    "    'BLOCKGROUP_GEOID',\n",
    "    'ENROLL_DATE',\n",
    "    'MO_AWAY'\n",
    "]\n",
    "df.drop(to_drop, axis=1, inplace=True)"
   ]
  },
  {
   "cell_type": "markdown",
   "metadata": {},
   "source": [
    "## Choose Predictor Variable"
   ]
  },
  {
   "cell_type": "code",
   "execution_count": 27,
   "metadata": {},
   "outputs": [
    {
     "data": {
      "text/plain": "['SPA_PER_ID',\n 'BREAK_ARRANGEMENT',\n 'BREAK_PAY_PLAN',\n 'CALL_OUT',\n 'CALL_OUT_MANUAL',\n 'DUE_DATE',\n 'FINAL_NOTICE',\n 'PAST_DUE',\n 'SEVERANCE_ELECTRIC',\n 'SEVERANCE_GAS',\n 'CMIS_MATCH',\n 'APARTMENT',\n 'HAS_COTENANT',\n 'AGG_INCOME_GEO',\n 'NO_EARNINGS_GEO',\n 'BELOW_POVERTY_LVL_GEO',\n 'SNAP_GEO',\n 'ABOVE_GRD7_GEO',\n 'PUBLIC_ASSIST_GEO',\n 'TOTAL_CUR_BALANCE',\n 'NUM_PREM_FOR_PER',\n 'NUM_PER_FOR_PREM']"
     },
     "execution_count": 27,
     "metadata": {},
     "output_type": "execute_result"
    }
   ],
   "source": [
    "event_col = 0\r\n",
    "\r\n",
    "event_cols = [\r\n",
    "    'CMIS_MATCH',\r\n",
    "    \"CMIS_DB_ENTRY\",\r\n",
    "    'LAST_MO_W_DATA',\r\n",
    "    \"WITHIN_6_MO_PRIOR_LAST_DATA\"\r\n",
    "]\r\n",
    "event_col = event_cols[event_col]\r\n",
    "event_cols.remove(event_col)\r\n",
    "df = df.drop(event_cols, axis=1).drop_duplicates()\r\n",
    "\r\n",
    "id_col = \"SPA_PER_ID\"\r\n",
    "\r\n",
    "df = df.astype('float')\r\n",
    "\r\n",
    "df.columns.to_list()"
   ]
  },
  {
   "cell_type": "markdown",
   "metadata": {},
   "source": [
    "## Normalize Data"
   ]
  },
  {
   "cell_type": "code",
   "execution_count": 62,
   "metadata": {},
   "outputs": [
    {
     "name": "stdout",
     "output_type": "stream",
     "text": [
      "N Cases: 1004085, P Cases: 2180\n",
      "Cases: Counter({0.0: 2180, 1.0: 2180})\n"
     ]
    }
   ],
   "source": [
    "from sklearn.preprocessing import StandardScaler\r\n",
    "from sklearn.utils import class_weight\r\n",
    "from custom_methods import model_eval\r\n",
    "from imblearn.under_sampling import RandomUnderSampler\r\n",
    "from collections import Counter\r\n",
    "\r\n",
    "df_test, df_train = model_eval.split_on_people(df, id_col)\r\n",
    "\r\n",
    "sc = StandardScaler()\r\n",
    "df_train.update(sc.fit_transform(df_train.drop([event_col, id_col], axis=1)))\r\n",
    "\r\n",
    "df_test.update(sc.transform(df_test.drop([event_col, id_col], axis=1)))\r\n",
    "# Undersample N Cases\r\n",
    "print(f\"N Cases: {len(df_train[df_train[event_col] == 0.0])}, P Cases: {len(df_train[df_train[event_col] == 1.0])}\")\r\n",
    "rus = RandomUnderSampler(sampling_strategy='majority', random_state=42)\r\n",
    "X_res, y_res = rus.fit_sample(X=df_train.drop([event_col, id_col], axis=1), y=df_train[event_col])\r\n",
    "print(f\"Cases: {Counter(y_res)}\")\r\n",
    "\r\n",
    "#class_weights = dict(enumerate(class_weight.compute_class_weight('balanced', classes=df_train[event_col].unique(), y=df_train[event_col])))"
   ]
  },
  {
   "cell_type": "markdown",
   "metadata": {},
   "source": [
    "# Build Model"
   ]
  },
  {
   "cell_type": "code",
   "execution_count": 29,
   "metadata": {},
   "outputs": [],
   "source": [
    "from keras.callbacks import EarlyStopping"
   ]
  },
  {
   "cell_type": "code",
   "execution_count": 70,
   "metadata": {},
   "outputs": [],
   "source": [
    "# Source: https://analyticsindiamag.com/how-to-create-your-first-artificial-neural-network-in-python/\r\n",
    "import keras\r\n",
    "from keras.models import Sequential\r\n",
    "from keras.layers import Dense\r\n",
    "from keras.callbacks import EarlyStopping\r\n",
    "from keras.optimizers import SGD\r\n",
    "\r\n",
    "from custom_methods import model_eval\r\n",
    "\r\n",
    "model = Sequential()\r\n",
    "\r\n",
    "callback = EarlyStopping(\r\n",
    "    monitor='loss',\r\n",
    "    min_delta=0.001,\r\n",
    "    patience=2,\r\n",
    "    restore_best_weights=True\r\n",
    ")\r\n",
    "\r\n",
    "# Create input layer + first hidden layer\r\n",
    "model.add(Dense(input_dim = len(df.drop([event_col, id_col], axis=1).columns), units = 10, activation='tanh', kernel_initializer='uniform'))\r\n",
    "# Add second hidden layer\r\n",
    "model.add(Dense(units = 20, activation='relu', kernel_initializer='uniform'))\r\n",
    "# Create output layer\r\n",
    "model.add(Dense(units = 1, activation='sigmoid', kernel_initializer='uniform'))\r\n",
    "\r\n",
    "# Compile ANN\r\n",
    "model.compile(\r\n",
    "    optimizer=SGD(), \r\n",
    "    loss='binary_crossentropy', \r\n",
    "    metrics=['accuracy']\r\n",
    ")\r\n",
    "\r\n",
    "# Fit ANN\r\n",
    "#model.fit(df_train.drop([event_col, id_col], axis=1), df_train[event_col], batch_size=10, epochs=5)"
   ]
  },
  {
   "cell_type": "code",
   "execution_count": 71,
   "metadata": {},
   "outputs": [
    {
     "name": "stdout",
     "output_type": "stream",
     "text": [
      "Epoch 1/10\n",
      "436/436 [==============================] - 1s 935us/step - loss: 0.6932 - accuracy: 0.5021\n",
      "Epoch 2/10\n",
      "436/436 [==============================] - 0s 736us/step - loss: 0.6933 - accuracy: 0.4881\n",
      "Epoch 3/10\n",
      "436/436 [==============================] - 0s 736us/step - loss: 0.6933 - accuracy: 0.4947\n"
     ]
    },
    {
     "data": {
      "text/plain": "<tensorflow.python.keras.callbacks.History at 0x1d53890dd60>"
     },
     "execution_count": 71,
     "metadata": {},
     "output_type": "execute_result"
    }
   ],
   "source": [
    "#df_train, df_test = model_eval.split_on_people(df, id_col='SPA_PER_ID')\r\n",
    "model.fit(\r\n",
    "    x=X_res, #df_train.drop([event_col, id_col], axis=1), \r\n",
    "    y=y_res, #df_train[event_col], \r\n",
    "    batch_size=10, \r\n",
    "    epochs=10,\r\n",
    "    #class_weight=class_weights,\r\n",
    "    callbacks=[callback]\r\n",
    ")"
   ]
  },
  {
   "cell_type": "code",
   "execution_count": 72,
   "metadata": {},
   "outputs": [],
   "source": [
    "predictions = model.predict(x=df_test.drop([event_col, id_col], axis=1))\n",
    "predictions = pd.Series(np.transpose(predictions)[0])\n",
    "actuals = df_test[event_col].reset_index()[event_col]"
   ]
  },
  {
   "cell_type": "code",
   "execution_count": 73,
   "metadata": {},
   "outputs": [
    {
     "data": {
      "text/plain": "0.501543    2046008\ndtype: int64"
     },
     "execution_count": 73,
     "metadata": {},
     "output_type": "execute_result"
    }
   ],
   "source": [
    "predictions.value_counts()"
   ]
  },
  {
   "cell_type": "code",
   "execution_count": 33,
   "metadata": {
    "scrolled": true
   },
   "outputs": [
    {
     "data": {
      "text/html": "<div>\n<style scoped>\n    .dataframe tbody tr th:only-of-type {\n        vertical-align: middle;\n    }\n\n    .dataframe tbody tr th {\n        vertical-align: top;\n    }\n\n    .dataframe thead th {\n        text-align: right;\n    }\n</style>\n<table border=\"1\" class=\"dataframe\">\n  <thead>\n    <tr style=\"text-align: right;\">\n      <th></th>\n      <th></th>\n      <th>Threshold_Value</th>\n      <th>Number Predicted</th>\n      <th>Actual Number</th>\n      <th>False P/N Rate</th>\n      <th>Precision</th>\n      <th>Recall</th>\n      <th>f-1</th>\n      <th>Custom</th>\n    </tr>\n    <tr>\n      <th>Threshold</th>\n      <th>Case</th>\n      <th></th>\n      <th></th>\n      <th></th>\n      <th></th>\n      <th></th>\n      <th></th>\n      <th></th>\n      <th></th>\n    </tr>\n  </thead>\n  <tbody>\n    <tr>\n      <th rowspan=\"2\" valign=\"top\">0.01</th>\n      <th>Positive</th>\n      <td>NaN</td>\n      <td>NaN</td>\n      <td>NaN</td>\n      <td>NaN</td>\n      <td>NaN</td>\n      <td>NaN</td>\n      <td>NaN</td>\n      <td>NaN</td>\n    </tr>\n    <tr>\n      <th>Negative</th>\n      <td>NaN</td>\n      <td>NaN</td>\n      <td>NaN</td>\n      <td>NaN</td>\n      <td>NaN</td>\n      <td>NaN</td>\n      <td>NaN</td>\n      <td>NaN</td>\n    </tr>\n    <tr>\n      <th rowspan=\"2\" valign=\"top\">0.05</th>\n      <th>Positive</th>\n      <td>NaN</td>\n      <td>NaN</td>\n      <td>NaN</td>\n      <td>NaN</td>\n      <td>NaN</td>\n      <td>NaN</td>\n      <td>NaN</td>\n      <td>NaN</td>\n    </tr>\n    <tr>\n      <th>Negative</th>\n      <td>NaN</td>\n      <td>NaN</td>\n      <td>NaN</td>\n      <td>NaN</td>\n      <td>NaN</td>\n      <td>NaN</td>\n      <td>NaN</td>\n      <td>NaN</td>\n    </tr>\n    <tr>\n      <th rowspan=\"2\" valign=\"top\">0.10</th>\n      <th>Positive</th>\n      <td>NaN</td>\n      <td>NaN</td>\n      <td>NaN</td>\n      <td>NaN</td>\n      <td>NaN</td>\n      <td>NaN</td>\n      <td>NaN</td>\n      <td>NaN</td>\n    </tr>\n    <tr>\n      <th>Negative</th>\n      <td>NaN</td>\n      <td>NaN</td>\n      <td>NaN</td>\n      <td>NaN</td>\n      <td>NaN</td>\n      <td>NaN</td>\n      <td>NaN</td>\n      <td>NaN</td>\n    </tr>\n  </tbody>\n</table>\n</div>",
      "text/plain": "                   Threshold_Value Number Predicted Actual Number  \\\nThreshold Case                                                      \n0.01      Positive             NaN              NaN           NaN   \n          Negative             NaN              NaN           NaN   \n0.05      Positive             NaN              NaN           NaN   \n          Negative             NaN              NaN           NaN   \n0.10      Positive             NaN              NaN           NaN   \n          Negative             NaN              NaN           NaN   \n\n                   False P/N Rate Precision Recall  f-1 Custom  \nThreshold Case                                                  \n0.01      Positive            NaN       NaN    NaN  NaN    NaN  \n          Negative            NaN       NaN    NaN  NaN    NaN  \n0.05      Positive            NaN       NaN    NaN  NaN    NaN  \n          Negative            NaN       NaN    NaN  NaN    NaN  \n0.10      Positive            NaN       NaN    NaN  NaN    NaN  \n          Negative            NaN       NaN    NaN  NaN    NaN  "
     },
     "execution_count": 33,
     "metadata": {},
     "output_type": "execute_result"
    }
   ],
   "source": [
    "results = model_eval.get_model_metrics(predictions, actuals.astype('bool'))\n",
    "results"
   ]
  },
  {
   "cell_type": "code",
   "execution_count": 34,
   "metadata": {},
   "outputs": [
    {
     "data": {
      "text/plain": "\"\\nk = 10\\nresults, summary = model_eval.k_fold_models(\\n    df=df, \\n    event_col='CMIS_MATCH',\\n    id_col='SPA_PER_ID', \\n    k=10, \\n    model=model, \\n    cutoffs=[0.05, 0.10, 0.15]\\n)\\nsummary\\n\""
     },
     "execution_count": 34,
     "metadata": {},
     "output_type": "execute_result"
    }
   ],
   "source": [
    "'''\r\n",
    "k = 10\r\n",
    "results, summary = model_eval.k_fold_models(\r\n",
    "    df=df, \r\n",
    "    event_col='CMIS_MATCH',\r\n",
    "    id_col='SPA_PER_ID', \r\n",
    "    k=10, \r\n",
    "    model=model, \r\n",
    "    cutoffs=[0.05, 0.10, 0.15]\r\n",
    ")\r\n",
    "summary\r\n",
    "'''"
   ]
  },
  {
   "cell_type": "markdown",
   "metadata": {},
   "source": [
    "## Print Time"
   ]
  },
  {
   "cell_type": "code",
   "execution_count": 35,
   "metadata": {},
   "outputs": [
    {
     "name": "stdout",
     "output_type": "stream",
     "text": [
      "hours:minutes:seconds = 0:6:20.60689878463745\n"
     ]
    }
   ],
   "source": [
    "from custom_methods.calc_time import calc_time_from_sec\n",
    "\n",
    "calc_time_from_sec(time.time()-startTime)"
   ]
  },
  {
   "cell_type": "markdown",
   "metadata": {},
   "source": [
    "## Evaluate Model"
   ]
  }
 ],
 "metadata": {
  "kernelspec": {
   "display_name": "Python 3.8.6 64-bit",
   "name": "python386jvsc74a57bd055dc2ef33d481be31a5c00b42f248808e4edd8b163c72100e3df152a03ba29f1"
  },
  "language_info": {
   "codemirror_mode": {
    "name": "ipython",
    "version": 3
   },
   "file_extension": ".py",
   "mimetype": "text/x-python",
   "name": "python",
   "nbconvert_exporter": "python",
   "pygments_lexer": "ipython3",
   "version": "3.8.6"
  },
  "metadata": {
   "interpreter": {
    "hash": "55dc2ef33d481be31a5c00b42f248808e4edd8b163c72100e3df152a03ba29f1"
   }
  }
 },
 "nbformat": 4,
 "nbformat_minor": 2
}