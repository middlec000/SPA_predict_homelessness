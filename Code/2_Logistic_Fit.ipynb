{
 "cells": [
  {
   "cell_type": "markdown",
   "metadata": {
    "heading_collapsed": true
   },
   "source": [
    "# Imports"
   ]
  },
  {
   "cell_type": "code",
   "execution_count": 1,
   "metadata": {
    "ExecuteTime": {
     "end_time": "2021-07-07T04:06:34.659741Z",
     "start_time": "2021-07-07T04:06:34.645783Z"
    },
    "hidden": true
   },
   "outputs": [],
   "source": [
    "import pandas as pd\n",
    "import pickle\n",
    "import time\n",
    "\n",
    "datapath = '../Data/'\n",
    "\n",
    "startTime = time.time()"
   ]
  },
  {
   "cell_type": "markdown",
   "metadata": {
    "heading_collapsed": true
   },
   "source": [
    "# Load Data"
   ]
  },
  {
   "cell_type": "code",
   "execution_count": 2,
   "metadata": {
    "ExecuteTime": {
     "end_time": "2021-07-07T04:06:34.815092Z",
     "start_time": "2021-07-07T04:06:34.662734Z"
    },
    "hidden": true
   },
   "outputs": [
    {
     "data": {
      "text/plain": [
       "['PAST_DUE',\n",
       " 'TOTAL_60_DAYS_AMT',\n",
       " 'NUM_PREM_FOR_PER',\n",
       " 'BREAK_ARRANGEMENT',\n",
       " 'MULTI_DWELL_SIZE',\n",
       " 'SNAP_GEO',\n",
       " 'NUM_PER_FOR_PREM',\n",
       " 'HAS_COTENANT',\n",
       " 'PER-PREM-MONTH_ID',\n",
       " 'CMIS_MATCH']"
      ]
     },
     "execution_count": 2,
     "metadata": {},
     "output_type": "execute_result"
    }
   ],
   "source": [
    "filename = 'log_ready.pickle'\n",
    "infile = open(datapath+filename,'rb')\n",
    "df = pickle.load(infile)\n",
    "infile.close()\n",
    "\n",
    "df.columns.to_list()"
   ]
  },
  {
   "cell_type": "markdown",
   "metadata": {
    "heading_collapsed": true
   },
   "source": [
    "# K-Folds"
   ]
  },
  {
   "cell_type": "markdown",
   "metadata": {},
   "source": [
    "## Helper Programs"
   ]
  },
  {
   "cell_type": "code",
   "execution_count": 3,
   "metadata": {},
   "outputs": [],
   "source": [
    "import numpy as np\n",
    "\n",
    "def get_folds_ids(id_col, k):\n",
    "    # 04/24/21\n",
    "    all_ids = pd.Series(id_col.unique().copy(), dtype='object')\n",
    "    folds = []\n",
    "    num_per_fold = int(np.ceil(len(all_ids)/k))\n",
    "    while not all_ids.empty:\n",
    "        fold = []\n",
    "        if len(all_ids) < num_per_fold:\n",
    "            fold = all_ids\n",
    "        else:\n",
    "            fold = all_ids.sample(n=num_per_fold)\n",
    "        folds.append(fold.to_list())\n",
    "        all_ids.drop(index=fold.index, inplace=True)\n",
    "    return np.array(folds, dtype='object')\n",
    "\n",
    "\n",
    "def log_k_folds(df: pd.DataFrame, event_col: str, id_col: str, k: int, model: object, sampler: object=None, scaler: object=None, inverted:bool=False) -> pd.DataFrame:\n",
    "    '''\n",
    "    10/26/21\n",
    "    Chooses k-folds based on 'id_col'\n",
    "    Supported use of the following models:\n",
    "        statsmodels.discrete.discrete_model.Logit\n",
    "            set model='logit'\n",
    "    \n",
    "    Returns:\n",
    "        predictions (pandas DataFrame), models (List[statsmodels.discrete.discrete_model.Logit])\n",
    "    '''\n",
    "    import statsmodels.api as sm\n",
    "    import copy\n",
    "\n",
    "    # Create copies of base model to train\n",
    "    models = []\n",
    "    for i in range(k):\n",
    "        models.append(copy.deepcopy(model))\n",
    "    # Create Folds\n",
    "    folds = get_folds_ids(id_col=df[id_col], k=k)\n",
    "    id_prediction_actual = pd.DataFrame(columns=[id_col, 'prediction', event_col])\n",
    "    # Loop through k-folds\n",
    "    for fold in range(len(folds)):\n",
    "        # Find test, training sets for fold\n",
    "        if inverted:\n",
    "            # Training set is smaller than test set\n",
    "            df_test = df[~df[id_col].isin(folds[fold])]\n",
    "            df_train = df[df[id_col].isin(folds[fold])]\n",
    "        else:\n",
    "            df_test = df[df[id_col].isin(folds[fold])]\n",
    "            df_train = df[~df[id_col].isin(folds[fold])]\n",
    "            \n",
    "        # Scale\n",
    "        if scaler != None:\n",
    "            fold_scaler = copy.deepcopy(scaler)\n",
    "            df_train.update(fold_scaler.fit_transform(df_train.drop([event_col, id_col], axis=1)))\n",
    "            df_test.update(fold_scaler.transform(df_test.drop([event_col, id_col], axis=1)))\n",
    "            \n",
    "        # Undersample, oversample, etc.\n",
    "        if sampler != None:\n",
    "            fold_sampler = copy.deepcopy(sampler)\n",
    "            X_res, y_res = fold_sampler.fit_sample(X=df_train.drop(event_col, axis=1), y=df_train[event_col])\n",
    "            df_train = pd.concat([X_res, y_res], axis=1)\n",
    "            \n",
    "        # Get predictions\n",
    "        predictions = None\n",
    "        if model == \"logit\":\n",
    "            exog = np.asarray(df_train.drop([id_col, event_col], axis=1), dtype='float')\n",
    "            endog = np.asarray(df_train[event_col], dtype='bool')\n",
    "            model_local = sm.Logit(endog=endog, exog=exog).fit(disp=False)\n",
    "            models[fold] = model_local\n",
    "            exog_test = np.asarray(df_test.drop([id_col, event_col], axis=1), dtype='float')\n",
    "            predictions = pd.Series(model_local.predict(exog=exog_test))\n",
    "        else:\n",
    "            print(\"Model not supported.\")\n",
    "\n",
    "        # Append to predictions, actuals\n",
    "        id_prediction_actual = id_prediction_actual.append(pd.concat([\n",
    "            df_test[id_col].reset_index(drop=True), \\\n",
    "            predictions.rename('prediction').reset_index(drop=True), \\\n",
    "            df_test[event_col].reset_index(drop=True)], \n",
    "            axis=1),ignore_index=True)\n",
    "    id_prediction_actual[event_col] = id_prediction_actual[event_col].astype('bool')\n",
    "    return id_prediction_actual, models"
   ]
  },
  {
   "cell_type": "markdown",
   "metadata": {},
   "source": [
    "## Run"
   ]
  },
  {
   "cell_type": "code",
   "execution_count": 4,
   "metadata": {
    "ExecuteTime": {
     "end_time": "2021-07-07T04:06:39.807637Z",
     "start_time": "2021-07-07T04:06:34.864034Z"
    },
    "hidden": true
   },
   "outputs": [],
   "source": [
    "#from sklearn.preprocessing import StandardScaler\n",
    "#from imblearn.over_sampling import RandomOverSampler\n",
    "\n",
    "# Model Parameters\n",
    "event_col = 'CMIS_MATCH'\n",
    "id_col = 'PER-PREM-MONTH_ID'\n",
    "model = 'logit'\n",
    "scaler = None\n",
    "sampler = None\n",
    "k = 4\n",
    "#scaler = StandardScaler()\n",
    "#sampler = RandomOverSampler(sampling_strategy='minority', random_state=42)\n",
    "\n",
    "\n",
    "predictions, models = log_k_folds(\n",
    "    df = df, \n",
    "    event_col = event_col,\n",
    "    id_col = id_col, \n",
    "    k = k, \n",
    "    model = model, \n",
    "    scaler = scaler,\n",
    "    sampler = sampler,\n",
    ")"
   ]
  },
  {
   "cell_type": "markdown",
   "metadata": {},
   "source": [
    "## Print Predictions Head"
   ]
  },
  {
   "cell_type": "code",
   "execution_count": 5,
   "metadata": {},
   "outputs": [
    {
     "data": {
      "text/html": [
       "<div>\n",
       "<style scoped>\n",
       "    .dataframe tbody tr th:only-of-type {\n",
       "        vertical-align: middle;\n",
       "    }\n",
       "\n",
       "    .dataframe tbody tr th {\n",
       "        vertical-align: top;\n",
       "    }\n",
       "\n",
       "    .dataframe thead th {\n",
       "        text-align: right;\n",
       "    }\n",
       "</style>\n",
       "<table border=\"1\" class=\"dataframe\">\n",
       "  <thead>\n",
       "    <tr style=\"text-align: right;\">\n",
       "      <th></th>\n",
       "      <th>PER-PREM-MONTH_ID</th>\n",
       "      <th>prediction</th>\n",
       "      <th>CMIS_MATCH</th>\n",
       "    </tr>\n",
       "  </thead>\n",
       "  <tbody>\n",
       "    <tr>\n",
       "      <th>0</th>\n",
       "      <td>3-98612-1</td>\n",
       "      <td>0.001765</td>\n",
       "      <td>False</td>\n",
       "    </tr>\n",
       "    <tr>\n",
       "      <th>1</th>\n",
       "      <td>3-98612-4</td>\n",
       "      <td>0.001765</td>\n",
       "      <td>False</td>\n",
       "    </tr>\n",
       "    <tr>\n",
       "      <th>2</th>\n",
       "      <td>3-98612-6</td>\n",
       "      <td>0.001765</td>\n",
       "      <td>False</td>\n",
       "    </tr>\n",
       "    <tr>\n",
       "      <th>3</th>\n",
       "      <td>3-98612-10</td>\n",
       "      <td>0.001765</td>\n",
       "      <td>False</td>\n",
       "    </tr>\n",
       "    <tr>\n",
       "      <th>4</th>\n",
       "      <td>3-98612-13</td>\n",
       "      <td>0.001765</td>\n",
       "      <td>False</td>\n",
       "    </tr>\n",
       "  </tbody>\n",
       "</table>\n",
       "</div>"
      ],
      "text/plain": [
       "  PER-PREM-MONTH_ID  prediction  CMIS_MATCH\n",
       "0         3-98612-1    0.001765       False\n",
       "1         3-98612-4    0.001765       False\n",
       "2         3-98612-6    0.001765       False\n",
       "3        3-98612-10    0.001765       False\n",
       "4        3-98612-13    0.001765       False"
      ]
     },
     "execution_count": 5,
     "metadata": {},
     "output_type": "execute_result"
    }
   ],
   "source": [
    "predictions.head()"
   ]
  },
  {
   "cell_type": "markdown",
   "metadata": {},
   "source": [
    "## Print Sample Model Fitting"
   ]
  },
  {
   "cell_type": "code",
   "execution_count": 6,
   "metadata": {},
   "outputs": [
    {
     "data": {
      "text/html": [
       "<table class=\"simpletable\">\n",
       "<caption>Logit Regression Results</caption>\n",
       "<tr>\n",
       "  <th>Dep. Variable:</th>           <td>y</td>        <th>  No. Observations:  </th>  <td>2423288</td>\n",
       "</tr>\n",
       "<tr>\n",
       "  <th>Model:</th>                 <td>Logit</td>      <th>  Df Residuals:      </th>  <td>2423280</td>\n",
       "</tr>\n",
       "<tr>\n",
       "  <th>Method:</th>                 <td>MLE</td>       <th>  Df Model:          </th>  <td>     7</td> \n",
       "</tr>\n",
       "<tr>\n",
       "  <th>Date:</th>            <td>Mon, 01 Nov 2021</td> <th>  Pseudo R-squ.:     </th>  <td>0.06058</td>\n",
       "</tr>\n",
       "<tr>\n",
       "  <th>Time:</th>                <td>13:35:46</td>     <th>  Log-Likelihood:    </th> <td> -41116.</td>\n",
       "</tr>\n",
       "<tr>\n",
       "  <th>converged:</th>             <td>True</td>       <th>  LL-Null:           </th> <td> -43768.</td>\n",
       "</tr>\n",
       "<tr>\n",
       "  <th>Covariance Type:</th>     <td>nonrobust</td>    <th>  LLR p-value:       </th>  <td> 0.000</td> \n",
       "</tr>\n",
       "</table>\n",
       "<table class=\"simpletable\">\n",
       "<tr>\n",
       "   <td></td>     <th>coef</th>     <th>std err</th>      <th>z</th>      <th>P>|z|</th>  <th>[0.025</th>    <th>0.975]</th>  \n",
       "</tr>\n",
       "<tr>\n",
       "  <th>x1</th> <td>    0.2668</td> <td>    0.005</td> <td>   57.958</td> <td> 0.000</td> <td>    0.258</td> <td>    0.276</td>\n",
       "</tr>\n",
       "<tr>\n",
       "  <th>x2</th> <td>    0.0018</td> <td>  6.5e-05</td> <td>   27.494</td> <td> 0.000</td> <td>    0.002</td> <td>    0.002</td>\n",
       "</tr>\n",
       "<tr>\n",
       "  <th>x3</th> <td>   -6.1689</td> <td>    0.052</td> <td> -118.181</td> <td> 0.000</td> <td>   -6.271</td> <td>   -6.067</td>\n",
       "</tr>\n",
       "<tr>\n",
       "  <th>x4</th> <td>    0.4878</td> <td>    0.050</td> <td>    9.751</td> <td> 0.000</td> <td>    0.390</td> <td>    0.586</td>\n",
       "</tr>\n",
       "<tr>\n",
       "  <th>x5</th> <td>-2.591e-07</td> <td> 6.96e-07</td> <td>   -0.372</td> <td> 0.710</td> <td>-1.62e-06</td> <td>  1.1e-06</td>\n",
       "</tr>\n",
       "<tr>\n",
       "  <th>x6</th> <td>    0.3965</td> <td>    0.078</td> <td>    5.073</td> <td> 0.000</td> <td>    0.243</td> <td>    0.550</td>\n",
       "</tr>\n",
       "<tr>\n",
       "  <th>x7</th> <td>   -0.1555</td> <td>    0.027</td> <td>   -5.662</td> <td> 0.000</td> <td>   -0.209</td> <td>   -0.102</td>\n",
       "</tr>\n",
       "<tr>\n",
       "  <th>x8</th> <td>   -0.3043</td> <td>    0.029</td> <td>  -10.500</td> <td> 0.000</td> <td>   -0.361</td> <td>   -0.248</td>\n",
       "</tr>\n",
       "</table>"
      ],
      "text/plain": [
       "<class 'statsmodels.iolib.summary.Summary'>\n",
       "\"\"\"\n",
       "                           Logit Regression Results                           \n",
       "==============================================================================\n",
       "Dep. Variable:                      y   No. Observations:              2423288\n",
       "Model:                          Logit   Df Residuals:                  2423280\n",
       "Method:                           MLE   Df Model:                            7\n",
       "Date:                Mon, 01 Nov 2021   Pseudo R-squ.:                 0.06058\n",
       "Time:                        13:35:46   Log-Likelihood:                -41116.\n",
       "converged:                       True   LL-Null:                       -43768.\n",
       "Covariance Type:            nonrobust   LLR p-value:                     0.000\n",
       "==============================================================================\n",
       "                 coef    std err          z      P>|z|      [0.025      0.975]\n",
       "------------------------------------------------------------------------------\n",
       "x1             0.2668      0.005     57.958      0.000       0.258       0.276\n",
       "x2             0.0018    6.5e-05     27.494      0.000       0.002       0.002\n",
       "x3            -6.1689      0.052   -118.181      0.000      -6.271      -6.067\n",
       "x4             0.4878      0.050      9.751      0.000       0.390       0.586\n",
       "x5         -2.591e-07   6.96e-07     -0.372      0.710   -1.62e-06     1.1e-06\n",
       "x6             0.3965      0.078      5.073      0.000       0.243       0.550\n",
       "x7            -0.1555      0.027     -5.662      0.000      -0.209      -0.102\n",
       "x8            -0.3043      0.029    -10.500      0.000      -0.361      -0.248\n",
       "==============================================================================\n",
       "\"\"\""
      ]
     },
     "execution_count": 6,
     "metadata": {},
     "output_type": "execute_result"
    }
   ],
   "source": [
    "models[0].summary()"
   ]
  },
  {
   "cell_type": "markdown",
   "metadata": {
    "heading_collapsed": true
   },
   "source": [
    "# Save and Time"
   ]
  },
  {
   "cell_type": "code",
   "execution_count": 7,
   "metadata": {
    "ExecuteTime": {
     "end_time": "2021-07-07T04:06:40.171571Z",
     "start_time": "2021-07-07T04:06:40.079976Z"
    },
    "hidden": true
   },
   "outputs": [],
   "source": [
    "# Save predictions\n",
    "filename = 'log_output.pickle'\n",
    "outfile = open(datapath + filename, 'wb')\n",
    "pickle.dump(predictions, outfile)\n",
    "outfile.close()\n",
    "\n",
    "# Save models\n",
    "filename = 'log_models.pickle'\n",
    "outfile = open(datapath + filename, 'wb')\n",
    "pickle.dump(models, outfile)\n",
    "outfile.close()"
   ]
  },
  {
   "cell_type": "code",
   "execution_count": 8,
   "metadata": {
    "ExecuteTime": {
     "end_time": "2021-07-07T04:06:40.265264Z",
     "start_time": "2021-07-07T04:06:40.173403Z"
    },
    "hidden": true
   },
   "outputs": [
    {
     "name": "stdout",
     "output_type": "stream",
     "text": [
      "hours:minutes:seconds = 0:1:18.716119050979614\n"
     ]
    }
   ],
   "source": [
    "from custom_methods.calc_time import calc_time_from_sec\n",
    "\n",
    "calc_time_from_sec(time.time() - startTime)"
   ]
  }
 ],
 "metadata": {
  "interpreter": {
   "hash": "55dc2ef33d481be31a5c00b42f248808e4edd8b163c72100e3df152a03ba29f1"
  },
  "kernelspec": {
   "display_name": "Python 3 (ipykernel)",
   "language": "python",
   "name": "python3"
  },
  "language_info": {
   "codemirror_mode": {
    "name": "ipython",
    "version": 3
   },
   "file_extension": ".py",
   "mimetype": "text/x-python",
   "name": "python",
   "nbconvert_exporter": "python",
   "pygments_lexer": "ipython3",
   "version": "3.8.8"
  },
  "metadata": {
   "interpreter": {
    "hash": "55dc2ef33d481be31a5c00b42f248808e4edd8b163c72100e3df152a03ba29f1"
   }
  },
  "varInspector": {
   "cols": {
    "lenName": 16,
    "lenType": 16,
    "lenVar": 40
   },
   "kernels_config": {
    "python": {
     "delete_cmd_postfix": "",
     "delete_cmd_prefix": "del ",
     "library": "var_list.py",
     "varRefreshCmd": "print(var_dic_list())"
    },
    "r": {
     "delete_cmd_postfix": ") ",
     "delete_cmd_prefix": "rm(",
     "library": "var_list.r",
     "varRefreshCmd": "cat(var_dic_list()) "
    }
   },
   "types_to_exclude": [
    "module",
    "function",
    "builtin_function_or_method",
    "instance",
    "_Feature"
   ],
   "window_display": false
  }
 },
 "nbformat": 4,
 "nbformat_minor": 4
}
