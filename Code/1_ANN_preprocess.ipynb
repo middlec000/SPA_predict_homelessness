{
 "cells": [
  {
   "cell_type": "markdown",
   "metadata": {},
   "source": [
    "# Imports "
   ]
  },
  {
   "cell_type": "code",
   "execution_count": 1,
   "metadata": {
    "ExecuteTime": {
     "end_time": "2021-07-16T21:44:32.470393Z",
     "start_time": "2021-07-16T21:44:32.459390Z"
    }
   },
   "outputs": [],
   "source": [
    "import pandas as pd\n",
    "import numpy as np\n",
    "import pickle\n",
    "import time\n",
    "from custom_methods import model_eval\n",
    "\n",
    "datapath = '../Data/'\n",
    "\n",
    "startTime = time.time()"
   ]
  },
  {
   "cell_type": "markdown",
   "metadata": {
    "heading_collapsed": true
   },
   "source": [
    "# Get Data"
   ]
  },
  {
   "cell_type": "code",
   "execution_count": 2,
   "metadata": {
    "ExecuteTime": {
     "end_time": "2021-07-16T21:44:33.320051Z",
     "start_time": "2021-07-16T21:44:32.473360Z"
    },
    "hidden": true
   },
   "outputs": [
    {
     "data": {
      "text/html": [
       "<div>\n",
       "<style scoped>\n",
       "    .dataframe tbody tr th:only-of-type {\n",
       "        vertical-align: middle;\n",
       "    }\n",
       "\n",
       "    .dataframe tbody tr th {\n",
       "        vertical-align: top;\n",
       "    }\n",
       "\n",
       "    .dataframe thead th {\n",
       "        text-align: right;\n",
       "    }\n",
       "</style>\n",
       "<table border=\"1\" class=\"dataframe\">\n",
       "  <thead>\n",
       "    <tr style=\"text-align: right;\">\n",
       "      <th></th>\n",
       "      <th>SPA_PER_ID</th>\n",
       "      <th>SPA_PREM_ID</th>\n",
       "      <th>MONTH</th>\n",
       "      <th>SPA_ACCT_ID</th>\n",
       "      <th>RES_EL_CUR120_DAYS</th>\n",
       "      <th>RES_EL_CUR22_DAYS</th>\n",
       "      <th>RES_EL_CUR30_DAYS</th>\n",
       "      <th>RES_EL_CUR60_DAYS</th>\n",
       "      <th>RES_EL_CUR90_DAYS</th>\n",
       "      <th>RES_EL_CUR_BAL_AMT</th>\n",
       "      <th>...</th>\n",
       "      <th>TOTAL_30_DAYS_AMT</th>\n",
       "      <th>TOTAL_60_DAYS_AMT</th>\n",
       "      <th>TOTAL_90_DAYS_AMT</th>\n",
       "      <th>TOTAL_CUR_BALANCE</th>\n",
       "      <th>LAST_MO_W_DATA</th>\n",
       "      <th>WITHIN_6_MO_PRIOR_LAST_DATA</th>\n",
       "      <th>MO_AWAY</th>\n",
       "      <th>NUM_PREM_FOR_PER</th>\n",
       "      <th>NUM_PER_FOR_PREM</th>\n",
       "      <th>MULTI_DWELL_SIZE</th>\n",
       "    </tr>\n",
       "  </thead>\n",
       "  <tbody>\n",
       "    <tr>\n",
       "      <th>0</th>\n",
       "      <td>3</td>\n",
       "      <td>98612</td>\n",
       "      <td>0</td>\n",
       "      <td>171648</td>\n",
       "      <td>0.0</td>\n",
       "      <td>0.00</td>\n",
       "      <td>0.0</td>\n",
       "      <td>0.0</td>\n",
       "      <td>0.0</td>\n",
       "      <td>0.00</td>\n",
       "      <td>...</td>\n",
       "      <td>0.0</td>\n",
       "      <td>0.0</td>\n",
       "      <td>0.0</td>\n",
       "      <td>103.40</td>\n",
       "      <td>False</td>\n",
       "      <td>False</td>\n",
       "      <td>NaN</td>\n",
       "      <td>1.0</td>\n",
       "      <td>1.0</td>\n",
       "      <td>52212</td>\n",
       "    </tr>\n",
       "    <tr>\n",
       "      <th>1</th>\n",
       "      <td>3</td>\n",
       "      <td>98612</td>\n",
       "      <td>1</td>\n",
       "      <td>171648</td>\n",
       "      <td>0.0</td>\n",
       "      <td>65.26</td>\n",
       "      <td>0.0</td>\n",
       "      <td>0.0</td>\n",
       "      <td>0.0</td>\n",
       "      <td>65.26</td>\n",
       "      <td>...</td>\n",
       "      <td>0.0</td>\n",
       "      <td>0.0</td>\n",
       "      <td>0.0</td>\n",
       "      <td>307.71</td>\n",
       "      <td>False</td>\n",
       "      <td>False</td>\n",
       "      <td>NaN</td>\n",
       "      <td>1.0</td>\n",
       "      <td>1.0</td>\n",
       "      <td>52212</td>\n",
       "    </tr>\n",
       "    <tr>\n",
       "      <th>2</th>\n",
       "      <td>3</td>\n",
       "      <td>98612</td>\n",
       "      <td>2</td>\n",
       "      <td>171648</td>\n",
       "      <td>0.0</td>\n",
       "      <td>0.00</td>\n",
       "      <td>0.0</td>\n",
       "      <td>0.0</td>\n",
       "      <td>0.0</td>\n",
       "      <td>0.00</td>\n",
       "      <td>...</td>\n",
       "      <td>0.0</td>\n",
       "      <td>0.0</td>\n",
       "      <td>0.0</td>\n",
       "      <td>105.80</td>\n",
       "      <td>False</td>\n",
       "      <td>False</td>\n",
       "      <td>NaN</td>\n",
       "      <td>1.0</td>\n",
       "      <td>1.0</td>\n",
       "      <td>52212</td>\n",
       "    </tr>\n",
       "    <tr>\n",
       "      <th>3</th>\n",
       "      <td>3</td>\n",
       "      <td>98612</td>\n",
       "      <td>3</td>\n",
       "      <td>171648</td>\n",
       "      <td>0.0</td>\n",
       "      <td>0.00</td>\n",
       "      <td>0.0</td>\n",
       "      <td>0.0</td>\n",
       "      <td>0.0</td>\n",
       "      <td>0.00</td>\n",
       "      <td>...</td>\n",
       "      <td>0.0</td>\n",
       "      <td>0.0</td>\n",
       "      <td>0.0</td>\n",
       "      <td>105.82</td>\n",
       "      <td>False</td>\n",
       "      <td>False</td>\n",
       "      <td>NaN</td>\n",
       "      <td>1.0</td>\n",
       "      <td>1.0</td>\n",
       "      <td>52212</td>\n",
       "    </tr>\n",
       "    <tr>\n",
       "      <th>4</th>\n",
       "      <td>3</td>\n",
       "      <td>98612</td>\n",
       "      <td>4</td>\n",
       "      <td>171648</td>\n",
       "      <td>0.0</td>\n",
       "      <td>54.89</td>\n",
       "      <td>0.0</td>\n",
       "      <td>0.0</td>\n",
       "      <td>0.0</td>\n",
       "      <td>54.89</td>\n",
       "      <td>...</td>\n",
       "      <td>0.0</td>\n",
       "      <td>0.0</td>\n",
       "      <td>0.0</td>\n",
       "      <td>226.47</td>\n",
       "      <td>False</td>\n",
       "      <td>False</td>\n",
       "      <td>NaN</td>\n",
       "      <td>1.0</td>\n",
       "      <td>1.0</td>\n",
       "      <td>52212</td>\n",
       "    </tr>\n",
       "  </tbody>\n",
       "</table>\n",
       "<p>5 rows × 61 columns</p>\n",
       "</div>"
      ],
      "text/plain": [
       "   SPA_PER_ID  SPA_PREM_ID  MONTH  SPA_ACCT_ID  RES_EL_CUR120_DAYS  \\\n",
       "0           3        98612      0       171648                 0.0   \n",
       "1           3        98612      1       171648                 0.0   \n",
       "2           3        98612      2       171648                 0.0   \n",
       "3           3        98612      3       171648                 0.0   \n",
       "4           3        98612      4       171648                 0.0   \n",
       "\n",
       "   RES_EL_CUR22_DAYS  RES_EL_CUR30_DAYS  RES_EL_CUR60_DAYS  RES_EL_CUR90_DAYS  \\\n",
       "0               0.00                0.0                0.0                0.0   \n",
       "1              65.26                0.0                0.0                0.0   \n",
       "2               0.00                0.0                0.0                0.0   \n",
       "3               0.00                0.0                0.0                0.0   \n",
       "4              54.89                0.0                0.0                0.0   \n",
       "\n",
       "   RES_EL_CUR_BAL_AMT  ...  TOTAL_30_DAYS_AMT  TOTAL_60_DAYS_AMT  \\\n",
       "0                0.00  ...                0.0                0.0   \n",
       "1               65.26  ...                0.0                0.0   \n",
       "2                0.00  ...                0.0                0.0   \n",
       "3                0.00  ...                0.0                0.0   \n",
       "4               54.89  ...                0.0                0.0   \n",
       "\n",
       "   TOTAL_90_DAYS_AMT  TOTAL_CUR_BALANCE  LAST_MO_W_DATA  \\\n",
       "0                0.0             103.40           False   \n",
       "1                0.0             307.71           False   \n",
       "2                0.0             105.80           False   \n",
       "3                0.0             105.82           False   \n",
       "4                0.0             226.47           False   \n",
       "\n",
       "   WITHIN_6_MO_PRIOR_LAST_DATA  MO_AWAY  NUM_PREM_FOR_PER  NUM_PER_FOR_PREM  \\\n",
       "0                        False      NaN               1.0               1.0   \n",
       "1                        False      NaN               1.0               1.0   \n",
       "2                        False      NaN               1.0               1.0   \n",
       "3                        False      NaN               1.0               1.0   \n",
       "4                        False      NaN               1.0               1.0   \n",
       "\n",
       "   MULTI_DWELL_SIZE  \n",
       "0             52212  \n",
       "1             52212  \n",
       "2             52212  \n",
       "3             52212  \n",
       "4             52212  \n",
       "\n",
       "[5 rows x 61 columns]"
      ]
     },
     "execution_count": 2,
     "metadata": {},
     "output_type": "execute_result"
    }
   ],
   "source": [
    "filename = 'processed.pickle'\n",
    "infile = open(datapath+filename,'rb')\n",
    "df = pickle.load(infile)\n",
    "infile.close()\n",
    "df.head()"
   ]
  },
  {
   "cell_type": "code",
   "execution_count": 3,
   "metadata": {},
   "outputs": [
    {
     "data": {
      "text/plain": [
       "MO_AWAY    3222658\n",
       "dtype: int64"
      ]
     },
     "execution_count": 3,
     "metadata": {},
     "output_type": "execute_result"
    }
   ],
   "source": [
    "nulls = df.isnull().sum()\n",
    "nulls[nulls != 0]"
   ]
  },
  {
   "cell_type": "markdown",
   "metadata": {},
   "source": [
    "MO_AWAY is the only column with nulls - good"
   ]
  },
  {
   "cell_type": "code",
   "execution_count": 4,
   "metadata": {
    "ExecuteTime": {
     "end_time": "2021-07-16T21:44:33.336034Z",
     "start_time": "2021-07-16T21:44:33.323059Z"
    },
    "hidden": true
   },
   "outputs": [
    {
     "data": {
      "text/plain": [
       "['SPA_PER_ID',\n",
       " 'SPA_PREM_ID',\n",
       " 'MONTH',\n",
       " 'SPA_ACCT_ID',\n",
       " 'RES_EL_CUR120_DAYS',\n",
       " 'RES_EL_CUR22_DAYS',\n",
       " 'RES_EL_CUR30_DAYS',\n",
       " 'RES_EL_CUR60_DAYS',\n",
       " 'RES_EL_CUR90_DAYS',\n",
       " 'RES_EL_CUR_BAL_AMT',\n",
       " 'RES_EL_OVER_120_DAYS',\n",
       " 'RES_GAS_CUR120_DAYS',\n",
       " 'RES_GAS_CUR22_DAYS',\n",
       " 'RES_GAS_CUR30_DAYS',\n",
       " 'RES_GAS_CUR60_DAYS',\n",
       " 'RES_GAS_CUR90_DAYS',\n",
       " 'RES_GAS_CUR_BAL_AMT',\n",
       " 'RES_GAS_OVER_120_DAYS',\n",
       " 'BREAK_ARRANGEMENT',\n",
       " 'BREAK_PAY_PLAN',\n",
       " 'CALL_OUT',\n",
       " 'CALL_OUT_MANUAL',\n",
       " 'DUE_DATE',\n",
       " 'FINAL_NOTICE',\n",
       " 'PAST_DUE',\n",
       " 'SEVERANCE_ELECTRIC',\n",
       " 'SEVERANCE_GAS',\n",
       " 'CITY_TOT_DUE',\n",
       " 'CITY_30_DAYS_PAST_DUE_AMT',\n",
       " 'CITY_60_DAYS_PAST_DUE_AMT',\n",
       " 'CITY_90_DAYS_PAST_DUE_AMT',\n",
       " 'CMIS_MATCH',\n",
       " 'APARTMENT',\n",
       " 'ENROLL_DATE',\n",
       " 'HAS_COTENANT',\n",
       " 'BLOCKGROUP_GEOID',\n",
       " 'POSTAL',\n",
       " 'MULTI_DWELL_ID',\n",
       " 'AGG_INCOME_GEO',\n",
       " 'NO_EARNINGS_GEO',\n",
       " 'BELOW_POVERTY_LVL_GEO',\n",
       " 'SNAP_GEO',\n",
       " 'ABOVE_GRD7_GEO',\n",
       " 'PUBLIC_ASSIST_GEO',\n",
       " 'AVISTA_CUR120_DAYS',\n",
       " 'AVISTA_OVER_120_DAYS',\n",
       " 'AVISTA_CUR22_DAYS',\n",
       " 'AVISTA_CUR30_DAYS',\n",
       " 'AVISTA_CUR60_DAYS',\n",
       " 'AVISTA_CUR90_DAYS',\n",
       " 'AVISTA_CUR_BAL_AMT',\n",
       " 'TOTAL_30_DAYS_AMT',\n",
       " 'TOTAL_60_DAYS_AMT',\n",
       " 'TOTAL_90_DAYS_AMT',\n",
       " 'TOTAL_CUR_BALANCE',\n",
       " 'LAST_MO_W_DATA',\n",
       " 'WITHIN_6_MO_PRIOR_LAST_DATA',\n",
       " 'MO_AWAY',\n",
       " 'NUM_PREM_FOR_PER',\n",
       " 'NUM_PER_FOR_PREM',\n",
       " 'MULTI_DWELL_SIZE']"
      ]
     },
     "execution_count": 4,
     "metadata": {},
     "output_type": "execute_result"
    }
   ],
   "source": [
    "df.columns.to_list()"
   ]
  },
  {
   "cell_type": "markdown",
   "metadata": {},
   "source": [
    "# Select Subset of Attributes"
   ]
  },
  {
   "cell_type": "code",
   "execution_count": 5,
   "metadata": {
    "ExecuteTime": {
     "end_time": "2021-07-16T21:44:34.408798Z",
     "start_time": "2021-07-16T21:44:33.339016Z"
    }
   },
   "outputs": [
    {
     "data": {
      "text/plain": [
       "['MONTH',\n",
       " 'BREAK_ARRANGEMENT',\n",
       " 'BREAK_PAY_PLAN',\n",
       " 'CALL_OUT',\n",
       " 'CALL_OUT_MANUAL',\n",
       " 'DUE_DATE',\n",
       " 'FINAL_NOTICE',\n",
       " 'PAST_DUE',\n",
       " 'SEVERANCE_ELECTRIC',\n",
       " 'SEVERANCE_GAS',\n",
       " 'TOTAL_30_DAYS_AMT',\n",
       " 'TOTAL_60_DAYS_AMT',\n",
       " 'TOTAL_90_DAYS_AMT',\n",
       " 'TOTAL_CUR_BALANCE',\n",
       " 'SPA_PER_ID',\n",
       " 'SPA_PREM_ID',\n",
       " 'CMIS_MATCH',\n",
       " 'HAS_COTENANT',\n",
       " 'NUM_PREM_FOR_PER',\n",
       " 'NUM_PER_FOR_PREM',\n",
       " 'MULTI_DWELL_SIZE']"
      ]
     },
     "execution_count": 5,
     "metadata": {},
     "output_type": "execute_result"
    }
   ],
   "source": [
    "keep = [\n",
    "    'MONTH',\n",
    "    #\n",
    "    #'RES_EL_CUR30_DAYS',\n",
    "    #'RES_EL_CUR60_DAYS',\n",
    "    #'RES_EL_CUR90_DAYS',\n",
    "    #'RES_EL_CUR_BAL_AMT',\n",
    "    #'RES_GAS_CUR30_DAYS',\n",
    "    #'RES_GAS_CUR60_DAYS',\n",
    "    #'RES_GAS_CUR90_DAYS',\n",
    "    #'RES_GAS_CUR_BAL_AMT',\n",
    "    #\n",
    "    'BREAK_ARRANGEMENT',\n",
    "    'BREAK_PAY_PLAN',\n",
    "    'CALL_OUT',\n",
    "    'CALL_OUT_MANUAL',\n",
    "    'DUE_DATE',\n",
    "    'FINAL_NOTICE',\n",
    "    'PAST_DUE',\n",
    "    'SEVERANCE_ELECTRIC',\n",
    "    'SEVERANCE_GAS',\n",
    "    #\n",
    "    #'CITY_TOT_DUE',\n",
    "    #'CITY_30_DAYS_PAST_DUE_AMT',\n",
    "    #'CITY_60_DAYS_PAST_DUE_AMT',\n",
    "    #'CITY_90_DAYS_PAST_DUE_AMT',\n",
    "    #\n",
    "    'TOTAL_30_DAYS_AMT',\n",
    "    'TOTAL_60_DAYS_AMT',\n",
    "    'TOTAL_90_DAYS_AMT',\n",
    "    'TOTAL_CUR_BALANCE',\n",
    "    #\n",
    "    'SPA_PER_ID',\n",
    "    'SPA_PREM_ID',\n",
    "    'CMIS_MATCH',\n",
    "    #\n",
    "    'HAS_COTENANT',\n",
    "    'NUM_PREM_FOR_PER',\n",
    "    'NUM_PER_FOR_PREM',\n",
    "    'MULTI_DWELL_SIZE',\n",
    "    #\n",
    "    #'AGG_INCOME_GEO',\n",
    "    #'NO_EARNINGS_GEO',\n",
    "    #'BELOW_POVERTY_LVL_GEO',\n",
    "    #'SNAP_GEO',\n",
    "    #'ABOVE_GRD7_GEO',\n",
    "    #'PUBLIC_ASSIST_GEO',\n",
    "]\n",
    "\n",
    "df = df[keep]\n",
    "df.columns.to_list()"
   ]
  },
  {
   "cell_type": "markdown",
   "metadata": {},
   "source": [
    "# Require Sequential Data Format\n",
    "Problem  \n",
    "* Currently a single person (SPA_PER_ID) sometimes has multiple attribute values for a given MONTH  \n",
    "\n",
    "Cause  \n",
    "* People have multiple premises (SPA_PREM_ID's) at the same time  \n",
    "\n",
    "Solution  \n",
    "* Create Person-Premis data objects to track"
   ]
  },
  {
   "cell_type": "code",
   "execution_count": 6,
   "metadata": {},
   "outputs": [
    {
     "data": {
      "text/plain": [
       "1    3231051\n",
       "dtype: int64"
      ]
     },
     "execution_count": 6,
     "metadata": {},
     "output_type": "execute_result"
    }
   ],
   "source": [
    "df.groupby(['SPA_PER_ID', 'SPA_PREM_ID', 'MONTH']).size().value_counts()"
   ]
  },
  {
   "cell_type": "code",
   "execution_count": 7,
   "metadata": {},
   "outputs": [
    {
     "data": {
      "text/plain": [
       "1    3216911\n",
       "2       7070\n",
       "dtype: int64"
      ]
     },
     "execution_count": 7,
     "metadata": {},
     "output_type": "execute_result"
    }
   ],
   "source": [
    "df.groupby(['SPA_PER_ID', 'MONTH']).size().value_counts()"
   ]
  },
  {
   "cell_type": "code",
   "execution_count": 8,
   "metadata": {},
   "outputs": [
    {
     "data": {
      "text/plain": [
       "1    3231051\n",
       "dtype: int64"
      ]
     },
     "execution_count": 8,
     "metadata": {},
     "output_type": "execute_result"
    }
   ],
   "source": [
    "df['SPA_PER-PREM_ID'] = df.apply(lambda x: str(x['SPA_PER_ID']) + '-' + str(x['SPA_PREM_ID']), axis=1)\n",
    "\n",
    "df = df.drop(['SPA_PER_ID', 'SPA_PREM_ID'], axis=1)\n",
    "\n",
    "id_col = 'SPA_PER-PREM_ID'\n",
    "\n",
    "df.groupby([id_col, 'MONTH']).size().value_counts()"
   ]
  },
  {
   "cell_type": "markdown",
   "metadata": {},
   "source": [
    "# Split X and Y, Training and Testing"
   ]
  },
  {
   "cell_type": "code",
   "execution_count": 9,
   "metadata": {},
   "outputs": [],
   "source": [
    "TEST_FRAC = 1/3\n",
    "\n",
    "# Split Train/Test sets\n",
    "df_train, df_test = model_eval.split_on_people(df, id_col=id_col, test_frac=TEST_FRAC)\n",
    "\n",
    "# Split X and Y\n",
    "X_train = df_train.drop('CMIS_MATCH', axis=1)\n",
    "Y_train = df_train[['CMIS_MATCH', id_col]].groupby(id_col).first()\n",
    "\n",
    "X_test = df_test.drop('CMIS_MATCH', axis=1)\n",
    "Y_test = df_test[['CMIS_MATCH', id_col]].groupby(id_col).first()"
   ]
  },
  {
   "cell_type": "markdown",
   "metadata": {},
   "source": [
    "# Reformat to numpy ndarray"
   ]
  },
  {
   "cell_type": "code",
   "execution_count": 10,
   "metadata": {},
   "outputs": [],
   "source": [
    "def reformat_for_ann(data: pd.DataFrame, id_col: str, time_col: str, max_sequence_length: int=0):\n",
    "    '''\n",
    "    09/02/21\n",
    "    Input: Pandas DataFrame with and ID column, Time Column, and the rest variable columns\n",
    "    Output: Numpy ndarray with dimensions: [num_data_objects, max_sequence_length, num_vars]\n",
    "    Note: Padding is done at beginning of sequence.\n",
    "    '''\n",
    "    \n",
    "    df = data.set_index([id_col, time_col]).copy()\n",
    "    IDs = df.index.get_level_values(id_col).unique()\n",
    "    VARs = df.columns\n",
    "    NUM_VARS = len(VARs)\n",
    "    MAX_SEQUENCE_LENGTH = None\n",
    "    if max_sequence_length == 0:\n",
    "        MAX_SEQUENCE_LENGTH = df.index.get_level_values(time_col).max() - df.index.get_level_values(time_col).min() + 1\n",
    "    else:\n",
    "        MAX_SEQUENCE_LENGTH = max_sequence_length\n",
    "    NUM_IDs = df.index.get_level_values(id_col).nunique()\n",
    "\n",
    "    data_array = np.zeros((NUM_IDs, MAX_SEQUENCE_LENGTH, NUM_VARS))\n",
    "\n",
    "    print(f'NUM_IDs: {NUM_IDs}')\n",
    "    print(f'MAX_SEQUENCE_LENGTH: {MAX_SEQUENCE_LENGTH}')\n",
    "    print(f'NUM_VARS: {NUM_VARS}')\n",
    "    print()\n",
    "    \n",
    "    for IDx in range(len(IDs)):\n",
    "        person = df.loc[IDs[IDx]]\n",
    "        num_person_timesteps = person.index.get_level_values(time_col).max() - person.index.get_level_values(time_col).min() + 1\n",
    "        for VARx in range(len(VARs)):\n",
    "            try:\n",
    "                data_array[IDx, -num_person_timesteps:, VARx] = person[VARs[VARx]].values\n",
    "            except:\n",
    "                print(f'Attempted Destination\\n{data_array[IDx, -num_person_timesteps:, VARx]}\\n')\n",
    "                print(f'Attempted Source\\n{person[VARs[VARx]].values}')\n",
    "                print(f'ID: {IDs[IDx]}')\n",
    "                print(f'VAR: {VARs[VARx]}')\n",
    "                print()\n",
    "                return\n",
    "\n",
    "    return data_array"
   ]
  },
  {
   "cell_type": "code",
   "execution_count": 11,
   "metadata": {},
   "outputs": [
    {
     "name": "stdout",
     "output_type": "stream",
     "text": [
      "X_train\n",
      "NUM_IDs: 56811\n",
      "MAX_SEQUENCE_LENGTH: 59\n",
      "NUM_VARS: 17\n",
      "\n",
      "Attempted Destination\n",
      "[0. 0. 0. 0. 0. 0. 0. 0. 0. 0. 0. 0. 0. 0. 0. 0. 0. 0. 0. 0. 0. 0. 0. 0.\n",
      " 0. 0. 0. 0. 0. 0. 0. 0. 0. 0. 0. 0. 0. 0. 0. 0. 0. 0. 0. 0. 0. 0. 0. 0.\n",
      " 0. 0. 0. 0. 0. 0. 0. 0. 0. 0. 0.]\n",
      "\n",
      "Attempted Source\n",
      "[0 0 0 0 0 0 0 0 0 0 0 0 0 0 0 0 0 0 0 0 0 0 0 0 0 0 0 0 0 0 0 0 0 0 0 0 0\n",
      " 0 0 0 0 0 0 0 0 0 0 0 0 0 0 0 0 0 0 0 0 0]\n",
      "ID: 125-75320\n",
      "VAR: BREAK_ARRANGEMENT\n",
      "\n",
      "Y_train\n",
      "IDs: 56811\n",
      "\n",
      "X_test\n",
      "NUM_IDs: 28406\n",
      "MAX_SEQUENCE_LENGTH: 59\n",
      "NUM_VARS: 17\n",
      "\n",
      "Attempted Destination\n",
      "[0. 0. 0. 0. 0. 0. 0. 0. 0. 0. 0. 0. 0. 0. 0. 0. 0. 0. 0. 0. 0. 0. 0. 0.\n",
      " 0. 0. 0. 0. 0. 0. 0. 0. 0.]\n",
      "\n",
      "Attempted Source\n",
      "[0 0 0 0 0 0 0 0 0 0 0 0]\n",
      "ID: 713-49137\n",
      "VAR: BREAK_ARRANGEMENT\n",
      "\n",
      "Y_test\n",
      "IDs: 28406\n"
     ]
    }
   ],
   "source": [
    "#Y_train = Y_train.squeeze(axis=1)\n",
    "#Y_test = Y_test.squeeze(axis=1)\n",
    "\n",
    "print('X_train')\n",
    "X_train = reformat_for_ann(X_train, id_col=id_col, time_col='MONTH')\n",
    "print(f'Y_train\\nIDs: {len(Y_train)}\\n')\n",
    "\n",
    "print('X_test')\n",
    "X_test = reformat_for_ann(X_test, id_col=id_col, time_col='MONTH')\n",
    "print(f'Y_test\\nIDs: {len(Y_test)}')"
   ]
  },
  {
   "cell_type": "code",
   "execution_count": 12,
   "metadata": {},
   "outputs": [
    {
     "ename": "TypeError",
     "evalue": "'NoneType' object is not subscriptable",
     "output_type": "error",
     "traceback": [
      "\u001b[1;31m---------------------------------------------------------------------------\u001b[0m",
      "\u001b[1;31mTypeError\u001b[0m                                 Traceback (most recent call last)",
      "\u001b[1;32m<ipython-input-12-59581a129d97>\u001b[0m in \u001b[0;36m<module>\u001b[1;34m\u001b[0m\n\u001b[1;32m----> 1\u001b[1;33m \u001b[0mX_train\u001b[0m\u001b[1;33m[\u001b[0m\u001b[1;33m:\u001b[0m\u001b[1;36m2\u001b[0m\u001b[1;33m]\u001b[0m\u001b[1;33m\u001b[0m\u001b[1;33m\u001b[0m\u001b[0m\n\u001b[0m",
      "\u001b[1;31mTypeError\u001b[0m: 'NoneType' object is not subscriptable"
     ]
    }
   ],
   "source": [
    "X_train[:2]"
   ]
  },
  {
   "cell_type": "markdown",
   "metadata": {},
   "source": [
    "# Scale"
   ]
  },
  {
   "cell_type": "code",
   "execution_count": null,
   "metadata": {},
   "outputs": [],
   "source": [
    "# Scaling 3D array\n",
    "# New scaler for each variable\n",
    "\n",
    "from sklearn.preprocessing import StandardScaler\n",
    "\n",
    "scalers = {}\n",
    "for i in range(X_train.shape[1]):\n",
    "    scalers[i] = StandardScaler()\n",
    "    X_train[:, i, :] = scalers[i].fit_transform(X_train[:, i, :]) \n",
    "\n",
    "for i in range(X_test.shape[1]):\n",
    "    X_test[:, i, :] = scalers[i].transform(X_test[:, i, :]) "
   ]
  },
  {
   "cell_type": "markdown",
   "metadata": {},
   "source": [
    "# Time and Save"
   ]
  },
  {
   "cell_type": "code",
   "execution_count": null,
   "metadata": {
    "ExecuteTime": {
     "end_time": "2021-07-16T21:44:38.160841Z",
     "start_time": "2021-07-16T21:44:34.681563Z"
    }
   },
   "outputs": [],
   "source": [
    "data = {'X_train':X_train, 'Y_train':Y_train, 'X_test':X_test, 'Y_test':Y_test}\n",
    "\n",
    "filename = 'ann_ready.pickle'\n",
    "outfile = open(datapath+filename, 'wb')\n",
    "pickle.dump(data, outfile)\n",
    "outfile.close()"
   ]
  },
  {
   "cell_type": "code",
   "execution_count": null,
   "metadata": {
    "ExecuteTime": {
     "end_time": "2021-07-16T21:44:38.176103Z",
     "start_time": "2021-07-16T21:44:38.165518Z"
    }
   },
   "outputs": [],
   "source": [
    "from custom_methods.calc_time import calc_time_from_sec\n",
    "\n",
    "calc_time_from_sec(time.time()-startTime)"
   ]
  }
 ],
 "metadata": {
  "kernelspec": {
   "display_name": "Python 3",
   "language": "python",
   "name": "python3"
  },
  "language_info": {
   "codemirror_mode": {
    "name": "ipython",
    "version": 3
   },
   "file_extension": ".py",
   "mimetype": "text/x-python",
   "name": "python",
   "nbconvert_exporter": "python",
   "pygments_lexer": "ipython3",
   "version": "3.8.8"
  },
  "metadata": {
   "interpreter": {
    "hash": "55dc2ef33d481be31a5c00b42f248808e4edd8b163c72100e3df152a03ba29f1"
   }
  },
  "varInspector": {
   "cols": {
    "lenName": 16,
    "lenType": 16,
    "lenVar": 40
   },
   "kernels_config": {
    "python": {
     "delete_cmd_postfix": "",
     "delete_cmd_prefix": "del ",
     "library": "var_list.py",
     "varRefreshCmd": "print(var_dic_list())"
    },
    "r": {
     "delete_cmd_postfix": ") ",
     "delete_cmd_prefix": "rm(",
     "library": "var_list.r",
     "varRefreshCmd": "cat(var_dic_list()) "
    }
   },
   "types_to_exclude": [
    "module",
    "function",
    "builtin_function_or_method",
    "instance",
    "_Feature"
   ],
   "window_display": false
  }
 },
 "nbformat": 4,
 "nbformat_minor": 4
}
