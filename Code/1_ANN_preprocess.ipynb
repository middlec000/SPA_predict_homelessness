{
 "cells": [
  {
   "cell_type": "markdown",
   "metadata": {},
   "source": [
    "# Imports "
   ]
  },
  {
   "cell_type": "code",
   "execution_count": 10,
   "metadata": {
    "ExecuteTime": {
     "end_time": "2021-07-16T21:44:32.470393Z",
     "start_time": "2021-07-16T21:44:32.459390Z"
    }
   },
   "outputs": [],
   "source": [
    "import pandas as pd\n",
    "import pickle\n",
    "import time\n",
    "\n",
    "datapath = '../Data/'\n",
    "\n",
    "startTime = time.time()"
   ]
  },
  {
   "cell_type": "markdown",
   "metadata": {
    "heading_collapsed": true
   },
   "source": [
    "# Get Data"
   ]
  },
  {
   "cell_type": "code",
   "execution_count": 11,
   "metadata": {
    "ExecuteTime": {
     "end_time": "2021-07-16T21:44:33.320051Z",
     "start_time": "2021-07-16T21:44:32.473360Z"
    },
    "hidden": true
   },
   "outputs": [
    {
     "data": {
      "text/html": [
       "<div>\n",
       "<style scoped>\n",
       "    .dataframe tbody tr th:only-of-type {\n",
       "        vertical-align: middle;\n",
       "    }\n",
       "\n",
       "    .dataframe tbody tr th {\n",
       "        vertical-align: top;\n",
       "    }\n",
       "\n",
       "    .dataframe thead th {\n",
       "        text-align: right;\n",
       "    }\n",
       "</style>\n",
       "<table border=\"1\" class=\"dataframe\">\n",
       "  <thead>\n",
       "    <tr style=\"text-align: right;\">\n",
       "      <th></th>\n",
       "      <th>SPA_ACCT_ID</th>\n",
       "      <th>SPA_PREM_ID</th>\n",
       "      <th>MONTH</th>\n",
       "      <th>RES_EL_CUR120_DAYS</th>\n",
       "      <th>RES_EL_CUR22_DAYS</th>\n",
       "      <th>RES_EL_CUR30_DAYS</th>\n",
       "      <th>RES_EL_CUR60_DAYS</th>\n",
       "      <th>RES_EL_CUR90_DAYS</th>\n",
       "      <th>RES_EL_CUR_BAL_AMT</th>\n",
       "      <th>RES_EL_OVER_120_DAYS</th>\n",
       "      <th>...</th>\n",
       "      <th>TOTAL_30_DAYS_AMT</th>\n",
       "      <th>TOTAL_60_DAYS_AMT</th>\n",
       "      <th>TOTAL_90_DAYS_AMT</th>\n",
       "      <th>TOTAL_CUR_BALANCE</th>\n",
       "      <th>LAST_MO_W_DATA</th>\n",
       "      <th>WITHIN_6_MO_PRIOR_LAST_DATA</th>\n",
       "      <th>MO_AWAY</th>\n",
       "      <th>NUM_PREM_FOR_PER</th>\n",
       "      <th>NUM_PER_FOR_PREM</th>\n",
       "      <th>MULTI_DWELL_SIZE</th>\n",
       "    </tr>\n",
       "  </thead>\n",
       "  <tbody>\n",
       "    <tr>\n",
       "      <th>0</th>\n",
       "      <td>6</td>\n",
       "      <td>1557</td>\n",
       "      <td>0</td>\n",
       "      <td>0.0</td>\n",
       "      <td>66.03</td>\n",
       "      <td>0.0</td>\n",
       "      <td>0.0</td>\n",
       "      <td>0.0</td>\n",
       "      <td>66.03</td>\n",
       "      <td>0.0</td>\n",
       "      <td>...</td>\n",
       "      <td>0.00</td>\n",
       "      <td>0.0</td>\n",
       "      <td>0.0</td>\n",
       "      <td>331.78</td>\n",
       "      <td>False</td>\n",
       "      <td>False</td>\n",
       "      <td>NaN</td>\n",
       "      <td>1.0</td>\n",
       "      <td>1.0</td>\n",
       "      <td>52212</td>\n",
       "    </tr>\n",
       "    <tr>\n",
       "      <th>1</th>\n",
       "      <td>6</td>\n",
       "      <td>1557</td>\n",
       "      <td>1</td>\n",
       "      <td>0.0</td>\n",
       "      <td>61.26</td>\n",
       "      <td>0.0</td>\n",
       "      <td>0.0</td>\n",
       "      <td>0.0</td>\n",
       "      <td>61.26</td>\n",
       "      <td>0.0</td>\n",
       "      <td>...</td>\n",
       "      <td>139.70</td>\n",
       "      <td>0.0</td>\n",
       "      <td>0.0</td>\n",
       "      <td>442.93</td>\n",
       "      <td>False</td>\n",
       "      <td>False</td>\n",
       "      <td>NaN</td>\n",
       "      <td>1.0</td>\n",
       "      <td>1.0</td>\n",
       "      <td>52212</td>\n",
       "    </tr>\n",
       "    <tr>\n",
       "      <th>2</th>\n",
       "      <td>6</td>\n",
       "      <td>1557</td>\n",
       "      <td>2</td>\n",
       "      <td>0.0</td>\n",
       "      <td>59.74</td>\n",
       "      <td>0.0</td>\n",
       "      <td>0.0</td>\n",
       "      <td>0.0</td>\n",
       "      <td>59.74</td>\n",
       "      <td>0.0</td>\n",
       "      <td>...</td>\n",
       "      <td>0.00</td>\n",
       "      <td>0.0</td>\n",
       "      <td>0.0</td>\n",
       "      <td>273.26</td>\n",
       "      <td>False</td>\n",
       "      <td>False</td>\n",
       "      <td>NaN</td>\n",
       "      <td>1.0</td>\n",
       "      <td>1.0</td>\n",
       "      <td>52212</td>\n",
       "    </tr>\n",
       "    <tr>\n",
       "      <th>3</th>\n",
       "      <td>6</td>\n",
       "      <td>1557</td>\n",
       "      <td>3</td>\n",
       "      <td>0.0</td>\n",
       "      <td>59.74</td>\n",
       "      <td>0.0</td>\n",
       "      <td>0.0</td>\n",
       "      <td>0.0</td>\n",
       "      <td>59.74</td>\n",
       "      <td>0.0</td>\n",
       "      <td>...</td>\n",
       "      <td>0.00</td>\n",
       "      <td>0.0</td>\n",
       "      <td>0.0</td>\n",
       "      <td>380.90</td>\n",
       "      <td>False</td>\n",
       "      <td>False</td>\n",
       "      <td>NaN</td>\n",
       "      <td>1.0</td>\n",
       "      <td>1.0</td>\n",
       "      <td>52212</td>\n",
       "    </tr>\n",
       "    <tr>\n",
       "      <th>4</th>\n",
       "      <td>6</td>\n",
       "      <td>1557</td>\n",
       "      <td>4</td>\n",
       "      <td>0.0</td>\n",
       "      <td>52.47</td>\n",
       "      <td>0.0</td>\n",
       "      <td>0.0</td>\n",
       "      <td>0.0</td>\n",
       "      <td>52.47</td>\n",
       "      <td>0.0</td>\n",
       "      <td>...</td>\n",
       "      <td>118.82</td>\n",
       "      <td>0.0</td>\n",
       "      <td>0.0</td>\n",
       "      <td>356.45</td>\n",
       "      <td>False</td>\n",
       "      <td>False</td>\n",
       "      <td>NaN</td>\n",
       "      <td>1.0</td>\n",
       "      <td>1.0</td>\n",
       "      <td>52212</td>\n",
       "    </tr>\n",
       "  </tbody>\n",
       "</table>\n",
       "<p>5 rows × 61 columns</p>\n",
       "</div>"
      ],
      "text/plain": [
       "   SPA_ACCT_ID  SPA_PREM_ID  MONTH  RES_EL_CUR120_DAYS  RES_EL_CUR22_DAYS  \\\n",
       "0            6         1557      0                 0.0              66.03   \n",
       "1            6         1557      1                 0.0              61.26   \n",
       "2            6         1557      2                 0.0              59.74   \n",
       "3            6         1557      3                 0.0              59.74   \n",
       "4            6         1557      4                 0.0              52.47   \n",
       "\n",
       "   RES_EL_CUR30_DAYS  RES_EL_CUR60_DAYS  RES_EL_CUR90_DAYS  \\\n",
       "0                0.0                0.0                0.0   \n",
       "1                0.0                0.0                0.0   \n",
       "2                0.0                0.0                0.0   \n",
       "3                0.0                0.0                0.0   \n",
       "4                0.0                0.0                0.0   \n",
       "\n",
       "   RES_EL_CUR_BAL_AMT  RES_EL_OVER_120_DAYS  ...  TOTAL_30_DAYS_AMT  \\\n",
       "0               66.03                   0.0  ...               0.00   \n",
       "1               61.26                   0.0  ...             139.70   \n",
       "2               59.74                   0.0  ...               0.00   \n",
       "3               59.74                   0.0  ...               0.00   \n",
       "4               52.47                   0.0  ...             118.82   \n",
       "\n",
       "   TOTAL_60_DAYS_AMT  TOTAL_90_DAYS_AMT  TOTAL_CUR_BALANCE  LAST_MO_W_DATA  \\\n",
       "0                0.0                0.0             331.78           False   \n",
       "1                0.0                0.0             442.93           False   \n",
       "2                0.0                0.0             273.26           False   \n",
       "3                0.0                0.0             380.90           False   \n",
       "4                0.0                0.0             356.45           False   \n",
       "\n",
       "   WITHIN_6_MO_PRIOR_LAST_DATA  MO_AWAY  NUM_PREM_FOR_PER  NUM_PER_FOR_PREM  \\\n",
       "0                        False      NaN               1.0               1.0   \n",
       "1                        False      NaN               1.0               1.0   \n",
       "2                        False      NaN               1.0               1.0   \n",
       "3                        False      NaN               1.0               1.0   \n",
       "4                        False      NaN               1.0               1.0   \n",
       "\n",
       "   MULTI_DWELL_SIZE  \n",
       "0             52212  \n",
       "1             52212  \n",
       "2             52212  \n",
       "3             52212  \n",
       "4             52212  \n",
       "\n",
       "[5 rows x 61 columns]"
      ]
     },
     "execution_count": 11,
     "metadata": {},
     "output_type": "execute_result"
    }
   ],
   "source": [
    "filename = 'processed.pickle'\n",
    "infile = open(datapath+filename,'rb')\n",
    "df = pickle.load(infile)\n",
    "infile.close()\n",
    "df.head()"
   ]
  },
  {
   "cell_type": "code",
   "execution_count": 12,
   "metadata": {
    "ExecuteTime": {
     "end_time": "2021-07-16T21:44:33.336034Z",
     "start_time": "2021-07-16T21:44:33.323059Z"
    },
    "hidden": true
   },
   "outputs": [
    {
     "data": {
      "text/plain": [
       "['SPA_ACCT_ID',\n",
       " 'SPA_PREM_ID',\n",
       " 'MONTH',\n",
       " 'RES_EL_CUR120_DAYS',\n",
       " 'RES_EL_CUR22_DAYS',\n",
       " 'RES_EL_CUR30_DAYS',\n",
       " 'RES_EL_CUR60_DAYS',\n",
       " 'RES_EL_CUR90_DAYS',\n",
       " 'RES_EL_CUR_BAL_AMT',\n",
       " 'RES_EL_OVER_120_DAYS',\n",
       " 'RES_GAS_CUR120_DAYS',\n",
       " 'RES_GAS_CUR22_DAYS',\n",
       " 'RES_GAS_CUR30_DAYS',\n",
       " 'RES_GAS_CUR60_DAYS',\n",
       " 'RES_GAS_CUR90_DAYS',\n",
       " 'RES_GAS_CUR_BAL_AMT',\n",
       " 'RES_GAS_OVER_120_DAYS',\n",
       " 'BREAK_ARRANGEMENT',\n",
       " 'BREAK_PAY_PLAN',\n",
       " 'CALL_OUT',\n",
       " 'CALL_OUT_MANUAL',\n",
       " 'DUE_DATE',\n",
       " 'FINAL_NOTICE',\n",
       " 'PAST_DUE',\n",
       " 'SEVERANCE_ELECTRIC',\n",
       " 'SEVERANCE_GAS',\n",
       " 'CITY_TOT_DUE',\n",
       " 'CITY_30_DAYS_PAST_DUE_AMT',\n",
       " 'CITY_60_DAYS_PAST_DUE_AMT',\n",
       " 'CITY_90_DAYS_PAST_DUE_AMT',\n",
       " 'SPA_PER_ID',\n",
       " 'CMIS_MATCH',\n",
       " 'APARTMENT',\n",
       " 'ENROLL_DATE',\n",
       " 'HAS_COTENANT',\n",
       " 'BLOCKGROUP_GEOID',\n",
       " 'POSTAL',\n",
       " 'MULTI_DWELL_ID',\n",
       " 'AGG_INCOME_GEO',\n",
       " 'NO_EARNINGS_GEO',\n",
       " 'BELOW_POVERTY_LVL_GEO',\n",
       " 'SNAP_GEO',\n",
       " 'ABOVE_GRD7_GEO',\n",
       " 'PUBLIC_ASSIST_GEO',\n",
       " 'AVISTA_CUR120_DAYS',\n",
       " 'AVISTA_OVER_120_DAYS',\n",
       " 'AVISTA_CUR22_DAYS',\n",
       " 'AVISTA_CUR30_DAYS',\n",
       " 'AVISTA_CUR60_DAYS',\n",
       " 'AVISTA_CUR90_DAYS',\n",
       " 'AVISTA_CUR_BAL_AMT',\n",
       " 'TOTAL_30_DAYS_AMT',\n",
       " 'TOTAL_60_DAYS_AMT',\n",
       " 'TOTAL_90_DAYS_AMT',\n",
       " 'TOTAL_CUR_BALANCE',\n",
       " 'LAST_MO_W_DATA',\n",
       " 'WITHIN_6_MO_PRIOR_LAST_DATA',\n",
       " 'MO_AWAY',\n",
       " 'NUM_PREM_FOR_PER',\n",
       " 'NUM_PER_FOR_PREM',\n",
       " 'MULTI_DWELL_SIZE']"
      ]
     },
     "execution_count": 12,
     "metadata": {},
     "output_type": "execute_result"
    }
   ],
   "source": [
    "df.columns.to_list()"
   ]
  },
  {
   "cell_type": "markdown",
   "metadata": {},
   "source": [
    "# Select Subset of Attributes"
   ]
  },
  {
   "cell_type": "code",
   "execution_count": 13,
   "metadata": {
    "ExecuteTime": {
     "end_time": "2021-07-16T21:44:34.408798Z",
     "start_time": "2021-07-16T21:44:33.339016Z"
    }
   },
   "outputs": [
    {
     "data": {
      "text/plain": [
       "['MONTH',\n",
       " 'BREAK_ARRANGEMENT',\n",
       " 'BREAK_PAY_PLAN',\n",
       " 'CALL_OUT',\n",
       " 'CALL_OUT_MANUAL',\n",
       " 'DUE_DATE',\n",
       " 'FINAL_NOTICE',\n",
       " 'PAST_DUE',\n",
       " 'SEVERANCE_ELECTRIC',\n",
       " 'SEVERANCE_GAS',\n",
       " 'TOTAL_30_DAYS_AMT',\n",
       " 'TOTAL_60_DAYS_AMT',\n",
       " 'TOTAL_90_DAYS_AMT',\n",
       " 'TOTAL_CUR_BALANCE',\n",
       " 'SPA_PER_ID',\n",
       " 'CMIS_MATCH',\n",
       " 'HAS_COTENANT',\n",
       " 'NUM_PREM_FOR_PER',\n",
       " 'NUM_PER_FOR_PREM',\n",
       " 'MULTI_DWELL_SIZE']"
      ]
     },
     "execution_count": 13,
     "metadata": {},
     "output_type": "execute_result"
    }
   ],
   "source": [
    "keep = [\n",
    "    'MONTH',\n",
    "    #\n",
    "    #'RES_EL_CUR30_DAYS',\n",
    "    #'RES_EL_CUR60_DAYS',\n",
    "    #'RES_EL_CUR90_DAYS',\n",
    "    #'RES_EL_CUR_BAL_AMT',\n",
    "    #'RES_GAS_CUR30_DAYS',\n",
    "    #'RES_GAS_CUR60_DAYS',\n",
    "    #'RES_GAS_CUR90_DAYS',\n",
    "    #'RES_GAS_CUR_BAL_AMT',\n",
    "    #\n",
    "    'BREAK_ARRANGEMENT',\n",
    "    'BREAK_PAY_PLAN',\n",
    "    'CALL_OUT',\n",
    "    'CALL_OUT_MANUAL',\n",
    "    'DUE_DATE',\n",
    "    'FINAL_NOTICE',\n",
    "    'PAST_DUE',\n",
    "    'SEVERANCE_ELECTRIC',\n",
    "    'SEVERANCE_GAS',\n",
    "    #\n",
    "    #'CITY_TOT_DUE',\n",
    "    #'CITY_30_DAYS_PAST_DUE_AMT',\n",
    "    #'CITY_60_DAYS_PAST_DUE_AMT',\n",
    "    #'CITY_90_DAYS_PAST_DUE_AMT',\n",
    "    #\n",
    "    'TOTAL_30_DAYS_AMT',\n",
    "    'TOTAL_60_DAYS_AMT',\n",
    "    'TOTAL_90_DAYS_AMT',\n",
    "    'TOTAL_CUR_BALANCE',\n",
    "    #\n",
    "    'SPA_PER_ID',\n",
    "    'CMIS_MATCH',\n",
    "    #\n",
    "    'HAS_COTENANT',\n",
    "    'NUM_PREM_FOR_PER',\n",
    "    'NUM_PER_FOR_PREM',\n",
    "    'MULTI_DWELL_SIZE',\n",
    "    #\n",
    "    #'AGG_INCOME_GEO',\n",
    "    #'NO_EARNINGS_GEO',\n",
    "    #'BELOW_POVERTY_LVL_GEO',\n",
    "    #'SNAP_GEO',\n",
    "    #'ABOVE_GRD7_GEO',\n",
    "    #'PUBLIC_ASSIST_GEO',\n",
    "]\n",
    "\n",
    "df = df[keep]\n",
    "df.columns.to_list()"
   ]
  },
  {
   "cell_type": "markdown",
   "metadata": {
    "heading_collapsed": true
   },
   "source": [
    "# Check"
   ]
  },
  {
   "cell_type": "code",
   "execution_count": 14,
   "metadata": {
    "ExecuteTime": {
     "end_time": "2021-07-16T21:44:34.536518Z",
     "start_time": "2021-07-16T21:44:34.410865Z"
    },
    "hidden": true
   },
   "outputs": [
    {
     "data": {
      "text/plain": [
       "MONTH                 0\n",
       "BREAK_ARRANGEMENT     0\n",
       "BREAK_PAY_PLAN        0\n",
       "CALL_OUT              0\n",
       "CALL_OUT_MANUAL       0\n",
       "DUE_DATE              0\n",
       "FINAL_NOTICE          0\n",
       "PAST_DUE              0\n",
       "SEVERANCE_ELECTRIC    0\n",
       "SEVERANCE_GAS         0\n",
       "TOTAL_30_DAYS_AMT     0\n",
       "TOTAL_60_DAYS_AMT     0\n",
       "TOTAL_90_DAYS_AMT     0\n",
       "TOTAL_CUR_BALANCE     0\n",
       "SPA_PER_ID            0\n",
       "CMIS_MATCH            0\n",
       "HAS_COTENANT          0\n",
       "NUM_PREM_FOR_PER      0\n",
       "NUM_PER_FOR_PREM      0\n",
       "MULTI_DWELL_SIZE      0\n",
       "dtype: int64"
      ]
     },
     "execution_count": 14,
     "metadata": {},
     "output_type": "execute_result"
    }
   ],
   "source": [
    "df.isnull().sum()"
   ]
  },
  {
   "cell_type": "code",
   "execution_count": 15,
   "metadata": {
    "ExecuteTime": {
     "end_time": "2021-07-16T21:44:34.552429Z",
     "start_time": "2021-07-16T21:44:34.538470Z"
    },
    "hidden": true
   },
   "outputs": [
    {
     "data": {
      "text/plain": [
       "MONTH                   int64\n",
       "BREAK_ARRANGEMENT       int32\n",
       "BREAK_PAY_PLAN          int32\n",
       "CALL_OUT                int32\n",
       "CALL_OUT_MANUAL         int32\n",
       "DUE_DATE                int32\n",
       "FINAL_NOTICE            int32\n",
       "PAST_DUE                int32\n",
       "SEVERANCE_ELECTRIC      int32\n",
       "SEVERANCE_GAS           int32\n",
       "TOTAL_30_DAYS_AMT     float64\n",
       "TOTAL_60_DAYS_AMT     float64\n",
       "TOTAL_90_DAYS_AMT     float64\n",
       "TOTAL_CUR_BALANCE     float64\n",
       "SPA_PER_ID              int32\n",
       "CMIS_MATCH               bool\n",
       "HAS_COTENANT             bool\n",
       "NUM_PREM_FOR_PER      float64\n",
       "NUM_PER_FOR_PREM      float64\n",
       "MULTI_DWELL_SIZE        int64\n",
       "dtype: object"
      ]
     },
     "execution_count": 15,
     "metadata": {},
     "output_type": "execute_result"
    }
   ],
   "source": [
    "df.dtypes"
   ]
  },
  {
   "cell_type": "markdown",
   "metadata": {
    "hidden": true
   },
   "source": [
    "## Normalize Data"
   ]
  },
  {
   "cell_type": "code",
   "execution_count": 16,
   "metadata": {
    "ExecuteTime": {
     "end_time": "2021-07-16T21:44:34.679571Z",
     "start_time": "2021-07-16T21:44:34.555424Z"
    },
    "hidden": true
   },
   "outputs": [],
   "source": [
    "#"
   ]
  },
  {
   "cell_type": "markdown",
   "metadata": {},
   "source": [
    "# Time and Save"
   ]
  },
  {
   "cell_type": "code",
   "execution_count": 17,
   "metadata": {
    "ExecuteTime": {
     "end_time": "2021-07-16T21:44:38.160841Z",
     "start_time": "2021-07-16T21:44:34.681563Z"
    }
   },
   "outputs": [],
   "source": [
    "filename = 'ann_ready.pickle'\n",
    "outfile = open(datapath+filename, 'wb')\n",
    "pickle.dump(df, outfile)\n",
    "outfile.close()"
   ]
  },
  {
   "cell_type": "code",
   "execution_count": 18,
   "metadata": {
    "ExecuteTime": {
     "end_time": "2021-07-16T21:44:38.176103Z",
     "start_time": "2021-07-16T21:44:38.165518Z"
    }
   },
   "outputs": [
    {
     "name": "stdout",
     "output_type": "stream",
     "text": [
      "hours:minutes:seconds = 0:0:5.7041308879852295\n"
     ]
    }
   ],
   "source": [
    "from custom_methods.calc_time import calc_time_from_sec\n",
    "\n",
    "calc_time_from_sec(time.time()-startTime)"
   ]
  }
 ],
 "metadata": {
  "kernelspec": {
   "display_name": "Python 3",
   "language": "python",
   "name": "python3"
  },
  "language_info": {
   "codemirror_mode": {
    "name": "ipython",
    "version": 3
   },
   "file_extension": ".py",
   "mimetype": "text/x-python",
   "name": "python",
   "nbconvert_exporter": "python",
   "pygments_lexer": "ipython3",
   "version": "3.8.8"
  },
  "metadata": {
   "interpreter": {
    "hash": "55dc2ef33d481be31a5c00b42f248808e4edd8b163c72100e3df152a03ba29f1"
   }
  },
  "varInspector": {
   "cols": {
    "lenName": 16,
    "lenType": 16,
    "lenVar": 40
   },
   "kernels_config": {
    "python": {
     "delete_cmd_postfix": "",
     "delete_cmd_prefix": "del ",
     "library": "var_list.py",
     "varRefreshCmd": "print(var_dic_list())"
    },
    "r": {
     "delete_cmd_postfix": ") ",
     "delete_cmd_prefix": "rm(",
     "library": "var_list.r",
     "varRefreshCmd": "cat(var_dic_list()) "
    }
   },
   "types_to_exclude": [
    "module",
    "function",
    "builtin_function_or_method",
    "instance",
    "_Feature"
   ],
   "window_display": false
  }
 },
 "nbformat": 4,
 "nbformat_minor": 2
}
