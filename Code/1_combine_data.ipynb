{
 "cells": [
  {
   "cell_type": "markdown",
   "metadata": {},
   "source": [
    "# Imports"
   ]
  },
  {
   "cell_type": "code",
   "execution_count": 1,
   "metadata": {},
   "outputs": [],
   "source": [
    "import pandas as pd\n",
    "import numpy as np\n",
    "import pickle\n",
    "import time"
   ]
  },
  {
   "cell_type": "markdown",
   "metadata": {},
   "source": [
    "## Start Timer"
   ]
  },
  {
   "cell_type": "code",
   "execution_count": 2,
   "metadata": {},
   "outputs": [],
   "source": [
    "startTime = time.time()"
   ]
  },
  {
   "cell_type": "markdown",
   "metadata": {},
   "source": [
    "# Gather Billing Data"
   ]
  },
  {
   "cell_type": "code",
   "execution_count": 3,
   "metadata": {},
   "outputs": [
    {
     "name": "stdout",
     "output_type": "stream",
     "text": [
      "Rows: 3810352\n",
      "Accounts: 98054\n",
      "Premises: 64815\n",
      "Grouping\n",
      "1    3810352\n",
      "dtype: int64\n"
     ]
    },
    {
     "data": {
      "text/html": [
       "<div>\n",
       "<style scoped>\n",
       "    .dataframe tbody tr th:only-of-type {\n",
       "        vertical-align: middle;\n",
       "    }\n",
       "\n",
       "    .dataframe tbody tr th {\n",
       "        vertical-align: top;\n",
       "    }\n",
       "\n",
       "    .dataframe thead th {\n",
       "        text-align: right;\n",
       "    }\n",
       "</style>\n",
       "<table border=\"1\" class=\"dataframe\">\n",
       "  <thead>\n",
       "    <tr style=\"text-align: right;\">\n",
       "      <th></th>\n",
       "      <th>SPA_ACCT_ID</th>\n",
       "      <th>SPA_PREM_ID</th>\n",
       "      <th>ARREARSMONTH</th>\n",
       "      <th>RES_EL_CUR120_DAYS</th>\n",
       "      <th>RES_EL_CUR22_DAYS</th>\n",
       "      <th>RES_EL_CUR30_DAYS</th>\n",
       "      <th>RES_EL_CUR60_DAYS</th>\n",
       "      <th>RES_EL_CUR90_DAYS</th>\n",
       "      <th>RES_EL_CUR_BAL_AMT</th>\n",
       "      <th>RES_EL_OVER_120_DAYS</th>\n",
       "      <th>...</th>\n",
       "      <th>DUE_DATE</th>\n",
       "      <th>FINAL_NOTICE</th>\n",
       "      <th>PAST_DUE</th>\n",
       "      <th>SEVERANCE_ELECTRIC</th>\n",
       "      <th>SEVERANCE_GAS</th>\n",
       "      <th>CITY_TOT_DUE</th>\n",
       "      <th>CITY_30_DAYS_PAST_DUE_AMT</th>\n",
       "      <th>CITY_60_DAYS_PAST_DUE_AMT</th>\n",
       "      <th>CITY_90_DAYS_PAST_DUE_AMT</th>\n",
       "      <th>COVID_REMINDER</th>\n",
       "    </tr>\n",
       "  </thead>\n",
       "  <tbody>\n",
       "    <tr>\n",
       "      <th>0</th>\n",
       "      <td>6</td>\n",
       "      <td>1557</td>\n",
       "      <td>0</td>\n",
       "      <td>0.0</td>\n",
       "      <td>66.03</td>\n",
       "      <td>0.0</td>\n",
       "      <td>0.0</td>\n",
       "      <td>0.0</td>\n",
       "      <td>66.03</td>\n",
       "      <td>0.0</td>\n",
       "      <td>...</td>\n",
       "      <td>0</td>\n",
       "      <td>0</td>\n",
       "      <td>0</td>\n",
       "      <td>0</td>\n",
       "      <td>0</td>\n",
       "      <td>139.70</td>\n",
       "      <td>0.00</td>\n",
       "      <td>0.0</td>\n",
       "      <td>0.0</td>\n",
       "      <td>0</td>\n",
       "    </tr>\n",
       "    <tr>\n",
       "      <th>1</th>\n",
       "      <td>6</td>\n",
       "      <td>1557</td>\n",
       "      <td>1</td>\n",
       "      <td>0.0</td>\n",
       "      <td>61.26</td>\n",
       "      <td>0.0</td>\n",
       "      <td>0.0</td>\n",
       "      <td>0.0</td>\n",
       "      <td>61.26</td>\n",
       "      <td>0.0</td>\n",
       "      <td>...</td>\n",
       "      <td>0</td>\n",
       "      <td>0</td>\n",
       "      <td>0</td>\n",
       "      <td>0</td>\n",
       "      <td>0</td>\n",
       "      <td>246.32</td>\n",
       "      <td>139.70</td>\n",
       "      <td>0.0</td>\n",
       "      <td>0.0</td>\n",
       "      <td>0</td>\n",
       "    </tr>\n",
       "    <tr>\n",
       "      <th>2</th>\n",
       "      <td>6</td>\n",
       "      <td>1557</td>\n",
       "      <td>2</td>\n",
       "      <td>0.0</td>\n",
       "      <td>59.74</td>\n",
       "      <td>0.0</td>\n",
       "      <td>0.0</td>\n",
       "      <td>0.0</td>\n",
       "      <td>59.74</td>\n",
       "      <td>0.0</td>\n",
       "      <td>...</td>\n",
       "      <td>0</td>\n",
       "      <td>0</td>\n",
       "      <td>0</td>\n",
       "      <td>0</td>\n",
       "      <td>0</td>\n",
       "      <td>106.37</td>\n",
       "      <td>0.00</td>\n",
       "      <td>0.0</td>\n",
       "      <td>0.0</td>\n",
       "      <td>0</td>\n",
       "    </tr>\n",
       "    <tr>\n",
       "      <th>3</th>\n",
       "      <td>6</td>\n",
       "      <td>1557</td>\n",
       "      <td>3</td>\n",
       "      <td>0.0</td>\n",
       "      <td>59.74</td>\n",
       "      <td>0.0</td>\n",
       "      <td>0.0</td>\n",
       "      <td>0.0</td>\n",
       "      <td>59.74</td>\n",
       "      <td>0.0</td>\n",
       "      <td>...</td>\n",
       "      <td>0</td>\n",
       "      <td>0</td>\n",
       "      <td>0</td>\n",
       "      <td>0</td>\n",
       "      <td>0</td>\n",
       "      <td>225.19</td>\n",
       "      <td>0.00</td>\n",
       "      <td>0.0</td>\n",
       "      <td>0.0</td>\n",
       "      <td>0</td>\n",
       "    </tr>\n",
       "    <tr>\n",
       "      <th>4</th>\n",
       "      <td>6</td>\n",
       "      <td>1557</td>\n",
       "      <td>4</td>\n",
       "      <td>0.0</td>\n",
       "      <td>52.47</td>\n",
       "      <td>0.0</td>\n",
       "      <td>0.0</td>\n",
       "      <td>0.0</td>\n",
       "      <td>52.47</td>\n",
       "      <td>0.0</td>\n",
       "      <td>...</td>\n",
       "      <td>0</td>\n",
       "      <td>0</td>\n",
       "      <td>0</td>\n",
       "      <td>0</td>\n",
       "      <td>0</td>\n",
       "      <td>243.09</td>\n",
       "      <td>118.82</td>\n",
       "      <td>0.0</td>\n",
       "      <td>0.0</td>\n",
       "      <td>0</td>\n",
       "    </tr>\n",
       "  </tbody>\n",
       "</table>\n",
       "<p>5 rows × 31 columns</p>\n",
       "</div>"
      ],
      "text/plain": [
       "   SPA_ACCT_ID  SPA_PREM_ID  ARREARSMONTH  RES_EL_CUR120_DAYS  \\\n",
       "0            6         1557             0                 0.0   \n",
       "1            6         1557             1                 0.0   \n",
       "2            6         1557             2                 0.0   \n",
       "3            6         1557             3                 0.0   \n",
       "4            6         1557             4                 0.0   \n",
       "\n",
       "   RES_EL_CUR22_DAYS  RES_EL_CUR30_DAYS  RES_EL_CUR60_DAYS  RES_EL_CUR90_DAYS  \\\n",
       "0              66.03                0.0                0.0                0.0   \n",
       "1              61.26                0.0                0.0                0.0   \n",
       "2              59.74                0.0                0.0                0.0   \n",
       "3              59.74                0.0                0.0                0.0   \n",
       "4              52.47                0.0                0.0                0.0   \n",
       "\n",
       "   RES_EL_CUR_BAL_AMT  RES_EL_OVER_120_DAYS  ...  DUE_DATE  FINAL_NOTICE  \\\n",
       "0               66.03                   0.0  ...         0             0   \n",
       "1               61.26                   0.0  ...         0             0   \n",
       "2               59.74                   0.0  ...         0             0   \n",
       "3               59.74                   0.0  ...         0             0   \n",
       "4               52.47                   0.0  ...         0             0   \n",
       "\n",
       "   PAST_DUE  SEVERANCE_ELECTRIC  SEVERANCE_GAS  CITY_TOT_DUE  \\\n",
       "0         0                   0              0        139.70   \n",
       "1         0                   0              0        246.32   \n",
       "2         0                   0              0        106.37   \n",
       "3         0                   0              0        225.19   \n",
       "4         0                   0              0        243.09   \n",
       "\n",
       "   CITY_30_DAYS_PAST_DUE_AMT  CITY_60_DAYS_PAST_DUE_AMT  \\\n",
       "0                       0.00                        0.0   \n",
       "1                     139.70                        0.0   \n",
       "2                       0.00                        0.0   \n",
       "3                       0.00                        0.0   \n",
       "4                     118.82                        0.0   \n",
       "\n",
       "   CITY_90_DAYS_PAST_DUE_AMT  COVID_REMINDER  \n",
       "0                        0.0               0  \n",
       "1                        0.0               0  \n",
       "2                        0.0               0  \n",
       "3                        0.0               0  \n",
       "4                        0.0               0  \n",
       "\n",
       "[5 rows x 31 columns]"
      ]
     },
     "execution_count": 3,
     "metadata": {},
     "output_type": "execute_result"
    }
   ],
   "source": [
    "filename = '../../002_Data/Release_3/processed_bill.pickle'\n",
    "infile = open(filename,'rb')\n",
    "df = pickle.load(infile)\n",
    "infile.close()\n",
    "\n",
    "rows = len(df)\n",
    "accts = df.SPA_ACCT_ID.nunique()\n",
    "prems = df.SPA_PREM_ID.nunique()\n",
    "print(f\"Rows: {rows}\")\n",
    "print(f\"Accounts: {accts}\")\n",
    "print(f\"Premises: {prems}\")\n",
    "print(\"Grouping\")\n",
    "print(df.groupby(['SPA_ACCT_ID', 'SPA_PREM_ID', 'ARREARSMONTH']).size().value_counts())\n",
    "df.head()"
   ]
  },
  {
   "cell_type": "markdown",
   "metadata": {},
   "source": [
    "# Add Service Agreements Data\n",
    "Matching on ('SPA_ACCT_ID', 'SPA_PREM_ID')"
   ]
  },
  {
   "cell_type": "code",
   "execution_count": 4,
   "metadata": {},
   "outputs": [
    {
     "name": "stdout",
     "output_type": "stream",
     "text": [
      "Rows: 270848\n",
      "Accounts: 253632\n",
      "Premises: 148522\n",
      "People: 243369\n",
      "P Cases: 1935\n",
      "P rows: 2072\n",
      "Grouping\n",
      "1    270848\n",
      "dtype: int64\n"
     ]
    },
    {
     "data": {
      "text/html": [
       "<div>\n",
       "<style scoped>\n",
       "    .dataframe tbody tr th:only-of-type {\n",
       "        vertical-align: middle;\n",
       "    }\n",
       "\n",
       "    .dataframe tbody tr th {\n",
       "        vertical-align: top;\n",
       "    }\n",
       "\n",
       "    .dataframe thead th {\n",
       "        text-align: right;\n",
       "    }\n",
       "</style>\n",
       "<table border=\"1\" class=\"dataframe\">\n",
       "  <thead>\n",
       "    <tr style=\"text-align: right;\">\n",
       "      <th></th>\n",
       "      <th>SPA_ACCT_ID</th>\n",
       "      <th>SPA_PREM_ID</th>\n",
       "      <th>SPA_PER_ID</th>\n",
       "      <th>CMIS_MATCH</th>\n",
       "      <th>APARTMENT</th>\n",
       "      <th>ENROLL_DATE</th>\n",
       "      <th>HAS_COTENANT</th>\n",
       "    </tr>\n",
       "  </thead>\n",
       "  <tbody>\n",
       "    <tr>\n",
       "      <th>0</th>\n",
       "      <td>1</td>\n",
       "      <td>137</td>\n",
       "      <td>90513</td>\n",
       "      <td>False</td>\n",
       "      <td>False</td>\n",
       "      <td>()</td>\n",
       "      <td>True</td>\n",
       "    </tr>\n",
       "    <tr>\n",
       "      <th>1</th>\n",
       "      <td>2</td>\n",
       "      <td>36</td>\n",
       "      <td>300687</td>\n",
       "      <td>False</td>\n",
       "      <td>False</td>\n",
       "      <td>()</td>\n",
       "      <td>True</td>\n",
       "    </tr>\n",
       "    <tr>\n",
       "      <th>2</th>\n",
       "      <td>3</td>\n",
       "      <td>74902</td>\n",
       "      <td>277858</td>\n",
       "      <td>False</td>\n",
       "      <td>True</td>\n",
       "      <td>()</td>\n",
       "      <td>False</td>\n",
       "    </tr>\n",
       "    <tr>\n",
       "      <th>3</th>\n",
       "      <td>4</td>\n",
       "      <td>8</td>\n",
       "      <td>179516</td>\n",
       "      <td>False</td>\n",
       "      <td>False</td>\n",
       "      <td>()</td>\n",
       "      <td>True</td>\n",
       "    </tr>\n",
       "    <tr>\n",
       "      <th>4</th>\n",
       "      <td>5</td>\n",
       "      <td>112</td>\n",
       "      <td>237061</td>\n",
       "      <td>False</td>\n",
       "      <td>False</td>\n",
       "      <td>()</td>\n",
       "      <td>False</td>\n",
       "    </tr>\n",
       "  </tbody>\n",
       "</table>\n",
       "</div>"
      ],
      "text/plain": [
       "   SPA_ACCT_ID  SPA_PREM_ID  SPA_PER_ID  CMIS_MATCH  APARTMENT ENROLL_DATE  \\\n",
       "0            1          137       90513       False      False          ()   \n",
       "1            2           36      300687       False      False          ()   \n",
       "2            3        74902      277858       False       True          ()   \n",
       "3            4            8      179516       False      False          ()   \n",
       "4            5          112      237061       False      False          ()   \n",
       "\n",
       "   HAS_COTENANT  \n",
       "0          True  \n",
       "1          True  \n",
       "2         False  \n",
       "3          True  \n",
       "4         False  "
      ]
     },
     "execution_count": 4,
     "metadata": {},
     "output_type": "execute_result"
    }
   ],
   "source": [
    "# NOTE: using release 3 data due to problems with new release\n",
    "\n",
    "filename = '../../002_Data/Release_3/processed_sa.pickle'\n",
    "infile = open(filename,'rb')\n",
    "sa = pickle.load(infile)\n",
    "infile.close()\n",
    "\n",
    "sa_rows = len(sa)\n",
    "sa_accts = sa.SPA_ACCT_ID.nunique()\n",
    "sa_prems = sa.SPA_PREM_ID.nunique()\n",
    "sa_ppl = sa.SPA_PER_ID.nunique()\n",
    "sa_pos = sa[sa.CMIS_MATCH].SPA_PER_ID.nunique()\n",
    "sa_pos_rows = len(sa[sa.CMIS_MATCH])\n",
    "print(f\"Rows: {sa_rows}\")\n",
    "print(f\"Accounts: {sa_accts}\")\n",
    "print(f\"Premises: {sa_prems}\")\n",
    "print(f\"People: {sa_ppl}\")\n",
    "print(f\"P Cases: {sa_pos}\")\n",
    "print(f\"P rows: {sa_pos_rows}\")\n",
    "print(\"Grouping\")\n",
    "print(sa.groupby(['SPA_ACCT_ID', 'SPA_PREM_ID']).size().value_counts())\n",
    "sa.head()"
   ]
  },
  {
   "cell_type": "code",
   "execution_count": 5,
   "metadata": {},
   "outputs": [
    {
     "data": {
      "text/plain": [
       "SPA_ACCT_ID     0\n",
       "SPA_PREM_ID     0\n",
       "SPA_PER_ID      0\n",
       "CMIS_MATCH      0\n",
       "APARTMENT       0\n",
       "ENROLL_DATE     0\n",
       "HAS_COTENANT    0\n",
       "dtype: int64"
      ]
     },
     "execution_count": 5,
     "metadata": {},
     "output_type": "execute_result"
    }
   ],
   "source": [
    "sa.isnull().sum()"
   ]
  },
  {
   "cell_type": "code",
   "execution_count": 6,
   "metadata": {},
   "outputs": [
    {
     "data": {
      "text/plain": [
       "1    3358383\n",
       "2          2\n",
       "dtype: int64"
      ]
     },
     "execution_count": 6,
     "metadata": {},
     "output_type": "execute_result"
    }
   ],
   "source": [
    "sa.set_index(['SPA_ACCT_ID', 'SPA_PREM_ID'], inplace=True)\n",
    "df = df.join(sa, how='left', on=['SPA_ACCT_ID', 'SPA_PREM_ID'])\n",
    "del sa\n",
    "df.groupby(['SPA_PER_ID', 'SPA_PREM_ID', 'ARREARSMONTH']).size().value_counts()"
   ]
  },
  {
   "cell_type": "markdown",
   "metadata": {},
   "source": [
    "## Fix Duplicates\n",
    "Some people at same location, month have multiple accounts. NOTE: None of these are P cases.  \n",
    "In future, track amount owed relative to billed amount - can just add amount owed and billed amount from both accounts.  \n",
    "For now, just take first."
   ]
  },
  {
   "cell_type": "code",
   "execution_count": 7,
   "metadata": {},
   "outputs": [
    {
     "data": {
      "text/plain": [
       "1    3358385\n",
       "dtype: int64"
      ]
     },
     "execution_count": 7,
     "metadata": {},
     "output_type": "execute_result"
    }
   ],
   "source": [
    "df = df.groupby(['SPA_PER_ID', 'SPA_PREM_ID', 'ARREARSMONTH']).first().reset_index()\n",
    "df.groupby(['SPA_PER_ID', 'SPA_PREM_ID', 'ARREARSMONTH']).size().value_counts()"
   ]
  },
  {
   "cell_type": "code",
   "execution_count": 8,
   "metadata": {},
   "outputs": [
    {
     "data": {
      "text/plain": [
       "1    85779\n",
       "2       24\n",
       "Name: CMIS_MATCH, dtype: int64"
      ]
     },
     "execution_count": 8,
     "metadata": {},
     "output_type": "execute_result"
    }
   ],
   "source": [
    "df.groupby('SPA_PER_ID')['CMIS_MATCH'].nunique().value_counts()"
   ]
  },
  {
   "cell_type": "code",
   "execution_count": 9,
   "metadata": {},
   "outputs": [
    {
     "data": {
      "text/plain": [
       "0    1.0\n",
       "1    1.0\n",
       "2    3.0\n",
       "3    3.0\n",
       "4    3.0\n",
       "Name: SPA_PER_ID, dtype: float64"
      ]
     },
     "execution_count": 9,
     "metadata": {},
     "output_type": "execute_result"
    }
   ],
   "source": [
    "df.SPA_PER_ID.head()"
   ]
  },
  {
   "cell_type": "code",
   "execution_count": 10,
   "metadata": {},
   "outputs": [
    {
     "name": "stdout",
     "output_type": "stream",
     "text": [
      "pos rows 8595\n",
      "pos people 305\n",
      "neg rows 3349790\n",
      "neg people 85522\n",
      "pos rows 9001\n",
      "pos people 305\n",
      "neg rows 3349384\n",
      "neg people 85498\n"
     ]
    },
    {
     "data": {
      "text/plain": [
       "1    85803\n",
       "Name: CMIS_MATCH, dtype: int64"
      ]
     },
     "execution_count": 10,
     "metadata": {},
     "output_type": "execute_result"
    }
   ],
   "source": [
    "print(f\"pos rows {len(df[df.CMIS_MATCH])}\")\n",
    "print(f\"pos people {df[df.CMIS_MATCH].SPA_PER_ID.nunique()}\")\n",
    "print(f\"neg rows {len(df[~df.CMIS_MATCH])}\")\n",
    "print(f\"neg people {df[~df.CMIS_MATCH].SPA_PER_ID.nunique()}\")\n",
    "\n",
    "pos_ids = df.groupby('SPA_PER_ID')['CMIS_MATCH'].any()\n",
    "pos_ids = pos_ids[pos_ids == True].index\n",
    "\n",
    "df = df.set_index('SPA_PER_ID')\n",
    "#df.loc[[True for x in df.SPA_PER_ID if x in pos_ids], 'CMIS_MATCH'] = True\n",
    "df.loc[pos_ids, 'CMIS_MATCH'] = True\n",
    "df = df.reset_index()\n",
    "\n",
    "print(f\"pos rows {len(df[df.CMIS_MATCH])}\")\n",
    "print(f\"pos people {df[df.CMIS_MATCH].SPA_PER_ID.nunique()}\")\n",
    "print(f\"neg rows {len(df[~df.CMIS_MATCH])}\")\n",
    "print(f\"neg people {df[~df.CMIS_MATCH].SPA_PER_ID.nunique()}\")\n",
    "df.groupby('SPA_PER_ID')['CMIS_MATCH'].nunique().value_counts()"
   ]
  },
  {
   "cell_type": "markdown",
   "metadata": {},
   "source": [
    "Now have unique ('SPA_PER_ID', 'SPA_PREM_ID', 'ARREARSMONTH')"
   ]
  },
  {
   "cell_type": "markdown",
   "metadata": {},
   "source": [
    "# Add Geographical Data\n",
    "Matching on 'SPA_PREM_ID'"
   ]
  },
  {
   "cell_type": "code",
   "execution_count": 11,
   "metadata": {},
   "outputs": [
    {
     "name": "stdout",
     "output_type": "stream",
     "text": [
      "Rows: 3358385\n",
      "Premises: 61030\n",
      "Grouping\n",
      "1    155538\n",
      "dtype: int64\n"
     ]
    },
    {
     "data": {
      "text/html": [
       "<div>\n",
       "<style scoped>\n",
       "    .dataframe tbody tr th:only-of-type {\n",
       "        vertical-align: middle;\n",
       "    }\n",
       "\n",
       "    .dataframe tbody tr th {\n",
       "        vertical-align: top;\n",
       "    }\n",
       "\n",
       "    .dataframe thead th {\n",
       "        text-align: right;\n",
       "    }\n",
       "</style>\n",
       "<table border=\"1\" class=\"dataframe\">\n",
       "  <thead>\n",
       "    <tr style=\"text-align: right;\">\n",
       "      <th></th>\n",
       "      <th>SPA_PREM_ID</th>\n",
       "      <th>BLOCKGROUP_GEOID</th>\n",
       "      <th>POSTAL</th>\n",
       "      <th>MULTI_DWELL_ID</th>\n",
       "      <th>AGG_INCOME_GEO</th>\n",
       "      <th>NO_EARNINGS_GEO</th>\n",
       "      <th>BELOW_POVERTY_LVL_GEO</th>\n",
       "      <th>SNAP_GEO</th>\n",
       "      <th>ABOVE_GRD7_GEO</th>\n",
       "      <th>PUBLIC_ASSIST_GEO</th>\n",
       "    </tr>\n",
       "  </thead>\n",
       "  <tbody>\n",
       "    <tr>\n",
       "      <th>0</th>\n",
       "      <td>24381.0</td>\n",
       "      <td>530630112013</td>\n",
       "      <td>99208</td>\n",
       "      <td>215</td>\n",
       "      <td>44494500</td>\n",
       "      <td>0.256384</td>\n",
       "      <td>0.081163</td>\n",
       "      <td>0.119510</td>\n",
       "      <td>2.499965e-05</td>\n",
       "      <td>0.015322</td>\n",
       "    </tr>\n",
       "    <tr>\n",
       "      <th>1</th>\n",
       "      <td>71746.0</td>\n",
       "      <td>530630024001</td>\n",
       "      <td>99201</td>\n",
       "      <td>-1</td>\n",
       "      <td>23207000</td>\n",
       "      <td>0.474962</td>\n",
       "      <td>0.565543</td>\n",
       "      <td>0.432473</td>\n",
       "      <td>2.692175e-12</td>\n",
       "      <td>0.157815</td>\n",
       "    </tr>\n",
       "    <tr>\n",
       "      <th>2</th>\n",
       "      <td>148291.0</td>\n",
       "      <td>530630024001</td>\n",
       "      <td>99201</td>\n",
       "      <td>484</td>\n",
       "      <td>23207000</td>\n",
       "      <td>0.474962</td>\n",
       "      <td>0.565543</td>\n",
       "      <td>0.432473</td>\n",
       "      <td>2.692175e-12</td>\n",
       "      <td>0.157815</td>\n",
       "    </tr>\n",
       "    <tr>\n",
       "      <th>3</th>\n",
       "      <td>142249.0</td>\n",
       "      <td>530630105032</td>\n",
       "      <td>99208</td>\n",
       "      <td>697</td>\n",
       "      <td>137807700</td>\n",
       "      <td>0.123299</td>\n",
       "      <td>0.001921</td>\n",
       "      <td>0.009608</td>\n",
       "      <td>1.000000e+00</td>\n",
       "      <td>0.009608</td>\n",
       "    </tr>\n",
       "    <tr>\n",
       "      <th>4</th>\n",
       "      <td>33506.0</td>\n",
       "      <td>530630106024</td>\n",
       "      <td>99208</td>\n",
       "      <td>3603</td>\n",
       "      <td>58541800</td>\n",
       "      <td>0.191525</td>\n",
       "      <td>0.019392</td>\n",
       "      <td>0.091525</td>\n",
       "      <td>1.000000e+00</td>\n",
       "      <td>0.091525</td>\n",
       "    </tr>\n",
       "  </tbody>\n",
       "</table>\n",
       "</div>"
      ],
      "text/plain": [
       "   SPA_PREM_ID  BLOCKGROUP_GEOID  POSTAL  MULTI_DWELL_ID AGG_INCOME_GEO  \\\n",
       "0      24381.0      530630112013   99208             215       44494500   \n",
       "1      71746.0      530630024001   99201              -1       23207000   \n",
       "2     148291.0      530630024001   99201             484       23207000   \n",
       "3     142249.0      530630105032   99208             697      137807700   \n",
       "4      33506.0      530630106024   99208            3603       58541800   \n",
       "\n",
       "   NO_EARNINGS_GEO  BELOW_POVERTY_LVL_GEO  SNAP_GEO  ABOVE_GRD7_GEO  \\\n",
       "0         0.256384               0.081163  0.119510    2.499965e-05   \n",
       "1         0.474962               0.565543  0.432473    2.692175e-12   \n",
       "2         0.474962               0.565543  0.432473    2.692175e-12   \n",
       "3         0.123299               0.001921  0.009608    1.000000e+00   \n",
       "4         0.191525               0.019392  0.091525    1.000000e+00   \n",
       "\n",
       "   PUBLIC_ASSIST_GEO  \n",
       "0           0.015322  \n",
       "1           0.157815  \n",
       "2           0.157815  \n",
       "3           0.009608  \n",
       "4           0.091525  "
      ]
     },
     "execution_count": 11,
     "metadata": {},
     "output_type": "execute_result"
    }
   ],
   "source": [
    "filename = '../../002_Data/Release_4/processed_geo.pickle'\n",
    "infile = open(filename,'rb')\n",
    "geo = pickle.load(infile)\n",
    "infile.close()\n",
    "\n",
    "geo_rows = len(df)\n",
    "geo_prems = df.SPA_PREM_ID.nunique()\n",
    "print(f\"Rows: {geo_rows}\")\n",
    "print(f\"Premises: {geo_prems}\")\n",
    "print(\"Grouping\")\n",
    "print(geo.groupby('SPA_PREM_ID').size().value_counts())\n",
    "geo.head()"
   ]
  },
  {
   "cell_type": "code",
   "execution_count": 12,
   "metadata": {},
   "outputs": [
    {
     "data": {
      "text/plain": [
       "1    3358385\n",
       "dtype: int64"
      ]
     },
     "execution_count": 12,
     "metadata": {},
     "output_type": "execute_result"
    }
   ],
   "source": [
    "geo.set_index('SPA_PREM_ID', inplace=True)\n",
    "df = df.join(geo, how='left', on='SPA_PREM_ID')\n",
    "del geo\n",
    "df.groupby(['SPA_PER_ID', 'SPA_PREM_ID', 'ARREARSMONTH']).size().value_counts()"
   ]
  },
  {
   "cell_type": "markdown",
   "metadata": {},
   "source": [
    "# Create Additional Attributes"
   ]
  },
  {
   "cell_type": "markdown",
   "metadata": {},
   "source": [
    "## Billing Aggregation\n",
    "Avista Electric, Avista Gas, City  \n",
    "Avista, City  \n",
    "All"
   ]
  },
  {
   "cell_type": "code",
   "execution_count": 13,
   "metadata": {},
   "outputs": [],
   "source": [
    "# Avista, City level\n",
    "df['AVISTA_CUR120_DAYS'] = df['RES_EL_CUR120_DAYS'] + df['RES_GAS_CUR120_DAYS']\n",
    "df['AVISTA_OVER_120_DAYS'] = df['RES_EL_OVER_120_DAYS'] + df['RES_GAS_OVER_120_DAYS']\n",
    "df['AVISTA_CUR22_DAYS'] = df['RES_EL_CUR22_DAYS'] + df['RES_GAS_CUR22_DAYS']\n",
    "df['AVISTA_CUR30_DAYS'] = df['RES_EL_CUR30_DAYS'] + df['RES_GAS_CUR30_DAYS']\n",
    "df['AVISTA_CUR60_DAYS'] = df['RES_EL_CUR60_DAYS'] + df['RES_GAS_CUR60_DAYS']\n",
    "df['AVISTA_CUR90_DAYS'] = df['RES_EL_CUR90_DAYS'] + df['RES_GAS_CUR90_DAYS']\n",
    "df['AVISTA_CUR_BAL_AMT'] = df['RES_EL_CUR_BAL_AMT'] + df['RES_GAS_CUR_BAL_AMT']\n",
    "\n",
    "# All\n",
    "df['TOTAL_30_DAYS_AMT'] = df['CITY_30_DAYS_PAST_DUE_AMT'] + df['AVISTA_CUR30_DAYS']\n",
    "df['TOTAL_60_DAYS_AMT'] = df['CITY_60_DAYS_PAST_DUE_AMT'] + df['AVISTA_CUR60_DAYS']\n",
    "df['TOTAL_90_DAYS_AMT'] = df['CITY_90_DAYS_PAST_DUE_AMT'] + df['AVISTA_CUR90_DAYS']\n",
    "df['TOTAL_CUR_BALANCE'] = df['AVISTA_CUR_BAL_AMT'] + df['CITY_TOT_DUE']"
   ]
  },
  {
   "cell_type": "markdown",
   "metadata": {},
   "source": [
    "## Generate Different Outcome Measures\n",
    "### LAST_MO_W_DATA\n",
    "Last month with data on positive cases - estimate of when person started experiencing homelessness  \n",
    "If have multiple ENROLL_DATEs, choose last month for each  \n",
    "### 6_MO_PRIOR\n",
    "Within 6 months of last data month before experiencing homelessness?\n",
    "### MO_AWAY\n",
    "Number of months away from experiencing homelessness"
   ]
  },
  {
   "cell_type": "code",
   "execution_count": 14,
   "metadata": {},
   "outputs": [],
   "source": [
    "def get_outcomes(df):\n",
    "    '''\n",
    "    05/14/21\n",
    "    Creates\n",
    "        'LAST_MO_W_DATA' - boolean if P and last month with data\n",
    "        'WITHIN_6_MO_PRIOR_LAST_DATA' - boolean if P and within 6 mo of last data\n",
    "    '''\n",
    "    new_df = df.copy()\n",
    "    lasts = new_df[new_df.CMIS_MATCH].groupby(['SPA_PER_ID']).last()[['SPA_PREM_ID', 'ARREARSMONTH']]\n",
    "    lasts['LAST_MO_W_DATA'] = lasts['ARREARSMONTH']\n",
    "    lasts = lasts.reset_index().set_index(['SPA_PER_ID', 'SPA_PREM_ID']).drop('ARREARSMONTH', axis=1)\n",
    "    new_df = new_df.join(lasts, on=['SPA_PER_ID', 'SPA_PREM_ID'], how='left')\n",
    "    # Create WITHIN_6_MO_PRIOR_LAST_DATA\n",
    "    new_df['WITHIN_6_MO_PRIOR_LAST_DATA'] = (new_df['ARREARSMONTH'] >= (new_df['LAST_MO_W_DATA'] - 6))\n",
    "    # Create MO_AWAY\n",
    "    new_df['MO_AWAY'] = new_df['LAST_MO_W_DATA'] - new_df['ARREARSMONTH']\n",
    "    # Change 'LAST_MO_W_DATA' to boolean\n",
    "    new_df['LAST_MO_W_DATA'] = (new_df['LAST_MO_W_DATA'] == new_df['ARREARSMONTH']).replace(to_replace=np.nan, value=False).astype('bool')\n",
    "    return new_df"
   ]
  },
  {
   "cell_type": "code",
   "execution_count": 15,
   "metadata": {},
   "outputs": [],
   "source": [
    "df = get_outcomes(df)"
   ]
  },
  {
   "cell_type": "code",
   "execution_count": 16,
   "metadata": {},
   "outputs": [
    {
     "data": {
      "text/plain": [
       "<AxesSubplot:>"
      ]
     },
     "execution_count": 16,
     "metadata": {},
     "output_type": "execute_result"
    },
    {
     "data": {
      "image/png": "[encoded data removed]",
      "text/plain": [
       "<Figure size 432x288 with 1 Axes>"
      ]
     },
     "metadata": {
      "needs_background": "light"
     },
     "output_type": "display_data"
    }
   ],
   "source": [
    "df.MO_AWAY.hist()"
   ]
  },
  {
   "cell_type": "code",
   "execution_count": 17,
   "metadata": {},
   "outputs": [
    {
     "data": {
      "text/plain": [
       "60.0"
      ]
     },
     "execution_count": 17,
     "metadata": {},
     "output_type": "execute_result"
    }
   ],
   "source": [
    "df.MO_AWAY.max()"
   ]
  },
  {
   "cell_type": "code",
   "execution_count": 18,
   "metadata": {},
   "outputs": [],
   "source": [
    "df.MO_AWAY = df.MO_AWAY.replace(to_replace=np.nan, value=100)"
   ]
  },
  {
   "cell_type": "markdown",
   "metadata": {},
   "source": [
    "## People and Premises\n",
    "* 'NUM_SPA_PER_ID_FOR_SPA_PREM_ID': number of people for each premises  \n",
    "* 'NUM_SPA_PREM_ID_FOR_SPA_PER_ID': number of premises for each person"
   ]
  },
  {
   "cell_type": "code",
   "execution_count": 19,
   "metadata": {},
   "outputs": [],
   "source": [
    "def accumulate(df, grp_by_col, cumulative_col, new_col_name):\n",
    "    '''\n",
    "    05/02/21\n",
    "    Finds cumulative counts.\n",
    "    '''\n",
    "    month_col = 'ARREARSMONTH'\n",
    "    cumulative = df[[month_col, grp_by_col, cumulative_col]].copy()\n",
    "    # Find number of unique cumulateive elements\n",
    "    cumulative = cumulative.drop_duplicates([grp_by_col, cumulative_col], keep='first').groupby([grp_by_col, month_col]).nunique()\n",
    "    # Find cumulative count of unique elements\n",
    "    cumulative[new_col_name] = (cumulative.groupby(grp_by_col)[cumulative_col].cumcount() + 1).astype('int64')\n",
    "    cumulative.drop(cumulative_col, axis=1, inplace=True)\n",
    "    # Join counts back to df\n",
    "    new_df = df.join(cumulative, how='left', on=[grp_by_col, month_col])\n",
    "    # Forward fill index gaps\n",
    "    new_df[new_col_name].ffill(inplace=True)\n",
    "    return new_df"
   ]
  },
  {
   "cell_type": "code",
   "execution_count": 20,
   "metadata": {},
   "outputs": [],
   "source": [
    "# Determine cumulative number of places a person has paid bills at so far\n",
    "df = accumulate(df, grp_by_col='SPA_PER_ID', cumulative_col='SPA_PREM_ID', new_col_name='NUM_PREM_FOR_PER')\n",
    "\n",
    "# Determine cumulative number of people a premesis has seen so far\n",
    "df = accumulate(df, grp_by_col='SPA_PREM_ID', cumulative_col='SPA_PER_ID', new_col_name='NUM_PER_FOR_PREM')"
   ]
  },
  {
   "cell_type": "markdown",
   "metadata": {},
   "source": [
    "## Size of MultiUnit\n",
    "number of SPA_PREM_ID's at same MULTI_DWELL_ID"
   ]
  },
  {
   "cell_type": "code",
   "execution_count": 21,
   "metadata": {},
   "outputs": [],
   "source": [
    "multi_dwell_size = df.groupby('MULTI_DWELL_ID').SPA_PREM_ID.nunique().rename('MULTI_DWELL_SIZE')\n",
    "# Set size for not multi_unit to 0 \n",
    "multi_dwell_size.loc[-1.0] = 0\n",
    "df = df.join(multi_dwell_size, how='left', on='MULTI_DWELL_ID')"
   ]
  },
  {
   "cell_type": "markdown",
   "metadata": {},
   "source": [
    "# Check NANs and Infs"
   ]
  },
  {
   "cell_type": "code",
   "execution_count": 22,
   "metadata": {},
   "outputs": [],
   "source": [
    "pd.set_option('display.max_rows', None)"
   ]
  },
  {
   "cell_type": "code",
   "execution_count": 23,
   "metadata": {
    "scrolled": false
   },
   "outputs": [
    {
     "data": {
      "text/plain": [
       "SPA_PER_ID                         0\n",
       "SPA_PREM_ID                        0\n",
       "ARREARSMONTH                       0\n",
       "SPA_ACCT_ID                        0\n",
       "RES_EL_CUR120_DAYS                 0\n",
       "RES_EL_CUR22_DAYS                  0\n",
       "RES_EL_CUR30_DAYS                  0\n",
       "RES_EL_CUR60_DAYS                  0\n",
       "RES_EL_CUR90_DAYS                  0\n",
       "RES_EL_CUR_BAL_AMT                 0\n",
       "RES_EL_OVER_120_DAYS               0\n",
       "RES_GAS_CUR120_DAYS                0\n",
       "RES_GAS_CUR22_DAYS                 0\n",
       "RES_GAS_CUR30_DAYS                 0\n",
       "RES_GAS_CUR60_DAYS                 0\n",
       "RES_GAS_CUR90_DAYS                 0\n",
       "RES_GAS_CUR_BAL_AMT                0\n",
       "RES_GAS_OVER_120_DAYS              0\n",
       "BREAK_ARRANGEMENT                  0\n",
       "BREAK_PAY_PLAN                     0\n",
       "CALL_OUT                           0\n",
       "CALL_OUT_MANUAL                    0\n",
       "DUE_DATE                           0\n",
       "FINAL_NOTICE                       0\n",
       "PAST_DUE                           0\n",
       "SEVERANCE_ELECTRIC                 0\n",
       "SEVERANCE_GAS                      0\n",
       "CITY_TOT_DUE                       0\n",
       "CITY_30_DAYS_PAST_DUE_AMT          0\n",
       "CITY_60_DAYS_PAST_DUE_AMT          0\n",
       "CITY_90_DAYS_PAST_DUE_AMT          0\n",
       "COVID_REMINDER                     0\n",
       "CMIS_MATCH                         0\n",
       "APARTMENT                          0\n",
       "ENROLL_DATE                        0\n",
       "HAS_COTENANT                       0\n",
       "BLOCKGROUP_GEOID               12109\n",
       "POSTAL                         12109\n",
       "MULTI_DWELL_ID                 12109\n",
       "AGG_INCOME_GEO                 12109\n",
       "NO_EARNINGS_GEO                12109\n",
       "BELOW_POVERTY_LVL_GEO          12109\n",
       "SNAP_GEO                       12109\n",
       "ABOVE_GRD7_GEO                 12109\n",
       "PUBLIC_ASSIST_GEO              12109\n",
       "AVISTA_CUR120_DAYS                 0\n",
       "AVISTA_OVER_120_DAYS               0\n",
       "AVISTA_CUR22_DAYS                  0\n",
       "AVISTA_CUR30_DAYS                  0\n",
       "AVISTA_CUR60_DAYS                  0\n",
       "AVISTA_CUR90_DAYS                  0\n",
       "AVISTA_CUR_BAL_AMT                 0\n",
       "TOTAL_30_DAYS_AMT                  0\n",
       "TOTAL_60_DAYS_AMT                  0\n",
       "TOTAL_90_DAYS_AMT                  0\n",
       "TOTAL_CUR_BALANCE                  0\n",
       "LAST_MO_W_DATA                     0\n",
       "WITHIN_6_MO_PRIOR_LAST_DATA        0\n",
       "MO_AWAY                            0\n",
       "NUM_PREM_FOR_PER                   0\n",
       "NUM_PER_FOR_PREM                   0\n",
       "MULTI_DWELL_SIZE               12109\n",
       "dtype: int64"
      ]
     },
     "execution_count": 23,
     "metadata": {},
     "output_type": "execute_result"
    }
   ],
   "source": [
    "df.isnull().sum()"
   ]
  },
  {
   "cell_type": "markdown",
   "metadata": {},
   "source": [
    "## Drop All Rows w/NaNs in Geographical Attributes\n",
    "This only drops 4 Positive cases"
   ]
  },
  {
   "cell_type": "code",
   "execution_count": 24,
   "metadata": {},
   "outputs": [
    {
     "data": {
      "text/plain": [
       "3"
      ]
     },
     "execution_count": 24,
     "metadata": {},
     "output_type": "execute_result"
    }
   ],
   "source": [
    "df[df['POSTAL'].isnull() & df['CMIS_MATCH']]['SPA_PER_ID'].nunique()"
   ]
  },
  {
   "cell_type": "code",
   "execution_count": 25,
   "metadata": {},
   "outputs": [
    {
     "name": "stdout",
     "output_type": "stream",
     "text": [
      "Rows: 3358385\n",
      "Accounts: 86750\n",
      "Premises: 61030\n",
      "\n",
      "Rows: 3346276\n",
      "Accounts: 86432\n",
      "Premises: 60785\n"
     ]
    },
    {
     "data": {
      "text/plain": [
       "SPA_PER_ID                     0\n",
       "SPA_PREM_ID                    0\n",
       "ARREARSMONTH                   0\n",
       "SPA_ACCT_ID                    0\n",
       "RES_EL_CUR120_DAYS             0\n",
       "RES_EL_CUR22_DAYS              0\n",
       "RES_EL_CUR30_DAYS              0\n",
       "RES_EL_CUR60_DAYS              0\n",
       "RES_EL_CUR90_DAYS              0\n",
       "RES_EL_CUR_BAL_AMT             0\n",
       "RES_EL_OVER_120_DAYS           0\n",
       "RES_GAS_CUR120_DAYS            0\n",
       "RES_GAS_CUR22_DAYS             0\n",
       "RES_GAS_CUR30_DAYS             0\n",
       "RES_GAS_CUR60_DAYS             0\n",
       "RES_GAS_CUR90_DAYS             0\n",
       "RES_GAS_CUR_BAL_AMT            0\n",
       "RES_GAS_OVER_120_DAYS          0\n",
       "BREAK_ARRANGEMENT              0\n",
       "BREAK_PAY_PLAN                 0\n",
       "CALL_OUT                       0\n",
       "CALL_OUT_MANUAL                0\n",
       "DUE_DATE                       0\n",
       "FINAL_NOTICE                   0\n",
       "PAST_DUE                       0\n",
       "SEVERANCE_ELECTRIC             0\n",
       "SEVERANCE_GAS                  0\n",
       "CITY_TOT_DUE                   0\n",
       "CITY_30_DAYS_PAST_DUE_AMT      0\n",
       "CITY_60_DAYS_PAST_DUE_AMT      0\n",
       "CITY_90_DAYS_PAST_DUE_AMT      0\n",
       "COVID_REMINDER                 0\n",
       "CMIS_MATCH                     0\n",
       "APARTMENT                      0\n",
       "ENROLL_DATE                    0\n",
       "HAS_COTENANT                   0\n",
       "BLOCKGROUP_GEOID               0\n",
       "POSTAL                         0\n",
       "MULTI_DWELL_ID                 0\n",
       "AGG_INCOME_GEO                 0\n",
       "NO_EARNINGS_GEO                0\n",
       "BELOW_POVERTY_LVL_GEO          0\n",
       "SNAP_GEO                       0\n",
       "ABOVE_GRD7_GEO                 0\n",
       "PUBLIC_ASSIST_GEO              0\n",
       "AVISTA_CUR120_DAYS             0\n",
       "AVISTA_OVER_120_DAYS           0\n",
       "AVISTA_CUR22_DAYS              0\n",
       "AVISTA_CUR30_DAYS              0\n",
       "AVISTA_CUR60_DAYS              0\n",
       "AVISTA_CUR90_DAYS              0\n",
       "AVISTA_CUR_BAL_AMT             0\n",
       "TOTAL_30_DAYS_AMT              0\n",
       "TOTAL_60_DAYS_AMT              0\n",
       "TOTAL_90_DAYS_AMT              0\n",
       "TOTAL_CUR_BALANCE              0\n",
       "LAST_MO_W_DATA                 0\n",
       "WITHIN_6_MO_PRIOR_LAST_DATA    0\n",
       "MO_AWAY                        0\n",
       "NUM_PREM_FOR_PER               0\n",
       "NUM_PER_FOR_PREM               0\n",
       "MULTI_DWELL_SIZE               0\n",
       "dtype: int64"
      ]
     },
     "execution_count": 25,
     "metadata": {},
     "output_type": "execute_result"
    }
   ],
   "source": [
    "print(f\"Rows: {len(df)}\")\n",
    "print(f\"Accounts: {df.SPA_ACCT_ID.nunique()}\")\n",
    "print(f\"Premises: {df.SPA_PREM_ID.nunique()}\")\n",
    "\n",
    "df = df[~df['POSTAL'].isnull()]\n",
    "\n",
    "print()\n",
    "print(f\"Rows: {len(df)}\")\n",
    "print(f\"Accounts: {df.SPA_ACCT_ID.nunique()}\")\n",
    "print(f\"Premises: {df.SPA_PREM_ID.nunique()}\")\n",
    "\n",
    "df.isnull().sum()"
   ]
  },
  {
   "cell_type": "markdown",
   "metadata": {},
   "source": [
    "# Update Attribute Types"
   ]
  },
  {
   "cell_type": "code",
   "execution_count": 26,
   "metadata": {
    "scrolled": false
   },
   "outputs": [
    {
     "data": {
      "text/plain": [
       "SPA_PER_ID                     float64\n",
       "SPA_PREM_ID                      int64\n",
       "ARREARSMONTH                     int64\n",
       "SPA_ACCT_ID                      int64\n",
       "RES_EL_CUR120_DAYS             float64\n",
       "RES_EL_CUR22_DAYS              float64\n",
       "RES_EL_CUR30_DAYS              float64\n",
       "RES_EL_CUR60_DAYS              float64\n",
       "RES_EL_CUR90_DAYS              float64\n",
       "RES_EL_CUR_BAL_AMT             float64\n",
       "RES_EL_OVER_120_DAYS           float64\n",
       "RES_GAS_CUR120_DAYS            float64\n",
       "RES_GAS_CUR22_DAYS             float64\n",
       "RES_GAS_CUR30_DAYS             float64\n",
       "RES_GAS_CUR60_DAYS             float64\n",
       "RES_GAS_CUR90_DAYS             float64\n",
       "RES_GAS_CUR_BAL_AMT            float64\n",
       "RES_GAS_OVER_120_DAYS          float64\n",
       "BREAK_ARRANGEMENT                int64\n",
       "BREAK_PAY_PLAN                   int64\n",
       "CALL_OUT                         int64\n",
       "CALL_OUT_MANUAL                  int64\n",
       "DUE_DATE                         int64\n",
       "FINAL_NOTICE                     int64\n",
       "PAST_DUE                         int64\n",
       "SEVERANCE_ELECTRIC               int64\n",
       "SEVERANCE_GAS                    int64\n",
       "CITY_TOT_DUE                   float64\n",
       "CITY_30_DAYS_PAST_DUE_AMT      float64\n",
       "CITY_60_DAYS_PAST_DUE_AMT      float64\n",
       "CITY_90_DAYS_PAST_DUE_AMT      float64\n",
       "COVID_REMINDER                   int64\n",
       "CMIS_MATCH                        bool\n",
       "APARTMENT                         bool\n",
       "ENROLL_DATE                     object\n",
       "HAS_COTENANT                      bool\n",
       "BLOCKGROUP_GEOID               float64\n",
       "POSTAL                         float64\n",
       "MULTI_DWELL_ID                 float64\n",
       "AGG_INCOME_GEO                  object\n",
       "NO_EARNINGS_GEO                float64\n",
       "BELOW_POVERTY_LVL_GEO          float64\n",
       "SNAP_GEO                       float64\n",
       "ABOVE_GRD7_GEO                 float64\n",
       "PUBLIC_ASSIST_GEO              float64\n",
       "AVISTA_CUR120_DAYS             float64\n",
       "AVISTA_OVER_120_DAYS           float64\n",
       "AVISTA_CUR22_DAYS              float64\n",
       "AVISTA_CUR30_DAYS              float64\n",
       "AVISTA_CUR60_DAYS              float64\n",
       "AVISTA_CUR90_DAYS              float64\n",
       "AVISTA_CUR_BAL_AMT             float64\n",
       "TOTAL_30_DAYS_AMT              float64\n",
       "TOTAL_60_DAYS_AMT              float64\n",
       "TOTAL_90_DAYS_AMT              float64\n",
       "TOTAL_CUR_BALANCE              float64\n",
       "LAST_MO_W_DATA                    bool\n",
       "WITHIN_6_MO_PRIOR_LAST_DATA       bool\n",
       "MO_AWAY                        float64\n",
       "NUM_PREM_FOR_PER               float64\n",
       "NUM_PER_FOR_PREM               float64\n",
       "MULTI_DWELL_SIZE               float64\n",
       "dtype: object"
      ]
     },
     "execution_count": 26,
     "metadata": {},
     "output_type": "execute_result"
    }
   ],
   "source": [
    "df.dtypes"
   ]
  },
  {
   "cell_type": "code",
   "execution_count": 27,
   "metadata": {},
   "outputs": [
    {
     "data": {
      "text/plain": [
       "SPA_PER_ID                       int64\n",
       "SPA_PREM_ID                      int64\n",
       "ARREARSMONTH                     int64\n",
       "SPA_ACCT_ID                      int64\n",
       "RES_EL_CUR120_DAYS             float64\n",
       "RES_EL_CUR22_DAYS              float64\n",
       "RES_EL_CUR30_DAYS              float64\n",
       "RES_EL_CUR60_DAYS              float64\n",
       "RES_EL_CUR90_DAYS              float64\n",
       "RES_EL_CUR_BAL_AMT             float64\n",
       "RES_EL_OVER_120_DAYS           float64\n",
       "RES_GAS_CUR120_DAYS            float64\n",
       "RES_GAS_CUR22_DAYS             float64\n",
       "RES_GAS_CUR30_DAYS             float64\n",
       "RES_GAS_CUR60_DAYS             float64\n",
       "RES_GAS_CUR90_DAYS             float64\n",
       "RES_GAS_CUR_BAL_AMT            float64\n",
       "RES_GAS_OVER_120_DAYS          float64\n",
       "BREAK_ARRANGEMENT                int64\n",
       "BREAK_PAY_PLAN                   int64\n",
       "CALL_OUT                         int64\n",
       "CALL_OUT_MANUAL                  int64\n",
       "DUE_DATE                         int64\n",
       "FINAL_NOTICE                     int64\n",
       "PAST_DUE                         int64\n",
       "SEVERANCE_ELECTRIC               int64\n",
       "SEVERANCE_GAS                    int64\n",
       "CITY_TOT_DUE                   float64\n",
       "CITY_30_DAYS_PAST_DUE_AMT      float64\n",
       "CITY_60_DAYS_PAST_DUE_AMT      float64\n",
       "CITY_90_DAYS_PAST_DUE_AMT      float64\n",
       "COVID_REMINDER                   int64\n",
       "CMIS_MATCH                        bool\n",
       "APARTMENT                         bool\n",
       "ENROLL_DATE                     object\n",
       "HAS_COTENANT                      bool\n",
       "BLOCKGROUP_GEOID                 int64\n",
       "POSTAL                           int64\n",
       "MULTI_DWELL_ID                   int64\n",
       "AGG_INCOME_GEO                   int64\n",
       "NO_EARNINGS_GEO                float64\n",
       "BELOW_POVERTY_LVL_GEO          float64\n",
       "SNAP_GEO                       float64\n",
       "ABOVE_GRD7_GEO                 float64\n",
       "PUBLIC_ASSIST_GEO              float64\n",
       "AVISTA_CUR120_DAYS             float64\n",
       "AVISTA_OVER_120_DAYS           float64\n",
       "AVISTA_CUR22_DAYS              float64\n",
       "AVISTA_CUR30_DAYS              float64\n",
       "AVISTA_CUR60_DAYS              float64\n",
       "AVISTA_CUR90_DAYS              float64\n",
       "AVISTA_CUR_BAL_AMT             float64\n",
       "TOTAL_30_DAYS_AMT              float64\n",
       "TOTAL_60_DAYS_AMT              float64\n",
       "TOTAL_90_DAYS_AMT              float64\n",
       "TOTAL_CUR_BALANCE              float64\n",
       "LAST_MO_W_DATA                    bool\n",
       "WITHIN_6_MO_PRIOR_LAST_DATA       bool\n",
       "MO_AWAY                          int64\n",
       "NUM_PREM_FOR_PER                 int64\n",
       "NUM_PER_FOR_PREM                 int64\n",
       "MULTI_DWELL_SIZE                 int64\n",
       "dtype: object"
      ]
     },
     "execution_count": 27,
     "metadata": {},
     "output_type": "execute_result"
    }
   ],
   "source": [
    "to_ints = [\n",
    "    'SPA_PER_ID',\n",
    "    'POSTAL',\n",
    "    'AGG_INCOME_GEO',\n",
    "    'NUM_PREM_FOR_PER',\n",
    "    'NUM_PER_FOR_PREM',\n",
    "    'BLOCKGROUP_GEOID',\n",
    "    'MULTI_DWELL_ID',\n",
    "    'MULTI_DWELL_SIZE',\n",
    "    'MO_AWAY'\n",
    "]\n",
    "for col in to_ints:\n",
    "    df[col] = df[col].astype('int64')\n",
    "\n",
    "df.dtypes"
   ]
  },
  {
   "cell_type": "markdown",
   "metadata": {},
   "source": [
    "# Save + Stats + Time"
   ]
  },
  {
   "cell_type": "code",
   "execution_count": 29,
   "metadata": {},
   "outputs": [],
   "source": [
    "filename = '../../002_Data/Release_4/data_combined.pickle'\n",
    "outfile = open(filename, 'wb')\n",
    "pickle.dump(df, outfile)\n",
    "outfile.close()"
   ]
  },
  {
   "cell_type": "markdown",
   "metadata": {},
   "source": [
    "## Matching Stats"
   ]
  },
  {
   "cell_type": "code",
   "execution_count": 28,
   "metadata": {},
   "outputs": [
    {
     "name": "stdout",
     "output_type": "stream",
     "text": [
      "Retained 3346276 = 87.82% rows.\n",
      "Retained 85494 = 35.13% people.\n",
      "Retained 302 = 15.61% positive cases.\n",
      "Retained 8946 = 431.76% positive rows.\n",
      "Retained 60785 = 99.6% premises.\n"
     ]
    }
   ],
   "source": [
    "retained_rows = len(df)\n",
    "retained_p = df[df.CMIS_MATCH]['SPA_PER_ID'].nunique()\n",
    "retained_ppl = df.SPA_PER_ID.nunique()\n",
    "retained_p_rows = len(df[df.CMIS_MATCH])\n",
    "retained_prems = df.SPA_PREM_ID.nunique()\n",
    "\n",
    "print(f'Retained {retained_rows} = {round(100*retained_rows/rows, ndigits=2)}% rows.')\n",
    "print(f'Retained {retained_ppl} = {round(100*retained_ppl/sa_ppl, ndigits=2)}% people.')\n",
    "print(f'Retained {retained_p} = {round(100*retained_p/sa_pos, ndigits=2)}% positive cases.')\n",
    "print(f'Retained {retained_p_rows} = {round(100*retained_p_rows/sa_pos_rows, ndigits=2)}% positive rows.')\n",
    "print(f'Retained {retained_prems} = {round(100*retained_prems/geo_prems, ndigits=2)}% premises.')"
   ]
  },
  {
   "cell_type": "markdown",
   "metadata": {},
   "source": [
    "## Total Time"
   ]
  },
  {
   "cell_type": "code",
   "execution_count": 57,
   "metadata": {},
   "outputs": [
    {
     "name": "stdout",
     "output_type": "stream",
     "text": [
      "hours:minutes:seconds = 0:1:1.4668912887573242\n"
     ]
    }
   ],
   "source": [
    "from custom_methods.calc_time import calc_time_from_sec\n",
    "\n",
    "calc_time_from_sec(time.time()-startTime)"
   ]
  }
 ],
 "metadata": {
  "interpreter": {
   "hash": "55dc2ef33d481be31a5c00b42f248808e4edd8b163c72100e3df152a03ba29f1"
  },
  "kernelspec": {
   "display_name": "Python 3",
   "language": "python",
   "name": "python3"
  },
  "language_info": {
   "codemirror_mode": {
    "name": "ipython",
    "version": 3
   },
   "file_extension": ".py",
   "mimetype": "text/x-python",
   "name": "python",
   "nbconvert_exporter": "python",
   "pygments_lexer": "ipython3",
   "version": "3.8.6"
  },
  "metadata": {
   "interpreter": {
    "hash": "55dc2ef33d481be31a5c00b42f248808e4edd8b163c72100e3df152a03ba29f1"
   }
  }
 },
 "nbformat": 4,
 "nbformat_minor": 2
}
