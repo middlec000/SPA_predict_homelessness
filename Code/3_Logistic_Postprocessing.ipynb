{
 "cells": [
  {
   "cell_type": "markdown",
   "id": "9bffa625-aef3-4987-87ab-ce95623ea6c6",
   "metadata": {},
   "source": [
    "# Imports"
   ]
  },
  {
   "cell_type": "code",
   "execution_count": 1,
   "id": "46f957b0-1460-4129-a4fc-e74bcdd399b2",
   "metadata": {},
   "outputs": [],
   "source": [
    "import pandas as pd\n",
    "import numpy as np\n",
    "import pickle\n",
    "import time\n",
    "from matplotlib import pyplot as plt\n",
    "\n",
    "plt.rcParams.update({'figure.figsize':(11,7), 'figure.dpi':120})\n",
    "datapath = '../Data/'\n",
    "image_dest = 'results_images/'\n",
    "\n",
    "startTime = time.time()"
   ]
  },
  {
   "cell_type": "markdown",
   "id": "7b6cb1ad-4da1-49f3-8000-fe625b48cf40",
   "metadata": {},
   "source": [
    "# Load Data"
   ]
  },
  {
   "cell_type": "code",
   "execution_count": 2,
   "id": "fb5f0bc4-613c-489c-9e74-ea73d2b8f08e",
   "metadata": {},
   "outputs": [
    {
     "data": {
      "text/plain": [
       "['PER-PREM-MONTH_ID', 'prediction', 'CMIS_MATCH']"
      ]
     },
     "execution_count": 2,
     "metadata": {},
     "output_type": "execute_result"
    }
   ],
   "source": [
    "filename = 'log_output.pickle'\n",
    "infile = open(datapath+filename,'rb')\n",
    "df = pickle.load(infile)\n",
    "infile.close()\n",
    "\n",
    "df.columns.to_list()"
   ]
  },
  {
   "cell_type": "markdown",
   "id": "7065d2b2-892c-47df-879f-8ecf9b061886",
   "metadata": {},
   "source": [
    "## Extract IDs"
   ]
  },
  {
   "cell_type": "code",
   "execution_count": 3,
   "id": "4c62237f-b41c-45cb-8198-a4dbce5ac836",
   "metadata": {},
   "outputs": [
    {
     "data": {
      "text/html": [
       "<div>\n",
       "<style scoped>\n",
       "    .dataframe tbody tr th:only-of-type {\n",
       "        vertical-align: middle;\n",
       "    }\n",
       "\n",
       "    .dataframe tbody tr th {\n",
       "        vertical-align: top;\n",
       "    }\n",
       "\n",
       "    .dataframe thead th {\n",
       "        text-align: right;\n",
       "    }\n",
       "</style>\n",
       "<table border=\"1\" class=\"dataframe\">\n",
       "  <thead>\n",
       "    <tr style=\"text-align: right;\">\n",
       "      <th></th>\n",
       "      <th>prediction</th>\n",
       "      <th>CMIS_MATCH</th>\n",
       "      <th>SPA_PER_ID</th>\n",
       "      <th>SPA_PREM_ID</th>\n",
       "      <th>MONTH</th>\n",
       "    </tr>\n",
       "  </thead>\n",
       "  <tbody>\n",
       "    <tr>\n",
       "      <th>0</th>\n",
       "      <td>0.001765</td>\n",
       "      <td>False</td>\n",
       "      <td>3</td>\n",
       "      <td>98612</td>\n",
       "      <td>1</td>\n",
       "    </tr>\n",
       "    <tr>\n",
       "      <th>1</th>\n",
       "      <td>0.001765</td>\n",
       "      <td>False</td>\n",
       "      <td>3</td>\n",
       "      <td>98612</td>\n",
       "      <td>4</td>\n",
       "    </tr>\n",
       "    <tr>\n",
       "      <th>2</th>\n",
       "      <td>0.001765</td>\n",
       "      <td>False</td>\n",
       "      <td>3</td>\n",
       "      <td>98612</td>\n",
       "      <td>6</td>\n",
       "    </tr>\n",
       "    <tr>\n",
       "      <th>3</th>\n",
       "      <td>0.001765</td>\n",
       "      <td>False</td>\n",
       "      <td>3</td>\n",
       "      <td>98612</td>\n",
       "      <td>10</td>\n",
       "    </tr>\n",
       "    <tr>\n",
       "      <th>4</th>\n",
       "      <td>0.001765</td>\n",
       "      <td>False</td>\n",
       "      <td>3</td>\n",
       "      <td>98612</td>\n",
       "      <td>13</td>\n",
       "    </tr>\n",
       "  </tbody>\n",
       "</table>\n",
       "</div>"
      ],
      "text/plain": [
       "   prediction  CMIS_MATCH  SPA_PER_ID  SPA_PREM_ID  MONTH\n",
       "0    0.001765       False           3        98612      1\n",
       "1    0.001765       False           3        98612      4\n",
       "2    0.001765       False           3        98612      6\n",
       "3    0.001765       False           3        98612     10\n",
       "4    0.001765       False           3        98612     13"
      ]
     },
     "execution_count": 3,
     "metadata": {},
     "output_type": "execute_result"
    }
   ],
   "source": [
    "df[['SPA_PER_ID', 'SPA_PREM_ID', 'MONTH']] = df['PER-PREM-MONTH_ID'].str.split(pat='-', expand=True)\n",
    "\n",
    "df = df.drop('PER-PREM-MONTH_ID', axis=1)\n",
    "\n",
    "for col in ['SPA_PER_ID', 'SPA_PREM_ID', 'MONTH']:\n",
    "    df[col] = df[col].astype('int')\n",
    "\n",
    "df.head()"
   ]
  },
  {
   "cell_type": "markdown",
   "id": "736fcb76-3517-49aa-b0da-d30cda759c7a",
   "metadata": {},
   "source": [
    "# Take maximum risk prediction for each person"
   ]
  },
  {
   "cell_type": "markdown",
   "id": "4c6b059f-a069-4ef7-aa08-5ab68a612d89",
   "metadata": {},
   "source": [
    "## Take Max Likelihood For Each Person"
   ]
  },
  {
   "cell_type": "code",
   "execution_count": 5,
   "id": "9c133263-21bc-4860-aad6-d41976f38986",
   "metadata": {},
   "outputs": [
    {
     "name": "stdout",
     "output_type": "stream",
     "text": [
      "84345\n",
      "84345\n"
     ]
    },
    {
     "data": {
      "text/html": [
       "<div>\n",
       "<style scoped>\n",
       "    .dataframe tbody tr th:only-of-type {\n",
       "        vertical-align: middle;\n",
       "    }\n",
       "\n",
       "    .dataframe tbody tr th {\n",
       "        vertical-align: top;\n",
       "    }\n",
       "\n",
       "    .dataframe thead th {\n",
       "        text-align: right;\n",
       "    }\n",
       "</style>\n",
       "<table border=\"1\" class=\"dataframe\">\n",
       "  <thead>\n",
       "    <tr style=\"text-align: right;\">\n",
       "      <th></th>\n",
       "      <th>SPA_PER_ID</th>\n",
       "      <th>prediction</th>\n",
       "      <th>CMIS_MATCH</th>\n",
       "    </tr>\n",
       "  </thead>\n",
       "  <tbody>\n",
       "    <tr>\n",
       "      <th>0</th>\n",
       "      <td>3</td>\n",
       "      <td>0.002089</td>\n",
       "      <td>False</td>\n",
       "    </tr>\n",
       "    <tr>\n",
       "      <th>1</th>\n",
       "      <td>4</td>\n",
       "      <td>0.001236</td>\n",
       "      <td>False</td>\n",
       "    </tr>\n",
       "    <tr>\n",
       "      <th>2</th>\n",
       "      <td>6</td>\n",
       "      <td>0.002334</td>\n",
       "      <td>False</td>\n",
       "    </tr>\n",
       "    <tr>\n",
       "      <th>3</th>\n",
       "      <td>12</td>\n",
       "      <td>0.001311</td>\n",
       "      <td>False</td>\n",
       "    </tr>\n",
       "    <tr>\n",
       "      <th>4</th>\n",
       "      <td>14</td>\n",
       "      <td>0.001866</td>\n",
       "      <td>False</td>\n",
       "    </tr>\n",
       "  </tbody>\n",
       "</table>\n",
       "</div>"
      ],
      "text/plain": [
       "   SPA_PER_ID  prediction  CMIS_MATCH\n",
       "0           3    0.002089       False\n",
       "1           4    0.001236       False\n",
       "2           6    0.002334       False\n",
       "3          12    0.001311       False\n",
       "4          14    0.001866       False"
      ]
     },
     "execution_count": 5,
     "metadata": {},
     "output_type": "execute_result"
    }
   ],
   "source": [
    "predictions = df.groupby('SPA_PER_ID')['prediction'].max()\n",
    "predictions = pd.concat([predictions, df.groupby('SPA_PER_ID').CMIS_MATCH.any()], axis=1, join='inner', ignore_index=False)\n",
    "predictions = predictions.reset_index()\n",
    "predictions.head()"
   ]
  },
  {
   "cell_type": "markdown",
   "id": "13c5a1a5-2d9b-41c3-afa5-a421608e98a4",
   "metadata": {
    "jp-MarkdownHeadingCollapsed": true,
    "tags": []
   },
   "source": [
    "## Find Most Indicative Time to Analyze Risk\n",
    "Note: The max predicted risk can occur at multiple times for a single person."
   ]
  },
  {
   "cell_type": "code",
   "execution_count": 5,
   "id": "fe0e75aa-aa35-44ab-b8a2-9ce35fea02b6",
   "metadata": {},
   "outputs": [
    {
     "data": {
      "text/html": [
       "<div>\n",
       "<style scoped>\n",
       "    .dataframe tbody tr th:only-of-type {\n",
       "        vertical-align: middle;\n",
       "    }\n",
       "\n",
       "    .dataframe tbody tr th {\n",
       "        vertical-align: top;\n",
       "    }\n",
       "\n",
       "    .dataframe thead th {\n",
       "        text-align: right;\n",
       "    }\n",
       "</style>\n",
       "<table border=\"1\" class=\"dataframe\">\n",
       "  <thead>\n",
       "    <tr style=\"text-align: right;\">\n",
       "      <th></th>\n",
       "      <th>prediction</th>\n",
       "      <th>CMIS_MATCH</th>\n",
       "      <th>SPA_PER_ID</th>\n",
       "      <th>SPA_PREM_ID</th>\n",
       "      <th>MONTH</th>\n",
       "      <th>max_likelihood</th>\n",
       "    </tr>\n",
       "  </thead>\n",
       "  <tbody>\n",
       "    <tr>\n",
       "      <th>0</th>\n",
       "      <td>0.001765</td>\n",
       "      <td>False</td>\n",
       "      <td>3</td>\n",
       "      <td>98612</td>\n",
       "      <td>1</td>\n",
       "      <td>NaN</td>\n",
       "    </tr>\n",
       "    <tr>\n",
       "      <th>1</th>\n",
       "      <td>0.001765</td>\n",
       "      <td>False</td>\n",
       "      <td>3</td>\n",
       "      <td>98612</td>\n",
       "      <td>4</td>\n",
       "      <td>NaN</td>\n",
       "    </tr>\n",
       "    <tr>\n",
       "      <th>2</th>\n",
       "      <td>0.001765</td>\n",
       "      <td>False</td>\n",
       "      <td>3</td>\n",
       "      <td>98612</td>\n",
       "      <td>6</td>\n",
       "      <td>NaN</td>\n",
       "    </tr>\n",
       "    <tr>\n",
       "      <th>3</th>\n",
       "      <td>0.001765</td>\n",
       "      <td>False</td>\n",
       "      <td>3</td>\n",
       "      <td>98612</td>\n",
       "      <td>10</td>\n",
       "      <td>NaN</td>\n",
       "    </tr>\n",
       "    <tr>\n",
       "      <th>4</th>\n",
       "      <td>0.001765</td>\n",
       "      <td>False</td>\n",
       "      <td>3</td>\n",
       "      <td>98612</td>\n",
       "      <td>13</td>\n",
       "      <td>NaN</td>\n",
       "    </tr>\n",
       "  </tbody>\n",
       "</table>\n",
       "</div>"
      ],
      "text/plain": [
       "   prediction  CMIS_MATCH  SPA_PER_ID  SPA_PREM_ID  MONTH max_likelihood\n",
       "0    0.001765       False           3        98612      1            NaN\n",
       "1    0.001765       False           3        98612      4            NaN\n",
       "2    0.001765       False           3        98612      6            NaN\n",
       "3    0.001765       False           3        98612     10            NaN\n",
       "4    0.001765       False           3        98612     13            NaN"
      ]
     },
     "execution_count": 5,
     "metadata": {},
     "output_type": "execute_result"
    }
   ],
   "source": [
    "matches = predictions[['SPA_PER_ID', 'prediction']]\n",
    "matches['max_likelihood'] = True \n",
    "\n",
    "df = df.merge(matches, how='left', left_on=['SPA_PER_ID', 'prediction'], right_on=['SPA_PER_ID', 'prediction'])\n",
    "df.head()"
   ]
  },
  {
   "cell_type": "markdown",
   "id": "d1c84be0-fc40-4cb5-9bd6-20fd1c27cab0",
   "metadata": {},
   "source": [
    "### Create Normalized Backward Time Column"
   ]
  },
  {
   "cell_type": "code",
   "execution_count": 6,
   "id": "5bb288aa-3fca-48ea-b0b1-062f25bf0efd",
   "metadata": {},
   "outputs": [],
   "source": [
    "def backward_time_from_last(df: pd.DataFrame) -> pd.DataFrame:\n",
    "    new_df = df.copy()\n",
    "    # Get max month for each person\n",
    "    max_months = dict(new_df.groupby(['SPA_PER_ID'])['MONTH'].max())\n",
    "    # Fill in max month for each row\n",
    "    new_df['BACKWARD_MONTH'] = new_df['SPA_PER_ID'].apply(lambda x: max_months[x])\n",
    "    # Calculate BACKWARD_MONTH - the number of months until the last data point\n",
    "    new_df['BACKWARD_MONTH'] = new_df['MONTH'] - new_df['BACKWARD_MONTH']\n",
    "    new_df['BACKWARD_MONTH'] = new_df['BACKWARD_MONTH'].astype('int')\n",
    "    return new_df"
   ]
  },
  {
   "cell_type": "code",
   "execution_count": 7,
   "id": "db682456-806f-4cf7-9312-4938df86a0fd",
   "metadata": {},
   "outputs": [
    {
     "data": {
      "text/html": [
       "<div>\n",
       "<style scoped>\n",
       "    .dataframe tbody tr th:only-of-type {\n",
       "        vertical-align: middle;\n",
       "    }\n",
       "\n",
       "    .dataframe tbody tr th {\n",
       "        vertical-align: top;\n",
       "    }\n",
       "\n",
       "    .dataframe thead th {\n",
       "        text-align: right;\n",
       "    }\n",
       "</style>\n",
       "<table border=\"1\" class=\"dataframe\">\n",
       "  <thead>\n",
       "    <tr style=\"text-align: right;\">\n",
       "      <th></th>\n",
       "      <th>prediction</th>\n",
       "      <th>CMIS_MATCH</th>\n",
       "      <th>SPA_PER_ID</th>\n",
       "      <th>SPA_PREM_ID</th>\n",
       "      <th>MONTH</th>\n",
       "      <th>max_likelihood</th>\n",
       "      <th>BACKWARD_MONTH</th>\n",
       "    </tr>\n",
       "  </thead>\n",
       "  <tbody>\n",
       "    <tr>\n",
       "      <th>0</th>\n",
       "      <td>0.001765</td>\n",
       "      <td>False</td>\n",
       "      <td>3</td>\n",
       "      <td>98612</td>\n",
       "      <td>1</td>\n",
       "      <td>NaN</td>\n",
       "      <td>-57</td>\n",
       "    </tr>\n",
       "    <tr>\n",
       "      <th>1</th>\n",
       "      <td>0.001765</td>\n",
       "      <td>False</td>\n",
       "      <td>3</td>\n",
       "      <td>98612</td>\n",
       "      <td>4</td>\n",
       "      <td>NaN</td>\n",
       "      <td>-54</td>\n",
       "    </tr>\n",
       "    <tr>\n",
       "      <th>2</th>\n",
       "      <td>0.001765</td>\n",
       "      <td>False</td>\n",
       "      <td>3</td>\n",
       "      <td>98612</td>\n",
       "      <td>6</td>\n",
       "      <td>NaN</td>\n",
       "      <td>-52</td>\n",
       "    </tr>\n",
       "    <tr>\n",
       "      <th>3</th>\n",
       "      <td>0.001765</td>\n",
       "      <td>False</td>\n",
       "      <td>3</td>\n",
       "      <td>98612</td>\n",
       "      <td>10</td>\n",
       "      <td>NaN</td>\n",
       "      <td>-48</td>\n",
       "    </tr>\n",
       "    <tr>\n",
       "      <th>4</th>\n",
       "      <td>0.001765</td>\n",
       "      <td>False</td>\n",
       "      <td>3</td>\n",
       "      <td>98612</td>\n",
       "      <td>13</td>\n",
       "      <td>NaN</td>\n",
       "      <td>-45</td>\n",
       "    </tr>\n",
       "  </tbody>\n",
       "</table>\n",
       "</div>"
      ],
      "text/plain": [
       "   prediction  CMIS_MATCH  SPA_PER_ID  SPA_PREM_ID  MONTH max_likelihood  \\\n",
       "0    0.001765       False           3        98612      1            NaN   \n",
       "1    0.001765       False           3        98612      4            NaN   \n",
       "2    0.001765       False           3        98612      6            NaN   \n",
       "3    0.001765       False           3        98612     10            NaN   \n",
       "4    0.001765       False           3        98612     13            NaN   \n",
       "\n",
       "   BACKWARD_MONTH  \n",
       "0             -57  \n",
       "1             -54  \n",
       "2             -52  \n",
       "3             -48  \n",
       "4             -45  "
      ]
     },
     "execution_count": 7,
     "metadata": {},
     "output_type": "execute_result"
    }
   ],
   "source": [
    "df = backward_time_from_last(df)\n",
    "\n",
    "df.head()"
   ]
  },
  {
   "cell_type": "markdown",
   "id": "c3eb910c-8b64-40ee-9184-35ae1786e083",
   "metadata": {
    "jp-MarkdownHeadingCollapsed": true,
    "tags": []
   },
   "source": [
    "# Alternate: Weighted Average"
   ]
  },
  {
   "cell_type": "code",
   "execution_count": 8,
   "id": "68cbc55d-d2b0-480c-84ed-c8abad751646",
   "metadata": {},
   "outputs": [],
   "source": [
    "def weighted_avg(df: pd.DataFrame , weighting: str, center: int, values: str='prediction', backward_month: str='BACKWARD_MONTH') -> pd.Series:\n",
    "        vals = df[values]\n",
    "        weights = []\n",
    "        if weighting == 'linear':\n",
    "            # weights = np.arange(start=1, stop=len(vals)+1)\n",
    "            weights = 1 / abs(df[backward_month] - center)\n",
    "        elif weighting == 'exponential':\n",
    "            # weights = [np.exp(x) for x in np.arange(start=0, stop=len(vals))]\n",
    "            weights = 1 / np.exp(abs(df[backward_month] - center))\n",
    "            \n",
    "        weights = weights.replace(to_replace=np.inf, value=1.5)\n",
    "\n",
    "        return (vals * weights).sum() / sum(weights)"
   ]
  },
  {
   "cell_type": "code",
   "execution_count": 9,
   "id": "39dcd071-9f20-4836-b12d-64cd2107e78e",
   "metadata": {},
   "outputs": [
    {
     "data": {
      "text/html": [
       "<div>\n",
       "<style scoped>\n",
       "    .dataframe tbody tr th:only-of-type {\n",
       "        vertical-align: middle;\n",
       "    }\n",
       "\n",
       "    .dataframe tbody tr th {\n",
       "        vertical-align: top;\n",
       "    }\n",
       "\n",
       "    .dataframe thead th {\n",
       "        text-align: right;\n",
       "    }\n",
       "</style>\n",
       "<table border=\"1\" class=\"dataframe\">\n",
       "  <thead>\n",
       "    <tr style=\"text-align: right;\">\n",
       "      <th></th>\n",
       "      <th>SPA_PER_ID</th>\n",
       "      <th>linear</th>\n",
       "      <th>exp</th>\n",
       "      <th>CMIS_MATCH</th>\n",
       "    </tr>\n",
       "  </thead>\n",
       "  <tbody>\n",
       "    <tr>\n",
       "      <th>0</th>\n",
       "      <td>3</td>\n",
       "      <td>0.001737</td>\n",
       "      <td>0.001735</td>\n",
       "      <td>False</td>\n",
       "    </tr>\n",
       "    <tr>\n",
       "      <th>1</th>\n",
       "      <td>4</td>\n",
       "      <td>0.001183</td>\n",
       "      <td>0.001181</td>\n",
       "      <td>False</td>\n",
       "    </tr>\n",
       "    <tr>\n",
       "      <th>2</th>\n",
       "      <td>6</td>\n",
       "      <td>0.001923</td>\n",
       "      <td>0.001916</td>\n",
       "      <td>False</td>\n",
       "    </tr>\n",
       "    <tr>\n",
       "      <th>3</th>\n",
       "      <td>12</td>\n",
       "      <td>0.001255</td>\n",
       "      <td>0.001241</td>\n",
       "      <td>False</td>\n",
       "    </tr>\n",
       "    <tr>\n",
       "      <th>4</th>\n",
       "      <td>14</td>\n",
       "      <td>0.001821</td>\n",
       "      <td>0.001808</td>\n",
       "      <td>False</td>\n",
       "    </tr>\n",
       "  </tbody>\n",
       "</table>\n",
       "</div>"
      ],
      "text/plain": [
       "   SPA_PER_ID    linear       exp  CMIS_MATCH\n",
       "0           3  0.001737  0.001735       False\n",
       "1           4  0.001183  0.001181       False\n",
       "2           6  0.001923  0.001916       False\n",
       "3          12  0.001255  0.001241       False\n",
       "4          14  0.001821  0.001808       False"
      ]
     },
     "execution_count": 9,
     "metadata": {},
     "output_type": "execute_result"
    }
   ],
   "source": [
    "center = -40\n",
    "\n",
    "weighted_predictions = df.groupby('SPA_PER_ID').apply(weighted_avg, 'linear', center)\n",
    "\n",
    "weighted_predictions = weighted_predictions.rename('linear').to_frame().join(\n",
    "    df.groupby('SPA_PER_ID').apply(weighted_avg, 'exponential', center).rename('exp'), how='left', on='SPA_PER_ID')\n",
    "\n",
    "weighted_predictions = weighted_predictions.join(df.groupby('SPA_PER_ID')['CMIS_MATCH'].last(), how='left', on='SPA_PER_ID')\n",
    "\n",
    "weighted_predictions = weighted_predictions.reset_index()\n",
    "\n",
    "weighted_predictions.head()"
   ]
  },
  {
   "cell_type": "markdown",
   "id": "fb65c407-375a-40d5-b08b-9b2dbbbf3678",
   "metadata": {},
   "source": [
    "# Save and Time"
   ]
  },
  {
   "cell_type": "code",
   "execution_count": 10,
   "id": "6c99a710-c062-4a5d-a842-9b318137fc74",
   "metadata": {},
   "outputs": [],
   "source": [
    "filename = 'log_predictions.pickle'\n",
    "outfile = open(datapath + filename, 'wb')\n",
    "pickle.dump(predictions, outfile)\n",
    "outfile.close()\n",
    "\n",
    "filename = 'log_predictions_time.pickle'\n",
    "outfile = open(datapath + filename, 'wb')\n",
    "pickle.dump(df, outfile)\n",
    "outfile.close()\n",
    "\n",
    "filename = 'log_weighted_predictions.pickle'\n",
    "outfile = open(datapath + filename, 'wb')\n",
    "pickle.dump(weighted_predictions, outfile)\n",
    "outfile.close()"
   ]
  },
  {
   "cell_type": "code",
   "execution_count": 11,
   "id": "702ee74c-88bb-4aa2-a6aa-f6104bf8ed68",
   "metadata": {},
   "outputs": [
    {
     "name": "stdout",
     "output_type": "stream",
     "text": [
      "hours:minutes:seconds = 0:2:52.43069386482239\n"
     ]
    }
   ],
   "source": [
    "from custom_methods.calc_time import calc_time_from_sec\n",
    "\n",
    "calc_time_from_sec(time.time() - startTime)"
   ]
  }
 ],
 "metadata": {
  "kernelspec": {
   "display_name": "Python 3 (ipykernel)",
   "language": "python",
   "name": "python3"
  },
  "language_info": {
   "codemirror_mode": {
    "name": "ipython",
    "version": 3
   },
   "file_extension": ".py",
   "mimetype": "text/x-python",
   "name": "python",
   "nbconvert_exporter": "python",
   "pygments_lexer": "ipython3",
   "version": "3.8.12"
  }
 },
 "nbformat": 4,
 "nbformat_minor": 5
}
