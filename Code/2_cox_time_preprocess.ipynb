{
 "cells": [
  {
   "cell_type": "markdown",
   "metadata": {},
   "source": [
    "# Load Data"
   ]
  },
  {
   "cell_type": "code",
   "execution_count": 1,
   "metadata": {},
   "outputs": [],
   "source": [
    "import pandas as pd\n",
    "import numpy as np\n",
    "import pickle\n",
    "import time\n",
    "import matplotlib.pyplot as plt\n",
    "%config IPCompleter.greedy=True"
   ]
  },
  {
   "cell_type": "code",
   "execution_count": 2,
   "metadata": {},
   "outputs": [],
   "source": [
    "start_time = time.time()"
   ]
  },
  {
   "cell_type": "code",
   "execution_count": 3,
   "metadata": {
    "scrolled": true
   },
   "outputs": [
    {
     "data": {
      "text/plain": [
       "['PAST_DUE',\n",
       " 'TOTAL_60_DAYS_AMT',\n",
       " 'NUM_PREM_FOR_PER',\n",
       " 'BREAK_ARRANGEMENT',\n",
       " 'COVID_REMINDER',\n",
       " 'MULTI_DWELL_SIZE',\n",
       " 'SNAP_GEO',\n",
       " 'NUM_PER_FOR_PREM',\n",
       " 'APARTMENT',\n",
       " 'HAS_COTENANT']"
      ]
     },
     "execution_count": 3,
     "metadata": {},
     "output_type": "execute_result"
    }
   ],
   "source": [
    "filename = '../../002_Data/Release_4/data_combined.pickle'\n",
    "infile = open(filename,'rb')\n",
    "df = pickle.load(infile)\n",
    "infile.close()\n",
    "\n",
    "filename = '../../002_Data/Release_4/attribute_list.pickle'\n",
    "infile = open(filename,'rb')\n",
    "keep = pickle.load(infile)\n",
    "infile.close()\n",
    "\n",
    "keep"
   ]
  },
  {
   "cell_type": "code",
   "execution_count": 4,
   "metadata": {},
   "outputs": [],
   "source": [
    "# causing convergence issues\n",
    "keep.remove('APARTMENT')\n",
    "# Add other to keep\n",
    "#keep = keep + ['SPA_PER_ID', 'ARREARSMONTH', 'CMIS_MATCH']\n",
    "keep = keep + ['SPA_PER_ID', 'ARREARSMONTH', 'LAST_MO_W_DATA']"
   ]
  },
  {
   "cell_type": "code",
   "execution_count": 5,
   "metadata": {},
   "outputs": [
    {
     "data": {
      "text/plain": [
       "PAST_DUE             0\n",
       "TOTAL_60_DAYS_AMT    0\n",
       "NUM_PREM_FOR_PER     0\n",
       "BREAK_ARRANGEMENT    0\n",
       "COVID_REMINDER       0\n",
       "MULTI_DWELL_SIZE     0\n",
       "SNAP_GEO             0\n",
       "NUM_PER_FOR_PREM     0\n",
       "HAS_COTENANT         0\n",
       "SPA_PER_ID           0\n",
       "ARREARSMONTH         0\n",
       "LAST_MO_W_DATA       0\n",
       "dtype: int64"
      ]
     },
     "execution_count": 5,
     "metadata": {},
     "output_type": "execute_result"
    }
   ],
   "source": [
    "df = df[keep]\n",
    "df.isnull().sum()"
   ]
  },
  {
   "cell_type": "markdown",
   "metadata": {},
   "source": [
    "# Require unique person, month"
   ]
  },
  {
   "cell_type": "code",
   "execution_count": 6,
   "metadata": {},
   "outputs": [
    {
     "data": {
      "text/plain": [
       "1    3331612\n",
       "2       7332\n",
       "dtype: int64"
      ]
     },
     "execution_count": 6,
     "metadata": {},
     "output_type": "execute_result"
    }
   ],
   "source": [
    "df.groupby(['SPA_PER_ID', 'ARREARSMONTH']).size().value_counts()"
   ]
  },
  {
   "cell_type": "markdown",
   "metadata": {},
   "source": [
    "## Just take last - most related to homelessness"
   ]
  },
  {
   "cell_type": "code",
   "execution_count": 7,
   "metadata": {},
   "outputs": [
    {
     "name": "stdout",
     "output_type": "stream",
     "text": [
      "3346276\n",
      "3338944\n"
     ]
    },
    {
     "data": {
      "text/plain": [
       "1    3338944\n",
       "dtype: int64"
      ]
     },
     "execution_count": 7,
     "metadata": {},
     "output_type": "execute_result"
    }
   ],
   "source": [
    "print(len(df))\n",
    "df = df.drop_duplicates(subset=['SPA_PER_ID', 'ARREARSMONTH'], keep='last', ignore_index=True)\n",
    "print(len(df))\n",
    "\n",
    "df.groupby(['SPA_PER_ID', 'ARREARSMONTH']).size().value_counts()"
   ]
  },
  {
   "cell_type": "markdown",
   "metadata": {},
   "source": [
    "# Take Difference (Inactive)"
   ]
  },
  {
   "cell_type": "code",
   "execution_count": 8,
   "metadata": {},
   "outputs": [],
   "source": [
    "def take_diff(df, save_out_cols):\n",
    "    # 04/23/21\n",
    "    # NOTE: Cols taking diff must be numerical\n",
    "    new_df = df[save_out_cols].copy()\n",
    "    new_df = new_df.join(df.drop(save_out_cols, axis=1).diff())\n",
    "    new_df.dropna(inplace=True)\n",
    "    return new_df"
   ]
  },
  {
   "cell_type": "code",
   "execution_count": 9,
   "metadata": {},
   "outputs": [
    {
     "data": {
      "text/plain": [
       "\"\\nsave_out = [\\n    'SPA_PER_ID',\\n    'ARREARSMONTH',\\n    'CMIS_MATCH',\\n    'CMIS_DB_ENTRY',\\n    'HAS_COTENANT'\\n]\\ndf = take_diff(df, save_out_cols=save_out)\\n\\ndf.isnull().sum()\\n\""
      ]
     },
     "execution_count": 9,
     "metadata": {},
     "output_type": "execute_result"
    }
   ],
   "source": [
    "'''\n",
    "save_out = [\n",
    "    'SPA_PER_ID',\n",
    "    'ARREARSMONTH',\n",
    "    'CMIS_MATCH',\n",
    "    'CMIS_DB_ENTRY',\n",
    "    'HAS_COTENANT'\n",
    "]\n",
    "df = take_diff(df, save_out_cols=save_out)\n",
    "\n",
    "df.isnull().sum()\n",
    "'''"
   ]
  },
  {
   "cell_type": "markdown",
   "metadata": {},
   "source": [
    "# Reconfigure for Cox Time Varying\n",
    "* start col\n",
    "* stop col\n",
    "* one row per person per unique set of time-varying covariates"
   ]
  },
  {
   "cell_type": "markdown",
   "metadata": {},
   "source": [
    "## Custom Methods"
   ]
  },
  {
   "cell_type": "code",
   "execution_count": 10,
   "metadata": {},
   "outputs": [],
   "source": [
    "def transform_to_cox_time_varying(df: pd.DataFrame, month_col: str) -> pd.DataFrame:\n",
    "    '''\n",
    "    05/11/21\n",
    "    Transform data to format required by lifelines CoxTimeVaryingFitter.\n",
    "    'start' is exclusive and 'stop' is inclusive\n",
    "    '''\n",
    "    new_df = df.copy()\n",
    "    cols_not_month = new_df.columns.to_list()\n",
    "    cols_not_month.remove(month_col)\n",
    "    new_df = new_df.join(new_df.groupby(cols_not_month).min().rename({month_col:'start'}, axis=1), how='left', on=cols_not_month)\n",
    "    cols_not_month = new_df.columns.to_list()\n",
    "    cols_not_month.remove(month_col)\n",
    "    new_df = new_df.join(new_df.groupby(cols_not_month).max().rename({month_col:'stop'}, axis=1), how='left', on=cols_not_month)\n",
    "    to_update = new_df[new_df['start'] == new_df['stop']]['stop']\n",
    "    to_update += 1\n",
    "    new_df['stop'].update(to_update)\n",
    "    new_df = new_df.drop(month_col, axis=1).drop_duplicates()\n",
    "    return new_df"
   ]
  },
  {
   "cell_type": "markdown",
   "metadata": {},
   "source": [
    "## Reconfigure"
   ]
  },
  {
   "cell_type": "code",
   "execution_count": 11,
   "metadata": {},
   "outputs": [],
   "source": [
    "df = transform_to_cox_time_varying(df, month_col='ARREARSMONTH')"
   ]
  },
  {
   "cell_type": "markdown",
   "metadata": {},
   "source": [
    "# Clean Up"
   ]
  },
  {
   "cell_type": "code",
   "execution_count": 12,
   "metadata": {},
   "outputs": [
    {
     "data": {
      "text/plain": [
       "PAST_DUE             0\n",
       "TOTAL_60_DAYS_AMT    0\n",
       "NUM_PREM_FOR_PER     0\n",
       "BREAK_ARRANGEMENT    0\n",
       "COVID_REMINDER       0\n",
       "MULTI_DWELL_SIZE     0\n",
       "SNAP_GEO             0\n",
       "NUM_PER_FOR_PREM     0\n",
       "HAS_COTENANT         0\n",
       "SPA_PER_ID           0\n",
       "LAST_MO_W_DATA       0\n",
       "start                0\n",
       "stop                 0\n",
       "dtype: int64"
      ]
     },
     "execution_count": 12,
     "metadata": {},
     "output_type": "execute_result"
    }
   ],
   "source": [
    "df.isnull().sum()"
   ]
  },
  {
   "cell_type": "code",
   "execution_count": 13,
   "metadata": {},
   "outputs": [
    {
     "data": {
      "text/plain": [
       "0"
      ]
     },
     "execution_count": 13,
     "metadata": {},
     "output_type": "execute_result"
    }
   ],
   "source": [
    "len(df[(df['start'] == df['stop'])])"
   ]
  },
  {
   "cell_type": "code",
   "execution_count": 14,
   "metadata": {},
   "outputs": [
    {
     "data": {
      "text/plain": [
       "PAST_DUE               int64\n",
       "TOTAL_60_DAYS_AMT    float64\n",
       "NUM_PREM_FOR_PER       int64\n",
       "BREAK_ARRANGEMENT      int64\n",
       "COVID_REMINDER         int64\n",
       "MULTI_DWELL_SIZE       int64\n",
       "SNAP_GEO             float64\n",
       "NUM_PER_FOR_PREM       int64\n",
       "HAS_COTENANT          object\n",
       "SPA_PER_ID             int64\n",
       "LAST_MO_W_DATA        object\n",
       "start                  int64\n",
       "stop                   int64\n",
       "dtype: object"
      ]
     },
     "execution_count": 14,
     "metadata": {},
     "output_type": "execute_result"
    }
   ],
   "source": [
    "df.dtypes"
   ]
  },
  {
   "cell_type": "code",
   "execution_count": 15,
   "metadata": {},
   "outputs": [],
   "source": [
    "df['HAS_COTENANT'] = df['HAS_COTENANT'].astype('bool')\n",
    "# df['APARTMENT'] = df['APARTMENT'].astype('bool')\n",
    "# df['CMIS_MATCH'] = df['CMIS_MATCH'].astype('bool')\n",
    "df['LAST_MO_W_DATA'] = df['LAST_MO_W_DATA'].astype('bool')"
   ]
  },
  {
   "cell_type": "markdown",
   "metadata": {},
   "source": [
    "# Save Output"
   ]
  },
  {
   "cell_type": "code",
   "execution_count": 16,
   "metadata": {},
   "outputs": [],
   "source": [
    "\n",
    "filename = '../../002_Data/Release_4/cox_time_ready_last_data.pickle'\n",
    "outfile = open(filename, 'wb')\n",
    "pickle.dump(df, outfile)\n",
    "outfile.close()\n"
   ]
  },
  {
   "cell_type": "markdown",
   "metadata": {},
   "source": [
    "# Calculate Time"
   ]
  },
  {
   "cell_type": "code",
   "execution_count": 17,
   "metadata": {},
   "outputs": [
    {
     "name": "stdout",
     "output_type": "stream",
     "text": [
      "hours:minutes:seconds = 0:0:34.51171040534973\n"
     ]
    }
   ],
   "source": [
    "from custom_methods.calc_time import calc_time_from_sec\n",
    "\n",
    "calc_time_from_sec(time.time()-start_time)"
   ]
  }
 ],
 "metadata": {
  "interpreter": {
   "hash": "55dc2ef33d481be31a5c00b42f248808e4edd8b163c72100e3df152a03ba29f1"
  },
  "kernelspec": {
   "display_name": "Python 3",
   "language": "python",
   "name": "python3"
  },
  "language_info": {
   "codemirror_mode": {
    "name": "ipython",
    "version": 3
   },
   "file_extension": ".py",
   "mimetype": "text/x-python",
   "name": "python",
   "nbconvert_exporter": "python",
   "pygments_lexer": "ipython3",
   "version": "3.8.6"
  },
  "metadata": {
   "interpreter": {
    "hash": "55dc2ef33d481be31a5c00b42f248808e4edd8b163c72100e3df152a03ba29f1"
   }
  }
 },
 "nbformat": 4,
 "nbformat_minor": 2
}
