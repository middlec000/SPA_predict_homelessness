{
 "cells": [
  {
   "cell_type": "markdown",
   "id": "fc82b479-4adf-4389-bc23-20bab14d1211",
   "metadata": {},
   "source": [
    "# Imports + Setup"
   ]
  },
  {
   "cell_type": "code",
   "execution_count": 1,
   "id": "3be40b70-0068-43d3-b557-882e06ccbb22",
   "metadata": {},
   "outputs": [],
   "source": [
    "import pandas as pd\n",
    "import numpy as np\n",
    "import pickle\n",
    "import time\n",
    "import matplotlib.pyplot as plt\n",
    "import seaborn as sns\n",
    "from sklearn.metrics import roc_curve\n",
    "\n",
    "startTime = time.time()\n",
    "\n",
    "plt.rcParams.update({'figure.figsize':(11,7), 'figure.dpi':120})\n",
    "image_dest = 'results_images/'\n",
    "visual_specs={'fontsize':14, 'palette':'Greys', 'saturation':0.5}\n",
    "fontsize = visual_specs['fontsize']\n",
    "palette = visual_specs['palette']\n",
    "datapath = '../Data/'\n",
    "\n",
    "id_col = 'SPA_PER_ID'\n",
    "event_col = 'CMIS_MATCH'"
   ]
  },
  {
   "cell_type": "markdown",
   "id": "cad08b1b-7af7-4a8d-8adf-c6db89550153",
   "metadata": {},
   "source": [
    "# Load Predictions"
   ]
  },
  {
   "cell_type": "code",
   "execution_count": 2,
   "id": "bfd66a56-54ed-4fdd-a48e-32646aafbc75",
   "metadata": {},
   "outputs": [
    {
     "name": "stdout",
     "output_type": "stream",
     "text": [
      "3231051\n"
     ]
    },
    {
     "data": {
      "text/html": [
       "<div>\n",
       "<style scoped>\n",
       "    .dataframe tbody tr th:only-of-type {\n",
       "        vertical-align: middle;\n",
       "    }\n",
       "\n",
       "    .dataframe tbody tr th {\n",
       "        vertical-align: top;\n",
       "    }\n",
       "\n",
       "    .dataframe thead th {\n",
       "        text-align: right;\n",
       "    }\n",
       "</style>\n",
       "<table border=\"1\" class=\"dataframe\">\n",
       "  <thead>\n",
       "    <tr style=\"text-align: right;\">\n",
       "      <th></th>\n",
       "      <th>prediction</th>\n",
       "      <th>CMIS_MATCH</th>\n",
       "      <th>SPA_PER_ID</th>\n",
       "      <th>SPA_PREM_ID</th>\n",
       "      <th>MONTH</th>\n",
       "      <th>max_likelihood</th>\n",
       "      <th>BACKWARD_MONTH</th>\n",
       "    </tr>\n",
       "  </thead>\n",
       "  <tbody>\n",
       "    <tr>\n",
       "      <th>0</th>\n",
       "      <td>0.001749</td>\n",
       "      <td>False</td>\n",
       "      <td>3</td>\n",
       "      <td>98612</td>\n",
       "      <td>0</td>\n",
       "      <td>NaN</td>\n",
       "      <td>-58</td>\n",
       "    </tr>\n",
       "    <tr>\n",
       "      <th>1</th>\n",
       "      <td>0.001749</td>\n",
       "      <td>False</td>\n",
       "      <td>3</td>\n",
       "      <td>98612</td>\n",
       "      <td>1</td>\n",
       "      <td>NaN</td>\n",
       "      <td>-57</td>\n",
       "    </tr>\n",
       "    <tr>\n",
       "      <th>2</th>\n",
       "      <td>0.001749</td>\n",
       "      <td>False</td>\n",
       "      <td>3</td>\n",
       "      <td>98612</td>\n",
       "      <td>8</td>\n",
       "      <td>NaN</td>\n",
       "      <td>-50</td>\n",
       "    </tr>\n",
       "    <tr>\n",
       "      <th>3</th>\n",
       "      <td>0.001749</td>\n",
       "      <td>False</td>\n",
       "      <td>3</td>\n",
       "      <td>98612</td>\n",
       "      <td>13</td>\n",
       "      <td>NaN</td>\n",
       "      <td>-45</td>\n",
       "    </tr>\n",
       "    <tr>\n",
       "      <th>4</th>\n",
       "      <td>0.001749</td>\n",
       "      <td>False</td>\n",
       "      <td>3</td>\n",
       "      <td>98612</td>\n",
       "      <td>18</td>\n",
       "      <td>NaN</td>\n",
       "      <td>-40</td>\n",
       "    </tr>\n",
       "  </tbody>\n",
       "</table>\n",
       "</div>"
      ],
      "text/plain": [
       "   prediction  CMIS_MATCH  SPA_PER_ID  SPA_PREM_ID  MONTH max_likelihood  \\\n",
       "0    0.001749       False           3        98612      0            NaN   \n",
       "1    0.001749       False           3        98612      1            NaN   \n",
       "2    0.001749       False           3        98612      8            NaN   \n",
       "3    0.001749       False           3        98612     13            NaN   \n",
       "4    0.001749       False           3        98612     18            NaN   \n",
       "\n",
       "   BACKWARD_MONTH  \n",
       "0             -58  \n",
       "1             -57  \n",
       "2             -50  \n",
       "3             -45  \n",
       "4             -40  "
      ]
     },
     "execution_count": 2,
     "metadata": {},
     "output_type": "execute_result"
    }
   ],
   "source": [
    "filename = 'log_predictions_time.pickle'\n",
    "infile = open(datapath+filename,'rb')\n",
    "df = pickle.load(infile)\n",
    "infile.close()\n",
    "\n",
    "print(len(df))\n",
    "\n",
    "df.head()"
   ]
  },
  {
   "cell_type": "markdown",
   "id": "dd5f0880-c208-4db3-8c44-f0f828f89122",
   "metadata": {},
   "source": [
    "# Plot\n",
    "Predicted Risk vs Time Ago"
   ]
  },
  {
   "cell_type": "code",
   "execution_count": 3,
   "id": "f602ffc9-0b23-44ca-b795-dd46c4321349",
   "metadata": {},
   "outputs": [
    {
     "data": {
      "text/plain": [
       "'3,231,051'"
      ]
     },
     "execution_count": 3,
     "metadata": {},
     "output_type": "execute_result"
    }
   ],
   "source": [
    "length = str(len(df))\n",
    "length = length[:-6] + ',' + length[-6:-3] + ',' + length[-3:]\n",
    "length"
   ]
  },
  {
   "cell_type": "code",
   "execution_count": 4,
   "id": "bcebd4a8-c169-4f43-b873-66e39f859f13",
   "metadata": {},
   "outputs": [],
   "source": [
    "sample = df.iloc[:30000]"
   ]
  },
  {
   "cell_type": "code",
   "execution_count": 5,
   "id": "18b56055-4290-43bf-ad9a-92b001643690",
   "metadata": {},
   "outputs": [
    {
     "data": {
      "image/png": "[encoded data removed]",
      "text/plain": [
       "<Figure size 1320x840 with 1 Axes>"
      ]
     },
     "metadata": {
      "needs_background": "light"
     },
     "output_type": "display_data"
    }
   ],
   "source": [
    "# Plot Positives\n",
    "sns.kdeplot(\n",
    "    data=sample[sample['CMIS_MATCH']], \n",
    "    x='BACKWARD_MONTH', \n",
    "    y='prediction', \n",
    "    color='red',\n",
    "    fill=True,\n",
    "    alpha=0.5,\n",
    "    #bins=58,\n",
    "    #discrete=(True,False),\n",
    "    #thresh=None,\n",
    "    #cbar=True,\n",
    "    label='Positives'\n",
    ")\n",
    "\n",
    "# Plot Negatives\n",
    "sns.kdeplot(\n",
    "    data=sample[~sample['CMIS_MATCH']], \n",
    "    x='BACKWARD_MONTH', \n",
    "    y='prediction', \n",
    "    color='blue',\n",
    "    fill=True,\n",
    "    alpha=0.5,\n",
    "    #bins=58,\n",
    "    #discrete=(True,False),\n",
    "    #thresh=None,\n",
    "    #cbar=True,\n",
    "    label='Negatives'\n",
    ")\n",
    "\n",
    "# Save Figure\n",
    "plt.savefig(fname=image_dest+'Density_Time.png', bbox_inches='tight')\n",
    "\n",
    "# Show Figure\n",
    "plt.show()"
   ]
  },
  {
   "cell_type": "markdown",
   "id": "7baf13ae-b291-4e19-b71d-8f827282abb3",
   "metadata": {},
   "source": [
    "# Calculate Time"
   ]
  },
  {
   "cell_type": "code",
   "execution_count": 6,
   "id": "c3ded3ac-d670-455b-a708-1ebaffe94382",
   "metadata": {},
   "outputs": [
    {
     "name": "stdout",
     "output_type": "stream",
     "text": [
      "hours:minutes:seconds = 0:1:4.02582311630249\n"
     ]
    }
   ],
   "source": [
    "from custom_methods.calc_time import calc_time_from_sec\n",
    "\n",
    "calc_time_from_sec(time.time() - startTime)"
   ]
  }
 ],
 "metadata": {
  "kernelspec": {
   "display_name": "Python 3",
   "language": "python",
   "name": "python3"
  },
  "language_info": {
   "codemirror_mode": {
    "name": "ipython",
    "version": 3
   },
   "file_extension": ".py",
   "mimetype": "text/x-python",
   "name": "python",
   "nbconvert_exporter": "python",
   "pygments_lexer": "ipython3",
   "version": "3.8.8"
  }
 },
 "nbformat": 4,
 "nbformat_minor": 5
}
