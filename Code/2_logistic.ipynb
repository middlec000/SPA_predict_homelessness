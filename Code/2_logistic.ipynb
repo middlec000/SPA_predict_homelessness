{
 "cells": [
  {
   "cell_type": "markdown",
   "metadata": {
    "heading_collapsed": true
   },
   "source": [
    "# Imports"
   ]
  },
  {
   "cell_type": "code",
   "execution_count": 50,
   "metadata": {
    "ExecuteTime": {
     "end_time": "2021-07-07T04:06:34.659741Z",
     "start_time": "2021-07-07T04:06:34.645783Z"
    },
    "hidden": true
   },
   "outputs": [],
   "source": [
    "import pandas as pd\n",
    "import numpy as np\n",
    "import pickle\n",
    "import time\n",
    "import matplotlib.pyplot as plt\n",
    "import seaborn as sns\n",
    "\n",
    "plt.rcParams.update({'figure.figsize':(11,7), 'figure.dpi':120})\n",
    "datapath = '../Data/'\n",
    "image_dest = 'results_images/'\n",
    "\n",
    "startTime = time.time()"
   ]
  },
  {
   "cell_type": "markdown",
   "metadata": {
    "heading_collapsed": true
   },
   "source": [
    "# Load Data"
   ]
  },
  {
   "cell_type": "code",
   "execution_count": 51,
   "metadata": {
    "ExecuteTime": {
     "end_time": "2021-07-07T04:06:34.815092Z",
     "start_time": "2021-07-07T04:06:34.662734Z"
    },
    "hidden": true
   },
   "outputs": [
    {
     "data": {
      "text/plain": [
       "['PAST_DUE',\n",
       " 'TOTAL_60_DAYS_AMT',\n",
       " 'NUM_PREM_FOR_PER',\n",
       " 'BREAK_ARRANGEMENT',\n",
       " 'MULTI_DWELL_SIZE',\n",
       " 'SNAP_GEO',\n",
       " 'NUM_PER_FOR_PREM',\n",
       " 'HAS_COTENANT',\n",
       " 'SPA_PER_ID',\n",
       " 'CMIS_MATCH']"
      ]
     },
     "execution_count": 51,
     "metadata": {},
     "output_type": "execute_result"
    }
   ],
   "source": [
    "filename = 'log_ready.pickle'\n",
    "infile = open(datapath+filename,'rb')\n",
    "df = pickle.load(infile)\n",
    "infile.close()\n",
    "\n",
    "df.columns.to_list()"
   ]
  },
  {
   "cell_type": "markdown",
   "metadata": {
    "heading_collapsed": true
   },
   "source": [
    "# Model Params"
   ]
  },
  {
   "cell_type": "code",
   "execution_count": 52,
   "metadata": {
    "ExecuteTime": {
     "end_time": "2021-07-07T04:06:34.862038Z",
     "start_time": "2021-07-07T04:06:34.818100Z"
    },
    "hidden": true
   },
   "outputs": [],
   "source": [
    "import statsmodels.api as sm\n",
    "from custom_methods import model_eval\n",
    "#from sklearn.preprocessing import StandardScaler\n",
    "#from imblearn.over_sampling import RandomOverSampler\n",
    "\n",
    "event_col = 'CMIS_MATCH'\n",
    "id_col = 'SPA_PER_ID'\n",
    "model = 'logit'\n",
    "scaler = None\n",
    "sampler = None\n",
    "#scaler = StandardScaler()\n",
    "#sampler = RandomOverSampler(sampling_strategy='minority', random_state=42)"
   ]
  },
  {
   "cell_type": "markdown",
   "metadata": {
    "heading_collapsed": true
   },
   "source": [
    "# K-Folds"
   ]
  },
  {
   "cell_type": "code",
   "execution_count": 53,
   "metadata": {
    "ExecuteTime": {
     "end_time": "2021-07-07T04:06:39.807637Z",
     "start_time": "2021-07-07T04:06:34.864034Z"
    },
    "hidden": true
   },
   "outputs": [
    {
     "data": {
      "text/html": [
       "<div>\n",
       "<style scoped>\n",
       "    .dataframe tbody tr th:only-of-type {\n",
       "        vertical-align: middle;\n",
       "    }\n",
       "\n",
       "    .dataframe tbody tr th {\n",
       "        vertical-align: top;\n",
       "    }\n",
       "\n",
       "    .dataframe thead th {\n",
       "        text-align: right;\n",
       "    }\n",
       "</style>\n",
       "<table border=\"1\" class=\"dataframe\">\n",
       "  <thead>\n",
       "    <tr style=\"text-align: right;\">\n",
       "      <th></th>\n",
       "      <th>SPA_PER_ID</th>\n",
       "      <th>prediction</th>\n",
       "      <th>CMIS_MATCH</th>\n",
       "    </tr>\n",
       "  </thead>\n",
       "  <tbody>\n",
       "    <tr>\n",
       "      <th>0</th>\n",
       "      <td>211062</td>\n",
       "      <td>0.003102</td>\n",
       "      <td>False</td>\n",
       "    </tr>\n",
       "    <tr>\n",
       "      <th>1</th>\n",
       "      <td>223268</td>\n",
       "      <td>0.004566</td>\n",
       "      <td>False</td>\n",
       "    </tr>\n",
       "    <tr>\n",
       "      <th>2</th>\n",
       "      <td>223268</td>\n",
       "      <td>0.005347</td>\n",
       "      <td>False</td>\n",
       "    </tr>\n",
       "    <tr>\n",
       "      <th>3</th>\n",
       "      <td>223268</td>\n",
       "      <td>0.005773</td>\n",
       "      <td>False</td>\n",
       "    </tr>\n",
       "    <tr>\n",
       "      <th>4</th>\n",
       "      <td>303740</td>\n",
       "      <td>0.007969</td>\n",
       "      <td>False</td>\n",
       "    </tr>\n",
       "  </tbody>\n",
       "</table>\n",
       "</div>"
      ],
      "text/plain": [
       "  SPA_PER_ID  prediction  CMIS_MATCH\n",
       "0     211062    0.003102       False\n",
       "1     223268    0.004566       False\n",
       "2     223268    0.005347       False\n",
       "3     223268    0.005773       False\n",
       "4     303740    0.007969       False"
      ]
     },
     "execution_count": 53,
     "metadata": {},
     "output_type": "execute_result"
    }
   ],
   "source": [
    "predictions = model_eval.k_folds(\n",
    "    df = df, \n",
    "    event_col = event_col,\n",
    "    id_col = id_col, \n",
    "    k = 4, \n",
    "    model = model, \n",
    "    scaler = scaler,\n",
    "    sampler = sampler,\n",
    ")\n",
    "\n",
    "predictions.head()"
   ]
  },
  {
   "cell_type": "markdown",
   "metadata": {
    "hidden": true
   },
   "source": [
    "Take maximum risk prediction for each person"
   ]
  },
  {
   "cell_type": "code",
   "execution_count": 54,
   "metadata": {
    "ExecuteTime": {
     "end_time": "2021-07-07T04:06:40.061055Z",
     "start_time": "2021-07-07T04:06:39.810594Z"
    },
    "hidden": true
   },
   "outputs": [
    {
     "data": {
      "text/html": [
       "<div>\n",
       "<style scoped>\n",
       "    .dataframe tbody tr th:only-of-type {\n",
       "        vertical-align: middle;\n",
       "    }\n",
       "\n",
       "    .dataframe tbody tr th {\n",
       "        vertical-align: top;\n",
       "    }\n",
       "\n",
       "    .dataframe thead th {\n",
       "        text-align: right;\n",
       "    }\n",
       "</style>\n",
       "<table border=\"1\" class=\"dataframe\">\n",
       "  <thead>\n",
       "    <tr style=\"text-align: right;\">\n",
       "      <th></th>\n",
       "      <th>SPA_PER_ID</th>\n",
       "      <th>prediction</th>\n",
       "      <th>CMIS_MATCH</th>\n",
       "    </tr>\n",
       "  </thead>\n",
       "  <tbody>\n",
       "    <tr>\n",
       "      <th>0</th>\n",
       "      <td>3</td>\n",
       "      <td>0.004620</td>\n",
       "      <td>False</td>\n",
       "    </tr>\n",
       "    <tr>\n",
       "      <th>1</th>\n",
       "      <td>4</td>\n",
       "      <td>0.002062</td>\n",
       "      <td>False</td>\n",
       "    </tr>\n",
       "    <tr>\n",
       "      <th>2</th>\n",
       "      <td>6</td>\n",
       "      <td>0.004978</td>\n",
       "      <td>False</td>\n",
       "    </tr>\n",
       "    <tr>\n",
       "      <th>3</th>\n",
       "      <td>12</td>\n",
       "      <td>0.002964</td>\n",
       "      <td>False</td>\n",
       "    </tr>\n",
       "    <tr>\n",
       "      <th>4</th>\n",
       "      <td>14</td>\n",
       "      <td>0.004142</td>\n",
       "      <td>False</td>\n",
       "    </tr>\n",
       "  </tbody>\n",
       "</table>\n",
       "</div>"
      ],
      "text/plain": [
       "   SPA_PER_ID  prediction  CMIS_MATCH\n",
       "0           3    0.004620       False\n",
       "1           4    0.002062       False\n",
       "2           6    0.004978       False\n",
       "3          12    0.002964       False\n",
       "4          14    0.004142       False"
      ]
     },
     "execution_count": 54,
     "metadata": {},
     "output_type": "execute_result"
    }
   ],
   "source": [
    "predictions = predictions.groupby('SPA_PER_ID').prediction.max()\n",
    "predictions = pd.concat([predictions, df.groupby('SPA_PER_ID').CMIS_MATCH.any()], axis=1, join='inner', ignore_index=False)\n",
    "predictions = predictions.reset_index()\n",
    "predictions.head()"
   ]
  },
  {
   "cell_type": "code",
   "execution_count": 55,
   "metadata": {
    "ExecuteTime": {
     "end_time": "2021-07-07T04:06:40.076985Z",
     "start_time": "2021-07-07T04:06:40.063023Z"
    },
    "hidden": true
   },
   "outputs": [
    {
     "data": {
      "text/plain": [
       "SPA_PER_ID    0\n",
       "prediction    0\n",
       "CMIS_MATCH    0\n",
       "dtype: int64"
      ]
     },
     "execution_count": 55,
     "metadata": {},
     "output_type": "execute_result"
    }
   ],
   "source": [
    "predictions.isnull().sum()"
   ]
  },
  {
   "cell_type": "code",
   "execution_count": 58,
   "metadata": {
    "ExecuteTime": {
     "end_time": "2021-07-07T04:08:08.065685Z",
     "start_time": "2021-07-07T04:08:08.046310Z"
    },
    "hidden": true
   },
   "outputs": [
    {
     "name": "stdout",
     "output_type": "stream",
     "text": [
      "84345\n",
      "302\n"
     ]
    }
   ],
   "source": [
    "print(len(predictions))\n",
    "print(len(predictions[predictions.CMIS_MATCH]))"
   ]
  },
  {
   "cell_type": "markdown",
   "metadata": {
    "heading_collapsed": true
   },
   "source": [
    "# Save and Time"
   ]
  },
  {
   "cell_type": "code",
   "execution_count": 56,
   "metadata": {
    "ExecuteTime": {
     "end_time": "2021-07-07T04:06:40.171571Z",
     "start_time": "2021-07-07T04:06:40.079976Z"
    },
    "hidden": true
   },
   "outputs": [],
   "source": [
    "filename = 'log_predictions.pickle'\n",
    "outfile = open(datapath + filename, 'wb')\n",
    "pickle.dump(predictions, outfile)\n",
    "outfile.close()"
   ]
  },
  {
   "cell_type": "code",
   "execution_count": 57,
   "metadata": {
    "ExecuteTime": {
     "end_time": "2021-07-07T04:06:40.265264Z",
     "start_time": "2021-07-07T04:06:40.173403Z"
    },
    "hidden": true
   },
   "outputs": [
    {
     "name": "stdout",
     "output_type": "stream",
     "text": [
      "hours:minutes:seconds = 0:0:5.609459161758423\n"
     ]
    }
   ],
   "source": [
    "from custom_methods.calc_time import calc_time_from_sec\n",
    "\n",
    "calc_time_from_sec(time.time() - startTime)"
   ]
  }
 ],
 "metadata": {
  "interpreter": {
   "hash": "55dc2ef33d481be31a5c00b42f248808e4edd8b163c72100e3df152a03ba29f1"
  },
  "kernelspec": {
   "display_name": "Python 3",
   "language": "python",
   "name": "python3"
  },
  "language_info": {
   "codemirror_mode": {
    "name": "ipython",
    "version": 3
   },
   "file_extension": ".py",
   "mimetype": "text/x-python",
   "name": "python",
   "nbconvert_exporter": "python",
   "pygments_lexer": "ipython3",
   "version": "3.8.8"
  },
  "metadata": {
   "interpreter": {
    "hash": "55dc2ef33d481be31a5c00b42f248808e4edd8b163c72100e3df152a03ba29f1"
   }
  },
  "varInspector": {
   "cols": {
    "lenName": 16,
    "lenType": 16,
    "lenVar": 40
   },
   "kernels_config": {
    "python": {
     "delete_cmd_postfix": "",
     "delete_cmd_prefix": "del ",
     "library": "var_list.py",
     "varRefreshCmd": "print(var_dic_list())"
    },
    "r": {
     "delete_cmd_postfix": ") ",
     "delete_cmd_prefix": "rm(",
     "library": "var_list.r",
     "varRefreshCmd": "cat(var_dic_list()) "
    }
   },
   "types_to_exclude": [
    "module",
    "function",
    "builtin_function_or_method",
    "instance",
    "_Feature"
   ],
   "window_display": false
  }
 },
 "nbformat": 4,
 "nbformat_minor": 2
}
