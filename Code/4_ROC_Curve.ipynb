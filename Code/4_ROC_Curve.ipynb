{
 "cells": [
  {
   "cell_type": "markdown",
   "metadata": {},
   "source": [
    "# Imports + Setup"
   ]
  },
  {
   "cell_type": "code",
   "execution_count": 1,
   "metadata": {
    "ExecuteTime": {
     "end_time": "2021-07-07T04:11:39.931581Z",
     "start_time": "2021-07-07T04:11:36.949606Z"
    }
   },
   "outputs": [],
   "source": [
    "import pandas as pd\n",
    "import numpy as np\n",
    "import pickle\n",
    "import time\n",
    "import matplotlib.pyplot as plt\n",
    "import seaborn as sns\n",
    "from sklearn.metrics import roc_curve\n",
    "\n",
    "plt.rcParams.update({'figure.figsize':(11,7), 'figure.dpi':120})\n",
    "image_dest = 'results_images/'\n",
    "visual_specs={'fontsize':14, 'palette':'Greys', 'saturation':0.5}\n",
    "fontsize = visual_specs['fontsize']\n",
    "palette = visual_specs['palette']\n",
    "datapath = '../Data/'\n",
    "\n",
    "id_col = 'SPA_PER_ID'\n",
    "event_col = 'CMIS_MATCH'"
   ]
  },
  {
   "cell_type": "markdown",
   "metadata": {},
   "source": [
    "# Load Predictions"
   ]
  },
  {
   "cell_type": "code",
   "execution_count": 2,
   "metadata": {
    "ExecuteTime": {
     "end_time": "2021-07-07T04:11:39.961886Z",
     "start_time": "2021-07-07T04:11:39.934278Z"
    }
   },
   "outputs": [
    {
     "name": "stdout",
     "output_type": "stream",
     "text": [
      "84345\n"
     ]
    },
    {
     "data": {
      "text/html": [
       "<div>\n",
       "<style scoped>\n",
       "    .dataframe tbody tr th:only-of-type {\n",
       "        vertical-align: middle;\n",
       "    }\n",
       "\n",
       "    .dataframe tbody tr th {\n",
       "        vertical-align: top;\n",
       "    }\n",
       "\n",
       "    .dataframe thead th {\n",
       "        text-align: right;\n",
       "    }\n",
       "</style>\n",
       "<table border=\"1\" class=\"dataframe\">\n",
       "  <thead>\n",
       "    <tr style=\"text-align: right;\">\n",
       "      <th></th>\n",
       "      <th>SPA_PER_ID</th>\n",
       "      <th>prediction</th>\n",
       "      <th>CMIS_MATCH</th>\n",
       "    </tr>\n",
       "  </thead>\n",
       "  <tbody>\n",
       "    <tr>\n",
       "      <th>0</th>\n",
       "      <td>3</td>\n",
       "      <td>0.002089</td>\n",
       "      <td>False</td>\n",
       "    </tr>\n",
       "    <tr>\n",
       "      <th>1</th>\n",
       "      <td>4</td>\n",
       "      <td>0.001236</td>\n",
       "      <td>False</td>\n",
       "    </tr>\n",
       "    <tr>\n",
       "      <th>2</th>\n",
       "      <td>6</td>\n",
       "      <td>0.002334</td>\n",
       "      <td>False</td>\n",
       "    </tr>\n",
       "    <tr>\n",
       "      <th>3</th>\n",
       "      <td>12</td>\n",
       "      <td>0.001311</td>\n",
       "      <td>False</td>\n",
       "    </tr>\n",
       "    <tr>\n",
       "      <th>4</th>\n",
       "      <td>14</td>\n",
       "      <td>0.001866</td>\n",
       "      <td>False</td>\n",
       "    </tr>\n",
       "  </tbody>\n",
       "</table>\n",
       "</div>"
      ],
      "text/plain": [
       "   SPA_PER_ID  prediction  CMIS_MATCH\n",
       "0           3    0.002089       False\n",
       "1           4    0.001236       False\n",
       "2           6    0.002334       False\n",
       "3          12    0.001311       False\n",
       "4          14    0.001866       False"
      ]
     },
     "execution_count": 2,
     "metadata": {},
     "output_type": "execute_result"
    }
   ],
   "source": [
    "filename = 'log_predictions.pickle'\n",
    "infile = open(datapath+filename,'rb')\n",
    "log_predictions = pickle.load(infile)\n",
    "infile.close()\n",
    "\n",
    "print(len(log_predictions))\n",
    "\n",
    "log_predictions.head()"
   ]
  },
  {
   "cell_type": "code",
   "execution_count": 3,
   "metadata": {},
   "outputs": [
    {
     "name": "stdout",
     "output_type": "stream",
     "text": [
      "84345\n"
     ]
    },
    {
     "data": {
      "text/html": [
       "<div>\n",
       "<style scoped>\n",
       "    .dataframe tbody tr th:only-of-type {\n",
       "        vertical-align: middle;\n",
       "    }\n",
       "\n",
       "    .dataframe tbody tr th {\n",
       "        vertical-align: top;\n",
       "    }\n",
       "\n",
       "    .dataframe thead th {\n",
       "        text-align: right;\n",
       "    }\n",
       "</style>\n",
       "<table border=\"1\" class=\"dataframe\">\n",
       "  <thead>\n",
       "    <tr style=\"text-align: right;\">\n",
       "      <th></th>\n",
       "      <th>SPA_PER_ID</th>\n",
       "      <th>prediction</th>\n",
       "      <th>CMIS_MATCH</th>\n",
       "    </tr>\n",
       "  </thead>\n",
       "  <tbody>\n",
       "    <tr>\n",
       "      <th>0</th>\n",
       "      <td>3</td>\n",
       "      <td>0.396382</td>\n",
       "      <td>False</td>\n",
       "    </tr>\n",
       "    <tr>\n",
       "      <th>1</th>\n",
       "      <td>4</td>\n",
       "      <td>0.475424</td>\n",
       "      <td>False</td>\n",
       "    </tr>\n",
       "    <tr>\n",
       "      <th>2</th>\n",
       "      <td>6</td>\n",
       "      <td>0.562406</td>\n",
       "      <td>False</td>\n",
       "    </tr>\n",
       "    <tr>\n",
       "      <th>3</th>\n",
       "      <td>12</td>\n",
       "      <td>0.347752</td>\n",
       "      <td>False</td>\n",
       "    </tr>\n",
       "    <tr>\n",
       "      <th>4</th>\n",
       "      <td>14</td>\n",
       "      <td>0.434371</td>\n",
       "      <td>False</td>\n",
       "    </tr>\n",
       "  </tbody>\n",
       "</table>\n",
       "</div>"
      ],
      "text/plain": [
       "   SPA_PER_ID  prediction  CMIS_MATCH\n",
       "0           3    0.396382       False\n",
       "1           4    0.475424       False\n",
       "2           6    0.562406       False\n",
       "3          12    0.347752       False\n",
       "4          14    0.434371       False"
      ]
     },
     "execution_count": 3,
     "metadata": {},
     "output_type": "execute_result"
    }
   ],
   "source": [
    "filename = 'ann_predictions.pickle'\n",
    "infile = open(datapath+filename,'rb')\n",
    "ann_predictions = pickle.load(infile)\n",
    "infile.close()\n",
    "\n",
    "print(len(ann_predictions))\n",
    "\n",
    "ann_predictions.head()"
   ]
  },
  {
   "cell_type": "code",
   "execution_count": 4,
   "metadata": {},
   "outputs": [
    {
     "data": {
      "text/plain": [
       "302"
      ]
     },
     "execution_count": 4,
     "metadata": {},
     "output_type": "execute_result"
    }
   ],
   "source": [
    "ann_predictions['CMIS_MATCH'].sum()"
   ]
  },
  {
   "cell_type": "markdown",
   "metadata": {},
   "source": [
    "# ROC Curve"
   ]
  },
  {
   "cell_type": "code",
   "execution_count": 5,
   "metadata": {
    "ExecuteTime": {
     "end_time": "2021-07-07T04:11:44.081587Z",
     "start_time": "2021-07-07T04:11:43.139964Z"
    }
   },
   "outputs": [
    {
     "data": {
      "image/png": "[encoded data removed]",
      "text/plain": [
       "<Figure size 1320x840 with 1 Axes>"
      ]
     },
     "metadata": {
      "needs_background": "light"
     },
     "output_type": "display_data"
    }
   ],
   "source": [
    "linewidth = 2\n",
    "color = 'black'\n",
    "alpha=0.2\n",
    "\n",
    "# Refernce line\n",
    "plt.plot([1,0], [1,0], color='black', label='y=x', linestyle='dashdot', linewidth=linewidth)\n",
    "\n",
    "# Log\n",
    "#fpr, tpr, _ = roc_curve(y_true=log_predictions[event_col].astype('bool'), y_score=log_predictions['prediction'])\n",
    "#plt.plot(fpr, tpr, color='black', label='log', linestyle='dotted', linewidth=linewidth)\n",
    "\n",
    "# Linearly weighted predictions\n",
    "#fpr, tpr, _ = roc_curve(y_true=log_weighted_predictions[event_col].astype('bool'), y_score=log_weighted_predictions['linear'])\n",
    "#plt.plot(fpr, tpr, color='red', label='log_linear', linestyle='dotted', linewidth=linewidth)\n",
    "\n",
    "# Exponentially weighted predictions\n",
    "#fpr, tpr, _ = roc_curve(y_true=log_weighted_predictions[event_col].astype('bool'), y_score=log_weighted_predictions['exp'])\n",
    "#plt.plot(fpr, tpr, color='red', label='log_linear', linestyle='dotted', linewidth=linewidth)\n",
    "\n",
    "# ANN predictions\n",
    "fpr, tpr, _ = roc_curve(y_true=ann_predictions[event_col].astype('bool'), y_score=ann_predictions['prediction'])\n",
    "plt.plot(fpr, tpr, color='red', label='ann', linestyle='dotted', linewidth=linewidth)\n",
    "\n",
    "\n",
    "ticks = np.arange(0,1.1,0.1)\n",
    "plt.hlines(y=ticks, xmin=0, xmax=1, colors=color, alpha=alpha)\n",
    "plt.vlines(x=ticks, ymin=0, ymax=1, colors=color, alpha=alpha)\n",
    "plt.xlabel('False Positive Rate', fontsize=fontsize)\n",
    "plt.xticks(ticks, fontsize=fontsize-2)\n",
    "plt.ylabel('Positive Recall', fontsize=fontsize)\n",
    "plt.yticks(ticks, fontsize=fontsize-2)\n",
    "plt.legend(fontsize=fontsize)\n",
    "#plt.savefig(fname=image_dest+'ROC.png', bbox_inches='tight')\n",
    "plt.show()"
   ]
  },
  {
   "cell_type": "markdown",
   "metadata": {},
   "source": [
    "## Explanation\n",
    "### Positive Recall\n",
    "Vertical axis  \n",
    "Of the predicted positives, how many are correct?\n",
    "$$\n",
    "Positive Recall =\n",
    "\\frac{True Positives}{True Positives + False Positives}\n",
    "$$\n",
    "### False Positive Rate\n",
    "Horizontal axis  \n",
    "AKA False Alarm Rate  \n",
    "Of the negatives, how many are misclassified as positive?\n",
    "$$\n",
    "False Positive Rate = \n",
    "\\frac{False Positives}{All Negatives}\n",
    "$$"
   ]
  }
 ],
 "metadata": {
  "kernelspec": {
   "display_name": "Python 3 (ipykernel)",
   "language": "python",
   "name": "python3"
  },
  "language_info": {
   "codemirror_mode": {
    "name": "ipython",
    "version": 3
   },
   "file_extension": ".py",
   "mimetype": "text/x-python",
   "name": "python",
   "nbconvert_exporter": "python",
   "pygments_lexer": "ipython3",
   "version": "3.8.8"
  },
  "varInspector": {
   "cols": {
    "lenName": 16,
    "lenType": 16,
    "lenVar": 40
   },
   "kernels_config": {
    "python": {
     "delete_cmd_postfix": "",
     "delete_cmd_prefix": "del ",
     "library": "var_list.py",
     "varRefreshCmd": "print(var_dic_list())"
    },
    "r": {
     "delete_cmd_postfix": ") ",
     "delete_cmd_prefix": "rm(",
     "library": "var_list.r",
     "varRefreshCmd": "cat(var_dic_list()) "
    }
   },
   "types_to_exclude": [
    "module",
    "function",
    "builtin_function_or_method",
    "instance",
    "_Feature"
   ],
   "window_display": false
  }
 },
 "nbformat": 4,
 "nbformat_minor": 4
}
