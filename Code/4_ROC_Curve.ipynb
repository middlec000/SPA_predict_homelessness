{
 "cells": [
  {
   "cell_type": "markdown",
   "metadata": {},
   "source": [
    "# Imports + Setup"
   ]
  },
  {
   "cell_type": "code",
   "execution_count": 1,
   "metadata": {
    "ExecuteTime": {
     "end_time": "2021-07-07T04:11:39.931581Z",
     "start_time": "2021-07-07T04:11:36.949606Z"
    }
   },
   "outputs": [],
   "source": [
    "import pandas as pd\n",
    "import numpy as np\n",
    "import pickle\n",
    "import time\n",
    "import matplotlib.pyplot as plt\n",
    "import seaborn as sns\n",
    "from sklearn.metrics import roc_curve\n",
    "\n",
    "plt.rcParams.update({'figure.figsize':(11,7), 'figure.dpi':120})\n",
    "image_dest = 'results_images/'\n",
    "visual_specs={'fontsize':14, 'palette':'Greys', 'saturation':0.5}\n",
    "fontsize = visual_specs['fontsize']\n",
    "palette = visual_specs['palette']\n",
    "datapath = '../Data/'\n",
    "\n",
    "id_col = 'SPA_PER_ID'\n",
    "event_col = 'CMIS_MATCH'"
   ]
  },
  {
   "cell_type": "markdown",
   "metadata": {},
   "source": [
    "# Load Predictions"
   ]
  },
  {
   "cell_type": "code",
   "execution_count": 2,
   "metadata": {
    "ExecuteTime": {
     "end_time": "2021-07-07T04:11:39.961886Z",
     "start_time": "2021-07-07T04:11:39.934278Z"
    }
   },
   "outputs": [
    {
     "name": "stdout",
     "output_type": "stream",
     "text": [
      "84345\n"
     ]
    },
    {
     "data": {
      "text/html": [
       "<div>\n",
       "<style scoped>\n",
       "    .dataframe tbody tr th:only-of-type {\n",
       "        vertical-align: middle;\n",
       "    }\n",
       "\n",
       "    .dataframe tbody tr th {\n",
       "        vertical-align: top;\n",
       "    }\n",
       "\n",
       "    .dataframe thead th {\n",
       "        text-align: right;\n",
       "    }\n",
       "</style>\n",
       "<table border=\"1\" class=\"dataframe\">\n",
       "  <thead>\n",
       "    <tr style=\"text-align: right;\">\n",
       "      <th></th>\n",
       "      <th>SPA_PER_ID</th>\n",
       "      <th>prediction</th>\n",
       "      <th>CMIS_MATCH</th>\n",
       "    </tr>\n",
       "  </thead>\n",
       "  <tbody>\n",
       "    <tr>\n",
       "      <th>0</th>\n",
       "      <td>3</td>\n",
       "      <td>0.002089</td>\n",
       "      <td>False</td>\n",
       "    </tr>\n",
       "    <tr>\n",
       "      <th>1</th>\n",
       "      <td>4</td>\n",
       "      <td>0.001236</td>\n",
       "      <td>False</td>\n",
       "    </tr>\n",
       "    <tr>\n",
       "      <th>2</th>\n",
       "      <td>6</td>\n",
       "      <td>0.002334</td>\n",
       "      <td>False</td>\n",
       "    </tr>\n",
       "    <tr>\n",
       "      <th>3</th>\n",
       "      <td>12</td>\n",
       "      <td>0.001311</td>\n",
       "      <td>False</td>\n",
       "    </tr>\n",
       "    <tr>\n",
       "      <th>4</th>\n",
       "      <td>14</td>\n",
       "      <td>0.001866</td>\n",
       "      <td>False</td>\n",
       "    </tr>\n",
       "  </tbody>\n",
       "</table>\n",
       "</div>"
      ],
      "text/plain": [
       "   SPA_PER_ID  prediction  CMIS_MATCH\n",
       "0           3    0.002089       False\n",
       "1           4    0.001236       False\n",
       "2           6    0.002334       False\n",
       "3          12    0.001311       False\n",
       "4          14    0.001866       False"
      ]
     },
     "execution_count": 2,
     "metadata": {},
     "output_type": "execute_result"
    }
   ],
   "source": [
    "filename = 'log_predictions.pickle'\n",
    "infile = open(datapath+filename,'rb')\n",
    "log_predictions = pickle.load(infile)\n",
    "infile.close()\n",
    "\n",
    "print(len(log_predictions))\n",
    "\n",
    "log_predictions.head()"
   ]
  },
  {
   "cell_type": "code",
   "execution_count": 3,
   "metadata": {},
   "outputs": [
    {
     "data": {
      "text/plain": [
       "\"\\nfilename = 'ann_predictions.pickle'\\ninfile = open(datapath+filename,'rb')\\nann_predictions = pickle.load(infile)\\ninfile.close()\\n\\nprint(len(ann_predictions))\\n\\nprint(ann_predictions['CMIS_MATCH'].sum())\\n\\nann_predictions.head()\\n\""
      ]
     },
     "execution_count": 3,
     "metadata": {},
     "output_type": "execute_result"
    }
   ],
   "source": [
    "'''\n",
    "filename = 'ann_predictions.pickle'\n",
    "infile = open(datapath+filename,'rb')\n",
    "ann_predictions = pickle.load(infile)\n",
    "infile.close()\n",
    "\n",
    "print(len(ann_predictions))\n",
    "\n",
    "print(ann_predictions['CMIS_MATCH'].sum())\n",
    "\n",
    "ann_predictions.head()\n",
    "'''"
   ]
  },
  {
   "cell_type": "markdown",
   "metadata": {},
   "source": [
    "# ROC Curve"
   ]
  },
  {
   "cell_type": "code",
   "execution_count": 4,
   "metadata": {
    "ExecuteTime": {
     "end_time": "2021-07-07T04:11:44.081587Z",
     "start_time": "2021-07-07T04:11:43.139964Z"
    }
   },
   "outputs": [
    {
     "data": {
      "image/png": "[encoded data removed]",
      "text/plain": [
       "<Figure size 1320x840 with 1 Axes>"
      ]
     },
     "metadata": {
      "needs_background": "light"
     },
     "output_type": "display_data"
    }
   ],
   "source": [
    "linewidth = 2\n",
    "color = 'black'\n",
    "alpha=0.2\n",
    "\n",
    "# Refernce line\n",
    "plt.plot([1,0], [1,0], color='black', label='y=x', linestyle='dashdot', linewidth=linewidth)\n",
    "\n",
    "# Log\n",
    "fpr, tpr, _ = roc_curve(y_true=log_predictions[event_col].astype('bool'), y_score=log_predictions['prediction'])\n",
    "plt.plot(fpr, tpr, color='black', label='log', linestyle='dotted', linewidth=linewidth)\n",
    "\n",
    "# Linearly weighted predictions\n",
    "#fpr, tpr, _ = roc_curve(y_true=log_weighted_predictions[event_col].astype('bool'), y_score=log_weighted_predictions['linear'])\n",
    "#plt.plot(fpr, tpr, color='red', label='log_linear', linestyle='dotted', linewidth=linewidth)\n",
    "\n",
    "# Exponentially weighted predictions\n",
    "#fpr, tpr, _ = roc_curve(y_true=log_weighted_predictions[event_col].astype('bool'), y_score=log_weighted_predictions['exp'])\n",
    "#plt.plot(fpr, tpr, color='red', label='log_linear', linestyle='dotted', linewidth=linewidth)\n",
    "\n",
    "# ANN predictions\n",
    "#fpr, tpr, _ = roc_curve(y_true=ann_predictions[event_col].astype('bool'), y_score=ann_predictions['prediction'])\n",
    "#plt.plot(fpr, tpr, color='red', label='ann', linestyle='dotted', linewidth=linewidth)\n",
    "\n",
    "\n",
    "ticks = np.arange(0,1.1,0.1)\n",
    "plt.hlines(y=ticks, xmin=0, xmax=1, colors=color, alpha=alpha)\n",
    "plt.vlines(x=ticks, ymin=0, ymax=1, colors=color, alpha=alpha)\n",
    "plt.xlabel('False Positive Rate ', fontsize=fontsize)\n",
    "plt.xticks(ticks, fontsize=fontsize-2)\n",
    "plt.ylabel('True Positive Rate', fontsize=fontsize)\n",
    "plt.yticks(ticks, fontsize=fontsize-2)\n",
    "plt.legend(fontsize=fontsize)\n",
    "# plt.savefig(fname=image_dest+'ROC.png', bbox_inches='tight')\n",
    "plt.show()"
   ]
  },
  {
   "cell_type": "markdown",
   "metadata": {
    "tags": []
   },
   "source": [
    "# Get Certain Points"
   ]
  },
  {
   "cell_type": "code",
   "execution_count": 5,
   "metadata": {},
   "outputs": [],
   "source": [
    "def get_point_at_fpr(target:float, fpr, tpr):\n",
    "    for i in range(len(fpr)):\n",
    "        if fpr[i] > target:\n",
    "            return fpr[i], tpr[i]\n",
    "\n",
    "def get_points(targets, fpr, tpr):\n",
    "    columns = ['FPR', 'TPR']\n",
    "    output = np.zeros(shape=(len(targets), 2))\n",
    "    for i in range(len(targets)):\n",
    "        output[i] = get_point_at_fpr(target=targets[i], fpr=fpr, tpr=tpr)\n",
    "    return pd.DataFrame(output, columns=columns)"
   ]
  },
  {
   "cell_type": "code",
   "execution_count": 6,
   "metadata": {},
   "outputs": [
    {
     "data": {
      "text/html": [
       "<div>\n",
       "<style scoped>\n",
       "    .dataframe tbody tr th:only-of-type {\n",
       "        vertical-align: middle;\n",
       "    }\n",
       "\n",
       "    .dataframe tbody tr th {\n",
       "        vertical-align: top;\n",
       "    }\n",
       "\n",
       "    .dataframe thead th {\n",
       "        text-align: right;\n",
       "    }\n",
       "</style>\n",
       "<table border=\"1\" class=\"dataframe\">\n",
       "  <thead>\n",
       "    <tr style=\"text-align: right;\">\n",
       "      <th></th>\n",
       "      <th>0</th>\n",
       "      <th>1</th>\n",
       "      <th>2</th>\n",
       "      <th>3</th>\n",
       "      <th>4</th>\n",
       "      <th>5</th>\n",
       "      <th>6</th>\n",
       "    </tr>\n",
       "  </thead>\n",
       "  <tbody>\n",
       "    <tr>\n",
       "      <th>FPR</th>\n",
       "      <td>5.046226</td>\n",
       "      <td>10.071035</td>\n",
       "      <td>15.075616</td>\n",
       "      <td>20.815535</td>\n",
       "      <td>30.222624</td>\n",
       "      <td>63.021311</td>\n",
       "      <td>80.011423</td>\n",
       "    </tr>\n",
       "    <tr>\n",
       "      <th>TPR</th>\n",
       "      <td>30.463576</td>\n",
       "      <td>49.006623</td>\n",
       "      <td>62.251656</td>\n",
       "      <td>74.172185</td>\n",
       "      <td>82.450331</td>\n",
       "      <td>92.052980</td>\n",
       "      <td>96.688742</td>\n",
       "    </tr>\n",
       "  </tbody>\n",
       "</table>\n",
       "</div>"
      ],
      "text/plain": [
       "             0          1          2          3          4          5  \\\n",
       "FPR   5.046226  10.071035  15.075616  20.815535  30.222624  63.021311   \n",
       "TPR  30.463576  49.006623  62.251656  74.172185  82.450331  92.052980   \n",
       "\n",
       "             6  \n",
       "FPR  80.011423  \n",
       "TPR  96.688742  "
      ]
     },
     "execution_count": 6,
     "metadata": {},
     "output_type": "execute_result"
    }
   ],
   "source": [
    "points = get_points([0.05, 0.1, 0.15, 0.2, 0.3, 0.63, 0.8], fpr=fpr, tpr=tpr) * 100\n",
    "points.transpose()"
   ]
  },
  {
   "cell_type": "code",
   "execution_count": 7,
   "metadata": {},
   "outputs": [
    {
     "name": "stdout",
     "output_type": "stream",
     "text": [
      "\\begin{tabular}{lrrrrrrr}\n",
      "\\toprule\n",
      "{} &     0 &     1 &     2 &     3 &     4 &     5 &     6 \\\\\n",
      "\\midrule\n",
      "FPR &  5.05 & 10.07 & 15.08 & 20.82 & 30.22 & 63.02 & 80.01 \\\\\n",
      "TPR & 30.46 & 49.01 & 62.25 & 74.17 & 82.45 & 92.05 & 96.69 \\\\\n",
      "\\bottomrule\n",
      "\\end{tabular}\n",
      "\n"
     ]
    }
   ],
   "source": [
    "print(points.transpose().to_latex(index=True, float_format=\"%.2f\"))"
   ]
  },
  {
   "cell_type": "code",
   "execution_count": 8,
   "metadata": {},
   "outputs": [
    {
     "data": {
      "text/html": [
       "<div>\n",
       "<style scoped>\n",
       "    .dataframe tbody tr th:only-of-type {\n",
       "        vertical-align: middle;\n",
       "    }\n",
       "\n",
       "    .dataframe tbody tr th {\n",
       "        vertical-align: top;\n",
       "    }\n",
       "\n",
       "    .dataframe thead th {\n",
       "        text-align: right;\n",
       "    }\n",
       "</style>\n",
       "<table border=\"1\" class=\"dataframe\">\n",
       "  <thead>\n",
       "    <tr style=\"text-align: right;\">\n",
       "      <th></th>\n",
       "      <th>FPR</th>\n",
       "      <th>TPR</th>\n",
       "    </tr>\n",
       "  </thead>\n",
       "  <tbody>\n",
       "    <tr>\n",
       "      <th>0</th>\n",
       "      <td>0.630213</td>\n",
       "      <td>0.92053</td>\n",
       "    </tr>\n",
       "  </tbody>\n",
       "</table>\n",
       "</div>"
      ],
      "text/plain": [
       "        FPR      TPR\n",
       "0  0.630213  0.92053"
      ]
     },
     "execution_count": 8,
     "metadata": {},
     "output_type": "execute_result"
    }
   ],
   "source": [
    "get_points([.63], fpr=fpr, tpr=tpr)"
   ]
  },
  {
   "cell_type": "code",
   "execution_count": 22,
   "metadata": {},
   "outputs": [
    {
     "data": {
      "text/plain": [
       "84345"
      ]
     },
     "execution_count": 22,
     "metadata": {},
     "output_type": "execute_result"
    }
   ],
   "source": [
    "len(log_predictions)"
   ]
  },
  {
   "cell_type": "code",
   "execution_count": 19,
   "metadata": {},
   "outputs": [
    {
     "data": {
      "text/html": [
       "<div>\n",
       "<style scoped>\n",
       "    .dataframe tbody tr th:only-of-type {\n",
       "        vertical-align: middle;\n",
       "    }\n",
       "\n",
       "    .dataframe tbody tr th {\n",
       "        vertical-align: top;\n",
       "    }\n",
       "\n",
       "    .dataframe thead th {\n",
       "        text-align: right;\n",
       "    }\n",
       "</style>\n",
       "<table border=\"1\" class=\"dataframe\">\n",
       "  <thead>\n",
       "    <tr style=\"text-align: right;\">\n",
       "      <th></th>\n",
       "      <th>Class</th>\n",
       "      <th>Actual</th>\n",
       "      <th>Predicted</th>\n",
       "      <th>Hits</th>\n",
       "      <th>TPR (TNR)</th>\n",
       "      <th>Precision</th>\n",
       "      <th>f-1</th>\n",
       "    </tr>\n",
       "  </thead>\n",
       "  <tbody>\n",
       "    <tr>\n",
       "      <th>0</th>\n",
       "      <td>Positive</td>\n",
       "      <td>302</td>\n",
       "      <td>53243</td>\n",
       "      <td>278</td>\n",
       "      <td>0.920530</td>\n",
       "      <td>0.005221</td>\n",
       "      <td>0.010384</td>\n",
       "    </tr>\n",
       "    <tr>\n",
       "      <th>1</th>\n",
       "      <td>Negative</td>\n",
       "      <td>84043</td>\n",
       "      <td>31102</td>\n",
       "      <td>31078</td>\n",
       "      <td>0.369787</td>\n",
       "      <td>0.999228</td>\n",
       "      <td>0.539806</td>\n",
       "    </tr>\n",
       "  </tbody>\n",
       "</table>\n",
       "</div>"
      ],
      "text/plain": [
       "      Class Actual Predicted   Hits  TPR (TNR)  Precision       f-1\n",
       "0  Positive    302     53243    278   0.920530   0.005221  0.010384\n",
       "1  Negative  84043     31102  31078   0.369787   0.999228  0.539806"
      ]
     },
     "execution_count": 19,
     "metadata": {},
     "output_type": "execute_result"
    }
   ],
   "source": [
    "num_pos = log_predictions['CMIS_MATCH'].sum()\n",
    "num_neg = len(log_predictions) - num_pos\n",
    "\n",
    "def rates_to_predicted_hits(tpr, fpr, p, n):\n",
    "    total = p + n\n",
    "    tp = int(round(tpr * p, 0))\n",
    "    fp = int(round(fpr * n, 0))\n",
    "    p_predicted = tp + fp\n",
    "    \n",
    "    n_predicted = total - tp - fp\n",
    "    fn = p - tp\n",
    "    tn = n_predicted - fn\n",
    "    tnr = tn / n\n",
    "    \n",
    "    p_precision = tp / (tp + fp)\n",
    "    n_precision = tn / (tn + fn)\n",
    "    \n",
    "    p_f1 = 2 * p_precision * tpr / (p_precision + tpr)\n",
    "    n_f1 = 2 * n_precision * tnr / (n_precision + tnr)\n",
    "    \n",
    "    columns = ['Class', 'Actual', 'Predicted', 'Hits', 'TPR (TNR)', 'Precision', 'f-1']\n",
    "    output = pd.DataFrame(columns=columns)\n",
    "    \n",
    "    output = output.append(\n",
    "        pd.Series(data=dict(zip(columns, ['Positive', p, p_predicted, tp, tpr, p_precision, p_f1]))), \n",
    "        ignore_index=True\n",
    "    )\n",
    "    output = output.append(\n",
    "        pd.Series(data=dict(zip(columns, ['Negative', n, n_predicted, tn, tnr, n_precision, n_f1]))), \n",
    "        ignore_index=True\n",
    "    )\n",
    "    return output\n",
    " \n",
    "table = rates_to_predicted_hits(tpr=0.92053, fpr=0.630213, p=num_pos, n=num_neg)\n",
    "table"
   ]
  },
  {
   "cell_type": "code",
   "execution_count": 25,
   "metadata": {},
   "outputs": [
    {
     "name": "stdout",
     "output_type": "stream",
     "text": [
      "\\begin{tabular}{llllrrr}\n",
      "\\toprule\n",
      "   Class & Actual & Predicted &  Hits &  TPR (TNR) &  Precision &  f-1 \\\\\n",
      "\\midrule\n",
      "Positive &    302 &     53243 &   278 &       0.92 &       0.01 & 0.01 \\\\\n",
      "Negative &  84043 &     31102 & 31078 &       0.37 &       1.00 & 0.54 \\\\\n",
      "\\bottomrule\n",
      "\\end{tabular}\n",
      "\n"
     ]
    }
   ],
   "source": [
    "print(table.to_latex(index=False, float_format=\"%.2f\"))"
   ]
  }
 ],
 "metadata": {
  "kernelspec": {
   "display_name": "Python 3 (ipykernel)",
   "language": "python",
   "name": "python3"
  },
  "language_info": {
   "codemirror_mode": {
    "name": "ipython",
    "version": 3
   },
   "file_extension": ".py",
   "mimetype": "text/x-python",
   "name": "python",
   "nbconvert_exporter": "python",
   "pygments_lexer": "ipython3",
   "version": "3.8.12"
  },
  "varInspector": {
   "cols": {
    "lenName": 16,
    "lenType": 16,
    "lenVar": 40
   },
   "kernels_config": {
    "python": {
     "delete_cmd_postfix": "",
     "delete_cmd_prefix": "del ",
     "library": "var_list.py",
     "varRefreshCmd": "print(var_dic_list())"
    },
    "r": {
     "delete_cmd_postfix": ") ",
     "delete_cmd_prefix": "rm(",
     "library": "var_list.r",
     "varRefreshCmd": "cat(var_dic_list()) "
    }
   },
   "types_to_exclude": [
    "module",
    "function",
    "builtin_function_or_method",
    "instance",
    "_Feature"
   ],
   "window_display": false
  }
 },
 "nbformat": 4,
 "nbformat_minor": 4
}
