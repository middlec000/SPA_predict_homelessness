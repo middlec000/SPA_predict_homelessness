{
 "cells": [
  {
   "cell_type": "code",
   "execution_count": 1,
   "metadata": {},
   "outputs": [],
   "source": [
    "import pandas as pd"
   ]
  },
  {
   "cell_type": "code",
   "execution_count": 5,
   "metadata": {},
   "outputs": [],
   "source": [
    "datapath = 'C:\\\\Users\\\\colin\\\\Documents\\\\GitHub\\\\SPA_predict_homelessness\\\\Data\\\\'\n",
    "geo_data = pd.read_csv(datapath+'GeoData_Anon.csv')\n",
    "sa = pd.read_csv(datapath+'ServiceAgreements_Anon.csv')\n",
    "bill_2015 = pd.read_csv(datapath+'SpaData_2015_Anon.csv')\n",
    "bill_2016 = pd.read_csv(datapath+'SpaData_2016_Anon.csv')\n",
    "bill_2017 = pd.read_csv(datapath+'SpaData_2017_Anon.csv')\n",
    "bill_2018 = pd.read_csv(datapath+'SpaData_2018_Anon.csv')\n",
    "bill_2019 = pd.read_csv(datapath+'SpaData_2019_Anon.csv')\n",
    "bill_2020 = pd.read_csv(datapath+'SpaData_2020_Anon.csv')"
   ]
  },
  {
   "cell_type": "code",
   "execution_count": 6,
   "metadata": {},
   "outputs": [
    {
     "data": {
      "text/plain": [
       "4785131"
      ]
     },
     "execution_count": 6,
     "metadata": {},
     "output_type": "execute_result"
    }
   ],
   "source": [
    "len(geo_data) + len(sa) + len(bill_2015) + len(bill_2016) + len(bill_2017) + len(bill_2018) + len(bill_2019) + len(bill_2020)"
   ]
  }
 ],
 "metadata": {
  "interpreter": {
   "hash": "d4e65fd403391fc192a9df0a2101c61986140267a07df91da3704987550b2fb5"
  },
  "kernelspec": {
   "display_name": "Python 3.8.12 ('base')",
   "language": "python",
   "name": "python3"
  },
  "language_info": {
   "codemirror_mode": {
    "name": "ipython",
    "version": 3
   },
   "file_extension": ".py",
   "mimetype": "text/x-python",
   "name": "python",
   "nbconvert_exporter": "python",
   "pygments_lexer": "ipython3",
   "version": "3.8.12"
  },
  "orig_nbformat": 4
 },
 "nbformat": 4,
 "nbformat_minor": 2
}
